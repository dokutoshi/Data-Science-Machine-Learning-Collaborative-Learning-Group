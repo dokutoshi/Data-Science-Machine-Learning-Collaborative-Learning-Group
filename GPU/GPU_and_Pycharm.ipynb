{
 "cells": [
  {
   "cell_type": "markdown",
   "metadata": {},
   "source": [
    "# Optimizing Performance using a GPU inside Pycharm \n",
    "Software requirements\n",
    "\n",
    "* Python 3.9–3.11\n",
    "* pip version 19.0 or higher for Linux (requires manylinux2014 support) and Windows. pip version 20.3 or higher for macOS.\n",
    "* Windows Native Requires [Microsoft Visual C++ Redistributable for Visual Studio 2015, 2017 and 2019](https://support.microsoft.com/help/2977003/the-latest-supported-visual-c-downloads)\n",
    "\n",
    "Update or install the following NVIDIA® software for GPU support.\n",
    "\n",
    "* [NVIDIA® GPU drivers](https://www.nvidia.com/drivers) version 450.80.02 or higher.\n",
    "* [CUDA® Toolkit 11.8](https://developer.nvidia.com/cuda-toolkit-archive).\n",
    "* [cuDNN SDK 8.6.0](https://developer.nvidia.com/cudnn).\n",
    "\n",
    "Steps to use GPU (for TensorFlow):\n",
    "\n",
    "1. Download and install [Anaconda](https://www.anaconda.com/). Open Anaconda Prompt.\n",
    "2. Go to https://www.tensorflow.org/install/pip#windows-wsl2. Make sure you have a supported GPU under https://developer.nvidia.com/cuda-gpus. I have a RTX 3050\n",
    "3. Inside Anaconda Prompt, `cd` to the directory where you want to store stuff. I have mine in ` C:\\Users\\mskeh\\Documents`\n",
    "4. Inside Anaconda Prompt, run `conda create -n py310 python=3.10`\n",
    "5. Inside Anaconda Prompt, run `conda activate py310`\n",
    "6. Inside Anaconda Prompt, run `conda install -c conda-forge cudatoolkit=11.2 cudnn=8.1.0`\n",
    "7. Inside Anaconda Prompt, run `python -m pip install \"tensorflow==2.10`\n",
    "8. To test inside Anaconda Prompt, run `python -c \"import tensorflow as tf; print(tf.config.list_physical_devices('GPU'))\" `\n",
    "9. To test further inside Anaconda Prompt, run:\n",
    "\n",
    "    ```\n",
    "    python\n",
    "    import tensorflow as tf\n",
    "    tf.config.list_physical_devices('GPU')\n",
    "    tf.test.is_gpu_available()\n",
    "    ```\n",
    "\n",
    "10. Type `Ctrl+Z` to exit. To test through an external IDE (such as Pycharm), first download and install [Pycharm](https://www.jetbrains.com/pycharm/). I have the professional edition.\n",
    "11. Inside the same Anaconda Prompt, run `Pycharm &`\n",
    "12. This will bring up the Pycharm IDE where you can create a new project.\n",
    "13. Make a new Project. Under the newly defined project, create a `.py` file for testing GPUs. I named mine `GPU_Test.py`.\n",
    "14. Inside Pycharm, go to the Terminal tab and run `pip install keras_tuner`\n",
    "15. Inside Pycharm, go to the Terminal tab and run `pip install scipy`\n",
    "16. Inside Pycharm, go to the Terminal tab and run `pip install scikit-learn`\n",
    "17. Run `GPU_Test.py`\n",
    "18. Inside Pycharm, go to the Terminal tab and run `nvidia-smi -l` to see active GPU processes running\n",
    "\n",
    "Helpful Websites:\n",
    "\n",
    "1. https://www.tensorflow.org/install/pip#windows-wsl2\n",
    "2. https://www.tensorflow.org/guide/gpu\n",
    "2. https://wandb.ai/wandb/common-ml-errors/reports/How-To-Use-GPU-with-PyTorch---VmlldzozMzAxMDk\n",
    "4. https://www.youtube.com/watch?v=NrJz3ACosJA"
   ]
  }
 ],
 "metadata": {
  "kernelspec": {
   "display_name": "Julia 1.9.4",
   "language": "julia",
   "name": "julia-1.9"
  },
  "language_info": {
   "file_extension": ".jl",
   "mimetype": "application/julia",
   "name": "julia",
   "version": "1.9.4"
  }
 },
 "nbformat": 4,
 "nbformat_minor": 2
}
