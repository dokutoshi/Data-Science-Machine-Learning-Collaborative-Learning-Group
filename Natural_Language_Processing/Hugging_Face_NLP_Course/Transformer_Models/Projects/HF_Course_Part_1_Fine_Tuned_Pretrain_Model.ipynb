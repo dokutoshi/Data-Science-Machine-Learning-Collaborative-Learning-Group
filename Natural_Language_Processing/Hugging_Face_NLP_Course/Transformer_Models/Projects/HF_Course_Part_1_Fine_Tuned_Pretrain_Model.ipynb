{
  "nbformat": 4,
  "nbformat_minor": 0,
  "metadata": {
    "colab": {
      "provenance": [],
      "gpuType": "T4"
    },
    "kernelspec": {
      "name": "python3",
      "display_name": "Python 3"
    },
    "language_info": {
      "name": "python"
    },
    "widgets": {
      "application/vnd.jupyter.widget-state+json": {
        "10d0834190754bb9b14daeee9a980d4d": {
          "model_module": "@jupyter-widgets/controls",
          "model_name": "HBoxModel",
          "model_module_version": "1.5.0",
          "state": {
            "_dom_classes": [],
            "_model_module": "@jupyter-widgets/controls",
            "_model_module_version": "1.5.0",
            "_model_name": "HBoxModel",
            "_view_count": null,
            "_view_module": "@jupyter-widgets/controls",
            "_view_module_version": "1.5.0",
            "_view_name": "HBoxView",
            "box_style": "",
            "children": [
              "IPY_MODEL_eefd981fc89240d58168e9911830daf4",
              "IPY_MODEL_313f1be158d149daa584e6180ff3cdfc",
              "IPY_MODEL_3631b2cc888c4da2a3f57a1ef10edf46"
            ],
            "layout": "IPY_MODEL_4714413f3e6647dfaa785db052e33b39"
          }
        },
        "eefd981fc89240d58168e9911830daf4": {
          "model_module": "@jupyter-widgets/controls",
          "model_name": "HTMLModel",
          "model_module_version": "1.5.0",
          "state": {
            "_dom_classes": [],
            "_model_module": "@jupyter-widgets/controls",
            "_model_module_version": "1.5.0",
            "_model_name": "HTMLModel",
            "_view_count": null,
            "_view_module": "@jupyter-widgets/controls",
            "_view_module_version": "1.5.0",
            "_view_name": "HTMLView",
            "description": "",
            "description_tooltip": null,
            "layout": "IPY_MODEL_61315893ad44414987b03d700dfb80b3",
            "placeholder": "​",
            "style": "IPY_MODEL_c9f47ee105e040818660d0d5da46461c",
            "value": "Downloading data: 100%"
          }
        },
        "313f1be158d149daa584e6180ff3cdfc": {
          "model_module": "@jupyter-widgets/controls",
          "model_name": "FloatProgressModel",
          "model_module_version": "1.5.0",
          "state": {
            "_dom_classes": [],
            "_model_module": "@jupyter-widgets/controls",
            "_model_module_version": "1.5.0",
            "_model_name": "FloatProgressModel",
            "_view_count": null,
            "_view_module": "@jupyter-widgets/controls",
            "_view_module_version": "1.5.0",
            "_view_name": "ProgressView",
            "bar_style": "success",
            "description": "",
            "description_tooltip": null,
            "layout": "IPY_MODEL_27c38b835172481bbf7e28f11f65361a",
            "max": 459342,
            "min": 0,
            "orientation": "horizontal",
            "style": "IPY_MODEL_c955504cd5f141cd9cf339b0ed3b4307",
            "value": 459342
          }
        },
        "3631b2cc888c4da2a3f57a1ef10edf46": {
          "model_module": "@jupyter-widgets/controls",
          "model_name": "HTMLModel",
          "model_module_version": "1.5.0",
          "state": {
            "_dom_classes": [],
            "_model_module": "@jupyter-widgets/controls",
            "_model_module_version": "1.5.0",
            "_model_name": "HTMLModel",
            "_view_count": null,
            "_view_module": "@jupyter-widgets/controls",
            "_view_module_version": "1.5.0",
            "_view_name": "HTMLView",
            "description": "",
            "description_tooltip": null,
            "layout": "IPY_MODEL_e43240cf761e47428b9d147d6599198e",
            "placeholder": "​",
            "style": "IPY_MODEL_8b1be2d094454ae5abe8768139b9ff74",
            "value": " 459k/459k [00:00&lt;00:00, 716kB/s]"
          }
        },
        "4714413f3e6647dfaa785db052e33b39": {
          "model_module": "@jupyter-widgets/base",
          "model_name": "LayoutModel",
          "model_module_version": "1.2.0",
          "state": {
            "_model_module": "@jupyter-widgets/base",
            "_model_module_version": "1.2.0",
            "_model_name": "LayoutModel",
            "_view_count": null,
            "_view_module": "@jupyter-widgets/base",
            "_view_module_version": "1.2.0",
            "_view_name": "LayoutView",
            "align_content": null,
            "align_items": null,
            "align_self": null,
            "border": null,
            "bottom": null,
            "display": null,
            "flex": null,
            "flex_flow": null,
            "grid_area": null,
            "grid_auto_columns": null,
            "grid_auto_flow": null,
            "grid_auto_rows": null,
            "grid_column": null,
            "grid_gap": null,
            "grid_row": null,
            "grid_template_areas": null,
            "grid_template_columns": null,
            "grid_template_rows": null,
            "height": null,
            "justify_content": null,
            "justify_items": null,
            "left": null,
            "margin": null,
            "max_height": null,
            "max_width": null,
            "min_height": null,
            "min_width": null,
            "object_fit": null,
            "object_position": null,
            "order": null,
            "overflow": null,
            "overflow_x": null,
            "overflow_y": null,
            "padding": null,
            "right": null,
            "top": null,
            "visibility": null,
            "width": null
          }
        },
        "61315893ad44414987b03d700dfb80b3": {
          "model_module": "@jupyter-widgets/base",
          "model_name": "LayoutModel",
          "model_module_version": "1.2.0",
          "state": {
            "_model_module": "@jupyter-widgets/base",
            "_model_module_version": "1.2.0",
            "_model_name": "LayoutModel",
            "_view_count": null,
            "_view_module": "@jupyter-widgets/base",
            "_view_module_version": "1.2.0",
            "_view_name": "LayoutView",
            "align_content": null,
            "align_items": null,
            "align_self": null,
            "border": null,
            "bottom": null,
            "display": null,
            "flex": null,
            "flex_flow": null,
            "grid_area": null,
            "grid_auto_columns": null,
            "grid_auto_flow": null,
            "grid_auto_rows": null,
            "grid_column": null,
            "grid_gap": null,
            "grid_row": null,
            "grid_template_areas": null,
            "grid_template_columns": null,
            "grid_template_rows": null,
            "height": null,
            "justify_content": null,
            "justify_items": null,
            "left": null,
            "margin": null,
            "max_height": null,
            "max_width": null,
            "min_height": null,
            "min_width": null,
            "object_fit": null,
            "object_position": null,
            "order": null,
            "overflow": null,
            "overflow_x": null,
            "overflow_y": null,
            "padding": null,
            "right": null,
            "top": null,
            "visibility": null,
            "width": null
          }
        },
        "c9f47ee105e040818660d0d5da46461c": {
          "model_module": "@jupyter-widgets/controls",
          "model_name": "DescriptionStyleModel",
          "model_module_version": "1.5.0",
          "state": {
            "_model_module": "@jupyter-widgets/controls",
            "_model_module_version": "1.5.0",
            "_model_name": "DescriptionStyleModel",
            "_view_count": null,
            "_view_module": "@jupyter-widgets/base",
            "_view_module_version": "1.2.0",
            "_view_name": "StyleView",
            "description_width": ""
          }
        },
        "27c38b835172481bbf7e28f11f65361a": {
          "model_module": "@jupyter-widgets/base",
          "model_name": "LayoutModel",
          "model_module_version": "1.2.0",
          "state": {
            "_model_module": "@jupyter-widgets/base",
            "_model_module_version": "1.2.0",
            "_model_name": "LayoutModel",
            "_view_count": null,
            "_view_module": "@jupyter-widgets/base",
            "_view_module_version": "1.2.0",
            "_view_name": "LayoutView",
            "align_content": null,
            "align_items": null,
            "align_self": null,
            "border": null,
            "bottom": null,
            "display": null,
            "flex": null,
            "flex_flow": null,
            "grid_area": null,
            "grid_auto_columns": null,
            "grid_auto_flow": null,
            "grid_auto_rows": null,
            "grid_column": null,
            "grid_gap": null,
            "grid_row": null,
            "grid_template_areas": null,
            "grid_template_columns": null,
            "grid_template_rows": null,
            "height": null,
            "justify_content": null,
            "justify_items": null,
            "left": null,
            "margin": null,
            "max_height": null,
            "max_width": null,
            "min_height": null,
            "min_width": null,
            "object_fit": null,
            "object_position": null,
            "order": null,
            "overflow": null,
            "overflow_x": null,
            "overflow_y": null,
            "padding": null,
            "right": null,
            "top": null,
            "visibility": null,
            "width": null
          }
        },
        "c955504cd5f141cd9cf339b0ed3b4307": {
          "model_module": "@jupyter-widgets/controls",
          "model_name": "ProgressStyleModel",
          "model_module_version": "1.5.0",
          "state": {
            "_model_module": "@jupyter-widgets/controls",
            "_model_module_version": "1.5.0",
            "_model_name": "ProgressStyleModel",
            "_view_count": null,
            "_view_module": "@jupyter-widgets/base",
            "_view_module_version": "1.2.0",
            "_view_name": "StyleView",
            "bar_color": null,
            "description_width": ""
          }
        },
        "e43240cf761e47428b9d147d6599198e": {
          "model_module": "@jupyter-widgets/base",
          "model_name": "LayoutModel",
          "model_module_version": "1.2.0",
          "state": {
            "_model_module": "@jupyter-widgets/base",
            "_model_module_version": "1.2.0",
            "_model_name": "LayoutModel",
            "_view_count": null,
            "_view_module": "@jupyter-widgets/base",
            "_view_module_version": "1.2.0",
            "_view_name": "LayoutView",
            "align_content": null,
            "align_items": null,
            "align_self": null,
            "border": null,
            "bottom": null,
            "display": null,
            "flex": null,
            "flex_flow": null,
            "grid_area": null,
            "grid_auto_columns": null,
            "grid_auto_flow": null,
            "grid_auto_rows": null,
            "grid_column": null,
            "grid_gap": null,
            "grid_row": null,
            "grid_template_areas": null,
            "grid_template_columns": null,
            "grid_template_rows": null,
            "height": null,
            "justify_content": null,
            "justify_items": null,
            "left": null,
            "margin": null,
            "max_height": null,
            "max_width": null,
            "min_height": null,
            "min_width": null,
            "object_fit": null,
            "object_position": null,
            "order": null,
            "overflow": null,
            "overflow_x": null,
            "overflow_y": null,
            "padding": null,
            "right": null,
            "top": null,
            "visibility": null,
            "width": null
          }
        },
        "8b1be2d094454ae5abe8768139b9ff74": {
          "model_module": "@jupyter-widgets/controls",
          "model_name": "DescriptionStyleModel",
          "model_module_version": "1.5.0",
          "state": {
            "_model_module": "@jupyter-widgets/controls",
            "_model_module_version": "1.5.0",
            "_model_name": "DescriptionStyleModel",
            "_view_count": null,
            "_view_module": "@jupyter-widgets/base",
            "_view_module_version": "1.2.0",
            "_view_name": "StyleView",
            "description_width": ""
          }
        },
        "4ce6ee47306047f392f6691b7a58200e": {
          "model_module": "@jupyter-widgets/controls",
          "model_name": "HBoxModel",
          "model_module_version": "1.5.0",
          "state": {
            "_dom_classes": [],
            "_model_module": "@jupyter-widgets/controls",
            "_model_module_version": "1.5.0",
            "_model_name": "HBoxModel",
            "_view_count": null,
            "_view_module": "@jupyter-widgets/controls",
            "_view_module_version": "1.5.0",
            "_view_name": "HBoxView",
            "box_style": "",
            "children": [
              "IPY_MODEL_78dd281055a642a4abd471e28d45470e",
              "IPY_MODEL_3722f6e0d40447f29eb7fed9081cf855",
              "IPY_MODEL_523b9793e82c4d3ca557ed7c4ae0f00c"
            ],
            "layout": "IPY_MODEL_b53388b2654242989a5dad87c22ff7b2"
          }
        },
        "78dd281055a642a4abd471e28d45470e": {
          "model_module": "@jupyter-widgets/controls",
          "model_name": "HTMLModel",
          "model_module_version": "1.5.0",
          "state": {
            "_dom_classes": [],
            "_model_module": "@jupyter-widgets/controls",
            "_model_module_version": "1.5.0",
            "_model_name": "HTMLModel",
            "_view_count": null,
            "_view_module": "@jupyter-widgets/controls",
            "_view_module_version": "1.5.0",
            "_view_name": "HTMLView",
            "description": "",
            "description_tooltip": null,
            "layout": "IPY_MODEL_82e386a4e62644848d9f71a8492bdceb",
            "placeholder": "​",
            "style": "IPY_MODEL_6a2abc167c7247d1bb7fab472345ae04",
            "value": "Downloading data: 100%"
          }
        },
        "3722f6e0d40447f29eb7fed9081cf855": {
          "model_module": "@jupyter-widgets/controls",
          "model_name": "FloatProgressModel",
          "model_module_version": "1.5.0",
          "state": {
            "_dom_classes": [],
            "_model_module": "@jupyter-widgets/controls",
            "_model_module_version": "1.5.0",
            "_model_name": "FloatProgressModel",
            "_view_count": null,
            "_view_module": "@jupyter-widgets/controls",
            "_view_module_version": "1.5.0",
            "_view_name": "ProgressView",
            "bar_style": "success",
            "description": "",
            "description_tooltip": null,
            "layout": "IPY_MODEL_9d908e46f71f4432bc1991db85eceb65",
            "max": 41868,
            "min": 0,
            "orientation": "horizontal",
            "style": "IPY_MODEL_4fc9aab36ab945cdb9d6fd9ad559274d",
            "value": 41868
          }
        },
        "523b9793e82c4d3ca557ed7c4ae0f00c": {
          "model_module": "@jupyter-widgets/controls",
          "model_name": "HTMLModel",
          "model_module_version": "1.5.0",
          "state": {
            "_dom_classes": [],
            "_model_module": "@jupyter-widgets/controls",
            "_model_module_version": "1.5.0",
            "_model_name": "HTMLModel",
            "_view_count": null,
            "_view_module": "@jupyter-widgets/controls",
            "_view_module_version": "1.5.0",
            "_view_name": "HTMLView",
            "description": "",
            "description_tooltip": null,
            "layout": "IPY_MODEL_660009cab7a847b4b4e15b0f68f4bfdf",
            "placeholder": "​",
            "style": "IPY_MODEL_552e9102329746a2949865c444ef1c3c",
            "value": " 41.9k/41.9k [00:00&lt;00:00, 69.7kB/s]"
          }
        },
        "b53388b2654242989a5dad87c22ff7b2": {
          "model_module": "@jupyter-widgets/base",
          "model_name": "LayoutModel",
          "model_module_version": "1.2.0",
          "state": {
            "_model_module": "@jupyter-widgets/base",
            "_model_module_version": "1.2.0",
            "_model_name": "LayoutModel",
            "_view_count": null,
            "_view_module": "@jupyter-widgets/base",
            "_view_module_version": "1.2.0",
            "_view_name": "LayoutView",
            "align_content": null,
            "align_items": null,
            "align_self": null,
            "border": null,
            "bottom": null,
            "display": null,
            "flex": null,
            "flex_flow": null,
            "grid_area": null,
            "grid_auto_columns": null,
            "grid_auto_flow": null,
            "grid_auto_rows": null,
            "grid_column": null,
            "grid_gap": null,
            "grid_row": null,
            "grid_template_areas": null,
            "grid_template_columns": null,
            "grid_template_rows": null,
            "height": null,
            "justify_content": null,
            "justify_items": null,
            "left": null,
            "margin": null,
            "max_height": null,
            "max_width": null,
            "min_height": null,
            "min_width": null,
            "object_fit": null,
            "object_position": null,
            "order": null,
            "overflow": null,
            "overflow_x": null,
            "overflow_y": null,
            "padding": null,
            "right": null,
            "top": null,
            "visibility": null,
            "width": null
          }
        },
        "82e386a4e62644848d9f71a8492bdceb": {
          "model_module": "@jupyter-widgets/base",
          "model_name": "LayoutModel",
          "model_module_version": "1.2.0",
          "state": {
            "_model_module": "@jupyter-widgets/base",
            "_model_module_version": "1.2.0",
            "_model_name": "LayoutModel",
            "_view_count": null,
            "_view_module": "@jupyter-widgets/base",
            "_view_module_version": "1.2.0",
            "_view_name": "LayoutView",
            "align_content": null,
            "align_items": null,
            "align_self": null,
            "border": null,
            "bottom": null,
            "display": null,
            "flex": null,
            "flex_flow": null,
            "grid_area": null,
            "grid_auto_columns": null,
            "grid_auto_flow": null,
            "grid_auto_rows": null,
            "grid_column": null,
            "grid_gap": null,
            "grid_row": null,
            "grid_template_areas": null,
            "grid_template_columns": null,
            "grid_template_rows": null,
            "height": null,
            "justify_content": null,
            "justify_items": null,
            "left": null,
            "margin": null,
            "max_height": null,
            "max_width": null,
            "min_height": null,
            "min_width": null,
            "object_fit": null,
            "object_position": null,
            "order": null,
            "overflow": null,
            "overflow_x": null,
            "overflow_y": null,
            "padding": null,
            "right": null,
            "top": null,
            "visibility": null,
            "width": null
          }
        },
        "6a2abc167c7247d1bb7fab472345ae04": {
          "model_module": "@jupyter-widgets/controls",
          "model_name": "DescriptionStyleModel",
          "model_module_version": "1.5.0",
          "state": {
            "_model_module": "@jupyter-widgets/controls",
            "_model_module_version": "1.5.0",
            "_model_name": "DescriptionStyleModel",
            "_view_count": null,
            "_view_module": "@jupyter-widgets/base",
            "_view_module_version": "1.2.0",
            "_view_name": "StyleView",
            "description_width": ""
          }
        },
        "9d908e46f71f4432bc1991db85eceb65": {
          "model_module": "@jupyter-widgets/base",
          "model_name": "LayoutModel",
          "model_module_version": "1.2.0",
          "state": {
            "_model_module": "@jupyter-widgets/base",
            "_model_module_version": "1.2.0",
            "_model_name": "LayoutModel",
            "_view_count": null,
            "_view_module": "@jupyter-widgets/base",
            "_view_module_version": "1.2.0",
            "_view_name": "LayoutView",
            "align_content": null,
            "align_items": null,
            "align_self": null,
            "border": null,
            "bottom": null,
            "display": null,
            "flex": null,
            "flex_flow": null,
            "grid_area": null,
            "grid_auto_columns": null,
            "grid_auto_flow": null,
            "grid_auto_rows": null,
            "grid_column": null,
            "grid_gap": null,
            "grid_row": null,
            "grid_template_areas": null,
            "grid_template_columns": null,
            "grid_template_rows": null,
            "height": null,
            "justify_content": null,
            "justify_items": null,
            "left": null,
            "margin": null,
            "max_height": null,
            "max_width": null,
            "min_height": null,
            "min_width": null,
            "object_fit": null,
            "object_position": null,
            "order": null,
            "overflow": null,
            "overflow_x": null,
            "overflow_y": null,
            "padding": null,
            "right": null,
            "top": null,
            "visibility": null,
            "width": null
          }
        },
        "4fc9aab36ab945cdb9d6fd9ad559274d": {
          "model_module": "@jupyter-widgets/controls",
          "model_name": "ProgressStyleModel",
          "model_module_version": "1.5.0",
          "state": {
            "_model_module": "@jupyter-widgets/controls",
            "_model_module_version": "1.5.0",
            "_model_name": "ProgressStyleModel",
            "_view_count": null,
            "_view_module": "@jupyter-widgets/base",
            "_view_module_version": "1.2.0",
            "_view_name": "StyleView",
            "bar_color": null,
            "description_width": ""
          }
        },
        "660009cab7a847b4b4e15b0f68f4bfdf": {
          "model_module": "@jupyter-widgets/base",
          "model_name": "LayoutModel",
          "model_module_version": "1.2.0",
          "state": {
            "_model_module": "@jupyter-widgets/base",
            "_model_module_version": "1.2.0",
            "_model_name": "LayoutModel",
            "_view_count": null,
            "_view_module": "@jupyter-widgets/base",
            "_view_module_version": "1.2.0",
            "_view_name": "LayoutView",
            "align_content": null,
            "align_items": null,
            "align_self": null,
            "border": null,
            "bottom": null,
            "display": null,
            "flex": null,
            "flex_flow": null,
            "grid_area": null,
            "grid_auto_columns": null,
            "grid_auto_flow": null,
            "grid_auto_rows": null,
            "grid_column": null,
            "grid_gap": null,
            "grid_row": null,
            "grid_template_areas": null,
            "grid_template_columns": null,
            "grid_template_rows": null,
            "height": null,
            "justify_content": null,
            "justify_items": null,
            "left": null,
            "margin": null,
            "max_height": null,
            "max_width": null,
            "min_height": null,
            "min_width": null,
            "object_fit": null,
            "object_position": null,
            "order": null,
            "overflow": null,
            "overflow_x": null,
            "overflow_y": null,
            "padding": null,
            "right": null,
            "top": null,
            "visibility": null,
            "width": null
          }
        },
        "552e9102329746a2949865c444ef1c3c": {
          "model_module": "@jupyter-widgets/controls",
          "model_name": "DescriptionStyleModel",
          "model_module_version": "1.5.0",
          "state": {
            "_model_module": "@jupyter-widgets/controls",
            "_model_module_version": "1.5.0",
            "_model_name": "DescriptionStyleModel",
            "_view_count": null,
            "_view_module": "@jupyter-widgets/base",
            "_view_module_version": "1.2.0",
            "_view_name": "StyleView",
            "description_width": ""
          }
        },
        "8464440bf11841d7a22173da7b3c43e9": {
          "model_module": "@jupyter-widgets/controls",
          "model_name": "HBoxModel",
          "model_module_version": "1.5.0",
          "state": {
            "_dom_classes": [],
            "_model_module": "@jupyter-widgets/controls",
            "_model_module_version": "1.5.0",
            "_model_name": "HBoxModel",
            "_view_count": null,
            "_view_module": "@jupyter-widgets/controls",
            "_view_module_version": "1.5.0",
            "_view_name": "HBoxView",
            "box_style": "",
            "children": [
              "IPY_MODEL_43c85e1a25404dc79e9b486d5c3fad2a",
              "IPY_MODEL_1f4329c0796e49a6b7f71a0d49b33ecf",
              "IPY_MODEL_a5284176721b40fbb9f4f1308ca1b5aa"
            ],
            "layout": "IPY_MODEL_111dd94a2ddc495596f880445e997cab"
          }
        },
        "43c85e1a25404dc79e9b486d5c3fad2a": {
          "model_module": "@jupyter-widgets/controls",
          "model_name": "HTMLModel",
          "model_module_version": "1.5.0",
          "state": {
            "_dom_classes": [],
            "_model_module": "@jupyter-widgets/controls",
            "_model_module_version": "1.5.0",
            "_model_name": "HTMLModel",
            "_view_count": null,
            "_view_module": "@jupyter-widgets/controls",
            "_view_module_version": "1.5.0",
            "_view_name": "HTMLView",
            "description": "",
            "description_tooltip": null,
            "layout": "IPY_MODEL_63a49a3f0b9043e786b5fce267b2ef23",
            "placeholder": "​",
            "style": "IPY_MODEL_5282178e230e4bde83567030a876378e",
            "value": "Downloading data: 100%"
          }
        },
        "1f4329c0796e49a6b7f71a0d49b33ecf": {
          "model_module": "@jupyter-widgets/controls",
          "model_name": "FloatProgressModel",
          "model_module_version": "1.5.0",
          "state": {
            "_dom_classes": [],
            "_model_module": "@jupyter-widgets/controls",
            "_model_module_version": "1.5.0",
            "_model_name": "FloatProgressModel",
            "_view_count": null,
            "_view_module": "@jupyter-widgets/controls",
            "_view_module_version": "1.5.0",
            "_view_name": "ProgressView",
            "bar_style": "success",
            "description": "",
            "description_tooltip": null,
            "layout": "IPY_MODEL_7a378b2b4e034b3a9eef3467b0301674",
            "max": 76812,
            "min": 0,
            "orientation": "horizontal",
            "style": "IPY_MODEL_5f8cbdb6bf5c4ad8858c8792a0b98369",
            "value": 76812
          }
        },
        "a5284176721b40fbb9f4f1308ca1b5aa": {
          "model_module": "@jupyter-widgets/controls",
          "model_name": "HTMLModel",
          "model_module_version": "1.5.0",
          "state": {
            "_dom_classes": [],
            "_model_module": "@jupyter-widgets/controls",
            "_model_module_version": "1.5.0",
            "_model_name": "HTMLModel",
            "_view_count": null,
            "_view_module": "@jupyter-widgets/controls",
            "_view_module_version": "1.5.0",
            "_view_name": "HTMLView",
            "description": "",
            "description_tooltip": null,
            "layout": "IPY_MODEL_4b391d250f4246379b1449526e983b9c",
            "placeholder": "​",
            "style": "IPY_MODEL_0d40243e94ce4b829feb686efa6797b4",
            "value": " 76.8k/76.8k [00:01&lt;00:00, 47.4kB/s]"
          }
        },
        "111dd94a2ddc495596f880445e997cab": {
          "model_module": "@jupyter-widgets/base",
          "model_name": "LayoutModel",
          "model_module_version": "1.2.0",
          "state": {
            "_model_module": "@jupyter-widgets/base",
            "_model_module_version": "1.2.0",
            "_model_name": "LayoutModel",
            "_view_count": null,
            "_view_module": "@jupyter-widgets/base",
            "_view_module_version": "1.2.0",
            "_view_name": "LayoutView",
            "align_content": null,
            "align_items": null,
            "align_self": null,
            "border": null,
            "bottom": null,
            "display": null,
            "flex": null,
            "flex_flow": null,
            "grid_area": null,
            "grid_auto_columns": null,
            "grid_auto_flow": null,
            "grid_auto_rows": null,
            "grid_column": null,
            "grid_gap": null,
            "grid_row": null,
            "grid_template_areas": null,
            "grid_template_columns": null,
            "grid_template_rows": null,
            "height": null,
            "justify_content": null,
            "justify_items": null,
            "left": null,
            "margin": null,
            "max_height": null,
            "max_width": null,
            "min_height": null,
            "min_width": null,
            "object_fit": null,
            "object_position": null,
            "order": null,
            "overflow": null,
            "overflow_x": null,
            "overflow_y": null,
            "padding": null,
            "right": null,
            "top": null,
            "visibility": null,
            "width": null
          }
        },
        "63a49a3f0b9043e786b5fce267b2ef23": {
          "model_module": "@jupyter-widgets/base",
          "model_name": "LayoutModel",
          "model_module_version": "1.2.0",
          "state": {
            "_model_module": "@jupyter-widgets/base",
            "_model_module_version": "1.2.0",
            "_model_name": "LayoutModel",
            "_view_count": null,
            "_view_module": "@jupyter-widgets/base",
            "_view_module_version": "1.2.0",
            "_view_name": "LayoutView",
            "align_content": null,
            "align_items": null,
            "align_self": null,
            "border": null,
            "bottom": null,
            "display": null,
            "flex": null,
            "flex_flow": null,
            "grid_area": null,
            "grid_auto_columns": null,
            "grid_auto_flow": null,
            "grid_auto_rows": null,
            "grid_column": null,
            "grid_gap": null,
            "grid_row": null,
            "grid_template_areas": null,
            "grid_template_columns": null,
            "grid_template_rows": null,
            "height": null,
            "justify_content": null,
            "justify_items": null,
            "left": null,
            "margin": null,
            "max_height": null,
            "max_width": null,
            "min_height": null,
            "min_width": null,
            "object_fit": null,
            "object_position": null,
            "order": null,
            "overflow": null,
            "overflow_x": null,
            "overflow_y": null,
            "padding": null,
            "right": null,
            "top": null,
            "visibility": null,
            "width": null
          }
        },
        "5282178e230e4bde83567030a876378e": {
          "model_module": "@jupyter-widgets/controls",
          "model_name": "DescriptionStyleModel",
          "model_module_version": "1.5.0",
          "state": {
            "_model_module": "@jupyter-widgets/controls",
            "_model_module_version": "1.5.0",
            "_model_name": "DescriptionStyleModel",
            "_view_count": null,
            "_view_module": "@jupyter-widgets/base",
            "_view_module_version": "1.2.0",
            "_view_name": "StyleView",
            "description_width": ""
          }
        },
        "7a378b2b4e034b3a9eef3467b0301674": {
          "model_module": "@jupyter-widgets/base",
          "model_name": "LayoutModel",
          "model_module_version": "1.2.0",
          "state": {
            "_model_module": "@jupyter-widgets/base",
            "_model_module_version": "1.2.0",
            "_model_name": "LayoutModel",
            "_view_count": null,
            "_view_module": "@jupyter-widgets/base",
            "_view_module_version": "1.2.0",
            "_view_name": "LayoutView",
            "align_content": null,
            "align_items": null,
            "align_self": null,
            "border": null,
            "bottom": null,
            "display": null,
            "flex": null,
            "flex_flow": null,
            "grid_area": null,
            "grid_auto_columns": null,
            "grid_auto_flow": null,
            "grid_auto_rows": null,
            "grid_column": null,
            "grid_gap": null,
            "grid_row": null,
            "grid_template_areas": null,
            "grid_template_columns": null,
            "grid_template_rows": null,
            "height": null,
            "justify_content": null,
            "justify_items": null,
            "left": null,
            "margin": null,
            "max_height": null,
            "max_width": null,
            "min_height": null,
            "min_width": null,
            "object_fit": null,
            "object_position": null,
            "order": null,
            "overflow": null,
            "overflow_x": null,
            "overflow_y": null,
            "padding": null,
            "right": null,
            "top": null,
            "visibility": null,
            "width": null
          }
        },
        "5f8cbdb6bf5c4ad8858c8792a0b98369": {
          "model_module": "@jupyter-widgets/controls",
          "model_name": "ProgressStyleModel",
          "model_module_version": "1.5.0",
          "state": {
            "_model_module": "@jupyter-widgets/controls",
            "_model_module_version": "1.5.0",
            "_model_name": "ProgressStyleModel",
            "_view_count": null,
            "_view_module": "@jupyter-widgets/base",
            "_view_module_version": "1.2.0",
            "_view_name": "StyleView",
            "bar_color": null,
            "description_width": ""
          }
        },
        "4b391d250f4246379b1449526e983b9c": {
          "model_module": "@jupyter-widgets/base",
          "model_name": "LayoutModel",
          "model_module_version": "1.2.0",
          "state": {
            "_model_module": "@jupyter-widgets/base",
            "_model_module_version": "1.2.0",
            "_model_name": "LayoutModel",
            "_view_count": null,
            "_view_module": "@jupyter-widgets/base",
            "_view_module_version": "1.2.0",
            "_view_name": "LayoutView",
            "align_content": null,
            "align_items": null,
            "align_self": null,
            "border": null,
            "bottom": null,
            "display": null,
            "flex": null,
            "flex_flow": null,
            "grid_area": null,
            "grid_auto_columns": null,
            "grid_auto_flow": null,
            "grid_auto_rows": null,
            "grid_column": null,
            "grid_gap": null,
            "grid_row": null,
            "grid_template_areas": null,
            "grid_template_columns": null,
            "grid_template_rows": null,
            "height": null,
            "justify_content": null,
            "justify_items": null,
            "left": null,
            "margin": null,
            "max_height": null,
            "max_width": null,
            "min_height": null,
            "min_width": null,
            "object_fit": null,
            "object_position": null,
            "order": null,
            "overflow": null,
            "overflow_x": null,
            "overflow_y": null,
            "padding": null,
            "right": null,
            "top": null,
            "visibility": null,
            "width": null
          }
        },
        "0d40243e94ce4b829feb686efa6797b4": {
          "model_module": "@jupyter-widgets/controls",
          "model_name": "DescriptionStyleModel",
          "model_module_version": "1.5.0",
          "state": {
            "_model_module": "@jupyter-widgets/controls",
            "_model_module_version": "1.5.0",
            "_model_name": "DescriptionStyleModel",
            "_view_count": null,
            "_view_module": "@jupyter-widgets/base",
            "_view_module_version": "1.2.0",
            "_view_name": "StyleView",
            "description_width": ""
          }
        },
        "27ecc3f9c9fe4567b93dc5c41252265c": {
          "model_module": "@jupyter-widgets/controls",
          "model_name": "HBoxModel",
          "model_module_version": "1.5.0",
          "state": {
            "_dom_classes": [],
            "_model_module": "@jupyter-widgets/controls",
            "_model_module_version": "1.5.0",
            "_model_name": "HBoxModel",
            "_view_count": null,
            "_view_module": "@jupyter-widgets/controls",
            "_view_module_version": "1.5.0",
            "_view_name": "HBoxView",
            "box_style": "",
            "children": [
              "IPY_MODEL_54fecaaa05ec42ceb00956cc46f6adca",
              "IPY_MODEL_35bdc9be19a847d9985091167f861bc5",
              "IPY_MODEL_8b3d14a01b8d44c79a3920c2d70ba59d"
            ],
            "layout": "IPY_MODEL_800dd3a3da6f4a90859f182e5bf396a3"
          }
        },
        "54fecaaa05ec42ceb00956cc46f6adca": {
          "model_module": "@jupyter-widgets/controls",
          "model_name": "HTMLModel",
          "model_module_version": "1.5.0",
          "state": {
            "_dom_classes": [],
            "_model_module": "@jupyter-widgets/controls",
            "_model_module_version": "1.5.0",
            "_model_name": "HTMLModel",
            "_view_count": null,
            "_view_module": "@jupyter-widgets/controls",
            "_view_module_version": "1.5.0",
            "_view_name": "HTMLView",
            "description": "",
            "description_tooltip": null,
            "layout": "IPY_MODEL_da1a4e2f6777454c8657b3609df17ec8",
            "placeholder": "​",
            "style": "IPY_MODEL_69c8b34aedb14257860cd59fe27029bc",
            "value": "Generating train split: 100%"
          }
        },
        "35bdc9be19a847d9985091167f861bc5": {
          "model_module": "@jupyter-widgets/controls",
          "model_name": "FloatProgressModel",
          "model_module_version": "1.5.0",
          "state": {
            "_dom_classes": [],
            "_model_module": "@jupyter-widgets/controls",
            "_model_module_version": "1.5.0",
            "_model_name": "FloatProgressModel",
            "_view_count": null,
            "_view_module": "@jupyter-widgets/controls",
            "_view_module_version": "1.5.0",
            "_view_name": "ProgressView",
            "bar_style": "success",
            "description": "",
            "description_tooltip": null,
            "layout": "IPY_MODEL_ad95089b3d0c48f4a5cd49f8f474d023",
            "max": 5496,
            "min": 0,
            "orientation": "horizontal",
            "style": "IPY_MODEL_50e8ac282b4f4248810abc0c2a15985a",
            "value": 5496
          }
        },
        "8b3d14a01b8d44c79a3920c2d70ba59d": {
          "model_module": "@jupyter-widgets/controls",
          "model_name": "HTMLModel",
          "model_module_version": "1.5.0",
          "state": {
            "_dom_classes": [],
            "_model_module": "@jupyter-widgets/controls",
            "_model_module_version": "1.5.0",
            "_model_name": "HTMLModel",
            "_view_count": null,
            "_view_module": "@jupyter-widgets/controls",
            "_view_module_version": "1.5.0",
            "_view_name": "HTMLView",
            "description": "",
            "description_tooltip": null,
            "layout": "IPY_MODEL_f6686d3a2ed4430e87d67c5e6e95efeb",
            "placeholder": "​",
            "style": "IPY_MODEL_fa0aff01fe294f09ac8ddc9cc8249a25",
            "value": " 5496/5496 [00:00&lt;00:00, 93099.10 examples/s]"
          }
        },
        "800dd3a3da6f4a90859f182e5bf396a3": {
          "model_module": "@jupyter-widgets/base",
          "model_name": "LayoutModel",
          "model_module_version": "1.2.0",
          "state": {
            "_model_module": "@jupyter-widgets/base",
            "_model_module_version": "1.2.0",
            "_model_name": "LayoutModel",
            "_view_count": null,
            "_view_module": "@jupyter-widgets/base",
            "_view_module_version": "1.2.0",
            "_view_name": "LayoutView",
            "align_content": null,
            "align_items": null,
            "align_self": null,
            "border": null,
            "bottom": null,
            "display": null,
            "flex": null,
            "flex_flow": null,
            "grid_area": null,
            "grid_auto_columns": null,
            "grid_auto_flow": null,
            "grid_auto_rows": null,
            "grid_column": null,
            "grid_gap": null,
            "grid_row": null,
            "grid_template_areas": null,
            "grid_template_columns": null,
            "grid_template_rows": null,
            "height": null,
            "justify_content": null,
            "justify_items": null,
            "left": null,
            "margin": null,
            "max_height": null,
            "max_width": null,
            "min_height": null,
            "min_width": null,
            "object_fit": null,
            "object_position": null,
            "order": null,
            "overflow": null,
            "overflow_x": null,
            "overflow_y": null,
            "padding": null,
            "right": null,
            "top": null,
            "visibility": null,
            "width": null
          }
        },
        "da1a4e2f6777454c8657b3609df17ec8": {
          "model_module": "@jupyter-widgets/base",
          "model_name": "LayoutModel",
          "model_module_version": "1.2.0",
          "state": {
            "_model_module": "@jupyter-widgets/base",
            "_model_module_version": "1.2.0",
            "_model_name": "LayoutModel",
            "_view_count": null,
            "_view_module": "@jupyter-widgets/base",
            "_view_module_version": "1.2.0",
            "_view_name": "LayoutView",
            "align_content": null,
            "align_items": null,
            "align_self": null,
            "border": null,
            "bottom": null,
            "display": null,
            "flex": null,
            "flex_flow": null,
            "grid_area": null,
            "grid_auto_columns": null,
            "grid_auto_flow": null,
            "grid_auto_rows": null,
            "grid_column": null,
            "grid_gap": null,
            "grid_row": null,
            "grid_template_areas": null,
            "grid_template_columns": null,
            "grid_template_rows": null,
            "height": null,
            "justify_content": null,
            "justify_items": null,
            "left": null,
            "margin": null,
            "max_height": null,
            "max_width": null,
            "min_height": null,
            "min_width": null,
            "object_fit": null,
            "object_position": null,
            "order": null,
            "overflow": null,
            "overflow_x": null,
            "overflow_y": null,
            "padding": null,
            "right": null,
            "top": null,
            "visibility": null,
            "width": null
          }
        },
        "69c8b34aedb14257860cd59fe27029bc": {
          "model_module": "@jupyter-widgets/controls",
          "model_name": "DescriptionStyleModel",
          "model_module_version": "1.5.0",
          "state": {
            "_model_module": "@jupyter-widgets/controls",
            "_model_module_version": "1.5.0",
            "_model_name": "DescriptionStyleModel",
            "_view_count": null,
            "_view_module": "@jupyter-widgets/base",
            "_view_module_version": "1.2.0",
            "_view_name": "StyleView",
            "description_width": ""
          }
        },
        "ad95089b3d0c48f4a5cd49f8f474d023": {
          "model_module": "@jupyter-widgets/base",
          "model_name": "LayoutModel",
          "model_module_version": "1.2.0",
          "state": {
            "_model_module": "@jupyter-widgets/base",
            "_model_module_version": "1.2.0",
            "_model_name": "LayoutModel",
            "_view_count": null,
            "_view_module": "@jupyter-widgets/base",
            "_view_module_version": "1.2.0",
            "_view_name": "LayoutView",
            "align_content": null,
            "align_items": null,
            "align_self": null,
            "border": null,
            "bottom": null,
            "display": null,
            "flex": null,
            "flex_flow": null,
            "grid_area": null,
            "grid_auto_columns": null,
            "grid_auto_flow": null,
            "grid_auto_rows": null,
            "grid_column": null,
            "grid_gap": null,
            "grid_row": null,
            "grid_template_areas": null,
            "grid_template_columns": null,
            "grid_template_rows": null,
            "height": null,
            "justify_content": null,
            "justify_items": null,
            "left": null,
            "margin": null,
            "max_height": null,
            "max_width": null,
            "min_height": null,
            "min_width": null,
            "object_fit": null,
            "object_position": null,
            "order": null,
            "overflow": null,
            "overflow_x": null,
            "overflow_y": null,
            "padding": null,
            "right": null,
            "top": null,
            "visibility": null,
            "width": null
          }
        },
        "50e8ac282b4f4248810abc0c2a15985a": {
          "model_module": "@jupyter-widgets/controls",
          "model_name": "ProgressStyleModel",
          "model_module_version": "1.5.0",
          "state": {
            "_model_module": "@jupyter-widgets/controls",
            "_model_module_version": "1.5.0",
            "_model_name": "ProgressStyleModel",
            "_view_count": null,
            "_view_module": "@jupyter-widgets/base",
            "_view_module_version": "1.2.0",
            "_view_name": "StyleView",
            "bar_color": null,
            "description_width": ""
          }
        },
        "f6686d3a2ed4430e87d67c5e6e95efeb": {
          "model_module": "@jupyter-widgets/base",
          "model_name": "LayoutModel",
          "model_module_version": "1.2.0",
          "state": {
            "_model_module": "@jupyter-widgets/base",
            "_model_module_version": "1.2.0",
            "_model_name": "LayoutModel",
            "_view_count": null,
            "_view_module": "@jupyter-widgets/base",
            "_view_module_version": "1.2.0",
            "_view_name": "LayoutView",
            "align_content": null,
            "align_items": null,
            "align_self": null,
            "border": null,
            "bottom": null,
            "display": null,
            "flex": null,
            "flex_flow": null,
            "grid_area": null,
            "grid_auto_columns": null,
            "grid_auto_flow": null,
            "grid_auto_rows": null,
            "grid_column": null,
            "grid_gap": null,
            "grid_row": null,
            "grid_template_areas": null,
            "grid_template_columns": null,
            "grid_template_rows": null,
            "height": null,
            "justify_content": null,
            "justify_items": null,
            "left": null,
            "margin": null,
            "max_height": null,
            "max_width": null,
            "min_height": null,
            "min_width": null,
            "object_fit": null,
            "object_position": null,
            "order": null,
            "overflow": null,
            "overflow_x": null,
            "overflow_y": null,
            "padding": null,
            "right": null,
            "top": null,
            "visibility": null,
            "width": null
          }
        },
        "fa0aff01fe294f09ac8ddc9cc8249a25": {
          "model_module": "@jupyter-widgets/controls",
          "model_name": "DescriptionStyleModel",
          "model_module_version": "1.5.0",
          "state": {
            "_model_module": "@jupyter-widgets/controls",
            "_model_module_version": "1.5.0",
            "_model_name": "DescriptionStyleModel",
            "_view_count": null,
            "_view_module": "@jupyter-widgets/base",
            "_view_module_version": "1.2.0",
            "_view_name": "StyleView",
            "description_width": ""
          }
        },
        "a42077c346ea43ab84e093fab96c9982": {
          "model_module": "@jupyter-widgets/controls",
          "model_name": "HBoxModel",
          "model_module_version": "1.5.0",
          "state": {
            "_dom_classes": [],
            "_model_module": "@jupyter-widgets/controls",
            "_model_module_version": "1.5.0",
            "_model_name": "HBoxModel",
            "_view_count": null,
            "_view_module": "@jupyter-widgets/controls",
            "_view_module_version": "1.5.0",
            "_view_name": "HBoxView",
            "box_style": "",
            "children": [
              "IPY_MODEL_868446d321e24b8a81b772d76bfc7be5",
              "IPY_MODEL_745bf187d5eb48a1a49ac071e0704065",
              "IPY_MODEL_7f34b9981fe349e0b9d8ec5acd1d86a4"
            ],
            "layout": "IPY_MODEL_ae52b87bb81348ffbfce8c0716d0f601"
          }
        },
        "868446d321e24b8a81b772d76bfc7be5": {
          "model_module": "@jupyter-widgets/controls",
          "model_name": "HTMLModel",
          "model_module_version": "1.5.0",
          "state": {
            "_dom_classes": [],
            "_model_module": "@jupyter-widgets/controls",
            "_model_module_version": "1.5.0",
            "_model_name": "HTMLModel",
            "_view_count": null,
            "_view_module": "@jupyter-widgets/controls",
            "_view_module_version": "1.5.0",
            "_view_name": "HTMLView",
            "description": "",
            "description_tooltip": null,
            "layout": "IPY_MODEL_4205f7c044944fc585c2c9e2433e2518",
            "placeholder": "​",
            "style": "IPY_MODEL_e58180250d7f4a41aaea0d1decaeb761",
            "value": "Generating validation split: 100%"
          }
        },
        "745bf187d5eb48a1a49ac071e0704065": {
          "model_module": "@jupyter-widgets/controls",
          "model_name": "FloatProgressModel",
          "model_module_version": "1.5.0",
          "state": {
            "_dom_classes": [],
            "_model_module": "@jupyter-widgets/controls",
            "_model_module_version": "1.5.0",
            "_model_name": "FloatProgressModel",
            "_view_count": null,
            "_view_module": "@jupyter-widgets/controls",
            "_view_module_version": "1.5.0",
            "_view_name": "ProgressView",
            "bar_style": "success",
            "description": "",
            "description_tooltip": null,
            "layout": "IPY_MODEL_4524f76a52974e61ae806860009c7294",
            "max": 400,
            "min": 0,
            "orientation": "horizontal",
            "style": "IPY_MODEL_aeb26171ea5749b5bfcaf7c7741198cc",
            "value": 400
          }
        },
        "7f34b9981fe349e0b9d8ec5acd1d86a4": {
          "model_module": "@jupyter-widgets/controls",
          "model_name": "HTMLModel",
          "model_module_version": "1.5.0",
          "state": {
            "_dom_classes": [],
            "_model_module": "@jupyter-widgets/controls",
            "_model_module_version": "1.5.0",
            "_model_name": "HTMLModel",
            "_view_count": null,
            "_view_module": "@jupyter-widgets/controls",
            "_view_module_version": "1.5.0",
            "_view_name": "HTMLView",
            "description": "",
            "description_tooltip": null,
            "layout": "IPY_MODEL_0a14247a452c4d2886f41c3228dcbbcd",
            "placeholder": "​",
            "style": "IPY_MODEL_6a88fed90c994bd692c89caf2027368b",
            "value": " 400/400 [00:00&lt;00:00, 6749.44 examples/s]"
          }
        },
        "ae52b87bb81348ffbfce8c0716d0f601": {
          "model_module": "@jupyter-widgets/base",
          "model_name": "LayoutModel",
          "model_module_version": "1.2.0",
          "state": {
            "_model_module": "@jupyter-widgets/base",
            "_model_module_version": "1.2.0",
            "_model_name": "LayoutModel",
            "_view_count": null,
            "_view_module": "@jupyter-widgets/base",
            "_view_module_version": "1.2.0",
            "_view_name": "LayoutView",
            "align_content": null,
            "align_items": null,
            "align_self": null,
            "border": null,
            "bottom": null,
            "display": null,
            "flex": null,
            "flex_flow": null,
            "grid_area": null,
            "grid_auto_columns": null,
            "grid_auto_flow": null,
            "grid_auto_rows": null,
            "grid_column": null,
            "grid_gap": null,
            "grid_row": null,
            "grid_template_areas": null,
            "grid_template_columns": null,
            "grid_template_rows": null,
            "height": null,
            "justify_content": null,
            "justify_items": null,
            "left": null,
            "margin": null,
            "max_height": null,
            "max_width": null,
            "min_height": null,
            "min_width": null,
            "object_fit": null,
            "object_position": null,
            "order": null,
            "overflow": null,
            "overflow_x": null,
            "overflow_y": null,
            "padding": null,
            "right": null,
            "top": null,
            "visibility": null,
            "width": null
          }
        },
        "4205f7c044944fc585c2c9e2433e2518": {
          "model_module": "@jupyter-widgets/base",
          "model_name": "LayoutModel",
          "model_module_version": "1.2.0",
          "state": {
            "_model_module": "@jupyter-widgets/base",
            "_model_module_version": "1.2.0",
            "_model_name": "LayoutModel",
            "_view_count": null,
            "_view_module": "@jupyter-widgets/base",
            "_view_module_version": "1.2.0",
            "_view_name": "LayoutView",
            "align_content": null,
            "align_items": null,
            "align_self": null,
            "border": null,
            "bottom": null,
            "display": null,
            "flex": null,
            "flex_flow": null,
            "grid_area": null,
            "grid_auto_columns": null,
            "grid_auto_flow": null,
            "grid_auto_rows": null,
            "grid_column": null,
            "grid_gap": null,
            "grid_row": null,
            "grid_template_areas": null,
            "grid_template_columns": null,
            "grid_template_rows": null,
            "height": null,
            "justify_content": null,
            "justify_items": null,
            "left": null,
            "margin": null,
            "max_height": null,
            "max_width": null,
            "min_height": null,
            "min_width": null,
            "object_fit": null,
            "object_position": null,
            "order": null,
            "overflow": null,
            "overflow_x": null,
            "overflow_y": null,
            "padding": null,
            "right": null,
            "top": null,
            "visibility": null,
            "width": null
          }
        },
        "e58180250d7f4a41aaea0d1decaeb761": {
          "model_module": "@jupyter-widgets/controls",
          "model_name": "DescriptionStyleModel",
          "model_module_version": "1.5.0",
          "state": {
            "_model_module": "@jupyter-widgets/controls",
            "_model_module_version": "1.5.0",
            "_model_name": "DescriptionStyleModel",
            "_view_count": null,
            "_view_module": "@jupyter-widgets/base",
            "_view_module_version": "1.2.0",
            "_view_name": "StyleView",
            "description_width": ""
          }
        },
        "4524f76a52974e61ae806860009c7294": {
          "model_module": "@jupyter-widgets/base",
          "model_name": "LayoutModel",
          "model_module_version": "1.2.0",
          "state": {
            "_model_module": "@jupyter-widgets/base",
            "_model_module_version": "1.2.0",
            "_model_name": "LayoutModel",
            "_view_count": null,
            "_view_module": "@jupyter-widgets/base",
            "_view_module_version": "1.2.0",
            "_view_name": "LayoutView",
            "align_content": null,
            "align_items": null,
            "align_self": null,
            "border": null,
            "bottom": null,
            "display": null,
            "flex": null,
            "flex_flow": null,
            "grid_area": null,
            "grid_auto_columns": null,
            "grid_auto_flow": null,
            "grid_auto_rows": null,
            "grid_column": null,
            "grid_gap": null,
            "grid_row": null,
            "grid_template_areas": null,
            "grid_template_columns": null,
            "grid_template_rows": null,
            "height": null,
            "justify_content": null,
            "justify_items": null,
            "left": null,
            "margin": null,
            "max_height": null,
            "max_width": null,
            "min_height": null,
            "min_width": null,
            "object_fit": null,
            "object_position": null,
            "order": null,
            "overflow": null,
            "overflow_x": null,
            "overflow_y": null,
            "padding": null,
            "right": null,
            "top": null,
            "visibility": null,
            "width": null
          }
        },
        "aeb26171ea5749b5bfcaf7c7741198cc": {
          "model_module": "@jupyter-widgets/controls",
          "model_name": "ProgressStyleModel",
          "model_module_version": "1.5.0",
          "state": {
            "_model_module": "@jupyter-widgets/controls",
            "_model_module_version": "1.5.0",
            "_model_name": "ProgressStyleModel",
            "_view_count": null,
            "_view_module": "@jupyter-widgets/base",
            "_view_module_version": "1.2.0",
            "_view_name": "StyleView",
            "bar_color": null,
            "description_width": ""
          }
        },
        "0a14247a452c4d2886f41c3228dcbbcd": {
          "model_module": "@jupyter-widgets/base",
          "model_name": "LayoutModel",
          "model_module_version": "1.2.0",
          "state": {
            "_model_module": "@jupyter-widgets/base",
            "_model_module_version": "1.2.0",
            "_model_name": "LayoutModel",
            "_view_count": null,
            "_view_module": "@jupyter-widgets/base",
            "_view_module_version": "1.2.0",
            "_view_name": "LayoutView",
            "align_content": null,
            "align_items": null,
            "align_self": null,
            "border": null,
            "bottom": null,
            "display": null,
            "flex": null,
            "flex_flow": null,
            "grid_area": null,
            "grid_auto_columns": null,
            "grid_auto_flow": null,
            "grid_auto_rows": null,
            "grid_column": null,
            "grid_gap": null,
            "grid_row": null,
            "grid_template_areas": null,
            "grid_template_columns": null,
            "grid_template_rows": null,
            "height": null,
            "justify_content": null,
            "justify_items": null,
            "left": null,
            "margin": null,
            "max_height": null,
            "max_width": null,
            "min_height": null,
            "min_width": null,
            "object_fit": null,
            "object_position": null,
            "order": null,
            "overflow": null,
            "overflow_x": null,
            "overflow_y": null,
            "padding": null,
            "right": null,
            "top": null,
            "visibility": null,
            "width": null
          }
        },
        "6a88fed90c994bd692c89caf2027368b": {
          "model_module": "@jupyter-widgets/controls",
          "model_name": "DescriptionStyleModel",
          "model_module_version": "1.5.0",
          "state": {
            "_model_module": "@jupyter-widgets/controls",
            "_model_module_version": "1.5.0",
            "_model_name": "DescriptionStyleModel",
            "_view_count": null,
            "_view_module": "@jupyter-widgets/base",
            "_view_module_version": "1.2.0",
            "_view_name": "StyleView",
            "description_width": ""
          }
        },
        "bad37669bf974e309c0765e7cfe8a291": {
          "model_module": "@jupyter-widgets/controls",
          "model_name": "HBoxModel",
          "model_module_version": "1.5.0",
          "state": {
            "_dom_classes": [],
            "_model_module": "@jupyter-widgets/controls",
            "_model_module_version": "1.5.0",
            "_model_name": "HBoxModel",
            "_view_count": null,
            "_view_module": "@jupyter-widgets/controls",
            "_view_module_version": "1.5.0",
            "_view_name": "HBoxView",
            "box_style": "",
            "children": [
              "IPY_MODEL_e1c9ec8aa670458bbddabd823f45ca08",
              "IPY_MODEL_d1ecc1e15c1d4a7bb5ff2e704674d31c",
              "IPY_MODEL_8c40f617b8c847669d78f3e62553d539"
            ],
            "layout": "IPY_MODEL_8851ee741b8c497ca8adb8623ed818ee"
          }
        },
        "e1c9ec8aa670458bbddabd823f45ca08": {
          "model_module": "@jupyter-widgets/controls",
          "model_name": "HTMLModel",
          "model_module_version": "1.5.0",
          "state": {
            "_dom_classes": [],
            "_model_module": "@jupyter-widgets/controls",
            "_model_module_version": "1.5.0",
            "_model_name": "HTMLModel",
            "_view_count": null,
            "_view_module": "@jupyter-widgets/controls",
            "_view_module_version": "1.5.0",
            "_view_name": "HTMLView",
            "description": "",
            "description_tooltip": null,
            "layout": "IPY_MODEL_22871cf0569745aba1229d743bb1faf3",
            "placeholder": "​",
            "style": "IPY_MODEL_5bad7321c1694b14a432a156b1a13088",
            "value": "Generating test split: 100%"
          }
        },
        "d1ecc1e15c1d4a7bb5ff2e704674d31c": {
          "model_module": "@jupyter-widgets/controls",
          "model_name": "FloatProgressModel",
          "model_module_version": "1.5.0",
          "state": {
            "_dom_classes": [],
            "_model_module": "@jupyter-widgets/controls",
            "_model_module_version": "1.5.0",
            "_model_name": "FloatProgressModel",
            "_view_count": null,
            "_view_module": "@jupyter-widgets/controls",
            "_view_module_version": "1.5.0",
            "_view_name": "ProgressView",
            "bar_style": "success",
            "description": "",
            "description_tooltip": null,
            "layout": "IPY_MODEL_bb5286000ce74be99a6d126a252e54cf",
            "max": 856,
            "min": 0,
            "orientation": "horizontal",
            "style": "IPY_MODEL_094da1028a974ff98a728b47a2f935d0",
            "value": 856
          }
        },
        "8c40f617b8c847669d78f3e62553d539": {
          "model_module": "@jupyter-widgets/controls",
          "model_name": "HTMLModel",
          "model_module_version": "1.5.0",
          "state": {
            "_dom_classes": [],
            "_model_module": "@jupyter-widgets/controls",
            "_model_module_version": "1.5.0",
            "_model_name": "HTMLModel",
            "_view_count": null,
            "_view_module": "@jupyter-widgets/controls",
            "_view_module_version": "1.5.0",
            "_view_name": "HTMLView",
            "description": "",
            "description_tooltip": null,
            "layout": "IPY_MODEL_3ee5a7b931ef4fa1b4c77069f119dfcb",
            "placeholder": "​",
            "style": "IPY_MODEL_3343bbf06fe6407b9b53b354ae278cbe",
            "value": " 856/856 [00:00&lt;00:00, 15713.20 examples/s]"
          }
        },
        "8851ee741b8c497ca8adb8623ed818ee": {
          "model_module": "@jupyter-widgets/base",
          "model_name": "LayoutModel",
          "model_module_version": "1.2.0",
          "state": {
            "_model_module": "@jupyter-widgets/base",
            "_model_module_version": "1.2.0",
            "_model_name": "LayoutModel",
            "_view_count": null,
            "_view_module": "@jupyter-widgets/base",
            "_view_module_version": "1.2.0",
            "_view_name": "LayoutView",
            "align_content": null,
            "align_items": null,
            "align_self": null,
            "border": null,
            "bottom": null,
            "display": null,
            "flex": null,
            "flex_flow": null,
            "grid_area": null,
            "grid_auto_columns": null,
            "grid_auto_flow": null,
            "grid_auto_rows": null,
            "grid_column": null,
            "grid_gap": null,
            "grid_row": null,
            "grid_template_areas": null,
            "grid_template_columns": null,
            "grid_template_rows": null,
            "height": null,
            "justify_content": null,
            "justify_items": null,
            "left": null,
            "margin": null,
            "max_height": null,
            "max_width": null,
            "min_height": null,
            "min_width": null,
            "object_fit": null,
            "object_position": null,
            "order": null,
            "overflow": null,
            "overflow_x": null,
            "overflow_y": null,
            "padding": null,
            "right": null,
            "top": null,
            "visibility": null,
            "width": null
          }
        },
        "22871cf0569745aba1229d743bb1faf3": {
          "model_module": "@jupyter-widgets/base",
          "model_name": "LayoutModel",
          "model_module_version": "1.2.0",
          "state": {
            "_model_module": "@jupyter-widgets/base",
            "_model_module_version": "1.2.0",
            "_model_name": "LayoutModel",
            "_view_count": null,
            "_view_module": "@jupyter-widgets/base",
            "_view_module_version": "1.2.0",
            "_view_name": "LayoutView",
            "align_content": null,
            "align_items": null,
            "align_self": null,
            "border": null,
            "bottom": null,
            "display": null,
            "flex": null,
            "flex_flow": null,
            "grid_area": null,
            "grid_auto_columns": null,
            "grid_auto_flow": null,
            "grid_auto_rows": null,
            "grid_column": null,
            "grid_gap": null,
            "grid_row": null,
            "grid_template_areas": null,
            "grid_template_columns": null,
            "grid_template_rows": null,
            "height": null,
            "justify_content": null,
            "justify_items": null,
            "left": null,
            "margin": null,
            "max_height": null,
            "max_width": null,
            "min_height": null,
            "min_width": null,
            "object_fit": null,
            "object_position": null,
            "order": null,
            "overflow": null,
            "overflow_x": null,
            "overflow_y": null,
            "padding": null,
            "right": null,
            "top": null,
            "visibility": null,
            "width": null
          }
        },
        "5bad7321c1694b14a432a156b1a13088": {
          "model_module": "@jupyter-widgets/controls",
          "model_name": "DescriptionStyleModel",
          "model_module_version": "1.5.0",
          "state": {
            "_model_module": "@jupyter-widgets/controls",
            "_model_module_version": "1.5.0",
            "_model_name": "DescriptionStyleModel",
            "_view_count": null,
            "_view_module": "@jupyter-widgets/base",
            "_view_module_version": "1.2.0",
            "_view_name": "StyleView",
            "description_width": ""
          }
        },
        "bb5286000ce74be99a6d126a252e54cf": {
          "model_module": "@jupyter-widgets/base",
          "model_name": "LayoutModel",
          "model_module_version": "1.2.0",
          "state": {
            "_model_module": "@jupyter-widgets/base",
            "_model_module_version": "1.2.0",
            "_model_name": "LayoutModel",
            "_view_count": null,
            "_view_module": "@jupyter-widgets/base",
            "_view_module_version": "1.2.0",
            "_view_name": "LayoutView",
            "align_content": null,
            "align_items": null,
            "align_self": null,
            "border": null,
            "bottom": null,
            "display": null,
            "flex": null,
            "flex_flow": null,
            "grid_area": null,
            "grid_auto_columns": null,
            "grid_auto_flow": null,
            "grid_auto_rows": null,
            "grid_column": null,
            "grid_gap": null,
            "grid_row": null,
            "grid_template_areas": null,
            "grid_template_columns": null,
            "grid_template_rows": null,
            "height": null,
            "justify_content": null,
            "justify_items": null,
            "left": null,
            "margin": null,
            "max_height": null,
            "max_width": null,
            "min_height": null,
            "min_width": null,
            "object_fit": null,
            "object_position": null,
            "order": null,
            "overflow": null,
            "overflow_x": null,
            "overflow_y": null,
            "padding": null,
            "right": null,
            "top": null,
            "visibility": null,
            "width": null
          }
        },
        "094da1028a974ff98a728b47a2f935d0": {
          "model_module": "@jupyter-widgets/controls",
          "model_name": "ProgressStyleModel",
          "model_module_version": "1.5.0",
          "state": {
            "_model_module": "@jupyter-widgets/controls",
            "_model_module_version": "1.5.0",
            "_model_name": "ProgressStyleModel",
            "_view_count": null,
            "_view_module": "@jupyter-widgets/base",
            "_view_module_version": "1.2.0",
            "_view_name": "StyleView",
            "bar_color": null,
            "description_width": ""
          }
        },
        "3ee5a7b931ef4fa1b4c77069f119dfcb": {
          "model_module": "@jupyter-widgets/base",
          "model_name": "LayoutModel",
          "model_module_version": "1.2.0",
          "state": {
            "_model_module": "@jupyter-widgets/base",
            "_model_module_version": "1.2.0",
            "_model_name": "LayoutModel",
            "_view_count": null,
            "_view_module": "@jupyter-widgets/base",
            "_view_module_version": "1.2.0",
            "_view_name": "LayoutView",
            "align_content": null,
            "align_items": null,
            "align_self": null,
            "border": null,
            "bottom": null,
            "display": null,
            "flex": null,
            "flex_flow": null,
            "grid_area": null,
            "grid_auto_columns": null,
            "grid_auto_flow": null,
            "grid_auto_rows": null,
            "grid_column": null,
            "grid_gap": null,
            "grid_row": null,
            "grid_template_areas": null,
            "grid_template_columns": null,
            "grid_template_rows": null,
            "height": null,
            "justify_content": null,
            "justify_items": null,
            "left": null,
            "margin": null,
            "max_height": null,
            "max_width": null,
            "min_height": null,
            "min_width": null,
            "object_fit": null,
            "object_position": null,
            "order": null,
            "overflow": null,
            "overflow_x": null,
            "overflow_y": null,
            "padding": null,
            "right": null,
            "top": null,
            "visibility": null,
            "width": null
          }
        },
        "3343bbf06fe6407b9b53b354ae278cbe": {
          "model_module": "@jupyter-widgets/controls",
          "model_name": "DescriptionStyleModel",
          "model_module_version": "1.5.0",
          "state": {
            "_model_module": "@jupyter-widgets/controls",
            "_model_module_version": "1.5.0",
            "_model_name": "DescriptionStyleModel",
            "_view_count": null,
            "_view_module": "@jupyter-widgets/base",
            "_view_module_version": "1.2.0",
            "_view_name": "StyleView",
            "description_width": ""
          }
        }
      }
    },
    "accelerator": "GPU"
  },
  "cells": [
    {
      "cell_type": "markdown",
      "source": [
        "# Hugging Face Course Part 1: Project\n",
        "\n",
        "**Author**: Matthew Kehoe <br>\n",
        "**Start date**: July 1, 2024 <br>\n",
        "**Last modification date**: July 1, 2024 <br>\n",
        "**Description:** After completing the first part of the [Hugging Face course](https://huggingface.co/course/chapter1/1) students are encourage to fine-tune a pretrained model on a text classification problem. In this notebook I am doing that. Since this is my first project with Hugging Face, I will mainly follow the concepts taught in the course.<br>\n",
        "**Analsyis:** Specifically, I will use the `awesome-japanese-nlp-classification-dataset` (identifies whether a GitHub repository description pertains to Japanese natural language processing for labels categorized as relevant (1) and not relevant (0)) to fine-tune a `bert-based` model. The `taishi-i/awesome-japanese-nlp-classification-model`is the baseline model for the `awesome-japanese-nlp-classification-dataset`. It was trained on this dataset, saved using the development data, and evaluated using the test data."
      ],
      "metadata": {
        "id": "-bLLeDVg7C7d"
      }
    },
    {
      "cell_type": "markdown",
      "source": [
        "# Part 1: Selecting the dataset and model\n",
        "My idea is to fine-tune a model for a text classification problem, since this is what was shown in the first part of the course. I will also share it in the HuggingFace Hub. I took two years of Japanese language courses in college."
      ],
      "metadata": {
        "id": "0c-J8MCM8jI7"
      }
    },
    {
      "cell_type": "markdown",
      "source": [
        "## 1.1. Dataset Selection\n",
        "After logging in to the main [Huggging Face website](https://huggingface.co/), on Datasets I filter by:\n",
        "\n",
        "\n",
        "\n",
        "1.   Tasks Categories: `text-classification`\n",
        "2.   Languages: `Japanese`\n",
        "\n",
        "I then choose the `taishi-i/awesome-japanese-nlp-classification-dataset`.\n",
        "\n",
        "**Dataset Summary (from the Dataset card):**\n",
        "This dataset identifies whether a GitHub repository description pertains to Japanese natural language processing (NLP). The labels are categorized as \"Relevant (1)\" and \"Not Relevant (0)\".\n",
        "\n",
        "Problem Setting:\n",
        "\n",
        "- Training Data: Repository descriptions from before 2022\n",
        "- Test Data: Repository descriptions from 2023\n",
        "- Objective: To detect repositories related to Japanese NLP\n",
        "\n",
        "Data Collection:\n",
        "\n",
        "- Positive Examples: Repositories listed in \"awesome-japanese-nlp-resources\" as of September 9, 2023\n",
        "- Negative Examples: Collected from the GitHub API and visually confirmed\n",
        "- Note: The annotation process is subjective\n",
        "\n",
        "Dataset Features:\n",
        "\n",
        "- Subjective labeling\n",
        "- Mixed English and Japanese descriptions\n",
        "- Imbalanced label distribution\n"
      ],
      "metadata": {
        "id": "MbfhNZwuEdhW"
      }
    },
    {
      "cell_type": "markdown",
      "source": [
        "## 1.2. Model Selection\n",
        "Now on the tab \"Models\":\n",
        "\n",
        "\n",
        "1.   Tasks: `Text Classification`\n",
        "2.   Model:\n",
        "`taishi-i/awesome-japanese-nlp-classification-model`\n",
        "\n",
        "This is the default model to test. I will later analyze transfer learning through using this as a pretrained model.\n",
        "\n",
        "**Model summary (taken from the Model card):**<br>\n",
        "This model is the baseline model for `awesome-japanese-nlp-classification-dataset`. It was trained on this dataset, saved using the development data, and evaluated using the test data. The following table shows the evaluation results."
      ],
      "metadata": {
        "id": "fSDZVRJXGKx4"
      }
    },
    {
      "cell_type": "markdown",
      "source": [
        "![image.png](data:image/png;base64,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)"
      ],
      "metadata": {
        "id": "EXd_5lm9LKgg"
      }
    },
    {
      "cell_type": "markdown",
      "source": [
        "With the model and dataset selected, we can start the task, let's install the Transformers and Datasets libraries to run this notebook."
      ],
      "metadata": {
        "id": "ndh_7sqNm1My"
      }
    },
    {
      "cell_type": "code",
      "execution_count": 1,
      "metadata": {
        "id": "OwTjqoti6yKf"
      },
      "outputs": [],
      "source": [
        "%%capture\n",
        "!pip install datasets transformers[sentencepiece]"
      ]
    },
    {
      "cell_type": "markdown",
      "source": [
        "# Part 2: Loading and Exploring the data\n",
        "This part corresponds to the first part of [chapter 3](https://huggingface.co/course/chapter3/2?fw=tf) of the HF 🤗 course. I will first load the data and then do some basic exploratory data analysis."
      ],
      "metadata": {
        "id": "opAHPAUiny67"
      }
    },
    {
      "cell_type": "markdown",
      "source": [
        "## 2.1 Load the data\n",
        "\n",
        "I am using the Datasets library to download and cache the Japanse NLP classification dataset."
      ],
      "metadata": {
        "id": "FRoiI8PfolQH"
      }
    },
    {
      "cell_type": "code",
      "source": [
        "from datasets import load_dataset\n",
        "\n",
        "raw_dataset = load_dataset(\"taishi-i/awesome-japanese-nlp-classification-dataset\")"
      ],
      "metadata": {
        "colab": {
          "base_uri": "https://localhost:8080/",
          "height": 336,
          "referenced_widgets": [
            "10d0834190754bb9b14daeee9a980d4d",
            "eefd981fc89240d58168e9911830daf4",
            "313f1be158d149daa584e6180ff3cdfc",
            "3631b2cc888c4da2a3f57a1ef10edf46",
            "4714413f3e6647dfaa785db052e33b39",
            "61315893ad44414987b03d700dfb80b3",
            "c9f47ee105e040818660d0d5da46461c",
            "27c38b835172481bbf7e28f11f65361a",
            "c955504cd5f141cd9cf339b0ed3b4307",
            "e43240cf761e47428b9d147d6599198e",
            "8b1be2d094454ae5abe8768139b9ff74",
            "4ce6ee47306047f392f6691b7a58200e",
            "78dd281055a642a4abd471e28d45470e",
            "3722f6e0d40447f29eb7fed9081cf855",
            "523b9793e82c4d3ca557ed7c4ae0f00c",
            "b53388b2654242989a5dad87c22ff7b2",
            "82e386a4e62644848d9f71a8492bdceb",
            "6a2abc167c7247d1bb7fab472345ae04",
            "9d908e46f71f4432bc1991db85eceb65",
            "4fc9aab36ab945cdb9d6fd9ad559274d",
            "660009cab7a847b4b4e15b0f68f4bfdf",
            "552e9102329746a2949865c444ef1c3c",
            "8464440bf11841d7a22173da7b3c43e9",
            "43c85e1a25404dc79e9b486d5c3fad2a",
            "1f4329c0796e49a6b7f71a0d49b33ecf",
            "a5284176721b40fbb9f4f1308ca1b5aa",
            "111dd94a2ddc495596f880445e997cab",
            "63a49a3f0b9043e786b5fce267b2ef23",
            "5282178e230e4bde83567030a876378e",
            "7a378b2b4e034b3a9eef3467b0301674",
            "5f8cbdb6bf5c4ad8858c8792a0b98369",
            "4b391d250f4246379b1449526e983b9c",
            "0d40243e94ce4b829feb686efa6797b4",
            "27ecc3f9c9fe4567b93dc5c41252265c",
            "54fecaaa05ec42ceb00956cc46f6adca",
            "35bdc9be19a847d9985091167f861bc5",
            "8b3d14a01b8d44c79a3920c2d70ba59d",
            "800dd3a3da6f4a90859f182e5bf396a3",
            "da1a4e2f6777454c8657b3609df17ec8",
            "69c8b34aedb14257860cd59fe27029bc",
            "ad95089b3d0c48f4a5cd49f8f474d023",
            "50e8ac282b4f4248810abc0c2a15985a",
            "f6686d3a2ed4430e87d67c5e6e95efeb",
            "fa0aff01fe294f09ac8ddc9cc8249a25",
            "a42077c346ea43ab84e093fab96c9982",
            "868446d321e24b8a81b772d76bfc7be5",
            "745bf187d5eb48a1a49ac071e0704065",
            "7f34b9981fe349e0b9d8ec5acd1d86a4",
            "ae52b87bb81348ffbfce8c0716d0f601",
            "4205f7c044944fc585c2c9e2433e2518",
            "e58180250d7f4a41aaea0d1decaeb761",
            "4524f76a52974e61ae806860009c7294",
            "aeb26171ea5749b5bfcaf7c7741198cc",
            "0a14247a452c4d2886f41c3228dcbbcd",
            "6a88fed90c994bd692c89caf2027368b",
            "bad37669bf974e309c0765e7cfe8a291",
            "e1c9ec8aa670458bbddabd823f45ca08",
            "d1ecc1e15c1d4a7bb5ff2e704674d31c",
            "8c40f617b8c847669d78f3e62553d539",
            "8851ee741b8c497ca8adb8623ed818ee",
            "22871cf0569745aba1229d743bb1faf3",
            "5bad7321c1694b14a432a156b1a13088",
            "bb5286000ce74be99a6d126a252e54cf",
            "094da1028a974ff98a728b47a2f935d0",
            "3ee5a7b931ef4fa1b4c77069f119dfcb",
            "3343bbf06fe6407b9b53b354ae278cbe"
          ]
        },
        "id": "MHtVBPtJnc6X",
        "outputId": "aa6be725-803a-4910-ab1f-c6520118a6e4"
      },
      "execution_count": 2,
      "outputs": [
        {
          "output_type": "stream",
          "name": "stderr",
          "text": [
            "/usr/local/lib/python3.10/dist-packages/huggingface_hub/utils/_token.py:89: UserWarning: \n",
            "The secret `HF_TOKEN` does not exist in your Colab secrets.\n",
            "To authenticate with the Hugging Face Hub, create a token in your settings tab (https://huggingface.co/settings/tokens), set it as secret in your Google Colab and restart your session.\n",
            "You will be able to reuse this secret in all of your notebooks.\n",
            "Please note that authentication is recommended but still optional to access public models or datasets.\n",
            "  warnings.warn(\n"
          ]
        },
        {
          "output_type": "display_data",
          "data": {
            "text/plain": [
              "Downloading data:   0%|          | 0.00/459k [00:00<?, ?B/s]"
            ],
            "application/vnd.jupyter.widget-view+json": {
              "version_major": 2,
              "version_minor": 0,
              "model_id": "10d0834190754bb9b14daeee9a980d4d"
            }
          },
          "metadata": {}
        },
        {
          "output_type": "display_data",
          "data": {
            "text/plain": [
              "Downloading data:   0%|          | 0.00/41.9k [00:00<?, ?B/s]"
            ],
            "application/vnd.jupyter.widget-view+json": {
              "version_major": 2,
              "version_minor": 0,
              "model_id": "4ce6ee47306047f392f6691b7a58200e"
            }
          },
          "metadata": {}
        },
        {
          "output_type": "display_data",
          "data": {
            "text/plain": [
              "Downloading data:   0%|          | 0.00/76.8k [00:00<?, ?B/s]"
            ],
            "application/vnd.jupyter.widget-view+json": {
              "version_major": 2,
              "version_minor": 0,
              "model_id": "8464440bf11841d7a22173da7b3c43e9"
            }
          },
          "metadata": {}
        },
        {
          "output_type": "display_data",
          "data": {
            "text/plain": [
              "Generating train split:   0%|          | 0/5496 [00:00<?, ? examples/s]"
            ],
            "application/vnd.jupyter.widget-view+json": {
              "version_major": 2,
              "version_minor": 0,
              "model_id": "27ecc3f9c9fe4567b93dc5c41252265c"
            }
          },
          "metadata": {}
        },
        {
          "output_type": "display_data",
          "data": {
            "text/plain": [
              "Generating validation split:   0%|          | 0/400 [00:00<?, ? examples/s]"
            ],
            "application/vnd.jupyter.widget-view+json": {
              "version_major": 2,
              "version_minor": 0,
              "model_id": "a42077c346ea43ab84e093fab96c9982"
            }
          },
          "metadata": {}
        },
        {
          "output_type": "display_data",
          "data": {
            "text/plain": [
              "Generating test split:   0%|          | 0/856 [00:00<?, ? examples/s]"
            ],
            "application/vnd.jupyter.widget-view+json": {
              "version_major": 2,
              "version_minor": 0,
              "model_id": "bad37669bf974e309c0765e7cfe8a291"
            }
          },
          "metadata": {}
        }
      ]
    },
    {
      "cell_type": "markdown",
      "source": [
        "## 2.2 Explore the data\n",
        "In this part, I will do a brief exploratory data analysis to understand the dataset before preparing it for the model"
      ],
      "metadata": {
        "id": "VKQFCBNUqPBc"
      }
    },
    {
      "cell_type": "code",
      "source": [
        "# See the raw_data\n",
        "raw_dataset"
      ],
      "metadata": {
        "colab": {
          "base_uri": "https://localhost:8080/"
        },
        "id": "eh7yr5wipeSN",
        "outputId": "5935b106-c129-4da1-907f-5b07e0a6a9b2"
      },
      "execution_count": 3,
      "outputs": [
        {
          "output_type": "execute_result",
          "data": {
            "text/plain": [
              "DatasetDict({\n",
              "    train: Dataset({\n",
              "        features: ['label', 'text', 'url', 'created_at'],\n",
              "        num_rows: 5496\n",
              "    })\n",
              "    validation: Dataset({\n",
              "        features: ['label', 'text', 'url', 'created_at'],\n",
              "        num_rows: 400\n",
              "    })\n",
              "    test: Dataset({\n",
              "        features: ['label', 'text', 'url', 'created_at'],\n",
              "        num_rows: 856\n",
              "    })\n",
              "})"
            ]
          },
          "metadata": {},
          "execution_count": 3
        }
      ]
    },
    {
      "cell_type": "markdown",
      "source": [
        "As we can see, this dataset has no splits and each sample contains the columns: `label`, `text`, `url`, and `created_at`. There are 6,752 Github repository descriptions in total. Let's see one of the items as an example:"
      ],
      "metadata": {
        "id": "76CppEHnqlKQ"
      }
    },
    {
      "cell_type": "code",
      "source": [
        "# Import pprint to better formatting\n",
        "import pprint\n",
        "# Number of example to print\n",
        "num_sample = 23 # change it to see other samples\n",
        "# Explore one item\n",
        "pprint.pprint(raw_dataset[\"train\"][num_sample])"
      ],
      "metadata": {
        "colab": {
          "base_uri": "https://localhost:8080/"
        },
        "id": "F9b2iDjFtvEY",
        "outputId": "85b2d05b-6ec3-48be-9a5f-8e6352b5c0be"
      },
      "execution_count": 4,
      "outputs": [
        {
          "output_type": "stream",
          "name": "stdout",
          "text": [
            "{'created_at': '2009-05-05T09:43:50Z',\n",
            " 'label': 0,\n",
            " 'text': 'Bayesian Modeling in Python',\n",
            " 'url': 'https://github.com/pymc-devs/pymc'}\n"
          ]
        }
      ]
    },
    {
      "cell_type": "markdown",
      "source": [
        "We can also inspect the characteristics of the features and check the data type of the columns."
      ],
      "metadata": {
        "id": "MHrOc4GjtEHK"
      }
    },
    {
      "cell_type": "code",
      "source": [
        "# Explore the features\n",
        "raw_dataset[\"train\"].features"
      ],
      "metadata": {
        "colab": {
          "base_uri": "https://localhost:8080/"
        },
        "id": "PHiXFSw5qiFR",
        "outputId": "be84c0cd-bd77-411c-97e6-16ad3930c34a"
      },
      "execution_count": 5,
      "outputs": [
        {
          "output_type": "execute_result",
          "data": {
            "text/plain": [
              "{'label': ClassLabel(names=['0', '1'], id=None),\n",
              " 'text': Value(dtype='string', id=None),\n",
              " 'url': Value(dtype='string', id=None),\n",
              " 'created_at': Value(dtype='string', id=None)}"
            ]
          },
          "metadata": {},
          "execution_count": 5
        }
      ]
    },
    {
      "cell_type": "markdown",
      "source": [
        "Now, I want to understand the balance of the classes: How many Github repos contain Japanese language for NLP and how many do not?"
      ],
      "metadata": {
        "id": "p1-AFltWuHbj"
      }
    },
    {
      "cell_type": "code",
      "source": [
        "import operator\n",
        "import pandas as pd\n",
        "\n",
        "# Create dataframe\n",
        "reviews_df = pd.DataFrame()\n",
        "\n",
        "# Explore the reviews: Assing number of reviews to each column\n",
        "for i in range(2):\n",
        "  reviews_df.loc[0, i] = operator.countOf(raw_dataset[\"train\"][\"label\"], i)\n",
        "\n",
        "print(reviews_df)\n",
        "reviews_df.plot.bar()"
      ],
      "metadata": {
        "colab": {
          "base_uri": "https://localhost:8080/",
          "height": 498
        },
        "id": "F6tJTGmmq-iz",
        "outputId": "2c237104-8d90-42f7-ee16-2328bdde536e"
      },
      "execution_count": 6,
      "outputs": [
        {
          "output_type": "stream",
          "name": "stdout",
          "text": [
            "        0      1\n",
            "0  5089.0  407.0\n"
          ]
        },
        {
          "output_type": "execute_result",
          "data": {
            "text/plain": [
              "<Axes: >"
            ]
          },
          "metadata": {},
          "execution_count": 6
        },
        {
          "output_type": "display_data",
          "data": {
            "text/plain": [
              "<Figure size 640x480 with 1 Axes>"
            ],
            "image/png": "[encoded data removed]"
          },
          "metadata": {}
        }
      ]
    },
    {
      "cell_type": "markdown",
      "source": [
        "Clearly, most of the Github repositories don't contain Japanese language in their description (which makes sense). Let's continue analyzing."
      ],
      "metadata": {
        "id": "T8wdd5r3ujJx"
      }
    },
    {
      "cell_type": "markdown",
      "source": [
        "Next, I will create a Dataframe of the dataset to take some statistics, such as:\n",
        "\n",
        "*   General statistics about the features\n",
        "*   The maximum, minimum and average number of characters that can be found in a `text`\n",
        "*   The maximum, minimum and average number of characters that can be found in a `url`\n",
        "\n",
        "This information could be useful when deciding how to training the model.\n",
        "\n"
      ],
      "metadata": {
        "id": "82Fq16t3wU-2"
      }
    },
    {
      "cell_type": "code",
      "source": [
        "# Create the dataframe\n",
        "df = pd.DataFrame(data=raw_dataset[\"train\"], columns=raw_dataset[\"train\"].features.keys())\n",
        "df.head()"
      ],
      "metadata": {
        "colab": {
          "base_uri": "https://localhost:8080/",
          "height": 226
        },
        "id": "FmoloxMk8khm",
        "outputId": "97450f50-1c49-4ddd-c5b5-e8c003e6f761"
      },
      "execution_count": 22,
      "outputs": [
        {
          "output_type": "execute_result",
          "data": {
            "text/plain": [
              "   label                                               text  \\\n",
              "0      0  HTML Abstraction Markup Language - A Markup Haiku   \n",
              "1      0                                      Ruby on Rails   \n",
              "2      0  Git Source Code Mirror - This is a publish-onl...   \n",
              "3      0  Repository for collecting Locale data for Ruby...   \n",
              "4      0  Classier solution for file uploads for Rails, ...   \n",
              "\n",
              "                                                 url            created_at  \n",
              "0                       https://github.com/haml/haml  2008-02-11T22:55:26Z  \n",
              "1                     https://github.com/rails/rails  2008-04-11T02:19:47Z  \n",
              "2                         https://github.com/git/git  2008-07-23T14:21:26Z  \n",
              "3            https://github.com/svenfuchs/rails-i18n  2008-07-31T13:07:53Z  \n",
              "4  https://github.com/carrierwaveuploader/carrier...  2008-08-28T18:39:49Z  "
            ],
            "text/html": [
              "\n",
              "  <div id=\"df-68d882b6-30d3-4a83-9bf0-f545ceeed879\" class=\"colab-df-container\">\n",
              "    <div>\n",
              "<style scoped>\n",
              "    .dataframe tbody tr th:only-of-type {\n",
              "        vertical-align: middle;\n",
              "    }\n",
              "\n",
              "    .dataframe tbody tr th {\n",
              "        vertical-align: top;\n",
              "    }\n",
              "\n",
              "    .dataframe thead th {\n",
              "        text-align: right;\n",
              "    }\n",
              "</style>\n",
              "<table border=\"1\" class=\"dataframe\">\n",
              "  <thead>\n",
              "    <tr style=\"text-align: right;\">\n",
              "      <th></th>\n",
              "      <th>label</th>\n",
              "      <th>text</th>\n",
              "      <th>url</th>\n",
              "      <th>created_at</th>\n",
              "    </tr>\n",
              "  </thead>\n",
              "  <tbody>\n",
              "    <tr>\n",
              "      <th>0</th>\n",
              "      <td>0</td>\n",
              "      <td>HTML Abstraction Markup Language - A Markup Haiku</td>\n",
              "      <td>https://github.com/haml/haml</td>\n",
              "      <td>2008-02-11T22:55:26Z</td>\n",
              "    </tr>\n",
              "    <tr>\n",
              "      <th>1</th>\n",
              "      <td>0</td>\n",
              "      <td>Ruby on Rails</td>\n",
              "      <td>https://github.com/rails/rails</td>\n",
              "      <td>2008-04-11T02:19:47Z</td>\n",
              "    </tr>\n",
              "    <tr>\n",
              "      <th>2</th>\n",
              "      <td>0</td>\n",
              "      <td>Git Source Code Mirror - This is a publish-onl...</td>\n",
              "      <td>https://github.com/git/git</td>\n",
              "      <td>2008-07-23T14:21:26Z</td>\n",
              "    </tr>\n",
              "    <tr>\n",
              "      <th>3</th>\n",
              "      <td>0</td>\n",
              "      <td>Repository for collecting Locale data for Ruby...</td>\n",
              "      <td>https://github.com/svenfuchs/rails-i18n</td>\n",
              "      <td>2008-07-31T13:07:53Z</td>\n",
              "    </tr>\n",
              "    <tr>\n",
              "      <th>4</th>\n",
              "      <td>0</td>\n",
              "      <td>Classier solution for file uploads for Rails, ...</td>\n",
              "      <td>https://github.com/carrierwaveuploader/carrier...</td>\n",
              "      <td>2008-08-28T18:39:49Z</td>\n",
              "    </tr>\n",
              "  </tbody>\n",
              "</table>\n",
              "</div>\n",
              "    <div class=\"colab-df-buttons\">\n",
              "\n",
              "  <div class=\"colab-df-container\">\n",
              "    <button class=\"colab-df-convert\" onclick=\"convertToInteractive('df-68d882b6-30d3-4a83-9bf0-f545ceeed879')\"\n",
              "            title=\"Convert this dataframe to an interactive table.\"\n",
              "            style=\"display:none;\">\n",
              "\n",
              "  <svg xmlns=\"http://www.w3.org/2000/svg\" height=\"24px\" viewBox=\"0 -960 960 960\">\n",
              "    <path d=\"M120-120v-720h720v720H120Zm60-500h600v-160H180v160Zm220 220h160v-160H400v160Zm0 220h160v-160H400v160ZM180-400h160v-160H180v160Zm440 0h160v-160H620v160ZM180-180h160v-160H180v160Zm440 0h160v-160H620v160Z\"/>\n",
              "  </svg>\n",
              "    </button>\n",
              "\n",
              "  <style>\n",
              "    .colab-df-container {\n",
              "      display:flex;\n",
              "      gap: 12px;\n",
              "    }\n",
              "\n",
              "    .colab-df-convert {\n",
              "      background-color: #E8F0FE;\n",
              "      border: none;\n",
              "      border-radius: 50%;\n",
              "      cursor: pointer;\n",
              "      display: none;\n",
              "      fill: #1967D2;\n",
              "      height: 32px;\n",
              "      padding: 0 0 0 0;\n",
              "      width: 32px;\n",
              "    }\n",
              "\n",
              "    .colab-df-convert:hover {\n",
              "      background-color: #E2EBFA;\n",
              "      box-shadow: 0px 1px 2px rgba(60, 64, 67, 0.3), 0px 1px 3px 1px rgba(60, 64, 67, 0.15);\n",
              "      fill: #174EA6;\n",
              "    }\n",
              "\n",
              "    .colab-df-buttons div {\n",
              "      margin-bottom: 4px;\n",
              "    }\n",
              "\n",
              "    [theme=dark] .colab-df-convert {\n",
              "      background-color: #3B4455;\n",
              "      fill: #D2E3FC;\n",
              "    }\n",
              "\n",
              "    [theme=dark] .colab-df-convert:hover {\n",
              "      background-color: #434B5C;\n",
              "      box-shadow: 0px 1px 3px 1px rgba(0, 0, 0, 0.15);\n",
              "      filter: drop-shadow(0px 1px 2px rgba(0, 0, 0, 0.3));\n",
              "      fill: #FFFFFF;\n",
              "    }\n",
              "  </style>\n",
              "\n",
              "    <script>\n",
              "      const buttonEl =\n",
              "        document.querySelector('#df-68d882b6-30d3-4a83-9bf0-f545ceeed879 button.colab-df-convert');\n",
              "      buttonEl.style.display =\n",
              "        google.colab.kernel.accessAllowed ? 'block' : 'none';\n",
              "\n",
              "      async function convertToInteractive(key) {\n",
              "        const element = document.querySelector('#df-68d882b6-30d3-4a83-9bf0-f545ceeed879');\n",
              "        const dataTable =\n",
              "          await google.colab.kernel.invokeFunction('convertToInteractive',\n",
              "                                                    [key], {});\n",
              "        if (!dataTable) return;\n",
              "\n",
              "        const docLinkHtml = 'Like what you see? Visit the ' +\n",
              "          '<a target=\"_blank\" href=https://colab.research.google.com/notebooks/data_table.ipynb>data table notebook</a>'\n",
              "          + ' to learn more about interactive tables.';\n",
              "        element.innerHTML = '';\n",
              "        dataTable['output_type'] = 'display_data';\n",
              "        await google.colab.output.renderOutput(dataTable, element);\n",
              "        const docLink = document.createElement('div');\n",
              "        docLink.innerHTML = docLinkHtml;\n",
              "        element.appendChild(docLink);\n",
              "      }\n",
              "    </script>\n",
              "  </div>\n",
              "\n",
              "\n",
              "<div id=\"df-3bc7dea1-3fd7-41be-bd1e-76cbc2f0f020\">\n",
              "  <button class=\"colab-df-quickchart\" onclick=\"quickchart('df-3bc7dea1-3fd7-41be-bd1e-76cbc2f0f020')\"\n",
              "            title=\"Suggest charts\"\n",
              "            style=\"display:none;\">\n",
              "\n",
              "<svg xmlns=\"http://www.w3.org/2000/svg\" height=\"24px\"viewBox=\"0 0 24 24\"\n",
              "     width=\"24px\">\n",
              "    <g>\n",
              "        <path d=\"M19 3H5c-1.1 0-2 .9-2 2v14c0 1.1.9 2 2 2h14c1.1 0 2-.9 2-2V5c0-1.1-.9-2-2-2zM9 17H7v-7h2v7zm4 0h-2V7h2v10zm4 0h-2v-4h2v4z\"/>\n",
              "    </g>\n",
              "</svg>\n",
              "  </button>\n",
              "\n",
              "<style>\n",
              "  .colab-df-quickchart {\n",
              "      --bg-color: #E8F0FE;\n",
              "      --fill-color: #1967D2;\n",
              "      --hover-bg-color: #E2EBFA;\n",
              "      --hover-fill-color: #174EA6;\n",
              "      --disabled-fill-color: #AAA;\n",
              "      --disabled-bg-color: #DDD;\n",
              "  }\n",
              "\n",
              "  [theme=dark] .colab-df-quickchart {\n",
              "      --bg-color: #3B4455;\n",
              "      --fill-color: #D2E3FC;\n",
              "      --hover-bg-color: #434B5C;\n",
              "      --hover-fill-color: #FFFFFF;\n",
              "      --disabled-bg-color: #3B4455;\n",
              "      --disabled-fill-color: #666;\n",
              "  }\n",
              "\n",
              "  .colab-df-quickchart {\n",
              "    background-color: var(--bg-color);\n",
              "    border: none;\n",
              "    border-radius: 50%;\n",
              "    cursor: pointer;\n",
              "    display: none;\n",
              "    fill: var(--fill-color);\n",
              "    height: 32px;\n",
              "    padding: 0;\n",
              "    width: 32px;\n",
              "  }\n",
              "\n",
              "  .colab-df-quickchart:hover {\n",
              "    background-color: var(--hover-bg-color);\n",
              "    box-shadow: 0 1px 2px rgba(60, 64, 67, 0.3), 0 1px 3px 1px rgba(60, 64, 67, 0.15);\n",
              "    fill: var(--button-hover-fill-color);\n",
              "  }\n",
              "\n",
              "  .colab-df-quickchart-complete:disabled,\n",
              "  .colab-df-quickchart-complete:disabled:hover {\n",
              "    background-color: var(--disabled-bg-color);\n",
              "    fill: var(--disabled-fill-color);\n",
              "    box-shadow: none;\n",
              "  }\n",
              "\n",
              "  .colab-df-spinner {\n",
              "    border: 2px solid var(--fill-color);\n",
              "    border-color: transparent;\n",
              "    border-bottom-color: var(--fill-color);\n",
              "    animation:\n",
              "      spin 1s steps(1) infinite;\n",
              "  }\n",
              "\n",
              "  @keyframes spin {\n",
              "    0% {\n",
              "      border-color: transparent;\n",
              "      border-bottom-color: var(--fill-color);\n",
              "      border-left-color: var(--fill-color);\n",
              "    }\n",
              "    20% {\n",
              "      border-color: transparent;\n",
              "      border-left-color: var(--fill-color);\n",
              "      border-top-color: var(--fill-color);\n",
              "    }\n",
              "    30% {\n",
              "      border-color: transparent;\n",
              "      border-left-color: var(--fill-color);\n",
              "      border-top-color: var(--fill-color);\n",
              "      border-right-color: var(--fill-color);\n",
              "    }\n",
              "    40% {\n",
              "      border-color: transparent;\n",
              "      border-right-color: var(--fill-color);\n",
              "      border-top-color: var(--fill-color);\n",
              "    }\n",
              "    60% {\n",
              "      border-color: transparent;\n",
              "      border-right-color: var(--fill-color);\n",
              "    }\n",
              "    80% {\n",
              "      border-color: transparent;\n",
              "      border-right-color: var(--fill-color);\n",
              "      border-bottom-color: var(--fill-color);\n",
              "    }\n",
              "    90% {\n",
              "      border-color: transparent;\n",
              "      border-bottom-color: var(--fill-color);\n",
              "    }\n",
              "  }\n",
              "</style>\n",
              "\n",
              "  <script>\n",
              "    async function quickchart(key) {\n",
              "      const quickchartButtonEl =\n",
              "        document.querySelector('#' + key + ' button');\n",
              "      quickchartButtonEl.disabled = true;  // To prevent multiple clicks.\n",
              "      quickchartButtonEl.classList.add('colab-df-spinner');\n",
              "      try {\n",
              "        const charts = await google.colab.kernel.invokeFunction(\n",
              "            'suggestCharts', [key], {});\n",
              "      } catch (error) {\n",
              "        console.error('Error during call to suggestCharts:', error);\n",
              "      }\n",
              "      quickchartButtonEl.classList.remove('colab-df-spinner');\n",
              "      quickchartButtonEl.classList.add('colab-df-quickchart-complete');\n",
              "    }\n",
              "    (() => {\n",
              "      let quickchartButtonEl =\n",
              "        document.querySelector('#df-3bc7dea1-3fd7-41be-bd1e-76cbc2f0f020 button');\n",
              "      quickchartButtonEl.style.display =\n",
              "        google.colab.kernel.accessAllowed ? 'block' : 'none';\n",
              "    })();\n",
              "  </script>\n",
              "</div>\n",
              "\n",
              "    </div>\n",
              "  </div>\n"
            ],
            "application/vnd.google.colaboratory.intrinsic+json": {
              "type": "dataframe",
              "variable_name": "df",
              "summary": "{\n  \"name\": \"df\",\n  \"rows\": 5496,\n  \"fields\": [\n    {\n      \"column\": \"label\",\n      \"properties\": {\n        \"dtype\": \"number\",\n        \"std\": 0,\n        \"min\": 0,\n        \"max\": 1,\n        \"num_unique_values\": 2,\n        \"samples\": [\n          1,\n          0\n        ],\n        \"semantic_type\": \"\",\n        \"description\": \"\"\n      }\n    },\n    {\n      \"column\": \"text\",\n      \"properties\": {\n        \"dtype\": \"string\",\n        \"num_unique_values\": 5496,\n        \"samples\": [\n          \"To collect and explain some little way to custom Pharo. \",\n          \"An advanced WebGL debugging toolkit\"\n        ],\n        \"semantic_type\": \"\",\n        \"description\": \"\"\n      }\n    },\n    {\n      \"column\": \"url\",\n      \"properties\": {\n        \"dtype\": \"string\",\n        \"num_unique_values\": 5496,\n        \"samples\": [\n          \"https://github.com/squarebracketassociates/pharobyexample9\",\n          \"https://github.com/chaoticbob/graphicsexperiments\"\n        ],\n        \"semantic_type\": \"\",\n        \"description\": \"\"\n      }\n    },\n    {\n      \"column\": \"created_at\",\n      \"properties\": {\n        \"dtype\": \"object\",\n        \"num_unique_values\": 5496,\n        \"samples\": [\n          \"2017-10-28T07:49:15Z\",\n          \"2014-09-11T19:28:28Z\"\n        ],\n        \"semantic_type\": \"\",\n        \"description\": \"\"\n      }\n    }\n  ]\n}"
            }
          },
          "metadata": {},
          "execution_count": 22
        }
      ]
    },
    {
      "cell_type": "code",
      "source": [
        "# General statistics of the dataset\n",
        "df.describe()"
      ],
      "metadata": {
        "colab": {
          "base_uri": "https://localhost:8080/",
          "height": 320
        },
        "id": "fM9k6DSZ8-Wq",
        "outputId": "f2da9ba4-ea52-4210-89f2-3d0f0c661f2f"
      },
      "execution_count": 8,
      "outputs": [
        {
          "output_type": "execute_result",
          "data": {
            "text/plain": [
              "             label\n",
              "count  5496.000000\n",
              "mean      0.074054\n",
              "std       0.261882\n",
              "min       0.000000\n",
              "25%       0.000000\n",
              "50%       0.000000\n",
              "75%       0.000000\n",
              "max       1.000000"
            ],
            "text/html": [
              "\n",
              "  <div id=\"df-3fad192a-53f7-4b42-b0da-7f83520cfc24\" class=\"colab-df-container\">\n",
              "    <div>\n",
              "<style scoped>\n",
              "    .dataframe tbody tr th:only-of-type {\n",
              "        vertical-align: middle;\n",
              "    }\n",
              "\n",
              "    .dataframe tbody tr th {\n",
              "        vertical-align: top;\n",
              "    }\n",
              "\n",
              "    .dataframe thead th {\n",
              "        text-align: right;\n",
              "    }\n",
              "</style>\n",
              "<table border=\"1\" class=\"dataframe\">\n",
              "  <thead>\n",
              "    <tr style=\"text-align: right;\">\n",
              "      <th></th>\n",
              "      <th>label</th>\n",
              "    </tr>\n",
              "  </thead>\n",
              "  <tbody>\n",
              "    <tr>\n",
              "      <th>count</th>\n",
              "      <td>5496.000000</td>\n",
              "    </tr>\n",
              "    <tr>\n",
              "      <th>mean</th>\n",
              "      <td>0.074054</td>\n",
              "    </tr>\n",
              "    <tr>\n",
              "      <th>std</th>\n",
              "      <td>0.261882</td>\n",
              "    </tr>\n",
              "    <tr>\n",
              "      <th>min</th>\n",
              "      <td>0.000000</td>\n",
              "    </tr>\n",
              "    <tr>\n",
              "      <th>25%</th>\n",
              "      <td>0.000000</td>\n",
              "    </tr>\n",
              "    <tr>\n",
              "      <th>50%</th>\n",
              "      <td>0.000000</td>\n",
              "    </tr>\n",
              "    <tr>\n",
              "      <th>75%</th>\n",
              "      <td>0.000000</td>\n",
              "    </tr>\n",
              "    <tr>\n",
              "      <th>max</th>\n",
              "      <td>1.000000</td>\n",
              "    </tr>\n",
              "  </tbody>\n",
              "</table>\n",
              "</div>\n",
              "    <div class=\"colab-df-buttons\">\n",
              "\n",
              "  <div class=\"colab-df-container\">\n",
              "    <button class=\"colab-df-convert\" onclick=\"convertToInteractive('df-3fad192a-53f7-4b42-b0da-7f83520cfc24')\"\n",
              "            title=\"Convert this dataframe to an interactive table.\"\n",
              "            style=\"display:none;\">\n",
              "\n",
              "  <svg xmlns=\"http://www.w3.org/2000/svg\" height=\"24px\" viewBox=\"0 -960 960 960\">\n",
              "    <path d=\"M120-120v-720h720v720H120Zm60-500h600v-160H180v160Zm220 220h160v-160H400v160Zm0 220h160v-160H400v160ZM180-400h160v-160H180v160Zm440 0h160v-160H620v160ZM180-180h160v-160H180v160Zm440 0h160v-160H620v160Z\"/>\n",
              "  </svg>\n",
              "    </button>\n",
              "\n",
              "  <style>\n",
              "    .colab-df-container {\n",
              "      display:flex;\n",
              "      gap: 12px;\n",
              "    }\n",
              "\n",
              "    .colab-df-convert {\n",
              "      background-color: #E8F0FE;\n",
              "      border: none;\n",
              "      border-radius: 50%;\n",
              "      cursor: pointer;\n",
              "      display: none;\n",
              "      fill: #1967D2;\n",
              "      height: 32px;\n",
              "      padding: 0 0 0 0;\n",
              "      width: 32px;\n",
              "    }\n",
              "\n",
              "    .colab-df-convert:hover {\n",
              "      background-color: #E2EBFA;\n",
              "      box-shadow: 0px 1px 2px rgba(60, 64, 67, 0.3), 0px 1px 3px 1px rgba(60, 64, 67, 0.15);\n",
              "      fill: #174EA6;\n",
              "    }\n",
              "\n",
              "    .colab-df-buttons div {\n",
              "      margin-bottom: 4px;\n",
              "    }\n",
              "\n",
              "    [theme=dark] .colab-df-convert {\n",
              "      background-color: #3B4455;\n",
              "      fill: #D2E3FC;\n",
              "    }\n",
              "\n",
              "    [theme=dark] .colab-df-convert:hover {\n",
              "      background-color: #434B5C;\n",
              "      box-shadow: 0px 1px 3px 1px rgba(0, 0, 0, 0.15);\n",
              "      filter: drop-shadow(0px 1px 2px rgba(0, 0, 0, 0.3));\n",
              "      fill: #FFFFFF;\n",
              "    }\n",
              "  </style>\n",
              "\n",
              "    <script>\n",
              "      const buttonEl =\n",
              "        document.querySelector('#df-3fad192a-53f7-4b42-b0da-7f83520cfc24 button.colab-df-convert');\n",
              "      buttonEl.style.display =\n",
              "        google.colab.kernel.accessAllowed ? 'block' : 'none';\n",
              "\n",
              "      async function convertToInteractive(key) {\n",
              "        const element = document.querySelector('#df-3fad192a-53f7-4b42-b0da-7f83520cfc24');\n",
              "        const dataTable =\n",
              "          await google.colab.kernel.invokeFunction('convertToInteractive',\n",
              "                                                    [key], {});\n",
              "        if (!dataTable) return;\n",
              "\n",
              "        const docLinkHtml = 'Like what you see? Visit the ' +\n",
              "          '<a target=\"_blank\" href=https://colab.research.google.com/notebooks/data_table.ipynb>data table notebook</a>'\n",
              "          + ' to learn more about interactive tables.';\n",
              "        element.innerHTML = '';\n",
              "        dataTable['output_type'] = 'display_data';\n",
              "        await google.colab.output.renderOutput(dataTable, element);\n",
              "        const docLink = document.createElement('div');\n",
              "        docLink.innerHTML = docLinkHtml;\n",
              "        element.appendChild(docLink);\n",
              "      }\n",
              "    </script>\n",
              "  </div>\n",
              "\n",
              "\n",
              "<div id=\"df-30266e56-a1d9-41af-a409-962d6974b2b4\">\n",
              "  <button class=\"colab-df-quickchart\" onclick=\"quickchart('df-30266e56-a1d9-41af-a409-962d6974b2b4')\"\n",
              "            title=\"Suggest charts\"\n",
              "            style=\"display:none;\">\n",
              "\n",
              "<svg xmlns=\"http://www.w3.org/2000/svg\" height=\"24px\"viewBox=\"0 0 24 24\"\n",
              "     width=\"24px\">\n",
              "    <g>\n",
              "        <path d=\"M19 3H5c-1.1 0-2 .9-2 2v14c0 1.1.9 2 2 2h14c1.1 0 2-.9 2-2V5c0-1.1-.9-2-2-2zM9 17H7v-7h2v7zm4 0h-2V7h2v10zm4 0h-2v-4h2v4z\"/>\n",
              "    </g>\n",
              "</svg>\n",
              "  </button>\n",
              "\n",
              "<style>\n",
              "  .colab-df-quickchart {\n",
              "      --bg-color: #E8F0FE;\n",
              "      --fill-color: #1967D2;\n",
              "      --hover-bg-color: #E2EBFA;\n",
              "      --hover-fill-color: #174EA6;\n",
              "      --disabled-fill-color: #AAA;\n",
              "      --disabled-bg-color: #DDD;\n",
              "  }\n",
              "\n",
              "  [theme=dark] .colab-df-quickchart {\n",
              "      --bg-color: #3B4455;\n",
              "      --fill-color: #D2E3FC;\n",
              "      --hover-bg-color: #434B5C;\n",
              "      --hover-fill-color: #FFFFFF;\n",
              "      --disabled-bg-color: #3B4455;\n",
              "      --disabled-fill-color: #666;\n",
              "  }\n",
              "\n",
              "  .colab-df-quickchart {\n",
              "    background-color: var(--bg-color);\n",
              "    border: none;\n",
              "    border-radius: 50%;\n",
              "    cursor: pointer;\n",
              "    display: none;\n",
              "    fill: var(--fill-color);\n",
              "    height: 32px;\n",
              "    padding: 0;\n",
              "    width: 32px;\n",
              "  }\n",
              "\n",
              "  .colab-df-quickchart:hover {\n",
              "    background-color: var(--hover-bg-color);\n",
              "    box-shadow: 0 1px 2px rgba(60, 64, 67, 0.3), 0 1px 3px 1px rgba(60, 64, 67, 0.15);\n",
              "    fill: var(--button-hover-fill-color);\n",
              "  }\n",
              "\n",
              "  .colab-df-quickchart-complete:disabled,\n",
              "  .colab-df-quickchart-complete:disabled:hover {\n",
              "    background-color: var(--disabled-bg-color);\n",
              "    fill: var(--disabled-fill-color);\n",
              "    box-shadow: none;\n",
              "  }\n",
              "\n",
              "  .colab-df-spinner {\n",
              "    border: 2px solid var(--fill-color);\n",
              "    border-color: transparent;\n",
              "    border-bottom-color: var(--fill-color);\n",
              "    animation:\n",
              "      spin 1s steps(1) infinite;\n",
              "  }\n",
              "\n",
              "  @keyframes spin {\n",
              "    0% {\n",
              "      border-color: transparent;\n",
              "      border-bottom-color: var(--fill-color);\n",
              "      border-left-color: var(--fill-color);\n",
              "    }\n",
              "    20% {\n",
              "      border-color: transparent;\n",
              "      border-left-color: var(--fill-color);\n",
              "      border-top-color: var(--fill-color);\n",
              "    }\n",
              "    30% {\n",
              "      border-color: transparent;\n",
              "      border-left-color: var(--fill-color);\n",
              "      border-top-color: var(--fill-color);\n",
              "      border-right-color: var(--fill-color);\n",
              "    }\n",
              "    40% {\n",
              "      border-color: transparent;\n",
              "      border-right-color: var(--fill-color);\n",
              "      border-top-color: var(--fill-color);\n",
              "    }\n",
              "    60% {\n",
              "      border-color: transparent;\n",
              "      border-right-color: var(--fill-color);\n",
              "    }\n",
              "    80% {\n",
              "      border-color: transparent;\n",
              "      border-right-color: var(--fill-color);\n",
              "      border-bottom-color: var(--fill-color);\n",
              "    }\n",
              "    90% {\n",
              "      border-color: transparent;\n",
              "      border-bottom-color: var(--fill-color);\n",
              "    }\n",
              "  }\n",
              "</style>\n",
              "\n",
              "  <script>\n",
              "    async function quickchart(key) {\n",
              "      const quickchartButtonEl =\n",
              "        document.querySelector('#' + key + ' button');\n",
              "      quickchartButtonEl.disabled = true;  // To prevent multiple clicks.\n",
              "      quickchartButtonEl.classList.add('colab-df-spinner');\n",
              "      try {\n",
              "        const charts = await google.colab.kernel.invokeFunction(\n",
              "            'suggestCharts', [key], {});\n",
              "      } catch (error) {\n",
              "        console.error('Error during call to suggestCharts:', error);\n",
              "      }\n",
              "      quickchartButtonEl.classList.remove('colab-df-spinner');\n",
              "      quickchartButtonEl.classList.add('colab-df-quickchart-complete');\n",
              "    }\n",
              "    (() => {\n",
              "      let quickchartButtonEl =\n",
              "        document.querySelector('#df-30266e56-a1d9-41af-a409-962d6974b2b4 button');\n",
              "      quickchartButtonEl.style.display =\n",
              "        google.colab.kernel.accessAllowed ? 'block' : 'none';\n",
              "    })();\n",
              "  </script>\n",
              "</div>\n",
              "\n",
              "    </div>\n",
              "  </div>\n"
            ],
            "application/vnd.google.colaboratory.intrinsic+json": {
              "type": "dataframe",
              "summary": "{\n  \"name\": \"df\",\n  \"rows\": 8,\n  \"fields\": [\n    {\n      \"column\": \"label\",\n      \"properties\": {\n        \"dtype\": \"number\",\n        \"std\": 1943.0619898439693,\n        \"min\": 0.0,\n        \"max\": 5496.0,\n        \"num_unique_values\": 5,\n        \"samples\": [\n          0.07405385735080058,\n          1.0,\n          0.2618823441127763\n        ],\n        \"semantic_type\": \"\",\n        \"description\": \"\"\n      }\n    }\n  ]\n}"
            }
          },
          "metadata": {},
          "execution_count": 8
        }
      ]
    },
    {
      "cell_type": "code",
      "source": [
        "# This was already visualize in the chart above\n",
        "df[\"label\"].mode()"
      ],
      "metadata": {
        "colab": {
          "base_uri": "https://localhost:8080/"
        },
        "id": "Gwy4bVxH9E3x",
        "outputId": "bd8b1bd5-2858-4736-a765-f70263e1db72"
      },
      "execution_count": 9,
      "outputs": [
        {
          "output_type": "execute_result",
          "data": {
            "text/plain": [
              "0    0\n",
              "Name: label, dtype: int64"
            ]
          },
          "metadata": {},
          "execution_count": 9
        }
      ]
    },
    {
      "cell_type": "code",
      "source": [
        "# This was already visualize in the chart above\n",
        "df[\"label\"].median()"
      ],
      "metadata": {
        "colab": {
          "base_uri": "https://localhost:8080/"
        },
        "id": "GKJ7kvBC9Wza",
        "outputId": "3211b0c3-a79c-4090-9916-d1831a1dd796"
      },
      "execution_count": 10,
      "outputs": [
        {
          "output_type": "execute_result",
          "data": {
            "text/plain": [
              "0.0"
            ]
          },
          "metadata": {},
          "execution_count": 10
        }
      ]
    },
    {
      "cell_type": "code",
      "source": [
        "import pandas as pd\n",
        "import matplotlib.pyplot as plt\n",
        "\n",
        "# Longest, shortest, and mean text lengths\n",
        "lengths = df[\"text\"].str.len()\n",
        "longest_text_id, longest_text_num_char = lengths.idxmax(), lengths.max()\n",
        "shortest_text_id, shortest_text_num_char = lengths.idxmin(), lengths.min()\n",
        "mean_text_chars = lengths.mean()\n",
        "\n",
        "# Find if there are empty text fields\n",
        "num_empty_texts = (lengths == 0).sum()\n",
        "\n",
        "# Create a summary DataFrame\n",
        "summary_df = pd.DataFrame({\n",
        "    'Description': ['Longest text', 'Shortest text', 'Mean text length', 'Empty text fields'],\n",
        "    'Value': [f\"ID: {longest_text_id}, Chars: {longest_text_num_char}\",\n",
        "              f\"ID: {shortest_text_id}, Chars: {shortest_text_num_char}\",\n",
        "              mean_text_chars,\n",
        "              num_empty_texts]\n",
        "})\n",
        "\n",
        "# Display the summary table\n",
        "print(summary_df)\n",
        "\n",
        "# Create a bar chart for visualization\n",
        "fig, ax = plt.subplots()\n",
        "\n",
        "# Data for the bar chart\n",
        "labels = ['Longest text', 'Shortest text', 'Mean text length', 'Empty text fields']\n",
        "values = [longest_text_num_char, shortest_text_num_char, mean_text_chars, num_empty_texts]\n",
        "\n",
        "# Bar positions\n",
        "bar_positions = [0, 3, 6, 9]\n",
        "ax.bar(bar_positions, values, color=['blue', 'green', 'red', 'purple'])\n",
        "\n",
        "# Adding title and labels\n",
        "ax.set_title('Text Analysis Summary')\n",
        "ax.set_ylabel('Number of Characters')\n",
        "ax.set_xticks(bar_positions)\n",
        "ax.set_xticklabels(labels)\n",
        "\n",
        "# Show the plot\n",
        "plt.show()"
      ],
      "metadata": {
        "colab": {
          "base_uri": "https://localhost:8080/",
          "height": 561
        },
        "id": "JadbtInADM1H",
        "outputId": "90af1b76-89ad-4379-e3c7-5b6f3fe2b711"
      },
      "execution_count": 35,
      "outputs": [
        {
          "output_type": "stream",
          "name": "stdout",
          "text": [
            "         Description                 Value\n",
            "0       Longest text  ID: 3599, Chars: 609\n",
            "1      Shortest text    ID: 3204, Chars: 2\n",
            "2   Mean text length             58.054221\n",
            "3  Empty text fields                     0\n"
          ]
        },
        {
          "output_type": "display_data",
          "data": {
            "text/plain": [
              "<Figure size 640x480 with 1 Axes>"
            ],
            "image/png": "[encoded data removed]"
          },
          "metadata": {}
        }
      ]
    },
    {
      "cell_type": "code",
      "source": [
        "# Longest, shortest, and mean URL lengths\n",
        "url_lengths = df[\"url\"].str.len()\n",
        "longest_url_id, longest_url_num_char = url_lengths.idxmax(), url_lengths.max()\n",
        "shortest_url_id, shortest_url_num_char = url_lengths.idxmin(), url_lengths.min()\n",
        "mean_url_chars = url_lengths.mean()\n",
        "\n",
        "# Find if there are empty URL fields\n",
        "num_empty_urls = (url_lengths == 0).sum()\n",
        "\n",
        "# Create a summary DataFrame\n",
        "summary_df = pd.DataFrame({\n",
        "    'Description': ['Longest URL', 'Shortest URL', 'Mean URL length', 'Empty URL fields'],\n",
        "    'Value': [f\"ID: {longest_url_id}, Chars: {longest_url_num_char}\",\n",
        "              f\"ID: {shortest_url_id}, Chars: {shortest_url_num_char}\",\n",
        "              mean_url_chars,\n",
        "              num_empty_urls]\n",
        "})\n",
        "\n",
        "# Display the summary table\n",
        "print(summary_df)\n",
        "\n",
        "# Create a bar chart for visualization\n",
        "fig, ax = plt.subplots()\n",
        "\n",
        "# Data for the bar chart\n",
        "labels = ['Longest URL', 'Shortest URL', 'Mean URL Length', 'Empty URL fields']\n",
        "values = [longest_url_num_char, shortest_url_num_char, mean_url_chars, num_empty_urls]\n",
        "\n",
        "# Bar positions\n",
        "bar_positions = [0, 1.25, 2.5, 3.75]\n",
        "ax.bar(bar_positions, values, color=['blue', 'green', 'red', 'purple'])\n",
        "\n",
        "# Adding title and labels\n",
        "ax.set_title('URL Analysis Summary')\n",
        "ax.set_ylabel('Number of Characters')\n",
        "ax.set_xticks(bar_positions)\n",
        "ax.set_xticklabels(labels)\n",
        "\n",
        "# Show the plot\n",
        "plt.show()"
      ],
      "metadata": {
        "colab": {
          "base_uri": "https://localhost:8080/",
          "height": 561
        },
        "id": "ayTrjrJeD6Zc",
        "outputId": "03ac903b-0bbf-4ac6-be93-c53cfd471a06"
      },
      "execution_count": 29,
      "outputs": [
        {
          "output_type": "stream",
          "name": "stdout",
          "text": [
            "        Description                 Value\n",
            "0       Longest URL  ID: 2317, Chars: 152\n",
            "1      Shortest URL    ID: 109, Chars: 23\n",
            "2   Mean URL length             40.863901\n",
            "3  Empty URL fields                     0\n"
          ]
        },
        {
          "output_type": "display_data",
          "data": {
            "text/plain": [
              "<Figure size 640x480 with 1 Axes>"
            ],
            "image/png": "[encoded data removed]"
          },
          "metadata": {}
        }
      ]
    },
    {
      "cell_type": "markdown",
      "source": [
        "### Exploratory Data Analysis summary:\n",
        "In this Exploratory Data Analysis (EDA) I found the following:\n",
        "- The dataset contains 3872 samples\n",
        "- It has only a \"train\" split, so I will create a validation dataset\n",
        "- The dataset has three items:\n",
        "  - `review_body`: dtype 'string'\n",
        "  - `review_summary`: dtype 'string'\n",
        "  - `star_rating`: The label to be used in the supevised learning task\n",
        "- `star_rating` has a normal distribution, most of the reviews have 3 stars (1249 samples)\n",
        "- `review_body`:\n",
        "  - Longest review has **26668 characters** (`review_body` with id 228)\n",
        "  - Shortest review has **0 characters** (`review_body` with id 1826)\n",
        "  - On average a review has **2827 characters**.\n",
        "  - The review with 0 characters is the only empty sample in the `review_body` column. Strangely enough, this sample does have a `review_summary` and a label (`star_rating`: 1). This corrupted sample won't affect our model so I will just leave it.\n",
        "- `review_summary`:\n",
        "  - Longest review has **425 characters** (`review_body` with id 1481)\n",
        "  - Shortest review has **12 characters** (`review_body` with id 601)\n",
        "  - On average a review has **173 characters**. As reference, a tweet has a limit of 140 characters.\n",
        "  - There are no empty fields in this feature.\n",
        "\n",
        "  **Conclusion**: My first ideas after this EDA are: Create a validation split for the dataset. Use only the review_summary as a feature for our model, mainly because the review_body seems to be very long. I will confirm these ideas when we explore the model. Other than that, I think that a data-centric approach where some work is put into the dataset could be of benefit for this task (the dataset seems to have opportunities for improvements, such as class balancing).\n",
        "\n",
        "We are now ready to start processing the data to feed it into our model."
      ],
      "metadata": {
        "id": "HjBfWpamEORz"
      }
    },
    {
      "cell_type": "markdown",
      "source": [
        "# Part 3: Preprocessing the data\n",
        "This part corresponds to chapter 3 of the HF 🤗 course. I will split the dataset to have a validation dataset, and then I will tokenize and pad the the samples"
      ],
      "metadata": {
        "id": "EFjUoDUQE2w4"
      }
    },
    {
      "cell_type": "markdown",
      "source": [
        "## 3.1 Splitting the dataset\n",
        "As we saw in the last section, this dataset contains only a \"train\" split. For this reason, I will start the preprocessing of the data by createing 2 dataset out of the train split: One for training (90%) and one for validation (the remaining 10%)."
      ],
      "metadata": {
        "id": "IQw-QT46FtY2"
      }
    },
    {
      "cell_type": "code",
      "source": [
        "# Create a train and validation split of the dataset\n",
        "raw_datasets = load_dataset(\"muchocine\", split=\"train\")\n",
        "raw_datasets = raw_datasets.train_test_split(test_size=0.1)"
      ],
      "metadata": {
        "id": "-IDU9Ht7EFle"
      },
      "execution_count": null,
      "outputs": []
    },
    {
      "cell_type": "code",
      "source": [
        "# Check the split\n",
        "raw_datasets"
      ],
      "metadata": {
        "id": "PrZaGbqB06Bg"
      },
      "execution_count": null,
      "outputs": []
    },
    {
      "cell_type": "markdown",
      "source": [
        "## 3.2 Tokenizing the dataset\n",
        "As saw in course, we need to convert the text to number so we can use it in our model. This can be done using the tokenizer provided by the 🤗 Autotokenizer. It is important that we use the checkpoint based on the selected model."
      ],
      "metadata": {
        "id": "vZr6QygGJo0x"
      }
    },
    {
      "cell_type": "code",
      "source": [
        "# Tokenizer based on model's checkpoint\n",
        "from transformers import AutoTokenizer\n",
        "\n",
        "checkpoint = \"nlptown/bert-base-multilingual-uncased-sentiment\"\n",
        "tokenizer = AutoTokenizer.from_pretrained(checkpoint)"
      ],
      "metadata": {
        "id": "RBW-i4NQHoAR"
      },
      "execution_count": null,
      "outputs": []
    },
    {
      "cell_type": "markdown",
      "source": [
        "The following function will allow us to tokenize our Dataset with using map() so we can keep the data as dataset. As explain in the last sections, I will only use the `review_summary` field. I am also using the truncate option so sentences are no longer that the length supported by the model"
      ],
      "metadata": {
        "id": "mVr4yke3NS5S"
      }
    },
    {
      "cell_type": "code",
      "source": [
        "# Tokenize function to use with Dataset.map()\n",
        "def tokenize_funtion(example):\n",
        "  return tokenizer(example[\"review_summary\"], truncation=True)"
      ],
      "metadata": {
        "id": "S3-KGSMJLn8n"
      },
      "execution_count": null,
      "outputs": []
    },
    {
      "cell_type": "code",
      "source": [
        "# Create tokenize datasets\n",
        "# batched=True so function is applied to multiple elements of dataset at once\n",
        "tokenize_datasets = raw_datasets.map(tokenize_funtion, batched=True)\n",
        "tokenize_datasets"
      ],
      "metadata": {
        "id": "P80-jO_FNwXU"
      },
      "execution_count": null,
      "outputs": []
    },
    {
      "cell_type": "code",
      "source": [
        "tokenize_datasets[\"train\"][0]"
      ],
      "metadata": {
        "id": "9BGv9sCZOYnO"
      },
      "execution_count": null,
      "outputs": []
    },
    {
      "cell_type": "markdown",
      "source": [
        "As you can see, we have now the fields needed for our model:\n",
        "- `attention_mask`\n",
        "- `inputs_id`: Note the special ids 101, 102\n",
        "- `star_rating`: Our label\n",
        "- `token_type_ids`: As explained in the course \"this is what tells the model which part of the input is the first sentence and which is the second sentence\""
      ],
      "metadata": {
        "id": "2sroBNsiO68n"
      }
    },
    {
      "cell_type": "markdown",
      "source": [
        "## 3.3 Dynamic padding\n",
        "We will now add dynamically padding to our sentences based on the batch and create our TensorFlow datasets (refer to Dynamic padding in [this part of the course](https://huggingface.co/course/chapter3/2?fw=tf))"
      ],
      "metadata": {
        "id": "Wn6e48qfQIu0"
      }
    },
    {
      "cell_type": "code",
      "source": [
        "from transformers import DataCollatorWithPadding\n",
        "\n",
        "data_collator = DataCollatorWithPadding(tokenizer=tokenizer, return_tensors=\"tf\")"
      ],
      "metadata": {
        "id": "H6Z8auMjOgc0"
      },
      "execution_count": null,
      "outputs": []
    },
    {
      "cell_type": "code",
      "source": [
        "# Create the TensorFlow datasets for training and validation\n",
        "tf_train_dataset = tokenize_datasets[\"train\"].to_tf_dataset(\n",
        "    columns=[\"attention_mask\", \"input_ids\", \"token_type_ids\"],\n",
        "    label_cols=[\"star_rating\"],\n",
        "    shuffle=True,\n",
        "    collate_fn=data_collator,\n",
        "    batch_size=8\n",
        ")\n",
        "\n",
        "tf_validation_dataset = tokenize_datasets[\"test\"].to_tf_dataset(\n",
        "    columns=[\"attention_mask\", \"input_ids\", \"token_type_ids\"],\n",
        "    label_cols=[\"star_rating\"],\n",
        "    shuffle=False,\n",
        "    collate_fn=data_collator,\n",
        "    batch_size=8\n",
        ")"
      ],
      "metadata": {
        "id": "UMDg8XpmQdEE"
      },
      "execution_count": null,
      "outputs": []
    },
    {
      "cell_type": "markdown",
      "source": [
        "And this concludes this part of preprocessing the data. We are now ready to start fine-tunning our model!"
      ],
      "metadata": {
        "id": "y62YwkQcRX2i"
      }
    },
    {
      "cell_type": "markdown",
      "source": [
        "#Part 4: Fine-tuning the model\n",
        "This section corresponds to the section: [Fine-tuning a model with Keras](https://huggingface.co/course/chapter3/3?fw=tf) of the third of the third part of the 🤗 course. After the data preprocessing, we are ready to start training our model. In this part, we will cover the following items:\n",
        "- Baseline model\n",
        "- Fine-tune the model and compare with baseline model\n",
        "\n"
      ],
      "metadata": {
        "id": "X_U2a2ojuvAq"
      }
    },
    {
      "cell_type": "markdown",
      "source": [
        "## 4.1 Baseline model\n",
        "Before fine-tuning the model, let's see how it performce as it is, so we can then compare it after the work put into this task. This is because the model is already fine-tuned for sentiment analysis on product reviews, which is very similar of sentiment analysis on movie reviews."
      ],
      "metadata": {
        "id": "OWuT2DekxMbC"
      }
    },
    {
      "cell_type": "code",
      "source": [
        "# Load the model from checkpoint\n",
        "from transformers import TFAutoModelForSequenceClassification\n",
        "\n",
        "checkpoint = \"nlptown/bert-base-multilingual-uncased-sentiment\"\n",
        "model = TFAutoModelForSequenceClassification.from_pretrained(checkpoint)"
      ],
      "metadata": {
        "id": "HemxkR1XSaPF"
      },
      "execution_count": null,
      "outputs": []
    },
    {
      "cell_type": "code",
      "source": [
        "preds_baseline_model = model.predict(tf_validation_dataset)"
      ],
      "metadata": {
        "id": "oBe0PURkzUNd"
      },
      "execution_count": null,
      "outputs": []
    },
    {
      "cell_type": "code",
      "source": [
        "# Explore the predictions\n",
        "preds_baseline_model"
      ],
      "metadata": {
        "id": "wzM04BMN0xK0"
      },
      "execution_count": null,
      "outputs": []
    },
    {
      "cell_type": "code",
      "source": [
        "# Take the logits of the predictions\n",
        "preds_baseline_model_logits = preds_baseline_model[\"logits\"]\n",
        "preds_baseline_model_logits"
      ],
      "metadata": {
        "id": "p_xFNydf4DBU"
      },
      "execution_count": null,
      "outputs": []
    },
    {
      "cell_type": "code",
      "source": [
        "# We need numpy\n",
        "import numpy as np\n",
        "\n",
        "# Convert logits into the model’s class predictions to find the highest logit\n",
        "class_preds = np.argmax(preds_baseline_model_logits, axis=1)\n",
        "print(preds_baseline_model_logits.shape, class_preds.shape)"
      ],
      "metadata": {
        "id": "KjzusFJL4VxE"
      },
      "execution_count": null,
      "outputs": []
    },
    {
      "cell_type": "code",
      "source": [
        "from datasets import load_metric\n",
        "\n",
        "metric = load_metric(\"glue\", \"cola\")\n",
        "metric.compute(predictions=class_preds, references=raw_datasets[\"test\"][\"star_rating\"])"
      ],
      "metadata": {
        "id": "aqZZ63T440Rr"
      },
      "execution_count": null,
      "outputs": []
    },
    {
      "cell_type": "code",
      "source": [
        "load_accuracy = load_metric(\"accuracy\")\n",
        "\n",
        "accuracy = load_accuracy.compute(predictions=class_preds, references=raw_datasets[\"test\"][\"star_rating\"])[\"accuracy\"]\n",
        "print(f\"Accuracy: {accuracy}\")"
      ],
      "metadata": {
        "id": "iCuuc5E77zf2"
      },
      "execution_count": null,
      "outputs": []
    },
    {
      "cell_type": "markdown",
      "source": [
        "Using the model as it is we get an `accuracy` of 0.3530 (could be a different value depending on the split) and a [`matthews_correlation`](https://en.wikipedia.org/wiki/Phi_coefficient#Multiclass_case) of 0.1883 (also could be a different value). Let's see if we can improve these metrics by fine-tuning our model with the `muchocine` dataset."
      ],
      "metadata": {
        "id": "CUuGsn-I1Eic"
      }
    },
    {
      "cell_type": "markdown",
      "source": [
        "## 4.2 Fine-tuning the model and comparing it with baseline model"
      ],
      "metadata": {
        "id": "yR2Dri3z5u99"
      }
    },
    {
      "cell_type": "markdown",
      "source": [
        "We can now continue with our task and implement the part: [Fine-tuning a model with Keras](https://huggingface.co/course/chapter3/3?fw=tf) of the 🤗 course.\n",
        "Let's start by creating a learning rate scheduler to adapt our learning rate as explained in the course:"
      ],
      "metadata": {
        "id": "LF58UA5T6D3n"
      }
    },
    {
      "cell_type": "code",
      "source": [
        "# Implement linearly learning rate decay\n",
        "from tensorflow.keras.optimizers.schedules import PolynomialDecay\n",
        "\n",
        "batch_size = 8\n",
        "num_epochs = 10\n",
        "\n",
        "# From the course: https://huggingface.co/course/chapter3/3?fw=tf\n",
        "# The number of training steps is the number of samples in the dataset, divided by the batch size then multiplied\n",
        "# by the total number of epochs. Note that the tf_train_dataset here is a batched tf.data.Dataset,\n",
        "# not the original Hugging Face Dataset, so its len() is already num_samples // batch_size.\n",
        "\n",
        "num_train_steps = len(tf_train_dataset) * num_epochs\n",
        "\n",
        "# From the course: https://huggingface.co/course/chapter3/3?fw=tf\n",
        "# From long experience, though, we know that transformer models benefit from a\n",
        "# much lower learning rate than the default for Adam, which is 1e-3, also\n",
        "# written as 10 to the power of -3, or 0.001. 5e-5 (0.00005), which is some\n",
        "# twenty times lower, is a much better starting point\n",
        "lr_scheduler = PolynomialDecay(\n",
        "    initial_learning_rate=5e-5, end_learning_rate=0.0, decay_steps=num_train_steps\n",
        ")\n",
        "\n",
        "from tensorflow.keras.optimizers import Adam\n",
        "\n",
        "opt = Adam(learning_rate=lr_scheduler)"
      ],
      "metadata": {
        "id": "h0-MTxRQ8smc"
      },
      "execution_count": null,
      "outputs": []
    },
    {
      "cell_type": "markdown",
      "source": [
        "We can now compile our model using our optimizer with the implemented learning rate decay"
      ],
      "metadata": {
        "id": "0OWmJFz89ord"
      }
    },
    {
      "cell_type": "code",
      "source": [
        "import tensorflow as tf\n",
        "\n",
        "model = TFAutoModelForSequenceClassification.from_pretrained(checkpoint)\n",
        "# Output the values right before the softmax is applied: the logits\n",
        "loss = tf.keras.losses.SparseCategoricalCrossentropy(from_logits=True)\n",
        "model.compile(optimizer=opt, loss=loss, metrics=[\"accuracy\"])"
      ],
      "metadata": {
        "id": "cfBq82X89Yi4"
      },
      "execution_count": null,
      "outputs": []
    },
    {
      "cell_type": "markdown",
      "source": [
        "We can fit now our model"
      ],
      "metadata": {
        "id": "-hprOXbZ_I_1"
      }
    },
    {
      "cell_type": "code",
      "source": [
        "history = model.fit(\n",
        "    tf_train_dataset,\n",
        "    validation_data=tf_validation_dataset,\n",
        "    epochs=num_epochs\n",
        ")"
      ],
      "metadata": {
        "id": "ct8m4rNG-xIV"
      },
      "execution_count": null,
      "outputs": []
    },
    {
      "cell_type": "markdown",
      "source": [
        "It seems that the model starts overfitting very quickly (look how the val_loss is increasing). I think that one of the reasons is that the model is very complex, and the dataset does not have many samples. Still, we see and improvement of the accuracy. We can play with the learning rate and the batch size among other features to try to avoid overfitting. This is out of the scope of this notebook. So, since I notices the model starts overfitting very soon, I will train it for less epochs."
      ],
      "metadata": {
        "id": "5AROv__wdI9y"
      }
    },
    {
      "cell_type": "code",
      "source": [
        "# Implement linearly learning rate decay\n",
        "from tensorflow.keras.optimizers.schedules import PolynomialDecay\n",
        "\n",
        "batch_size = 8\n",
        "num_epochs = 3\n",
        "\n",
        "# From the course: https://huggingface.co/course/chapter3/3?fw=tf\n",
        "# The number of training steps is the number of samples in the dataset, divided by the batch size then multiplied\n",
        "# by the total number of epochs. Note that the tf_train_dataset here is a batched tf.data.Dataset,\n",
        "# not the original Hugging Face Dataset, so its len() is already num_samples // batch_size.\n",
        "\n",
        "num_train_steps = len(tf_train_dataset) * num_epochs\n",
        "\n",
        "# From the course: https://huggingface.co/course/chapter3/3?fw=tf\n",
        "# From long experience, though, we know that transformer models benefit from a\n",
        "# much lower learning rate than the default for Adam, which is 1e-3, also\n",
        "# written as 10 to the power of -3, or 0.001. 5e-5 (0.00005), which is some\n",
        "# twenty times lower, is a much better starting point\n",
        "lr_scheduler = PolynomialDecay(\n",
        "    initial_learning_rate=5e-5, end_learning_rate=0.0, decay_steps=num_train_steps\n",
        ")\n",
        "\n",
        "from tensorflow.keras.optimizers import Adam\n",
        "\n",
        "opt = Adam(learning_rate=lr_scheduler)"
      ],
      "metadata": {
        "id": "hcWakMbn_kSQ"
      },
      "execution_count": null,
      "outputs": []
    },
    {
      "cell_type": "code",
      "source": [
        "model = TFAutoModelForSequenceClassification.from_pretrained(checkpoint)\n",
        "# Output the values right before the softmax is applied: the logits\n",
        "loss = tf.keras.losses.SparseCategoricalCrossentropy(from_logits=True)\n",
        "model.compile(optimizer=opt, loss=loss, metrics=[\"accuracy\"])"
      ],
      "metadata": {
        "id": "mHtRcVgjnlNa"
      },
      "execution_count": null,
      "outputs": []
    },
    {
      "cell_type": "code",
      "source": [
        "# Fit model in just 3 epochs\n",
        "history = model.fit(\n",
        "    tf_train_dataset,\n",
        "    validation_data=tf_validation_dataset,\n",
        "    epochs=num_epochs\n",
        ")"
      ],
      "metadata": {
        "id": "1IPsjmUadtcN"
      },
      "execution_count": null,
      "outputs": []
    },
    {
      "cell_type": "markdown",
      "source": [
        "Here we can see that the val_accurracy is 0.5 and improvement when compare with the accuracy of the baseline model of 0.3530. Still the model seems to overfit very fast."
      ],
      "metadata": {
        "id": "JQZioFDLHgt-"
      }
    },
    {
      "cell_type": "markdown",
      "source": [
        "#Part 5: Uploading the model to the hug\n",
        "As a final part of this notebook, I will upload the model we just fine-tuned to the hub. This is a very easy process using the huggingface_hub library. This sections, is based on [Sharing pretained models](https://huggingface.co/course/chapter4/3?fw=tf) section of the course"
      ],
      "metadata": {
        "id": "Wn-frQ9xup4e"
      }
    },
    {
      "cell_type": "code",
      "source": [
        "# Install huggingface_hub library\n",
        "!pip install huggingface_hub\n",
        "# Install git-lfs\n",
        "!apt install git-lfs"
      ],
      "metadata": {
        "id": "l7Yx4jODd5B6"
      },
      "execution_count": null,
      "outputs": []
    },
    {
      "cell_type": "code",
      "source": [
        "!git config --global user.email \"mskehoe001@gmail.com\"\n",
        "!git config --global user.name \"Matthew Kehoe\""
      ],
      "metadata": {
        "id": "lqbaZoS3KZzb"
      },
      "execution_count": null,
      "outputs": []
    },
    {
      "cell_type": "code",
      "source": [
        "from huggingface_hub import notebook_login\n",
        "\n",
        "# Log into huggingface_hub\n",
        "notebook_login()"
      ],
      "metadata": {
        "id": "laaloh8dIlKY"
      },
      "execution_count": null,
      "outputs": []
    },
    {
      "cell_type": "code",
      "source": [
        "model.push_to_hub(\"tutorial-model-bert-base-spanish-uncased-movie-rating\", commit_message=\"end of training\", use_temp_dir=True)"
      ],
      "metadata": {
        "id": "_ajFP_YEIzv1"
      },
      "execution_count": null,
      "outputs": []
    },
    {
      "cell_type": "code",
      "source": [
        "tokenizer.push_to_hub(\"tutorial-model-bert-base-spanish-uncased-movie-rating\", use_temp_dir=True)"
      ],
      "metadata": {
        "id": "pHFbX8RhJw27"
      },
      "execution_count": null,
      "outputs": []
    },
    {
      "cell_type": "code",
      "source": [],
      "metadata": {
        "id": "Kq34LHs6Pzuv"
      },
      "execution_count": null,
      "outputs": []
    }
  ]
}