{
  "cells": [
    {
      "cell_type": "markdown",
      "metadata": {
        "id": "gtiiHc7fs4Vc"
      },
      "source": [
        "# Creating your own dataset"
      ]
    },
    {
      "cell_type": "markdown",
      "metadata": {
        "id": "OPUCefwGs4Vd"
      },
      "source": [
        "Install the Transformers, Datasets, and Evaluate libraries to run this notebook."
      ]
    },
    {
      "cell_type": "code",
      "execution_count": 1,
      "metadata": {
        "id": "EhtJMETSs4Vd"
      },
      "outputs": [],
      "source": [
        "%%capture\n",
        "!pip install datasets evaluate transformers[sentencepiece]\n",
        "!apt install git-lfs"
      ]
    },
    {
      "cell_type": "markdown",
      "metadata": {
        "id": "FGVnsKRvs4Vd"
      },
      "source": [
        "You will need to setup git, adapt your email and name in the following cell."
      ]
    },
    {
      "cell_type": "code",
      "execution_count": 2,
      "metadata": {
        "id": "LJUojvHEs4Ve"
      },
      "outputs": [],
      "source": [
        "!git config --global user.email \"mskehoe001@gmail.com\"\n",
        "!git config --global user.name \"Matthew Kehoe\""
      ]
    },
    {
      "cell_type": "markdown",
      "metadata": {
        "id": "8V04GiYcs4Ve"
      },
      "source": [
        "You will also need to be logged in to the Hugging Face Hub. Execute the following and enter your credentials."
      ]
    },
    {
      "cell_type": "code",
      "execution_count": 3,
      "metadata": {
        "id": "zkY5yb6is4Vf",
        "outputId": "28542d49-076d-4340-c47c-4bc2f70d7e83",
        "colab": {
          "base_uri": "https://localhost:8080/",
          "height": 351,
          "referenced_widgets": [
            "f115e2c6e4364e92a78385af022e5b9e",
            "8651ab7ea06b4c278780bb5f1b088edb",
            "429ba41ffead472f82f75f2fb7380c89",
            "bff7902103044d848155dc2bcd433f60",
            "c0033d79da514b598a68f7017add91f0",
            "67f0fe19206b45d5938ab81bc602eb03",
            "4b834ba84cd94815bdf74d75f9b0b623",
            "90d3e30ab4e14186b960946635f50615",
            "4680948c865d4167bece5fe64d14a50f",
            "125e7cbdae8c425db1af02fbcdb245e5",
            "8a17e533965d41cbbe9ea13238de1b3d",
            "40c09ef5bb104556917276fea34de609",
            "7c83f9809caf43af9aae8b7e708e5ca5",
            "6aabb3d70d2c4d27a9abe63390677feb",
            "0c31b4889d254581a4bfab065892b862",
            "8f292a3fb02e46469e2aae2eb90e417d",
            "fb888be9bae84ab882dbf1deb08ba0bb"
          ]
        }
      },
      "outputs": [
        {
          "output_type": "display_data",
          "data": {
            "text/plain": [
              "VBox(children=(HTML(value='<center> <img\\nsrc=https://huggingface.co/front/assets/huggingface_logo-noborder.sv…"
            ],
            "application/vnd.jupyter.widget-view+json": {
              "version_major": 2,
              "version_minor": 0,
              "model_id": "f115e2c6e4364e92a78385af022e5b9e"
            }
          },
          "metadata": {}
        }
      ],
      "source": [
        "from huggingface_hub import notebook_login\n",
        "\n",
        "notebook_login()"
      ]
    },
    {
      "cell_type": "markdown",
      "source": [
        "Sometimes the dataset that you need to build an NLP application doesn't exist, so you'll need to create it yourself. In this section we'll show you how to create a corpus of [GitHub issues](https://github.com/features/issues/), which are commonly used to track bugs or features in GitHub repositories. This corpus could be used for various purposes, including:\n",
        "\n",
        "* Exploring how long it takes to close open issues or pull requests\n",
        "* Training a _multilabel classifier_ that can tag issues with metadata based on the issue's description (e.g., \"bug,\" \"enhancement,\" or \"question\")\n",
        "* Creating a semantic search engine to find which issues match a user's query\n",
        "\n",
        "Here we'll focus on creating the corpus, and in the next section we'll tackle the semantic search application. To keep things meta, we'll use the GitHub issues associated with a popular open source project: 🤗 Datasets! Let's take a look at how to get the data and explore the information contained in these issues."
      ],
      "metadata": {
        "id": "oOEqklbts-fA"
      }
    },
    {
      "cell_type": "markdown",
      "source": [
        "## Getting the data\n",
        "\n",
        "You can find all the issues in 🤗 Datasets by navigating to the repository's [Issues tab](https://github.com/huggingface/datasets/issues). As shown in the following screenshot, at the time of writing there were 331 open issues and 668 closed ones.\n",
        "\n",
        "<div class=\"flex justify-center\">\n",
        "<img src=\"https://huggingface.co/datasets/huggingface-course/documentation-images/resolve/main/en/chapter5/datasets-issues.png\" alt=\"The GitHub issues associated with 🤗 Datasets.\" width=\"80%\"/>\n",
        "</div>\n",
        "\n",
        "If you click on one of these issues you'll find it contains a title, a description, and a set of labels that characterize the issue. An example is shown in the screenshot below.\n",
        "\n",
        "<div class=\"flex justify-center\">\n",
        "<img src=\"https://huggingface.co/datasets/huggingface-course/documentation-images/resolve/main/en/chapter5/datasets-issues-single.png\" alt=\"A typical GitHub issue in the 🤗 Datasets repository.\" width=\"80%\"/>\n",
        "</div>\n",
        "\n",
        "To download all the repository's issues, we'll use the [GitHub REST API](https://docs.github.com/en/rest) to poll the [`Issues` endpoint](https://docs.github.com/en/rest/reference/issues#list-repository-issues). This endpoint returns a list of JSON objects, with each object containing a large number of fields that include the title and description as well as metadata about the status of the issue and so on.\n",
        "\n",
        "A convenient way to download the issues is via the `requests` library, which is the standard way for making HTTP requests in Python. You can install the library by running:"
      ],
      "metadata": {
        "id": "WCpUI9qOtHP8"
      }
    },
    {
      "cell_type": "code",
      "execution_count": 4,
      "metadata": {
        "id": "8rtUF0b_s4Vf"
      },
      "outputs": [],
      "source": [
        "%%capture\n",
        "!pip install requests"
      ]
    },
    {
      "cell_type": "markdown",
      "source": [
        "Once the library is installed, you can make GET requests to the `Issues` endpoint by invoking the `requests.get()` function. For example, you can run the following command to retrieve the first issue on the first page:\n"
      ],
      "metadata": {
        "id": "x5ZjMAwZtWP_"
      }
    },
    {
      "cell_type": "code",
      "execution_count": 5,
      "metadata": {
        "id": "dPfoHClWs4Vf"
      },
      "outputs": [],
      "source": [
        "import requests\n",
        "\n",
        "url = \"https://api.github.com/repos/huggingface/datasets/issues?page=1&per_page=1\"\n",
        "response = requests.get(url)"
      ]
    },
    {
      "cell_type": "markdown",
      "source": [
        "The `response` object contains a lot of useful information about the request, including the HTTP status code:"
      ],
      "metadata": {
        "id": "IdsIHlcItXWi"
      }
    },
    {
      "cell_type": "code",
      "execution_count": 6,
      "metadata": {
        "id": "551gLb-8s4Vg",
        "outputId": "c4219df9-f62e-4d8e-f696-dae2f790aa7f",
        "colab": {
          "base_uri": "https://localhost:8080/"
        }
      },
      "outputs": [
        {
          "output_type": "execute_result",
          "data": {
            "text/plain": [
              "200"
            ]
          },
          "metadata": {},
          "execution_count": 6
        }
      ],
      "source": [
        "response.status_code"
      ]
    },
    {
      "cell_type": "markdown",
      "source": [
        "where a `200` status means the request was successful (you can find a list of possible HTTP status codes [here](https://en.wikipedia.org/wiki/List_of_HTTP_status_codes)). What we are really interested in, though, is the _payload_, which can be accessed in various formats like bytes, strings, or JSON. Since we know our issues are in JSON format, let's inspect the payload as follows:\n"
      ],
      "metadata": {
        "id": "Msa8PlpQtbcg"
      }
    },
    {
      "cell_type": "code",
      "execution_count": 7,
      "metadata": {
        "id": "aiZf6eTMs4Vh",
        "outputId": "9d840188-73bf-425b-9562-07519dbb9fda",
        "colab": {
          "base_uri": "https://localhost:8080/"
        }
      },
      "outputs": [
        {
          "output_type": "execute_result",
          "data": {
            "text/plain": [
              "[{'url': 'https://api.github.com/repos/huggingface/datasets/issues/7077',\n",
              "  'repository_url': 'https://api.github.com/repos/huggingface/datasets',\n",
              "  'labels_url': 'https://api.github.com/repos/huggingface/datasets/issues/7077/labels{/name}',\n",
              "  'comments_url': 'https://api.github.com/repos/huggingface/datasets/issues/7077/comments',\n",
              "  'events_url': 'https://api.github.com/repos/huggingface/datasets/issues/7077/events',\n",
              "  'html_url': 'https://github.com/huggingface/datasets/issues/7077',\n",
              "  'id': 2432345489,\n",
              "  'node_id': 'I_kwDODunzps6Q-qWR',\n",
              "  'number': 7077,\n",
              "  'title': 'column_names ignored by load_dataset() when loading CSV file',\n",
              "  'user': {'login': 'luismsgomes',\n",
              "   'id': 9130265,\n",
              "   'node_id': 'MDQ6VXNlcjkxMzAyNjU=',\n",
              "   'avatar_url': 'https://avatars.githubusercontent.com/u/9130265?v=4',\n",
              "   'gravatar_id': '',\n",
              "   'url': 'https://api.github.com/users/luismsgomes',\n",
              "   'html_url': 'https://github.com/luismsgomes',\n",
              "   'followers_url': 'https://api.github.com/users/luismsgomes/followers',\n",
              "   'following_url': 'https://api.github.com/users/luismsgomes/following{/other_user}',\n",
              "   'gists_url': 'https://api.github.com/users/luismsgomes/gists{/gist_id}',\n",
              "   'starred_url': 'https://api.github.com/users/luismsgomes/starred{/owner}{/repo}',\n",
              "   'subscriptions_url': 'https://api.github.com/users/luismsgomes/subscriptions',\n",
              "   'organizations_url': 'https://api.github.com/users/luismsgomes/orgs',\n",
              "   'repos_url': 'https://api.github.com/users/luismsgomes/repos',\n",
              "   'events_url': 'https://api.github.com/users/luismsgomes/events{/privacy}',\n",
              "   'received_events_url': 'https://api.github.com/users/luismsgomes/received_events',\n",
              "   'type': 'User',\n",
              "   'site_admin': False},\n",
              "  'labels': [],\n",
              "  'state': 'open',\n",
              "  'locked': False,\n",
              "  'assignee': None,\n",
              "  'assignees': [],\n",
              "  'milestone': None,\n",
              "  'comments': 0,\n",
              "  'created_at': '2024-07-26T14:18:04Z',\n",
              "  'updated_at': '2024-07-26T14:18:04Z',\n",
              "  'closed_at': None,\n",
              "  'author_association': 'NONE',\n",
              "  'active_lock_reason': None,\n",
              "  'body': '### Describe the bug\\n\\nload_dataset() ignores the column_names kwarg when loading a CSV file.  Instead, it uses whatever values are on the first line of the file.\\r\\n\\n\\n### Steps to reproduce the bug\\n\\nCall `load_dataset` to load data from a CSV file and specify `column_names` kwarg.\\n\\n### Expected behavior\\n\\nThe resulting dataset should have the specified column names **and** the first line of the file should be considered as data values.\\n\\n### Environment info\\n\\n- `datasets` version: 2.20.0\\r\\n- Platform: Linux-5.10.0-30-cloud-amd64-x86_64-with-glibc2.31\\r\\n- Python version: 3.9.2\\r\\n- `huggingface_hub` version: 0.24.2\\r\\n- PyArrow version: 17.0.0\\r\\n- Pandas version: 2.2.2\\r\\n- `fsspec` version: 2024.5.0',\n",
              "  'reactions': {'url': 'https://api.github.com/repos/huggingface/datasets/issues/7077/reactions',\n",
              "   'total_count': 0,\n",
              "   '+1': 0,\n",
              "   '-1': 0,\n",
              "   'laugh': 0,\n",
              "   'hooray': 0,\n",
              "   'confused': 0,\n",
              "   'heart': 0,\n",
              "   'rocket': 0,\n",
              "   'eyes': 0},\n",
              "  'timeline_url': 'https://api.github.com/repos/huggingface/datasets/issues/7077/timeline',\n",
              "  'performed_via_github_app': None,\n",
              "  'state_reason': None}]"
            ]
          },
          "metadata": {},
          "execution_count": 7
        }
      ],
      "source": [
        "response.json()"
      ]
    },
    {
      "cell_type": "markdown",
      "source": [
        "Whoa, that's a lot of information! We can see useful fields like `title`, `body`, and `number` that describe the issue, as well as information about the GitHub user who opened the issue.\n",
        "\n",
        "<Tip>\n",
        "\n",
        "✏️ **Try it out!** Click on a few of the URLs in the JSON payload above to get a feel for what type of information each GitHub issue is linked to.\n",
        "\n",
        "</Tip>"
      ],
      "metadata": {
        "id": "mP3M4_2htkxd"
      }
    },
    {
      "cell_type": "markdown",
      "source": [
        "As described in the GitHub [documentation](https://docs.github.com/en/rest/overview/resources-in-the-rest-api#rate-limiting), unauthenticated requests are limited to 60 requests per hour. Although you can increase the `per_page` query parameter to reduce the number of requests you make, you will still hit the rate limit on any repository that has more than a few thousand issues. So instead, you should follow GitHub's [instructions](https://docs.github.com/en/github/authenticating-to-github/creating-a-personal-access-token) on creating a _personal access token_ so that you can boost the rate limit to 5,000 requests per hour. Once you have your token, you can include it as part of the request header:\n"
      ],
      "metadata": {
        "id": "yAnIM7ahtow5"
      }
    },
    {
      "cell_type": "code",
      "execution_count": 8,
      "metadata": {
        "id": "kwRhwWMCs4Vh"
      },
      "outputs": [],
      "source": [
        "GITHUB_TOKEN = xxx  # Copy your GitHub token here\n",
        "headers = {\"Authorization\": f\"token {GITHUB_TOKEN}\"}"
      ]
    },
    {
      "cell_type": "markdown",
      "source": [
        "<Tip warning={true}>\n",
        "\n",
        "⚠️ Do not share a notebook with your `GITHUB_TOKEN` pasted in it. We recommend you delete the last cell once you have executed it to avoid leaking this information accidentally. Even better, store the token in a *.env* file and use the [`python-dotenv` library](https://github.com/theskumar/python-dotenv) to load it automatically for you as an environment variable.\n",
        "\n",
        "</Tip>"
      ],
      "metadata": {
        "id": "GvlvNF3ytsLC"
      }
    },
    {
      "cell_type": "markdown",
      "source": [
        "Now that we have our access token, let's create a function that can download all the issues from a GitHub repository:"
      ],
      "metadata": {
        "id": "i2r0mMhKtuqR"
      }
    },
    {
      "cell_type": "code",
      "execution_count": 9,
      "metadata": {
        "id": "h8UwhvnJs4Vh"
      },
      "outputs": [],
      "source": [
        "import time\n",
        "import math\n",
        "from pathlib import Path\n",
        "import pandas as pd\n",
        "from tqdm.notebook import tqdm\n",
        "\n",
        "\n",
        "def fetch_issues(\n",
        "    owner=\"huggingface\",\n",
        "    repo=\"datasets\",\n",
        "    num_issues=10_000,\n",
        "    rate_limit=5_000,\n",
        "    issues_path=Path(\".\"),\n",
        "):\n",
        "    if not issues_path.is_dir():\n",
        "        issues_path.mkdir(exist_ok=True)\n",
        "\n",
        "    batch = []\n",
        "    all_issues = []\n",
        "    per_page = 100  # Number of issues to return per page\n",
        "    num_pages = math.ceil(num_issues / per_page)\n",
        "    base_url = \"https://api.github.com/repos\"\n",
        "\n",
        "    for page in tqdm(range(num_pages)):\n",
        "        # Query with state=all to get both open and closed issues\n",
        "        query = f\"issues?page={page}&per_page={per_page}&state=all\"\n",
        "        issues = requests.get(f\"{base_url}/{owner}/{repo}/{query}\", headers=headers)\n",
        "        batch.extend(issues.json())\n",
        "\n",
        "        if len(batch) > rate_limit and len(all_issues) < num_issues:\n",
        "            all_issues.extend(batch)\n",
        "            batch = []  # Flush batch for next time period\n",
        "            print(f\"Reached GitHub rate limit. Sleeping for thirty seconds ...\")\n",
        "            time.sleep(30 + 1)\n",
        "\n",
        "    all_issues.extend(batch)\n",
        "    df = pd.DataFrame.from_records(all_issues)\n",
        "    df.to_json(f\"{issues_path}/{repo}-issues.jsonl\", orient=\"records\", lines=True)\n",
        "    print(\n",
        "        f\"Downloaded all the issues for {repo}! Dataset stored at {issues_path}/{repo}-issues.jsonl\"\n",
        "    )"
      ]
    },
    {
      "cell_type": "markdown",
      "source": [
        "Now when we call `fetch_issues()` it will download all the issues in batches to avoid exceeding GitHub's limit on the number of requests per hour; the result will be stored in a _repository_name-issues.jsonl_ file, where each line is a JSON object the represents an issue. Let's use this function to grab all the issues from 🤗 Datasets:\n"
      ],
      "metadata": {
        "id": "7z5NrgfZty4q"
      }
    },
    {
      "cell_type": "code",
      "execution_count": 10,
      "metadata": {
        "id": "jkn_WnpJs4Vi",
        "outputId": "4e7a79f6-b2f4-41a3-fb8d-eb740897bd46",
        "colab": {
          "base_uri": "https://localhost:8080/",
          "height": 105,
          "referenced_widgets": [
            "2afd4ac9c4734070a6c23c24b146a436",
            "c57f58e7e1074d28b7b145c9502ff83a",
            "4649df27eea445d8ba8b67ec14d2bd74",
            "ac7cb7ba20e14a0d99088a7ac2cf2244",
            "b04ce8a6f8274e81a374776d0c7e06e2",
            "68de57222380438ca9841e35f0279c19",
            "b3b2e381d1da43d0826ae3851cf895c3",
            "23c09770ce9d44b1bb4e5fac72e499b4",
            "6a6649c911cf48899c4e1750193d5131",
            "369ed1ce5e704f5c955cede7e6941183",
            "ad169adb25f24430b7ad92966f9f4ab1"
          ]
        }
      },
      "outputs": [
        {
          "output_type": "display_data",
          "data": {
            "text/plain": [
              "  0%|          | 0/100 [00:00<?, ?it/s]"
            ],
            "application/vnd.jupyter.widget-view+json": {
              "version_major": 2,
              "version_minor": 0,
              "model_id": "2afd4ac9c4734070a6c23c24b146a436"
            }
          },
          "metadata": {}
        },
        {
          "output_type": "stream",
          "name": "stdout",
          "text": [
            "Reached GitHub rate limit. Sleeping for thirty seconds ...\n",
            "Downloaded all the issues for datasets! Dataset stored at ./datasets-issues.jsonl\n"
          ]
        }
      ],
      "source": [
        "# Depending on your internet connection, this can take several minutes to run...\n",
        "fetch_issues()"
      ]
    },
    {
      "cell_type": "markdown",
      "source": [
        "Once the issues are downloaded we can load them locally using our newfound skills from [section 2](https://huggingface.co/course/chapter5/2):"
      ],
      "metadata": {
        "id": "YTxhCvNItzzz"
      }
    },
    {
      "cell_type": "code",
      "source": [
        "import pandas as pd\n",
        "\n",
        "df = pd.read_json(\"datasets-issues.jsonl\", lines=True)\n",
        "print(df.dtypes)"
      ],
      "metadata": {
        "id": "DZkqEUei42oe",
        "outputId": "d6e5f99e-9847-48f7-f342-e1889601b4cc",
        "colab": {
          "base_uri": "https://localhost:8080/"
        }
      },
      "execution_count": 11,
      "outputs": [
        {
          "output_type": "stream",
          "name": "stdout",
          "text": [
            "url                                      object\n",
            "repository_url                           object\n",
            "labels_url                               object\n",
            "comments_url                             object\n",
            "events_url                               object\n",
            "html_url                                 object\n",
            "id                                        int64\n",
            "node_id                                  object\n",
            "number                                    int64\n",
            "title                                    object\n",
            "user                                     object\n",
            "labels                                   object\n",
            "state                                    object\n",
            "locked                                     bool\n",
            "assignee                                 object\n",
            "assignees                                object\n",
            "milestone                                object\n",
            "comments                                  int64\n",
            "created_at                  datetime64[ns, UTC]\n",
            "updated_at                  datetime64[ns, UTC]\n",
            "closed_at                   datetime64[ns, UTC]\n",
            "author_association                       object\n",
            "active_lock_reason                      float64\n",
            "body                                     object\n",
            "reactions                                object\n",
            "timeline_url                             object\n",
            "performed_via_github_app                float64\n",
            "state_reason                             object\n",
            "draft                                   float64\n",
            "pull_request                             object\n",
            "dtype: object\n"
          ]
        }
      ]
    },
    {
      "cell_type": "code",
      "source": [
        "import pandas as pd\n",
        "from datasets import load_dataset\n",
        "\n",
        "def preprocess_timestamps(input_file, output_file, timestamp_columns):\n",
        "    df = pd.read_json(input_file, lines=True)\n",
        "\n",
        "    # Convert timestamps to handle null values\n",
        "    for column in timestamp_columns:\n",
        "        df[column] = pd.to_datetime(df[column], errors='coerce')\n",
        "        df[column] = df[column].fillna(pd.Timestamp('1970-01-01'))\n",
        "\n",
        "    # Save the preprocessed DataFrame to a new JSONL file\n",
        "    df.to_json(output_file, orient='records', lines=True)\n",
        "\n",
        "    # Verify the conversion\n",
        "    print(df[timestamp_columns].head(10))\n",
        "\n",
        "timestamp_columns = ['created_at', 'updated_at', 'closed_at']\n",
        "preprocess_timestamps(\"datasets-issues.jsonl\", \"datasets-issues-preprocessed.jsonl\", timestamp_columns)"
      ],
      "metadata": {
        "id": "bCV_R9Tf4m0A",
        "outputId": "0e68c6a8-23e9-4525-d295-a6d0d14e5c96",
        "colab": {
          "base_uri": "https://localhost:8080/"
        }
      },
      "execution_count": 12,
      "outputs": [
        {
          "output_type": "stream",
          "name": "stdout",
          "text": [
            "                 created_at                updated_at  \\\n",
            "0 2024-07-27 08:21:03+00:00 2024-07-27 20:06:44+00:00   \n",
            "1 2024-07-27 05:32:40+00:00 2024-07-27 05:50:57+00:00   \n",
            "2 2024-07-26 14:18:04+00:00 2024-07-26 14:18:04+00:00   \n",
            "3 2024-07-26 13:44:42+00:00 2024-07-27 05:48:17+00:00   \n",
            "4 2024-07-26 11:24:35+00:00 2024-07-26 11:46:52+00:00   \n",
            "5 2024-07-26 09:03:33+00:00 2024-07-26 09:23:33+00:00   \n",
            "6 2024-07-26 08:27:41+00:00 2024-07-27 05:48:02+00:00   \n",
            "7 2024-07-25 17:03:24+00:00 2024-07-25 20:36:11+00:00   \n",
            "8 2024-07-25 15:29:05+00:00 2024-07-25 15:36:59+00:00   \n",
            "9 2024-07-25 15:19:34+00:00 2024-07-25 15:19:34+00:00   \n",
            "\n",
            "                   closed_at  \n",
            "0  2024-07-27 19:52:30+00:00  \n",
            "1  2024-07-27 05:44:32+00:00  \n",
            "2        1970-01-01 00:00:00  \n",
            "3  2024-07-27 05:48:17+00:00  \n",
            "4  2024-07-26 11:40:49+00:00  \n",
            "5  2024-07-26 09:16:12+00:00  \n",
            "6  2024-07-26 09:16:13+00:00  \n",
            "7  2024-07-25 20:36:11+00:00  \n",
            "8        1970-01-01 00:00:00  \n",
            "9        1970-01-01 00:00:00  \n"
          ]
        }
      ]
    },
    {
      "cell_type": "code",
      "execution_count": 16,
      "metadata": {
        "id": "rCiizy7Os4Vi",
        "outputId": "80569bbf-1e71-4b90-cc12-ccca5fd3d9e9",
        "colab": {
          "base_uri": "https://localhost:8080/"
        }
      },
      "outputs": [
        {
          "output_type": "execute_result",
          "data": {
            "text/plain": [
              "Dataset({\n",
              "    features: ['url', 'repository_url', 'labels_url', 'comments_url', 'events_url', 'html_url', 'id', 'node_id', 'number', 'title', 'user', 'labels', 'state', 'locked', 'assignee', 'assignees', 'milestone', 'comments', 'created_at', 'updated_at', 'closed_at', 'author_association', 'active_lock_reason', 'body', 'reactions', 'timeline_url', 'performed_via_github_app', 'state_reason', 'draft', 'pull_request'],\n",
              "    num_rows: 7038\n",
              "})"
            ]
          },
          "metadata": {},
          "execution_count": 16
        }
      ],
      "source": [
        "import pandas as pd\n",
        "from datasets import Dataset\n",
        "df = pd.read_json('datasets-issues.jsonl', orient='records', lines=True)\n",
        "issues_dataset = Dataset.from_pandas(df, split=\"train\")\n",
        "issues_dataset"
      ]
    },
    {
      "cell_type": "markdown",
      "source": [
        "Great, we've created our first dataset from scratch! But why are there several thousand issues when the [Issues tab](https://github.com/huggingface/datasets/issues) of the 🤗 Datasets repository only shows around 1,000 issues in total 🤔? As described in the GitHub [documentation](https://docs.github.com/en/rest/reference/issues#list-issues-assigned-to-the-authenticated-user), that's because we've downloaded all the pull requests as well:\n",
        "\n",
        "> GitHub's REST API v3 considers every pull request an issue, but not every issue is a pull request. For this reason, \"Issues\" endpoints may return both issues and pull requests in the response. You can identify pull requests by the `pull_request` key. Be aware that the `id` of a pull request returned from \"Issues\" endpoints will be an issue id.\n",
        "\n",
        "Since the contents of issues and pull requests are quite different, let's do some minor preprocessing to enable us to distinguish between them.\n"
      ],
      "metadata": {
        "id": "vTChaxqat6qv"
      }
    },
    {
      "cell_type": "markdown",
      "source": [
        "## Cleaning up the data\n",
        "\n",
        "The above snippet from GitHub's documentation tells us that the `pull_request` column can be used to differentiate between issues and pull requests. Let's look at a random sample to see what the difference is. As we did in [section 3](https://huggingface.co/course/chapter5/3), we'll chain `Dataset.shuffle()` and `Dataset.select()` to create a random sample and then zip the `html_url` and `pull_request` columns so we can compare the various URLs:\n"
      ],
      "metadata": {
        "id": "BGiLIw86t_lb"
      }
    },
    {
      "cell_type": "code",
      "execution_count": 17,
      "metadata": {
        "id": "SOW4wOQps4Vi",
        "outputId": "7fe90cf3-3e84-4fa8-a60c-6307d2eb3d50",
        "colab": {
          "base_uri": "https://localhost:8080/"
        }
      },
      "outputs": [
        {
          "output_type": "stream",
          "name": "stdout",
          "text": [
            ">> URL: https://github.com/huggingface/datasets/pull/4497\n",
            ">> Pull request: {'diff_url': 'https://github.com/huggingface/datasets/pull/4497.diff', 'html_url': 'https://github.com/huggingface/datasets/pull/4497', 'merged_at': '2022-06-15T10:23:44Z', 'patch_url': 'https://github.com/huggingface/datasets/pull/4497.patch', 'url': 'https://api.github.com/repos/huggingface/datasets/pulls/4497'}\n",
            "\n",
            ">> URL: https://github.com/huggingface/datasets/pull/2973\n",
            ">> Pull request: {'diff_url': 'https://github.com/huggingface/datasets/pull/2973.diff', 'html_url': 'https://github.com/huggingface/datasets/pull/2973', 'merged_at': '2021-09-27T12:59:58Z', 'patch_url': 'https://github.com/huggingface/datasets/pull/2973.patch', 'url': 'https://api.github.com/repos/huggingface/datasets/pulls/2973'}\n",
            "\n",
            ">> URL: https://github.com/huggingface/datasets/issues/2743\n",
            ">> Pull request: None\n",
            "\n"
          ]
        }
      ],
      "source": [
        "sample = issues_dataset.shuffle(seed=666).select(range(3))\n",
        "\n",
        "# Print out the URL and pull request entries\n",
        "for url, pr in zip(sample[\"html_url\"], sample[\"pull_request\"]):\n",
        "    print(f\">> URL: {url}\")\n",
        "    print(f\">> Pull request: {pr}\\n\")"
      ]
    },
    {
      "cell_type": "markdown",
      "source": [
        "Here we can see that each pull request is associated with various URLs, while ordinary issues have a `None` entry. We can use this distinction to create a new `is_pull_request` column that checks whether the `pull_request` field is `None` or not:\n"
      ],
      "metadata": {
        "id": "p1fc1iLvuItM"
      }
    },
    {
      "cell_type": "code",
      "execution_count": 18,
      "metadata": {
        "id": "Tqw-weNBs4Vj",
        "outputId": "f21841ef-8852-4c97-fa85-c90921bb60d9",
        "colab": {
          "base_uri": "https://localhost:8080/",
          "height": 69,
          "referenced_widgets": [
            "37853ba7500b4dbba0f6fc1d4800637a",
            "2fa422139e7d421a9afdb59b0f0ba8e3",
            "54a90e90c9844ed682dfaba02cd8bbd0",
            "49ac3d442d5c45bdb6ed8ff19a5a2f76",
            "d48d30a29e234133b12025e8375483ae",
            "639bff8a161e451ab96e003797a8c67d",
            "6da6d144b69d4c638ea943c2976708ee",
            "6c81f38e216f4101b63f20c4ba07b2f6",
            "9c27468fc2054bb9ba91656436262639",
            "3e2d887c5b794a1bb4389becc5788f04",
            "6f41404cba8647798217b1d9b3d8e5e4"
          ]
        }
      },
      "outputs": [
        {
          "output_type": "display_data",
          "data": {
            "text/plain": [
              "Map:   0%|          | 0/7038 [00:00<?, ? examples/s]"
            ],
            "application/vnd.jupyter.widget-view+json": {
              "version_major": 2,
              "version_minor": 0,
              "model_id": "37853ba7500b4dbba0f6fc1d4800637a"
            }
          },
          "metadata": {}
        }
      ],
      "source": [
        "issues_dataset = issues_dataset.map(\n",
        "    lambda x: {\"is_pull_request\": False if x[\"pull_request\"] is None else True}\n",
        ")"
      ]
    },
    {
      "cell_type": "markdown",
      "source": [
        "<Tip>\n",
        "\n",
        "✏️ **Try it out!** Calculate the average time it takes to close issues in 🤗 Datasets. You may find the `Dataset.filter()` function useful to filter out the pull requests and open issues, and you can use the `Dataset.set_format()` function to convert the dataset to a `DataFrame` so you can easily manipulate the `created_at` and `closed_at` timestamps. For bonus points, calculate the average time it takes to close pull requests.\n",
        "\n",
        "</Tip>"
      ],
      "metadata": {
        "id": "9bwCThO8uM7P"
      }
    },
    {
      "cell_type": "markdown",
      "source": [
        "\n",
        "Although we could proceed to further clean up the dataset by dropping or renaming some columns, it is generally a good practice to keep the dataset as \"raw\" as possible at this stage so that it can be easily used in multiple applications.\n",
        "\n",
        "Before we push our dataset to the Hugging Face Hub, let's deal with one thing that's missing from it: the comments associated with each issue and pull request. We'll add them next with -- you guessed it -- the GitHub REST API!\n"
      ],
      "metadata": {
        "id": "6AqAeNgTuQmu"
      }
    },
    {
      "cell_type": "markdown",
      "source": [
        "## Augmenting the dataset\n",
        "\n",
        "As shown in the following screenshot, the comments associated with an issue or pull request provide a rich source of information, especially if we're interested in building a search engine to answer user queries about the library.\n",
        "\n",
        "<div class=\"flex justify-center\">\n",
        "<img src=\"https://huggingface.co/datasets/huggingface-course/documentation-images/resolve/main/en/chapter5/datasets-issues-comment.png\" alt=\"Comments associated with an issue about 🤗 Datasets.\" width=\"80%\"/>\n",
        "</div>\n",
        "\n",
        "The GitHub REST API provides a [`Comments` endpoint](https://docs.github.com/en/rest/reference/issues#list-issue-comments) that returns all the comments associated with an issue number. Let's test the endpoint to see what it returns:\n"
      ],
      "metadata": {
        "id": "Mznx-6U1uRzx"
      }
    },
    {
      "cell_type": "code",
      "execution_count": 19,
      "metadata": {
        "id": "bAhzzk3Rs4Vj",
        "outputId": "187d52e4-3891-403b-d77a-43509e1be217",
        "colab": {
          "base_uri": "https://localhost:8080/"
        }
      },
      "outputs": [
        {
          "output_type": "execute_result",
          "data": {
            "text/plain": [
              "[{'url': 'https://api.github.com/repos/huggingface/datasets/issues/comments/897594128',\n",
              "  'html_url': 'https://github.com/huggingface/datasets/pull/2792#issuecomment-897594128',\n",
              "  'issue_url': 'https://api.github.com/repos/huggingface/datasets/issues/2792',\n",
              "  'id': 897594128,\n",
              "  'node_id': 'IC_kwDODunzps41gDMQ',\n",
              "  'user': {'login': 'bhavitvyamalik',\n",
              "   'id': 19718818,\n",
              "   'node_id': 'MDQ6VXNlcjE5NzE4ODE4',\n",
              "   'avatar_url': 'https://avatars.githubusercontent.com/u/19718818?v=4',\n",
              "   'gravatar_id': '',\n",
              "   'url': 'https://api.github.com/users/bhavitvyamalik',\n",
              "   'html_url': 'https://github.com/bhavitvyamalik',\n",
              "   'followers_url': 'https://api.github.com/users/bhavitvyamalik/followers',\n",
              "   'following_url': 'https://api.github.com/users/bhavitvyamalik/following{/other_user}',\n",
              "   'gists_url': 'https://api.github.com/users/bhavitvyamalik/gists{/gist_id}',\n",
              "   'starred_url': 'https://api.github.com/users/bhavitvyamalik/starred{/owner}{/repo}',\n",
              "   'subscriptions_url': 'https://api.github.com/users/bhavitvyamalik/subscriptions',\n",
              "   'organizations_url': 'https://api.github.com/users/bhavitvyamalik/orgs',\n",
              "   'repos_url': 'https://api.github.com/users/bhavitvyamalik/repos',\n",
              "   'events_url': 'https://api.github.com/users/bhavitvyamalik/events{/privacy}',\n",
              "   'received_events_url': 'https://api.github.com/users/bhavitvyamalik/received_events',\n",
              "   'type': 'User',\n",
              "   'site_admin': False},\n",
              "  'created_at': '2021-08-12T12:21:52Z',\n",
              "  'updated_at': '2021-08-12T12:31:17Z',\n",
              "  'author_association': 'CONTRIBUTOR',\n",
              "  'body': \"@albertvillanova my tests are failing here:\\r\\n```\\r\\ndataset_name = 'gooaq'\\r\\n\\r\\n    def test_load_dataset(self, dataset_name):\\r\\n        configs = self.dataset_tester.load_all_configs(dataset_name, is_local=True)[:1]\\r\\n>       self.dataset_tester.check_load_dataset(dataset_name, configs, is_local=True, use_local_dummy_data=True)\\r\\n\\r\\ntests/test_dataset_common.py:234: \\r\\n_ _ _ _ _ _ _ _ _ _ _ _ _ _ _ _ _ _ _ _ _ _ _ _ _ _ _ _ _ _ _ _ _ _ _ _ _ _ _ _ \\r\\ntests/test_dataset_common.py:187: in check_load_dataset\\r\\n    self.parent.assertTrue(len(dataset[split]) > 0)\\r\\nE   AssertionError: False is not true\\r\\n```\\r\\nWhen I try loading dataset on local machine it works fine. Any suggestions on how can I avoid this error?\",\n",
              "  'reactions': {'url': 'https://api.github.com/repos/huggingface/datasets/issues/comments/897594128/reactions',\n",
              "   'total_count': 0,\n",
              "   '+1': 0,\n",
              "   '-1': 0,\n",
              "   'laugh': 0,\n",
              "   'hooray': 0,\n",
              "   'confused': 0,\n",
              "   'heart': 0,\n",
              "   'rocket': 0,\n",
              "   'eyes': 0},\n",
              "  'performed_via_github_app': None},\n",
              " {'url': 'https://api.github.com/repos/huggingface/datasets/issues/comments/898644889',\n",
              "  'html_url': 'https://github.com/huggingface/datasets/pull/2792#issuecomment-898644889',\n",
              "  'issue_url': 'https://api.github.com/repos/huggingface/datasets/issues/2792',\n",
              "  'id': 898644889,\n",
              "  'node_id': 'IC_kwDODunzps41kDuZ',\n",
              "  'user': {'login': 'bhavitvyamalik',\n",
              "   'id': 19718818,\n",
              "   'node_id': 'MDQ6VXNlcjE5NzE4ODE4',\n",
              "   'avatar_url': 'https://avatars.githubusercontent.com/u/19718818?v=4',\n",
              "   'gravatar_id': '',\n",
              "   'url': 'https://api.github.com/users/bhavitvyamalik',\n",
              "   'html_url': 'https://github.com/bhavitvyamalik',\n",
              "   'followers_url': 'https://api.github.com/users/bhavitvyamalik/followers',\n",
              "   'following_url': 'https://api.github.com/users/bhavitvyamalik/following{/other_user}',\n",
              "   'gists_url': 'https://api.github.com/users/bhavitvyamalik/gists{/gist_id}',\n",
              "   'starred_url': 'https://api.github.com/users/bhavitvyamalik/starred{/owner}{/repo}',\n",
              "   'subscriptions_url': 'https://api.github.com/users/bhavitvyamalik/subscriptions',\n",
              "   'organizations_url': 'https://api.github.com/users/bhavitvyamalik/orgs',\n",
              "   'repos_url': 'https://api.github.com/users/bhavitvyamalik/repos',\n",
              "   'events_url': 'https://api.github.com/users/bhavitvyamalik/events{/privacy}',\n",
              "   'received_events_url': 'https://api.github.com/users/bhavitvyamalik/received_events',\n",
              "   'type': 'User',\n",
              "   'site_admin': False},\n",
              "  'created_at': '2021-08-13T18:28:27Z',\n",
              "  'updated_at': '2021-08-13T18:28:27Z',\n",
              "  'author_association': 'CONTRIBUTOR',\n",
              "  'body': 'Thanks for the help, @albertvillanova! All tests are passing now.',\n",
              "  'reactions': {'url': 'https://api.github.com/repos/huggingface/datasets/issues/comments/898644889/reactions',\n",
              "   'total_count': 0,\n",
              "   '+1': 0,\n",
              "   '-1': 0,\n",
              "   'laugh': 0,\n",
              "   'hooray': 0,\n",
              "   'confused': 0,\n",
              "   'heart': 0,\n",
              "   'rocket': 0,\n",
              "   'eyes': 0},\n",
              "  'performed_via_github_app': None}]"
            ]
          },
          "metadata": {},
          "execution_count": 19
        }
      ],
      "source": [
        "issue_number = 2792\n",
        "url = f\"https://api.github.com/repos/huggingface/datasets/issues/{issue_number}/comments\"\n",
        "response = requests.get(url, headers=headers)\n",
        "response.json()"
      ]
    },
    {
      "cell_type": "markdown",
      "source": [
        "We can see that the comment is stored in the `body` field, so let's write a simple function that returns all the comments associated with an issue by picking out the `body` contents for each element in `response.json()`:\n"
      ],
      "metadata": {
        "id": "QmIQgMc8uYhc"
      }
    },
    {
      "cell_type": "code",
      "execution_count": 20,
      "metadata": {
        "id": "5k_21L9Ds4Vj",
        "outputId": "d4046575-c7b3-4cda-e049-94d8f00bc8a5",
        "colab": {
          "base_uri": "https://localhost:8080/"
        }
      },
      "outputs": [
        {
          "output_type": "execute_result",
          "data": {
            "text/plain": [
              "[\"@albertvillanova my tests are failing here:\\r\\n```\\r\\ndataset_name = 'gooaq'\\r\\n\\r\\n    def test_load_dataset(self, dataset_name):\\r\\n        configs = self.dataset_tester.load_all_configs(dataset_name, is_local=True)[:1]\\r\\n>       self.dataset_tester.check_load_dataset(dataset_name, configs, is_local=True, use_local_dummy_data=True)\\r\\n\\r\\ntests/test_dataset_common.py:234: \\r\\n_ _ _ _ _ _ _ _ _ _ _ _ _ _ _ _ _ _ _ _ _ _ _ _ _ _ _ _ _ _ _ _ _ _ _ _ _ _ _ _ \\r\\ntests/test_dataset_common.py:187: in check_load_dataset\\r\\n    self.parent.assertTrue(len(dataset[split]) > 0)\\r\\nE   AssertionError: False is not true\\r\\n```\\r\\nWhen I try loading dataset on local machine it works fine. Any suggestions on how can I avoid this error?\",\n",
              " 'Thanks for the help, @albertvillanova! All tests are passing now.']"
            ]
          },
          "metadata": {},
          "execution_count": 20
        }
      ],
      "source": [
        "def get_comments(issue_number):\n",
        "    url = f\"https://api.github.com/repos/huggingface/datasets/issues/{issue_number}/comments\"\n",
        "    response = requests.get(url, headers=headers)\n",
        "    return [r[\"body\"] for r in response.json()]\n",
        "\n",
        "\n",
        "# Test our function works as expected\n",
        "get_comments(2792)"
      ]
    },
    {
      "cell_type": "markdown",
      "source": [
        "This looks good, so let's use `Dataset.map()` to add a new `comments` column to each issue in our dataset:"
      ],
      "metadata": {
        "id": "15b4eG9tub01"
      }
    },
    {
      "cell_type": "code",
      "execution_count": null,
      "metadata": {
        "id": "O8zdjJf0s4Vj",
        "outputId": "f6035028-e60c-4321-acdb-453cd3e6532e",
        "colab": {
          "base_uri": "https://localhost:8080/",
          "height": 69,
          "referenced_widgets": [
            "e87d6caf88b446b5b17534284c36bd3b",
            "026b3a9804c8487aad4298fd7db42bf5",
            "b3a366174cf94f3ba689196fe1aaa170",
            "87b1b072bfbd4383ad535ab4fb763636",
            "ecc3e298915b4b2ebb1659843fbd1e68",
            "b400b31631764158a8d0dd70324372c0",
            "5be5c1ec41fc4243abc299da3de5461d",
            "d6fd82eb399046e4bc70c126413632de",
            "b1f46d8b3694439eae9c27c7f57bbe7e",
            "22c699cb254f4af1ac8a4fc1d51e542a",
            "95fed7a9ed0d4de7bb13a1f3c0298ab5"
          ]
        }
      },
      "outputs": [
        {
          "output_type": "display_data",
          "data": {
            "text/plain": [
              "Map:   0%|          | 0/7038 [00:00<?, ? examples/s]"
            ],
            "application/vnd.jupyter.widget-view+json": {
              "version_major": 2,
              "version_minor": 0,
              "model_id": "e87d6caf88b446b5b17534284c36bd3b"
            }
          },
          "metadata": {}
        }
      ],
      "source": [
        "# Depending on your internet connection, this can take a few minutes...\n",
        "issues_with_comments_dataset = issues_dataset.map(\n",
        "    lambda x: {\"comments\": get_comments(x[\"number\"])}\n",
        ")"
      ]
    },
    {
      "cell_type": "markdown",
      "source": [
        "The final step is to push our dataset to the Hub. Let's take a look at how we can do that."
      ],
      "metadata": {
        "id": "2E8ZWkWsui5t"
      }
    },
    {
      "cell_type": "markdown",
      "source": [
        "## Uploading the dataset to the Hugging Face Hub"
      ],
      "metadata": {
        "id": "Cnnwpo7jumbQ"
      }
    },
    {
      "cell_type": "markdown",
      "source": [
        "Now that we have our augmented dataset, it's time to push it to the Hub so we can share it with the community! Uploading a dataset is very simple: just like models and tokenizers from 🤗 Transformers, we can use a `push_to_hub()` method to push a dataset. To do that we need an authentication token, which can be obtained by first logging into the Hugging Face Hub with the `notebook_login()` function:\n"
      ],
      "metadata": {
        "id": "lAMTZGsjunMI"
      }
    },
    {
      "cell_type": "code",
      "execution_count": null,
      "metadata": {
        "id": "f0_YNeNHs4Vk"
      },
      "outputs": [],
      "source": [
        "from huggingface_hub import notebook_login\n",
        "\n",
        "notebook_login()"
      ]
    },
    {
      "cell_type": "markdown",
      "source": [
        "This will create a widget where you can enter your username and password, and an API token will be saved in *~/.huggingface/token*. If you're running the code in a terminal, you can log in via the CLI instead:\n"
      ],
      "metadata": {
        "id": "2lzPZAjpuprj"
      }
    },
    {
      "cell_type": "code",
      "source": [
        "#huggingface-cli login"
      ],
      "metadata": {
        "id": "xGvGiG6AuyAt"
      },
      "execution_count": null,
      "outputs": []
    },
    {
      "cell_type": "markdown",
      "source": [
        "Once we’ve done this, we can upload our dataset by running:"
      ],
      "metadata": {
        "id": "YeV6D9p1u080"
      }
    },
    {
      "cell_type": "code",
      "execution_count": null,
      "metadata": {
        "id": "Oc52OWjNs4Vk"
      },
      "outputs": [],
      "source": [
        "issues_with_comments_dataset.push_to_hub(\"github-issues\")"
      ]
    },
    {
      "cell_type": "markdown",
      "source": [
        "From here, anyone can download the dataset by simply providing `load_dataset()` with the repository ID as the `path` argument:"
      ],
      "metadata": {
        "id": "ZuK6yWuWu6iu"
      }
    },
    {
      "cell_type": "code",
      "execution_count": null,
      "metadata": {
        "id": "tn8_vDYvs4Vk"
      },
      "outputs": [],
      "source": [
        "remote_dataset = load_dataset(\"lewtun/github-issues\", split=\"train\")\n",
        "remote_dataset"
      ]
    },
    {
      "cell_type": "markdown",
      "source": [
        "Cool, we've pushed our dataset to the Hub and it's available for others to use! There's just one important thing left to do: adding a _dataset card_ that explains how the corpus was created and provides other useful information for the community.\n"
      ],
      "metadata": {
        "id": "I3VX1OBpvAij"
      }
    },
    {
      "cell_type": "markdown",
      "source": [
        "<Tip>\n",
        "\n",
        "**Tip**💡: You can also upload a dataset to the Hugging Face Hub directly from the terminal by using `huggingface-cli` and a bit of Git magic. See the [🤗 Datasets guide](https://huggingface.co/docs/datasets/share#share-a-dataset-using-the-cli) for details on how to do this.\n",
        "\n",
        "</Tip>"
      ],
      "metadata": {
        "id": "MRE3kUX3vBhz"
      }
    },
    {
      "cell_type": "markdown",
      "source": [
        "\n",
        "## Creating a dataset card\n",
        "\n",
        "Well-documented datasets are more likely to be useful to others (including your future self!), as they provide the context to enable users to decide whether the dataset is relevant to their task and to evaluate any potential biases in or risks associated with using the dataset.\n",
        "\n",
        "On the Hugging Face Hub, this information is stored in each dataset repository's *README.md* file. There are two main steps you should take before creating this file:\n",
        "\n",
        "1. Use the [`datasets-tagging` application](https://huggingface.co/datasets/tagging/) to create metadata tags in YAML format. These tags are used for a variety of search features on the Hugging Face Hub and ensure your dataset can be easily found by members of the community. Since we have created a custom dataset here, you'll need to clone the `datasets-tagging` repository and run the application locally. Here's what the interface looks like:\n",
        "\n",
        "<div class=\"flex justify-center\">\n",
        "<img src=\"https://huggingface.co/datasets/huggingface-course/documentation-images/resolve/main/en/chapter5/datasets-tagger.png\" alt=\"The `datasets-tagging` interface.\" width=\"80%\"/>\n",
        "</div>\n",
        "\n",
        "2. Read the [🤗 Datasets guide](https://github.com/huggingface/datasets/blob/master/templates/README_guide.md) on creating informative dataset cards and use it as a template.\n",
        "\n",
        "You can create the *README.md* file directly on the Hub, and you can find a template dataset card in the `lewtun/github-issues` dataset repository. A screenshot of the filled-out dataset card is shown below.\n",
        "\n",
        "<div class=\"flex justify-center\">\n",
        "<img src=\"https://huggingface.co/datasets/huggingface-course/documentat"
      ],
      "metadata": {
        "id": "OwgOcUqfvEgk"
      }
    },
    {
      "cell_type": "markdown",
      "source": [
        "<div class=\"flex justify-center\">\n",
        "<img src=\"https://huggingface.co/datasets/huggingface-course/documentation-images/resolve/main/en/chapter5/dataset-card.png\" alt=\"A dataset card.\" width=\"80%\"/>\n",
        "</div>\n"
      ],
      "metadata": {
        "id": "50zc62LvveZk"
      }
    },
    {
      "cell_type": "markdown",
      "source": [
        "<Tip>\n",
        "\n",
        "✏️ **Try it out!** Use the `dataset-tagging` application and [🤗 Datasets guide](https://github.com/huggingface/datasets/blob/master/templates/README_guide.md) to complete the *README.md* file for your GitHub issues dataset.\n",
        "\n",
        "</Tip>"
      ],
      "metadata": {
        "id": "MA1tWj4dvmY8"
      }
    },
    {
      "cell_type": "markdown",
      "source": [
        "That's it! We've seen in this section that creating a good dataset can be quite involved, but fortunately uploading it and sharing it with the community is not. In the next section we'll use our new dataset to create a semantic search engine with 🤗 Datasets that can match questions to the most relevant issues and comments."
      ],
      "metadata": {
        "id": "LCO9wDTyvnWA"
      }
    },
    {
      "cell_type": "markdown",
      "source": [
        "<Tip>\n",
        "\n",
        "✏️ **Try it out!** Go through the steps we took in this section to create a dataset of GitHub issues for your favorite open source library (pick something other than 🤗 Datasets, of course!). For bonus points, fine-tune a multilabel classifier to predict the tags present in the `labels` field.\n",
        "\n",
        "</Tip>"
      ],
      "metadata": {
        "id": "o6AkqE8Mvrwr"
      }
    },
    {
      "cell_type": "code",
      "source": [],
      "metadata": {
        "id": "8z_-Sm_9vsBk"
      },
      "execution_count": null,
      "outputs": []
    }
  ],
  "metadata": {
    "colab": {
      "name": "Creating your own dataset",
      "provenance": [],
      "gpuType": "T4"
    },
    "language_info": {
      "name": "python"
    },
    "accelerator": "GPU",
    "kernelspec": {
      "name": "python3",
      "display_name": "Python 3"
    },
    "widgets": {
      "application/vnd.jupyter.widget-state+json": {
        "f115e2c6e4364e92a78385af022e5b9e": {
          "model_module": "@jupyter-widgets/controls",
          "model_name": "VBoxModel",
          "model_module_version": "1.5.0",
          "state": {
            "_dom_classes": [],
            "_model_module": "@jupyter-widgets/controls",
            "_model_module_version": "1.5.0",
            "_model_name": "VBoxModel",
            "_view_count": null,
            "_view_module": "@jupyter-widgets/controls",
            "_view_module_version": "1.5.0",
            "_view_name": "VBoxView",
            "box_style": "",
            "children": [
              "IPY_MODEL_8651ab7ea06b4c278780bb5f1b088edb",
              "IPY_MODEL_429ba41ffead472f82f75f2fb7380c89",
              "IPY_MODEL_bff7902103044d848155dc2bcd433f60",
              "IPY_MODEL_c0033d79da514b598a68f7017add91f0",
              "IPY_MODEL_67f0fe19206b45d5938ab81bc602eb03"
            ],
            "layout": "IPY_MODEL_4b834ba84cd94815bdf74d75f9b0b623"
          }
        },
        "8651ab7ea06b4c278780bb5f1b088edb": {
          "model_module": "@jupyter-widgets/controls",
          "model_name": "HTMLModel",
          "model_module_version": "1.5.0",
          "state": {
            "_dom_classes": [],
            "_model_module": "@jupyter-widgets/controls",
            "_model_module_version": "1.5.0",
            "_model_name": "HTMLModel",
            "_view_count": null,
            "_view_module": "@jupyter-widgets/controls",
            "_view_module_version": "1.5.0",
            "_view_name": "HTMLView",
            "description": "",
            "description_tooltip": null,
            "layout": "IPY_MODEL_90d3e30ab4e14186b960946635f50615",
            "placeholder": "​",
            "style": "IPY_MODEL_4680948c865d4167bece5fe64d14a50f",
            "value": "<center> <img\nsrc=https://huggingface.co/front/assets/huggingface_logo-noborder.svg\nalt='Hugging Face'> <br> Copy a token from <a\nhref=\"https://huggingface.co/settings/tokens\" target=\"_blank\">your Hugging Face\ntokens page</a> and paste it below. <br> Immediately click login after copying\nyour token or it might be stored in plain text in this notebook file. </center>"
          }
        },
        "429ba41ffead472f82f75f2fb7380c89": {
          "model_module": "@jupyter-widgets/controls",
          "model_name": "PasswordModel",
          "model_module_version": "1.5.0",
          "state": {
            "_dom_classes": [],
            "_model_module": "@jupyter-widgets/controls",
            "_model_module_version": "1.5.0",
            "_model_name": "PasswordModel",
            "_view_count": null,
            "_view_module": "@jupyter-widgets/controls",
            "_view_module_version": "1.5.0",
            "_view_name": "PasswordView",
            "continuous_update": true,
            "description": "Token:",
            "description_tooltip": null,
            "disabled": false,
            "layout": "IPY_MODEL_125e7cbdae8c425db1af02fbcdb245e5",
            "placeholder": "​",
            "style": "IPY_MODEL_8a17e533965d41cbbe9ea13238de1b3d",
            "value": ""
          }
        },
        "bff7902103044d848155dc2bcd433f60": {
          "model_module": "@jupyter-widgets/controls",
          "model_name": "CheckboxModel",
          "model_module_version": "1.5.0",
          "state": {
            "_dom_classes": [],
            "_model_module": "@jupyter-widgets/controls",
            "_model_module_version": "1.5.0",
            "_model_name": "CheckboxModel",
            "_view_count": null,
            "_view_module": "@jupyter-widgets/controls",
            "_view_module_version": "1.5.0",
            "_view_name": "CheckboxView",
            "description": "Add token as git credential?",
            "description_tooltip": null,
            "disabled": false,
            "indent": true,
            "layout": "IPY_MODEL_40c09ef5bb104556917276fea34de609",
            "style": "IPY_MODEL_7c83f9809caf43af9aae8b7e708e5ca5",
            "value": true
          }
        },
        "c0033d79da514b598a68f7017add91f0": {
          "model_module": "@jupyter-widgets/controls",
          "model_name": "ButtonModel",
          "model_module_version": "1.5.0",
          "state": {
            "_dom_classes": [],
            "_model_module": "@jupyter-widgets/controls",
            "_model_module_version": "1.5.0",
            "_model_name": "ButtonModel",
            "_view_count": null,
            "_view_module": "@jupyter-widgets/controls",
            "_view_module_version": "1.5.0",
            "_view_name": "ButtonView",
            "button_style": "",
            "description": "Login",
            "disabled": false,
            "icon": "",
            "layout": "IPY_MODEL_6aabb3d70d2c4d27a9abe63390677feb",
            "style": "IPY_MODEL_0c31b4889d254581a4bfab065892b862",
            "tooltip": ""
          }
        },
        "67f0fe19206b45d5938ab81bc602eb03": {
          "model_module": "@jupyter-widgets/controls",
          "model_name": "HTMLModel",
          "model_module_version": "1.5.0",
          "state": {
            "_dom_classes": [],
            "_model_module": "@jupyter-widgets/controls",
            "_model_module_version": "1.5.0",
            "_model_name": "HTMLModel",
            "_view_count": null,
            "_view_module": "@jupyter-widgets/controls",
            "_view_module_version": "1.5.0",
            "_view_name": "HTMLView",
            "description": "",
            "description_tooltip": null,
            "layout": "IPY_MODEL_8f292a3fb02e46469e2aae2eb90e417d",
            "placeholder": "​",
            "style": "IPY_MODEL_fb888be9bae84ab882dbf1deb08ba0bb",
            "value": "\n<b>Pro Tip:</b> If you don't already have one, you can create a dedicated\n'notebooks' token with 'write' access, that you can then easily reuse for all\nnotebooks. </center>"
          }
        },
        "4b834ba84cd94815bdf74d75f9b0b623": {
          "model_module": "@jupyter-widgets/base",
          "model_name": "LayoutModel",
          "model_module_version": "1.2.0",
          "state": {
            "_model_module": "@jupyter-widgets/base",
            "_model_module_version": "1.2.0",
            "_model_name": "LayoutModel",
            "_view_count": null,
            "_view_module": "@jupyter-widgets/base",
            "_view_module_version": "1.2.0",
            "_view_name": "LayoutView",
            "align_content": null,
            "align_items": "center",
            "align_self": null,
            "border": null,
            "bottom": null,
            "display": "flex",
            "flex": null,
            "flex_flow": "column",
            "grid_area": null,
            "grid_auto_columns": null,
            "grid_auto_flow": null,
            "grid_auto_rows": null,
            "grid_column": null,
            "grid_gap": null,
            "grid_row": null,
            "grid_template_areas": null,
            "grid_template_columns": null,
            "grid_template_rows": null,
            "height": null,
            "justify_content": null,
            "justify_items": null,
            "left": null,
            "margin": null,
            "max_height": null,
            "max_width": null,
            "min_height": null,
            "min_width": null,
            "object_fit": null,
            "object_position": null,
            "order": null,
            "overflow": null,
            "overflow_x": null,
            "overflow_y": null,
            "padding": null,
            "right": null,
            "top": null,
            "visibility": null,
            "width": "50%"
          }
        },
        "90d3e30ab4e14186b960946635f50615": {
          "model_module": "@jupyter-widgets/base",
          "model_name": "LayoutModel",
          "model_module_version": "1.2.0",
          "state": {
            "_model_module": "@jupyter-widgets/base",
            "_model_module_version": "1.2.0",
            "_model_name": "LayoutModel",
            "_view_count": null,
            "_view_module": "@jupyter-widgets/base",
            "_view_module_version": "1.2.0",
            "_view_name": "LayoutView",
            "align_content": null,
            "align_items": null,
            "align_self": null,
            "border": null,
            "bottom": null,
            "display": null,
            "flex": null,
            "flex_flow": null,
            "grid_area": null,
            "grid_auto_columns": null,
            "grid_auto_flow": null,
            "grid_auto_rows": null,
            "grid_column": null,
            "grid_gap": null,
            "grid_row": null,
            "grid_template_areas": null,
            "grid_template_columns": null,
            "grid_template_rows": null,
            "height": null,
            "justify_content": null,
            "justify_items": null,
            "left": null,
            "margin": null,
            "max_height": null,
            "max_width": null,
            "min_height": null,
            "min_width": null,
            "object_fit": null,
            "object_position": null,
            "order": null,
            "overflow": null,
            "overflow_x": null,
            "overflow_y": null,
            "padding": null,
            "right": null,
            "top": null,
            "visibility": null,
            "width": null
          }
        },
        "4680948c865d4167bece5fe64d14a50f": {
          "model_module": "@jupyter-widgets/controls",
          "model_name": "DescriptionStyleModel",
          "model_module_version": "1.5.0",
          "state": {
            "_model_module": "@jupyter-widgets/controls",
            "_model_module_version": "1.5.0",
            "_model_name": "DescriptionStyleModel",
            "_view_count": null,
            "_view_module": "@jupyter-widgets/base",
            "_view_module_version": "1.2.0",
            "_view_name": "StyleView",
            "description_width": ""
          }
        },
        "125e7cbdae8c425db1af02fbcdb245e5": {
          "model_module": "@jupyter-widgets/base",
          "model_name": "LayoutModel",
          "model_module_version": "1.2.0",
          "state": {
            "_model_module": "@jupyter-widgets/base",
            "_model_module_version": "1.2.0",
            "_model_name": "LayoutModel",
            "_view_count": null,
            "_view_module": "@jupyter-widgets/base",
            "_view_module_version": "1.2.0",
            "_view_name": "LayoutView",
            "align_content": null,
            "align_items": null,
            "align_self": null,
            "border": null,
            "bottom": null,
            "display": null,
            "flex": null,
            "flex_flow": null,
            "grid_area": null,
            "grid_auto_columns": null,
            "grid_auto_flow": null,
            "grid_auto_rows": null,
            "grid_column": null,
            "grid_gap": null,
            "grid_row": null,
            "grid_template_areas": null,
            "grid_template_columns": null,
            "grid_template_rows": null,
            "height": null,
            "justify_content": null,
            "justify_items": null,
            "left": null,
            "margin": null,
            "max_height": null,
            "max_width": null,
            "min_height": null,
            "min_width": null,
            "object_fit": null,
            "object_position": null,
            "order": null,
            "overflow": null,
            "overflow_x": null,
            "overflow_y": null,
            "padding": null,
            "right": null,
            "top": null,
            "visibility": null,
            "width": null
          }
        },
        "8a17e533965d41cbbe9ea13238de1b3d": {
          "model_module": "@jupyter-widgets/controls",
          "model_name": "DescriptionStyleModel",
          "model_module_version": "1.5.0",
          "state": {
            "_model_module": "@jupyter-widgets/controls",
            "_model_module_version": "1.5.0",
            "_model_name": "DescriptionStyleModel",
            "_view_count": null,
            "_view_module": "@jupyter-widgets/base",
            "_view_module_version": "1.2.0",
            "_view_name": "StyleView",
            "description_width": ""
          }
        },
        "40c09ef5bb104556917276fea34de609": {
          "model_module": "@jupyter-widgets/base",
          "model_name": "LayoutModel",
          "model_module_version": "1.2.0",
          "state": {
            "_model_module": "@jupyter-widgets/base",
            "_model_module_version": "1.2.0",
            "_model_name": "LayoutModel",
            "_view_count": null,
            "_view_module": "@jupyter-widgets/base",
            "_view_module_version": "1.2.0",
            "_view_name": "LayoutView",
            "align_content": null,
            "align_items": null,
            "align_self": null,
            "border": null,
            "bottom": null,
            "display": null,
            "flex": null,
            "flex_flow": null,
            "grid_area": null,
            "grid_auto_columns": null,
            "grid_auto_flow": null,
            "grid_auto_rows": null,
            "grid_column": null,
            "grid_gap": null,
            "grid_row": null,
            "grid_template_areas": null,
            "grid_template_columns": null,
            "grid_template_rows": null,
            "height": null,
            "justify_content": null,
            "justify_items": null,
            "left": null,
            "margin": null,
            "max_height": null,
            "max_width": null,
            "min_height": null,
            "min_width": null,
            "object_fit": null,
            "object_position": null,
            "order": null,
            "overflow": null,
            "overflow_x": null,
            "overflow_y": null,
            "padding": null,
            "right": null,
            "top": null,
            "visibility": null,
            "width": null
          }
        },
        "7c83f9809caf43af9aae8b7e708e5ca5": {
          "model_module": "@jupyter-widgets/controls",
          "model_name": "DescriptionStyleModel",
          "model_module_version": "1.5.0",
          "state": {
            "_model_module": "@jupyter-widgets/controls",
            "_model_module_version": "1.5.0",
            "_model_name": "DescriptionStyleModel",
            "_view_count": null,
            "_view_module": "@jupyter-widgets/base",
            "_view_module_version": "1.2.0",
            "_view_name": "StyleView",
            "description_width": ""
          }
        },
        "6aabb3d70d2c4d27a9abe63390677feb": {
          "model_module": "@jupyter-widgets/base",
          "model_name": "LayoutModel",
          "model_module_version": "1.2.0",
          "state": {
            "_model_module": "@jupyter-widgets/base",
            "_model_module_version": "1.2.0",
            "_model_name": "LayoutModel",
            "_view_count": null,
            "_view_module": "@jupyter-widgets/base",
            "_view_module_version": "1.2.0",
            "_view_name": "LayoutView",
            "align_content": null,
            "align_items": null,
            "align_self": null,
            "border": null,
            "bottom": null,
            "display": null,
            "flex": null,
            "flex_flow": null,
            "grid_area": null,
            "grid_auto_columns": null,
            "grid_auto_flow": null,
            "grid_auto_rows": null,
            "grid_column": null,
            "grid_gap": null,
            "grid_row": null,
            "grid_template_areas": null,
            "grid_template_columns": null,
            "grid_template_rows": null,
            "height": null,
            "justify_content": null,
            "justify_items": null,
            "left": null,
            "margin": null,
            "max_height": null,
            "max_width": null,
            "min_height": null,
            "min_width": null,
            "object_fit": null,
            "object_position": null,
            "order": null,
            "overflow": null,
            "overflow_x": null,
            "overflow_y": null,
            "padding": null,
            "right": null,
            "top": null,
            "visibility": null,
            "width": null
          }
        },
        "0c31b4889d254581a4bfab065892b862": {
          "model_module": "@jupyter-widgets/controls",
          "model_name": "ButtonStyleModel",
          "model_module_version": "1.5.0",
          "state": {
            "_model_module": "@jupyter-widgets/controls",
            "_model_module_version": "1.5.0",
            "_model_name": "ButtonStyleModel",
            "_view_count": null,
            "_view_module": "@jupyter-widgets/base",
            "_view_module_version": "1.2.0",
            "_view_name": "StyleView",
            "button_color": null,
            "font_weight": ""
          }
        },
        "8f292a3fb02e46469e2aae2eb90e417d": {
          "model_module": "@jupyter-widgets/base",
          "model_name": "LayoutModel",
          "model_module_version": "1.2.0",
          "state": {
            "_model_module": "@jupyter-widgets/base",
            "_model_module_version": "1.2.0",
            "_model_name": "LayoutModel",
            "_view_count": null,
            "_view_module": "@jupyter-widgets/base",
            "_view_module_version": "1.2.0",
            "_view_name": "LayoutView",
            "align_content": null,
            "align_items": null,
            "align_self": null,
            "border": null,
            "bottom": null,
            "display": null,
            "flex": null,
            "flex_flow": null,
            "grid_area": null,
            "grid_auto_columns": null,
            "grid_auto_flow": null,
            "grid_auto_rows": null,
            "grid_column": null,
            "grid_gap": null,
            "grid_row": null,
            "grid_template_areas": null,
            "grid_template_columns": null,
            "grid_template_rows": null,
            "height": null,
            "justify_content": null,
            "justify_items": null,
            "left": null,
            "margin": null,
            "max_height": null,
            "max_width": null,
            "min_height": null,
            "min_width": null,
            "object_fit": null,
            "object_position": null,
            "order": null,
            "overflow": null,
            "overflow_x": null,
            "overflow_y": null,
            "padding": null,
            "right": null,
            "top": null,
            "visibility": null,
            "width": null
          }
        },
        "fb888be9bae84ab882dbf1deb08ba0bb": {
          "model_module": "@jupyter-widgets/controls",
          "model_name": "DescriptionStyleModel",
          "model_module_version": "1.5.0",
          "state": {
            "_model_module": "@jupyter-widgets/controls",
            "_model_module_version": "1.5.0",
            "_model_name": "DescriptionStyleModel",
            "_view_count": null,
            "_view_module": "@jupyter-widgets/base",
            "_view_module_version": "1.2.0",
            "_view_name": "StyleView",
            "description_width": ""
          }
        },
        "2afd4ac9c4734070a6c23c24b146a436": {
          "model_module": "@jupyter-widgets/controls",
          "model_name": "HBoxModel",
          "model_module_version": "1.5.0",
          "state": {
            "_dom_classes": [],
            "_model_module": "@jupyter-widgets/controls",
            "_model_module_version": "1.5.0",
            "_model_name": "HBoxModel",
            "_view_count": null,
            "_view_module": "@jupyter-widgets/controls",
            "_view_module_version": "1.5.0",
            "_view_name": "HBoxView",
            "box_style": "",
            "children": [
              "IPY_MODEL_c57f58e7e1074d28b7b145c9502ff83a",
              "IPY_MODEL_4649df27eea445d8ba8b67ec14d2bd74",
              "IPY_MODEL_ac7cb7ba20e14a0d99088a7ac2cf2244"
            ],
            "layout": "IPY_MODEL_b04ce8a6f8274e81a374776d0c7e06e2"
          }
        },
        "c57f58e7e1074d28b7b145c9502ff83a": {
          "model_module": "@jupyter-widgets/controls",
          "model_name": "HTMLModel",
          "model_module_version": "1.5.0",
          "state": {
            "_dom_classes": [],
            "_model_module": "@jupyter-widgets/controls",
            "_model_module_version": "1.5.0",
            "_model_name": "HTMLModel",
            "_view_count": null,
            "_view_module": "@jupyter-widgets/controls",
            "_view_module_version": "1.5.0",
            "_view_name": "HTMLView",
            "description": "",
            "description_tooltip": null,
            "layout": "IPY_MODEL_68de57222380438ca9841e35f0279c19",
            "placeholder": "​",
            "style": "IPY_MODEL_b3b2e381d1da43d0826ae3851cf895c3",
            "value": "100%"
          }
        },
        "4649df27eea445d8ba8b67ec14d2bd74": {
          "model_module": "@jupyter-widgets/controls",
          "model_name": "FloatProgressModel",
          "model_module_version": "1.5.0",
          "state": {
            "_dom_classes": [],
            "_model_module": "@jupyter-widgets/controls",
            "_model_module_version": "1.5.0",
            "_model_name": "FloatProgressModel",
            "_view_count": null,
            "_view_module": "@jupyter-widgets/controls",
            "_view_module_version": "1.5.0",
            "_view_name": "ProgressView",
            "bar_style": "success",
            "description": "",
            "description_tooltip": null,
            "layout": "IPY_MODEL_23c09770ce9d44b1bb4e5fac72e499b4",
            "max": 100,
            "min": 0,
            "orientation": "horizontal",
            "style": "IPY_MODEL_6a6649c911cf48899c4e1750193d5131",
            "value": 100
          }
        },
        "ac7cb7ba20e14a0d99088a7ac2cf2244": {
          "model_module": "@jupyter-widgets/controls",
          "model_name": "HTMLModel",
          "model_module_version": "1.5.0",
          "state": {
            "_dom_classes": [],
            "_model_module": "@jupyter-widgets/controls",
            "_model_module_version": "1.5.0",
            "_model_name": "HTMLModel",
            "_view_count": null,
            "_view_module": "@jupyter-widgets/controls",
            "_view_module_version": "1.5.0",
            "_view_name": "HTMLView",
            "description": "",
            "description_tooltip": null,
            "layout": "IPY_MODEL_369ed1ce5e704f5c955cede7e6941183",
            "placeholder": "​",
            "style": "IPY_MODEL_ad169adb25f24430b7ad92966f9f4ab1",
            "value": " 100/100 [01:09&lt;00:00,  5.08it/s]"
          }
        },
        "b04ce8a6f8274e81a374776d0c7e06e2": {
          "model_module": "@jupyter-widgets/base",
          "model_name": "LayoutModel",
          "model_module_version": "1.2.0",
          "state": {
            "_model_module": "@jupyter-widgets/base",
            "_model_module_version": "1.2.0",
            "_model_name": "LayoutModel",
            "_view_count": null,
            "_view_module": "@jupyter-widgets/base",
            "_view_module_version": "1.2.0",
            "_view_name": "LayoutView",
            "align_content": null,
            "align_items": null,
            "align_self": null,
            "border": null,
            "bottom": null,
            "display": null,
            "flex": null,
            "flex_flow": null,
            "grid_area": null,
            "grid_auto_columns": null,
            "grid_auto_flow": null,
            "grid_auto_rows": null,
            "grid_column": null,
            "grid_gap": null,
            "grid_row": null,
            "grid_template_areas": null,
            "grid_template_columns": null,
            "grid_template_rows": null,
            "height": null,
            "justify_content": null,
            "justify_items": null,
            "left": null,
            "margin": null,
            "max_height": null,
            "max_width": null,
            "min_height": null,
            "min_width": null,
            "object_fit": null,
            "object_position": null,
            "order": null,
            "overflow": null,
            "overflow_x": null,
            "overflow_y": null,
            "padding": null,
            "right": null,
            "top": null,
            "visibility": null,
            "width": null
          }
        },
        "68de57222380438ca9841e35f0279c19": {
          "model_module": "@jupyter-widgets/base",
          "model_name": "LayoutModel",
          "model_module_version": "1.2.0",
          "state": {
            "_model_module": "@jupyter-widgets/base",
            "_model_module_version": "1.2.0",
            "_model_name": "LayoutModel",
            "_view_count": null,
            "_view_module": "@jupyter-widgets/base",
            "_view_module_version": "1.2.0",
            "_view_name": "LayoutView",
            "align_content": null,
            "align_items": null,
            "align_self": null,
            "border": null,
            "bottom": null,
            "display": null,
            "flex": null,
            "flex_flow": null,
            "grid_area": null,
            "grid_auto_columns": null,
            "grid_auto_flow": null,
            "grid_auto_rows": null,
            "grid_column": null,
            "grid_gap": null,
            "grid_row": null,
            "grid_template_areas": null,
            "grid_template_columns": null,
            "grid_template_rows": null,
            "height": null,
            "justify_content": null,
            "justify_items": null,
            "left": null,
            "margin": null,
            "max_height": null,
            "max_width": null,
            "min_height": null,
            "min_width": null,
            "object_fit": null,
            "object_position": null,
            "order": null,
            "overflow": null,
            "overflow_x": null,
            "overflow_y": null,
            "padding": null,
            "right": null,
            "top": null,
            "visibility": null,
            "width": null
          }
        },
        "b3b2e381d1da43d0826ae3851cf895c3": {
          "model_module": "@jupyter-widgets/controls",
          "model_name": "DescriptionStyleModel",
          "model_module_version": "1.5.0",
          "state": {
            "_model_module": "@jupyter-widgets/controls",
            "_model_module_version": "1.5.0",
            "_model_name": "DescriptionStyleModel",
            "_view_count": null,
            "_view_module": "@jupyter-widgets/base",
            "_view_module_version": "1.2.0",
            "_view_name": "StyleView",
            "description_width": ""
          }
        },
        "23c09770ce9d44b1bb4e5fac72e499b4": {
          "model_module": "@jupyter-widgets/base",
          "model_name": "LayoutModel",
          "model_module_version": "1.2.0",
          "state": {
            "_model_module": "@jupyter-widgets/base",
            "_model_module_version": "1.2.0",
            "_model_name": "LayoutModel",
            "_view_count": null,
            "_view_module": "@jupyter-widgets/base",
            "_view_module_version": "1.2.0",
            "_view_name": "LayoutView",
            "align_content": null,
            "align_items": null,
            "align_self": null,
            "border": null,
            "bottom": null,
            "display": null,
            "flex": null,
            "flex_flow": null,
            "grid_area": null,
            "grid_auto_columns": null,
            "grid_auto_flow": null,
            "grid_auto_rows": null,
            "grid_column": null,
            "grid_gap": null,
            "grid_row": null,
            "grid_template_areas": null,
            "grid_template_columns": null,
            "grid_template_rows": null,
            "height": null,
            "justify_content": null,
            "justify_items": null,
            "left": null,
            "margin": null,
            "max_height": null,
            "max_width": null,
            "min_height": null,
            "min_width": null,
            "object_fit": null,
            "object_position": null,
            "order": null,
            "overflow": null,
            "overflow_x": null,
            "overflow_y": null,
            "padding": null,
            "right": null,
            "top": null,
            "visibility": null,
            "width": null
          }
        },
        "6a6649c911cf48899c4e1750193d5131": {
          "model_module": "@jupyter-widgets/controls",
          "model_name": "ProgressStyleModel",
          "model_module_version": "1.5.0",
          "state": {
            "_model_module": "@jupyter-widgets/controls",
            "_model_module_version": "1.5.0",
            "_model_name": "ProgressStyleModel",
            "_view_count": null,
            "_view_module": "@jupyter-widgets/base",
            "_view_module_version": "1.2.0",
            "_view_name": "StyleView",
            "bar_color": null,
            "description_width": ""
          }
        },
        "369ed1ce5e704f5c955cede7e6941183": {
          "model_module": "@jupyter-widgets/base",
          "model_name": "LayoutModel",
          "model_module_version": "1.2.0",
          "state": {
            "_model_module": "@jupyter-widgets/base",
            "_model_module_version": "1.2.0",
            "_model_name": "LayoutModel",
            "_view_count": null,
            "_view_module": "@jupyter-widgets/base",
            "_view_module_version": "1.2.0",
            "_view_name": "LayoutView",
            "align_content": null,
            "align_items": null,
            "align_self": null,
            "border": null,
            "bottom": null,
            "display": null,
            "flex": null,
            "flex_flow": null,
            "grid_area": null,
            "grid_auto_columns": null,
            "grid_auto_flow": null,
            "grid_auto_rows": null,
            "grid_column": null,
            "grid_gap": null,
            "grid_row": null,
            "grid_template_areas": null,
            "grid_template_columns": null,
            "grid_template_rows": null,
            "height": null,
            "justify_content": null,
            "justify_items": null,
            "left": null,
            "margin": null,
            "max_height": null,
            "max_width": null,
            "min_height": null,
            "min_width": null,
            "object_fit": null,
            "object_position": null,
            "order": null,
            "overflow": null,
            "overflow_x": null,
            "overflow_y": null,
            "padding": null,
            "right": null,
            "top": null,
            "visibility": null,
            "width": null
          }
        },
        "ad169adb25f24430b7ad92966f9f4ab1": {
          "model_module": "@jupyter-widgets/controls",
          "model_name": "DescriptionStyleModel",
          "model_module_version": "1.5.0",
          "state": {
            "_model_module": "@jupyter-widgets/controls",
            "_model_module_version": "1.5.0",
            "_model_name": "DescriptionStyleModel",
            "_view_count": null,
            "_view_module": "@jupyter-widgets/base",
            "_view_module_version": "1.2.0",
            "_view_name": "StyleView",
            "description_width": ""
          }
        },
        "37853ba7500b4dbba0f6fc1d4800637a": {
          "model_module": "@jupyter-widgets/controls",
          "model_name": "HBoxModel",
          "model_module_version": "1.5.0",
          "state": {
            "_dom_classes": [],
            "_model_module": "@jupyter-widgets/controls",
            "_model_module_version": "1.5.0",
            "_model_name": "HBoxModel",
            "_view_count": null,
            "_view_module": "@jupyter-widgets/controls",
            "_view_module_version": "1.5.0",
            "_view_name": "HBoxView",
            "box_style": "",
            "children": [
              "IPY_MODEL_2fa422139e7d421a9afdb59b0f0ba8e3",
              "IPY_MODEL_54a90e90c9844ed682dfaba02cd8bbd0",
              "IPY_MODEL_49ac3d442d5c45bdb6ed8ff19a5a2f76"
            ],
            "layout": "IPY_MODEL_d48d30a29e234133b12025e8375483ae"
          }
        },
        "2fa422139e7d421a9afdb59b0f0ba8e3": {
          "model_module": "@jupyter-widgets/controls",
          "model_name": "HTMLModel",
          "model_module_version": "1.5.0",
          "state": {
            "_dom_classes": [],
            "_model_module": "@jupyter-widgets/controls",
            "_model_module_version": "1.5.0",
            "_model_name": "HTMLModel",
            "_view_count": null,
            "_view_module": "@jupyter-widgets/controls",
            "_view_module_version": "1.5.0",
            "_view_name": "HTMLView",
            "description": "",
            "description_tooltip": null,
            "layout": "IPY_MODEL_639bff8a161e451ab96e003797a8c67d",
            "placeholder": "​",
            "style": "IPY_MODEL_6da6d144b69d4c638ea943c2976708ee",
            "value": "Map: 100%"
          }
        },
        "54a90e90c9844ed682dfaba02cd8bbd0": {
          "model_module": "@jupyter-widgets/controls",
          "model_name": "FloatProgressModel",
          "model_module_version": "1.5.0",
          "state": {
            "_dom_classes": [],
            "_model_module": "@jupyter-widgets/controls",
            "_model_module_version": "1.5.0",
            "_model_name": "FloatProgressModel",
            "_view_count": null,
            "_view_module": "@jupyter-widgets/controls",
            "_view_module_version": "1.5.0",
            "_view_name": "ProgressView",
            "bar_style": "success",
            "description": "",
            "description_tooltip": null,
            "layout": "IPY_MODEL_6c81f38e216f4101b63f20c4ba07b2f6",
            "max": 7038,
            "min": 0,
            "orientation": "horizontal",
            "style": "IPY_MODEL_9c27468fc2054bb9ba91656436262639",
            "value": 7038
          }
        },
        "49ac3d442d5c45bdb6ed8ff19a5a2f76": {
          "model_module": "@jupyter-widgets/controls",
          "model_name": "HTMLModel",
          "model_module_version": "1.5.0",
          "state": {
            "_dom_classes": [],
            "_model_module": "@jupyter-widgets/controls",
            "_model_module_version": "1.5.0",
            "_model_name": "HTMLModel",
            "_view_count": null,
            "_view_module": "@jupyter-widgets/controls",
            "_view_module_version": "1.5.0",
            "_view_name": "HTMLView",
            "description": "",
            "description_tooltip": null,
            "layout": "IPY_MODEL_3e2d887c5b794a1bb4389becc5788f04",
            "placeholder": "​",
            "style": "IPY_MODEL_6f41404cba8647798217b1d9b3d8e5e4",
            "value": " 7038/7038 [00:04&lt;00:00, 1152.84 examples/s]"
          }
        },
        "d48d30a29e234133b12025e8375483ae": {
          "model_module": "@jupyter-widgets/base",
          "model_name": "LayoutModel",
          "model_module_version": "1.2.0",
          "state": {
            "_model_module": "@jupyter-widgets/base",
            "_model_module_version": "1.2.0",
            "_model_name": "LayoutModel",
            "_view_count": null,
            "_view_module": "@jupyter-widgets/base",
            "_view_module_version": "1.2.0",
            "_view_name": "LayoutView",
            "align_content": null,
            "align_items": null,
            "align_self": null,
            "border": null,
            "bottom": null,
            "display": null,
            "flex": null,
            "flex_flow": null,
            "grid_area": null,
            "grid_auto_columns": null,
            "grid_auto_flow": null,
            "grid_auto_rows": null,
            "grid_column": null,
            "grid_gap": null,
            "grid_row": null,
            "grid_template_areas": null,
            "grid_template_columns": null,
            "grid_template_rows": null,
            "height": null,
            "justify_content": null,
            "justify_items": null,
            "left": null,
            "margin": null,
            "max_height": null,
            "max_width": null,
            "min_height": null,
            "min_width": null,
            "object_fit": null,
            "object_position": null,
            "order": null,
            "overflow": null,
            "overflow_x": null,
            "overflow_y": null,
            "padding": null,
            "right": null,
            "top": null,
            "visibility": null,
            "width": null
          }
        },
        "639bff8a161e451ab96e003797a8c67d": {
          "model_module": "@jupyter-widgets/base",
          "model_name": "LayoutModel",
          "model_module_version": "1.2.0",
          "state": {
            "_model_module": "@jupyter-widgets/base",
            "_model_module_version": "1.2.0",
            "_model_name": "LayoutModel",
            "_view_count": null,
            "_view_module": "@jupyter-widgets/base",
            "_view_module_version": "1.2.0",
            "_view_name": "LayoutView",
            "align_content": null,
            "align_items": null,
            "align_self": null,
            "border": null,
            "bottom": null,
            "display": null,
            "flex": null,
            "flex_flow": null,
            "grid_area": null,
            "grid_auto_columns": null,
            "grid_auto_flow": null,
            "grid_auto_rows": null,
            "grid_column": null,
            "grid_gap": null,
            "grid_row": null,
            "grid_template_areas": null,
            "grid_template_columns": null,
            "grid_template_rows": null,
            "height": null,
            "justify_content": null,
            "justify_items": null,
            "left": null,
            "margin": null,
            "max_height": null,
            "max_width": null,
            "min_height": null,
            "min_width": null,
            "object_fit": null,
            "object_position": null,
            "order": null,
            "overflow": null,
            "overflow_x": null,
            "overflow_y": null,
            "padding": null,
            "right": null,
            "top": null,
            "visibility": null,
            "width": null
          }
        },
        "6da6d144b69d4c638ea943c2976708ee": {
          "model_module": "@jupyter-widgets/controls",
          "model_name": "DescriptionStyleModel",
          "model_module_version": "1.5.0",
          "state": {
            "_model_module": "@jupyter-widgets/controls",
            "_model_module_version": "1.5.0",
            "_model_name": "DescriptionStyleModel",
            "_view_count": null,
            "_view_module": "@jupyter-widgets/base",
            "_view_module_version": "1.2.0",
            "_view_name": "StyleView",
            "description_width": ""
          }
        },
        "6c81f38e216f4101b63f20c4ba07b2f6": {
          "model_module": "@jupyter-widgets/base",
          "model_name": "LayoutModel",
          "model_module_version": "1.2.0",
          "state": {
            "_model_module": "@jupyter-widgets/base",
            "_model_module_version": "1.2.0",
            "_model_name": "LayoutModel",
            "_view_count": null,
            "_view_module": "@jupyter-widgets/base",
            "_view_module_version": "1.2.0",
            "_view_name": "LayoutView",
            "align_content": null,
            "align_items": null,
            "align_self": null,
            "border": null,
            "bottom": null,
            "display": null,
            "flex": null,
            "flex_flow": null,
            "grid_area": null,
            "grid_auto_columns": null,
            "grid_auto_flow": null,
            "grid_auto_rows": null,
            "grid_column": null,
            "grid_gap": null,
            "grid_row": null,
            "grid_template_areas": null,
            "grid_template_columns": null,
            "grid_template_rows": null,
            "height": null,
            "justify_content": null,
            "justify_items": null,
            "left": null,
            "margin": null,
            "max_height": null,
            "max_width": null,
            "min_height": null,
            "min_width": null,
            "object_fit": null,
            "object_position": null,
            "order": null,
            "overflow": null,
            "overflow_x": null,
            "overflow_y": null,
            "padding": null,
            "right": null,
            "top": null,
            "visibility": null,
            "width": null
          }
        },
        "9c27468fc2054bb9ba91656436262639": {
          "model_module": "@jupyter-widgets/controls",
          "model_name": "ProgressStyleModel",
          "model_module_version": "1.5.0",
          "state": {
            "_model_module": "@jupyter-widgets/controls",
            "_model_module_version": "1.5.0",
            "_model_name": "ProgressStyleModel",
            "_view_count": null,
            "_view_module": "@jupyter-widgets/base",
            "_view_module_version": "1.2.0",
            "_view_name": "StyleView",
            "bar_color": null,
            "description_width": ""
          }
        },
        "3e2d887c5b794a1bb4389becc5788f04": {
          "model_module": "@jupyter-widgets/base",
          "model_name": "LayoutModel",
          "model_module_version": "1.2.0",
          "state": {
            "_model_module": "@jupyter-widgets/base",
            "_model_module_version": "1.2.0",
            "_model_name": "LayoutModel",
            "_view_count": null,
            "_view_module": "@jupyter-widgets/base",
            "_view_module_version": "1.2.0",
            "_view_name": "LayoutView",
            "align_content": null,
            "align_items": null,
            "align_self": null,
            "border": null,
            "bottom": null,
            "display": null,
            "flex": null,
            "flex_flow": null,
            "grid_area": null,
            "grid_auto_columns": null,
            "grid_auto_flow": null,
            "grid_auto_rows": null,
            "grid_column": null,
            "grid_gap": null,
            "grid_row": null,
            "grid_template_areas": null,
            "grid_template_columns": null,
            "grid_template_rows": null,
            "height": null,
            "justify_content": null,
            "justify_items": null,
            "left": null,
            "margin": null,
            "max_height": null,
            "max_width": null,
            "min_height": null,
            "min_width": null,
            "object_fit": null,
            "object_position": null,
            "order": null,
            "overflow": null,
            "overflow_x": null,
            "overflow_y": null,
            "padding": null,
            "right": null,
            "top": null,
            "visibility": null,
            "width": null
          }
        },
        "6f41404cba8647798217b1d9b3d8e5e4": {
          "model_module": "@jupyter-widgets/controls",
          "model_name": "DescriptionStyleModel",
          "model_module_version": "1.5.0",
          "state": {
            "_model_module": "@jupyter-widgets/controls",
            "_model_module_version": "1.5.0",
            "_model_name": "DescriptionStyleModel",
            "_view_count": null,
            "_view_module": "@jupyter-widgets/base",
            "_view_module_version": "1.2.0",
            "_view_name": "StyleView",
            "description_width": ""
          }
        },
        "e87d6caf88b446b5b17534284c36bd3b": {
          "model_module": "@jupyter-widgets/controls",
          "model_name": "HBoxModel",
          "model_module_version": "1.5.0",
          "state": {
            "_dom_classes": [],
            "_model_module": "@jupyter-widgets/controls",
            "_model_module_version": "1.5.0",
            "_model_name": "HBoxModel",
            "_view_count": null,
            "_view_module": "@jupyter-widgets/controls",
            "_view_module_version": "1.5.0",
            "_view_name": "HBoxView",
            "box_style": "",
            "children": [
              "IPY_MODEL_026b3a9804c8487aad4298fd7db42bf5",
              "IPY_MODEL_b3a366174cf94f3ba689196fe1aaa170",
              "IPY_MODEL_87b1b072bfbd4383ad535ab4fb763636"
            ],
            "layout": "IPY_MODEL_ecc3e298915b4b2ebb1659843fbd1e68"
          }
        },
        "026b3a9804c8487aad4298fd7db42bf5": {
          "model_module": "@jupyter-widgets/controls",
          "model_name": "HTMLModel",
          "model_module_version": "1.5.0",
          "state": {
            "_dom_classes": [],
            "_model_module": "@jupyter-widgets/controls",
            "_model_module_version": "1.5.0",
            "_model_name": "HTMLModel",
            "_view_count": null,
            "_view_module": "@jupyter-widgets/controls",
            "_view_module_version": "1.5.0",
            "_view_name": "HTMLView",
            "description": "",
            "description_tooltip": null,
            "layout": "IPY_MODEL_b400b31631764158a8d0dd70324372c0",
            "placeholder": "​",
            "style": "IPY_MODEL_5be5c1ec41fc4243abc299da3de5461d",
            "value": "Map:   5%"
          }
        },
        "b3a366174cf94f3ba689196fe1aaa170": {
          "model_module": "@jupyter-widgets/controls",
          "model_name": "FloatProgressModel",
          "model_module_version": "1.5.0",
          "state": {
            "_dom_classes": [],
            "_model_module": "@jupyter-widgets/controls",
            "_model_module_version": "1.5.0",
            "_model_name": "FloatProgressModel",
            "_view_count": null,
            "_view_module": "@jupyter-widgets/controls",
            "_view_module_version": "1.5.0",
            "_view_name": "ProgressView",
            "bar_style": "",
            "description": "",
            "description_tooltip": null,
            "layout": "IPY_MODEL_d6fd82eb399046e4bc70c126413632de",
            "max": 7038,
            "min": 0,
            "orientation": "horizontal",
            "style": "IPY_MODEL_b1f46d8b3694439eae9c27c7f57bbe7e",
            "value": 355
          }
        },
        "87b1b072bfbd4383ad535ab4fb763636": {
          "model_module": "@jupyter-widgets/controls",
          "model_name": "HTMLModel",
          "model_module_version": "1.5.0",
          "state": {
            "_dom_classes": [],
            "_model_module": "@jupyter-widgets/controls",
            "_model_module_version": "1.5.0",
            "_model_name": "HTMLModel",
            "_view_count": null,
            "_view_module": "@jupyter-widgets/controls",
            "_view_module_version": "1.5.0",
            "_view_name": "HTMLView",
            "description": "",
            "description_tooltip": null,
            "layout": "IPY_MODEL_22c699cb254f4af1ac8a4fc1d51e542a",
            "placeholder": "​",
            "style": "IPY_MODEL_95fed7a9ed0d4de7bb13a1f3c0298ab5",
            "value": " 355/7038 [01:13&lt;22:24,  4.97 examples/s]"
          }
        },
        "ecc3e298915b4b2ebb1659843fbd1e68": {
          "model_module": "@jupyter-widgets/base",
          "model_name": "LayoutModel",
          "model_module_version": "1.2.0",
          "state": {
            "_model_module": "@jupyter-widgets/base",
            "_model_module_version": "1.2.0",
            "_model_name": "LayoutModel",
            "_view_count": null,
            "_view_module": "@jupyter-widgets/base",
            "_view_module_version": "1.2.0",
            "_view_name": "LayoutView",
            "align_content": null,
            "align_items": null,
            "align_self": null,
            "border": null,
            "bottom": null,
            "display": null,
            "flex": null,
            "flex_flow": null,
            "grid_area": null,
            "grid_auto_columns": null,
            "grid_auto_flow": null,
            "grid_auto_rows": null,
            "grid_column": null,
            "grid_gap": null,
            "grid_row": null,
            "grid_template_areas": null,
            "grid_template_columns": null,
            "grid_template_rows": null,
            "height": null,
            "justify_content": null,
            "justify_items": null,
            "left": null,
            "margin": null,
            "max_height": null,
            "max_width": null,
            "min_height": null,
            "min_width": null,
            "object_fit": null,
            "object_position": null,
            "order": null,
            "overflow": null,
            "overflow_x": null,
            "overflow_y": null,
            "padding": null,
            "right": null,
            "top": null,
            "visibility": null,
            "width": null
          }
        },
        "b400b31631764158a8d0dd70324372c0": {
          "model_module": "@jupyter-widgets/base",
          "model_name": "LayoutModel",
          "model_module_version": "1.2.0",
          "state": {
            "_model_module": "@jupyter-widgets/base",
            "_model_module_version": "1.2.0",
            "_model_name": "LayoutModel",
            "_view_count": null,
            "_view_module": "@jupyter-widgets/base",
            "_view_module_version": "1.2.0",
            "_view_name": "LayoutView",
            "align_content": null,
            "align_items": null,
            "align_self": null,
            "border": null,
            "bottom": null,
            "display": null,
            "flex": null,
            "flex_flow": null,
            "grid_area": null,
            "grid_auto_columns": null,
            "grid_auto_flow": null,
            "grid_auto_rows": null,
            "grid_column": null,
            "grid_gap": null,
            "grid_row": null,
            "grid_template_areas": null,
            "grid_template_columns": null,
            "grid_template_rows": null,
            "height": null,
            "justify_content": null,
            "justify_items": null,
            "left": null,
            "margin": null,
            "max_height": null,
            "max_width": null,
            "min_height": null,
            "min_width": null,
            "object_fit": null,
            "object_position": null,
            "order": null,
            "overflow": null,
            "overflow_x": null,
            "overflow_y": null,
            "padding": null,
            "right": null,
            "top": null,
            "visibility": null,
            "width": null
          }
        },
        "5be5c1ec41fc4243abc299da3de5461d": {
          "model_module": "@jupyter-widgets/controls",
          "model_name": "DescriptionStyleModel",
          "model_module_version": "1.5.0",
          "state": {
            "_model_module": "@jupyter-widgets/controls",
            "_model_module_version": "1.5.0",
            "_model_name": "DescriptionStyleModel",
            "_view_count": null,
            "_view_module": "@jupyter-widgets/base",
            "_view_module_version": "1.2.0",
            "_view_name": "StyleView",
            "description_width": ""
          }
        },
        "d6fd82eb399046e4bc70c126413632de": {
          "model_module": "@jupyter-widgets/base",
          "model_name": "LayoutModel",
          "model_module_version": "1.2.0",
          "state": {
            "_model_module": "@jupyter-widgets/base",
            "_model_module_version": "1.2.0",
            "_model_name": "LayoutModel",
            "_view_count": null,
            "_view_module": "@jupyter-widgets/base",
            "_view_module_version": "1.2.0",
            "_view_name": "LayoutView",
            "align_content": null,
            "align_items": null,
            "align_self": null,
            "border": null,
            "bottom": null,
            "display": null,
            "flex": null,
            "flex_flow": null,
            "grid_area": null,
            "grid_auto_columns": null,
            "grid_auto_flow": null,
            "grid_auto_rows": null,
            "grid_column": null,
            "grid_gap": null,
            "grid_row": null,
            "grid_template_areas": null,
            "grid_template_columns": null,
            "grid_template_rows": null,
            "height": null,
            "justify_content": null,
            "justify_items": null,
            "left": null,
            "margin": null,
            "max_height": null,
            "max_width": null,
            "min_height": null,
            "min_width": null,
            "object_fit": null,
            "object_position": null,
            "order": null,
            "overflow": null,
            "overflow_x": null,
            "overflow_y": null,
            "padding": null,
            "right": null,
            "top": null,
            "visibility": null,
            "width": null
          }
        },
        "b1f46d8b3694439eae9c27c7f57bbe7e": {
          "model_module": "@jupyter-widgets/controls",
          "model_name": "ProgressStyleModel",
          "model_module_version": "1.5.0",
          "state": {
            "_model_module": "@jupyter-widgets/controls",
            "_model_module_version": "1.5.0",
            "_model_name": "ProgressStyleModel",
            "_view_count": null,
            "_view_module": "@jupyter-widgets/base",
            "_view_module_version": "1.2.0",
            "_view_name": "StyleView",
            "bar_color": null,
            "description_width": ""
          }
        },
        "22c699cb254f4af1ac8a4fc1d51e542a": {
          "model_module": "@jupyter-widgets/base",
          "model_name": "LayoutModel",
          "model_module_version": "1.2.0",
          "state": {
            "_model_module": "@jupyter-widgets/base",
            "_model_module_version": "1.2.0",
            "_model_name": "LayoutModel",
            "_view_count": null,
            "_view_module": "@jupyter-widgets/base",
            "_view_module_version": "1.2.0",
            "_view_name": "LayoutView",
            "align_content": null,
            "align_items": null,
            "align_self": null,
            "border": null,
            "bottom": null,
            "display": null,
            "flex": null,
            "flex_flow": null,
            "grid_area": null,
            "grid_auto_columns": null,
            "grid_auto_flow": null,
            "grid_auto_rows": null,
            "grid_column": null,
            "grid_gap": null,
            "grid_row": null,
            "grid_template_areas": null,
            "grid_template_columns": null,
            "grid_template_rows": null,
            "height": null,
            "justify_content": null,
            "justify_items": null,
            "left": null,
            "margin": null,
            "max_height": null,
            "max_width": null,
            "min_height": null,
            "min_width": null,
            "object_fit": null,
            "object_position": null,
            "order": null,
            "overflow": null,
            "overflow_x": null,
            "overflow_y": null,
            "padding": null,
            "right": null,
            "top": null,
            "visibility": null,
            "width": null
          }
        },
        "95fed7a9ed0d4de7bb13a1f3c0298ab5": {
          "model_module": "@jupyter-widgets/controls",
          "model_name": "DescriptionStyleModel",
          "model_module_version": "1.5.0",
          "state": {
            "_model_module": "@jupyter-widgets/controls",
            "_model_module_version": "1.5.0",
            "_model_name": "DescriptionStyleModel",
            "_view_count": null,
            "_view_module": "@jupyter-widgets/base",
            "_view_module_version": "1.2.0",
            "_view_name": "StyleView",
            "description_width": ""
          }
        }
      }
    }
  },
  "nbformat": 4,
  "nbformat_minor": 0
}