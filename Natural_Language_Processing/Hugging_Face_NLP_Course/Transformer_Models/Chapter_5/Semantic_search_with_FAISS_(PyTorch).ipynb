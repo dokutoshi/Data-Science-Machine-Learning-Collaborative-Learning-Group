{
  "cells": [
    {
      "cell_type": "markdown",
      "metadata": {
        "id": "f2KfiEujSpwM"
      },
      "source": [
        "# Semantic search with FAISS (PyTorch)"
      ]
    },
    {
      "cell_type": "markdown",
      "metadata": {
        "id": "zwK1mZJ3SpwN"
      },
      "source": [
        "Install the Transformers, Datasets, and Evaluate libraries to run this notebook."
      ]
    },
    {
      "cell_type": "code",
      "execution_count": null,
      "metadata": {
        "id": "UidNtC9eSpwO"
      },
      "outputs": [],
      "source": [
        "%%capture\n",
        "!pip install datasets evaluate transformers[sentencepiece]\n",
        "!pip install faiss-gpu"
      ]
    },
    {
      "cell_type": "markdown",
      "source": [
        "In [section 5](https://huggingface.co/course/chapter5/5), we created a dataset of GitHub issues and comments from the 🤗 Datasets repository. In this section we'll use this information to build a search engine that can help us find answers to our most pressing questions about the library!\n",
        "\n",
        "<Youtube id=\"OATCgQtNX2o\"/>"
      ],
      "metadata": {
        "id": "waegKCcSS6dk"
      }
    },
    {
      "cell_type": "markdown",
      "source": [
        "## Using embeddings for semantic search\n",
        "\n",
        "As we saw in [Chapter 1](https://huggingface.co/course/chapter1), Transformer-based language models represent each token in a span of text as an _embedding vector_. It turns out that one can \"pool\" the individual embeddings to create a vector representation for whole sentences, paragraphs, or (in some cases) documents. These embeddings can then be used to find similar documents in the corpus by computing the dot-product similarity (or some other similarity metric) between each embedding and returning the documents with the greatest overlap.\n",
        "\n",
        "In this section we'll use embeddings to develop a semantic search engine. These search engines offer several advantages over conventional approaches that are based on matching keywords in a query with the documents.\n",
        "\n",
        "<div class=\"flex justify-center\">\n",
        "<img class=\"block dark:hidden\" src=\"https://huggingface.co/datasets/huggingface-course/documentation-images/resolve/main/en/chapter5/semantic-search.svg\" alt=\"Semantic search.\"/>\n"
      ],
      "metadata": {
        "id": "nkkPxAeaTZ_C"
      }
    },
    {
      "cell_type": "markdown",
      "source": [
        "## Loading and preparing the dataset\n",
        "\n",
        "\n",
        "The first thing we need to do is download our dataset of GitHub issues, so let's use `load_dataset()` function as usual:"
      ],
      "metadata": {
        "id": "Ekmm2uauTlqp"
      }
    },
    {
      "cell_type": "code",
      "execution_count": null,
      "metadata": {
        "id": "K93cxc3ASpwP",
        "outputId": "b85444ff-fc37-42a6-805a-88f7d3ad6340"
      },
      "outputs": [
        {
          "data": {
            "text/plain": [
              "Dataset({\n",
              "    features: ['url', 'repository_url', 'labels_url', 'comments_url', 'events_url', 'html_url', 'id', 'node_id', 'number', 'title', 'user', 'labels', 'state', 'locked', 'assignee', 'assignees', 'milestone', 'comments', 'created_at', 'updated_at', 'closed_at', 'author_association', 'active_lock_reason', 'pull_request', 'body', 'performed_via_github_app', 'is_pull_request'],\n",
              "    num_rows: 2855\n",
              "})"
            ]
          },
          "execution_count": null,
          "metadata": {},
          "output_type": "execute_result"
        }
      ],
      "source": [
        "from datasets import load_dataset\n",
        "\n",
        "issues_dataset = load_dataset(\"lewtun/github-issues\", split=\"train\")\n",
        "issues_dataset"
      ]
    },
    {
      "cell_type": "markdown",
      "source": [
        "Here we've specified the default `train` split in `load_dataset()`, so it returns a `Dataset` instead of a `DatasetDict`. The first order of business is to filter out the pull requests, as these tend to be rarely used for answering user queries and will introduce noise in our search engine. As should be familiar by now, we can use the `Dataset.filter()` function to exclude these rows in our dataset. While we're at it, let's also filter out rows with no comments, since these provide no answers to user queries:\n"
      ],
      "metadata": {
        "id": "dTLTLRFxTqnB"
      }
    },
    {
      "cell_type": "code",
      "execution_count": null,
      "metadata": {
        "id": "YXDJIjx1SpwQ",
        "outputId": "eda3801e-bf0e-4e20-ddac-35f056e3a5ef"
      },
      "outputs": [
        {
          "data": {
            "text/plain": [
              "Dataset({\n",
              "    features: ['url', 'repository_url', 'labels_url', 'comments_url', 'events_url', 'html_url', 'id', 'node_id', 'number', 'title', 'user', 'labels', 'state', 'locked', 'assignee', 'assignees', 'milestone', 'comments', 'created_at', 'updated_at', 'closed_at', 'author_association', 'active_lock_reason', 'pull_request', 'body', 'performed_via_github_app', 'is_pull_request'],\n",
              "    num_rows: 771\n",
              "})"
            ]
          },
          "execution_count": null,
          "metadata": {},
          "output_type": "execute_result"
        }
      ],
      "source": [
        "issues_dataset = issues_dataset.filter(\n",
        "    lambda x: (x[\"is_pull_request\"] == False and len(x[\"comments\"]) > 0)\n",
        ")\n",
        "issues_dataset"
      ]
    },
    {
      "cell_type": "markdown",
      "source": [
        "We can see that there are a lot of columns in our dataset, most of which we don't need to build our search engine. From a search perspective, the most informative columns are `title`, `body`, and `comments`, while `html_url` provides us with a link back to the source issue. Let's use the `Dataset.remove_columns()` function to drop the rest:\n"
      ],
      "metadata": {
        "id": "oOK-UGSjTuSU"
      }
    },
    {
      "cell_type": "code",
      "execution_count": null,
      "metadata": {
        "id": "NLTqSwPcSpwR",
        "outputId": "f9078729-f33d-479c-bf02-d6b15465d4bb"
      },
      "outputs": [
        {
          "data": {
            "text/plain": [
              "Dataset({\n",
              "    features: ['html_url', 'title', 'comments', 'body'],\n",
              "    num_rows: 771\n",
              "})"
            ]
          },
          "execution_count": null,
          "metadata": {},
          "output_type": "execute_result"
        }
      ],
      "source": [
        "columns = issues_dataset.column_names\n",
        "columns_to_keep = [\"title\", \"body\", \"html_url\", \"comments\"]\n",
        "columns_to_remove = set(columns_to_keep).symmetric_difference(columns)\n",
        "issues_dataset = issues_dataset.remove_columns(columns_to_remove)\n",
        "issues_dataset"
      ]
    },
    {
      "cell_type": "markdown",
      "source": [
        "To create our embeddings we'll augment each comment with the issue's title and body, since these fields often include useful contextual information. Because our `comments` column is currently a list of comments for each issue, we need to \"explode\" the column so that each row consists of an `(html_url, title, body, comment)` tuple. In Pandas we can do this with the [`DataFrame.explode()` function](https://pandas.pydata.org/pandas-docs/stable/reference/api/pandas.DataFrame.explode.html), which creates a new row for each element in a list-like column, while replicating all the other column values. To see this in action, let's first switch to the Pandas  `DataFrame` format:\n"
      ],
      "metadata": {
        "id": "BLni73vXTxFh"
      }
    },
    {
      "cell_type": "code",
      "execution_count": null,
      "metadata": {
        "id": "srGesU6oSpwR"
      },
      "outputs": [],
      "source": [
        "issues_dataset.set_format(\"pandas\")\n",
        "df = issues_dataset[:]"
      ]
    },
    {
      "cell_type": "markdown",
      "source": [
        "If we inspect the first row in this `DataFrame` we can see there are four comments associated with this issue:"
      ],
      "metadata": {
        "id": "Fb6OAUcnT_E9"
      }
    },
    {
      "cell_type": "code",
      "execution_count": null,
      "metadata": {
        "id": "l6rAPx-gSpwR",
        "outputId": "36e3259a-d56e-4aeb-c7e9-1d298cba6e20"
      },
      "outputs": [
        {
          "data": {
            "text/plain": [
              "['the bug code locate in ：\\r\\n    if data_args.task_name is not None:\\r\\n        # Downloading and loading a dataset from the hub.\\r\\n        datasets = load_dataset(\"glue\", data_args.task_name, cache_dir=model_args.cache_dir)',\n",
              " 'Hi @jinec,\\r\\n\\r\\nFrom time to time we get this kind of `ConnectionError` coming from the github.com website: https://raw.githubusercontent.com\\r\\n\\r\\nNormally, it should work if you wait a little and then retry.\\r\\n\\r\\nCould you please confirm if the problem persists?',\n",
              " 'cannot connect，even by Web browser，please check that  there is some  problems。',\n",
              " 'I can access https://raw.githubusercontent.com/huggingface/datasets/1.7.0/datasets/glue/glue.py without problem...']"
            ]
          },
          "execution_count": null,
          "metadata": {},
          "output_type": "execute_result"
        }
      ],
      "source": [
        "df[\"comments\"][0].tolist()"
      ]
    },
    {
      "cell_type": "markdown",
      "source": [
        "When we explode `df`, we expect to get one row for each of these comments. Let's check if that's the case:"
      ],
      "metadata": {
        "id": "8DRb1jKMUATK"
      }
    },
    {
      "cell_type": "code",
      "execution_count": null,
      "metadata": {
        "id": "4mM8cCb-SpwT"
      },
      "outputs": [],
      "source": [
        "comments_df = df.explode(\"comments\", ignore_index=True)\n",
        "comments_df.head(4)"
      ]
    },
    {
      "cell_type": "markdown",
      "source": [
        "Great, we can see the rows have been replicated, with the `comments` column containing the individual comments! Now that we're finished with Pandas, we can quickly switch back to a `Dataset` by loading the `DataFrame` in memory:\n"
      ],
      "metadata": {
        "id": "g3e_goxqUELR"
      }
    },
    {
      "cell_type": "code",
      "execution_count": null,
      "metadata": {
        "id": "UlYbIlsmSpwU",
        "outputId": "dc43b956-bd0f-41a0-f647-31a53a28c8a2"
      },
      "outputs": [
        {
          "data": {
            "text/plain": [
              "Dataset({\n",
              "    features: ['html_url', 'title', 'comments', 'body'],\n",
              "    num_rows: 2842\n",
              "})"
            ]
          },
          "execution_count": null,
          "metadata": {},
          "output_type": "execute_result"
        }
      ],
      "source": [
        "from datasets import Dataset\n",
        "\n",
        "comments_dataset = Dataset.from_pandas(comments_df)\n",
        "comments_dataset"
      ]
    },
    {
      "cell_type": "markdown",
      "source": [
        "Okay, this has given us a few thousand comments to work with!\n",
        "\n"
      ],
      "metadata": {
        "id": "1t9YMmugUID5"
      }
    },
    {
      "cell_type": "markdown",
      "source": [
        "<Tip>\n",
        "\n",
        "✏️ **Try it out!** See if you can use `Dataset.map()` to explode the `comments` column of `issues_dataset` _without_ resorting to the use of Pandas. This is a little tricky; you might find the [\"Batch mapping\"](https://huggingface.co/docs/datasets/about_map_batch#batch-mapping) section of the 🤗 Datasets documentation useful for this task.\n",
        "\n",
        "</Tip>"
      ],
      "metadata": {
        "id": "zmRjjlxgULh5"
      }
    },
    {
      "cell_type": "code",
      "source": [
        "# Exercise"
      ],
      "metadata": {
        "id": "g3vW5LRBUN1f"
      },
      "execution_count": null,
      "outputs": []
    },
    {
      "cell_type": "markdown",
      "source": [
        "Now that we have one comment per row, let's create a new `comments_length` column that contains the number of words per comment:\n"
      ],
      "metadata": {
        "id": "f45pa_xGUO7E"
      }
    },
    {
      "cell_type": "code",
      "execution_count": null,
      "metadata": {
        "id": "A095_LPqSpwU"
      },
      "outputs": [],
      "source": [
        "comments_dataset = comments_dataset.map(\n",
        "    lambda x: {\"comment_length\": len(x[\"comments\"].split())}\n",
        ")"
      ]
    },
    {
      "cell_type": "markdown",
      "source": [
        "We can use this new column to filter out short comments, which typically include things like \"cc @lewtun\" or \"Thanks!\" that are not relevant for our search engine. There's no precise number to select for the filter, but around 15 words seems like a good start:\n"
      ],
      "metadata": {
        "id": "oDqopBO_UREg"
      }
    },
    {
      "cell_type": "code",
      "execution_count": null,
      "metadata": {
        "id": "_iABg8SxSpwU",
        "outputId": "e0922ffc-0e9a-4833-b624-6bcc069aa842"
      },
      "outputs": [
        {
          "data": {
            "text/plain": [
              "Dataset({\n",
              "    features: ['html_url', 'title', 'comments', 'body', 'comment_length'],\n",
              "    num_rows: 2098\n",
              "})"
            ]
          },
          "execution_count": null,
          "metadata": {},
          "output_type": "execute_result"
        }
      ],
      "source": [
        "comments_dataset = comments_dataset.filter(lambda x: x[\"comment_length\"] > 15)\n",
        "comments_dataset"
      ]
    },
    {
      "cell_type": "markdown",
      "source": [
        "Having cleaned up our dataset a bit, let's concatenate the issue title, description, and comments together in a new `text` column. As usual, we'll write a simple function that we can pass to `Dataset.map()`:"
      ],
      "metadata": {
        "id": "M4KLOYBOUTLx"
      }
    },
    {
      "cell_type": "code",
      "execution_count": null,
      "metadata": {
        "id": "b_RtmNU4SpwU"
      },
      "outputs": [],
      "source": [
        "def concatenate_text(examples):\n",
        "    return {\n",
        "        \"text\": examples[\"title\"]\n",
        "        + \" \\n \"\n",
        "        + examples[\"body\"]\n",
        "        + \" \\n \"\n",
        "        + examples[\"comments\"]\n",
        "    }\n",
        "\n",
        "\n",
        "comments_dataset = comments_dataset.map(concatenate_text)"
      ]
    },
    {
      "cell_type": "markdown",
      "source": [
        "We're finally ready to create some embeddings! Let's take a look.\n",
        "\n",
        "## Creating text embeddings"
      ],
      "metadata": {
        "id": "Cam1DvnXUVgU"
      }
    },
    {
      "cell_type": "markdown",
      "source": [
        "We saw in [Chapter 2](https://huggingface.co/course/chapter2) that we can obtain token embeddings by using the `AutoModel` class. All we need to do is pick a suitable checkpoint to load the model from. Fortunately, there's a library called `sentence-transformers` that is dedicated to creating embeddings. As described in the library's [documentation](https://www.sbert.net/examples/applications/semantic-search/README.html#symmetric-vs-asymmetric-semantic-search), our use case is an example of _asymmetric semantic search_ because we have a short query whose answer we'd like to find in a longer document, like a an issue comment. The handy [model overview table](https://www.sbert.net/docs/pretrained_models.html#model-overview) in the documentation indicates that the `multi-qa-mpnet-base-dot-v1` checkpoint has the best performance for semantic search, so we'll use that for our application. We'll also load the tokenizer using the same checkpoint:\n"
      ],
      "metadata": {
        "id": "sU09u8B2UZW8"
      }
    },
    {
      "cell_type": "code",
      "execution_count": null,
      "metadata": {
        "id": "yfXuKOh-SpwV"
      },
      "outputs": [],
      "source": [
        "from transformers import AutoTokenizer, AutoModel\n",
        "\n",
        "model_ckpt = \"sentence-transformers/multi-qa-mpnet-base-dot-v1\"\n",
        "tokenizer = AutoTokenizer.from_pretrained(model_ckpt)\n",
        "model = AutoModel.from_pretrained(model_ckpt)"
      ]
    },
    {
      "cell_type": "markdown",
      "source": [
        "To speed up the embedding process, it helps to place the model and inputs on a GPU device, so let's do that now:"
      ],
      "metadata": {
        "id": "uKSolBKaUiUO"
      }
    },
    {
      "cell_type": "code",
      "execution_count": null,
      "metadata": {
        "id": "lav68CuCSpwV"
      },
      "outputs": [],
      "source": [
        "import torch\n",
        "\n",
        "device = torch.device(\"cuda\")\n",
        "model.to(device)"
      ]
    },
    {
      "cell_type": "markdown",
      "source": [
        "Note that we've set `from_pt=True` as an argument of the `from_pretrained()` method. That's because the `multi-qa-mpnet-base-dot-v1` checkpoint only has PyTorch weights, so setting `from_pt=True` will automatically convert them to the TensorFlow format for us. As you can see, it is very simple to switch between frameworks in 🤗 Transformers!\n",
        "\n",
        "As we mentioned earlier, we'd like to represent each entry in our GitHub issues corpus as a single vector, so we need to \"pool\" or average our token embeddings in some way. One popular approach is to perform *CLS pooling* on our model's outputs, where we simply collect the last hidden state for the special `[CLS]` token. The following function does the trick for us:\n"
      ],
      "metadata": {
        "id": "NKgwtbudUjTi"
      }
    },
    {
      "cell_type": "code",
      "execution_count": null,
      "metadata": {
        "id": "zPHhhcNDSpwV"
      },
      "outputs": [],
      "source": [
        "def cls_pooling(model_output):\n",
        "    return model_output.last_hidden_state[:, 0]"
      ]
    },
    {
      "cell_type": "markdown",
      "source": [
        "Next, we'll create a helper function that will tokenize a list of documents, place the tensors on the GPU, feed them to the model, and finally apply CLS pooling to the outputs:"
      ],
      "metadata": {
        "id": "st3QMiaNUr8V"
      }
    },
    {
      "cell_type": "code",
      "execution_count": null,
      "metadata": {
        "id": "WWdyM7feSpwW"
      },
      "outputs": [],
      "source": [
        "def get_embeddings(text_list):\n",
        "    encoded_input = tokenizer(\n",
        "        text_list, padding=True, truncation=True, return_tensors=\"pt\"\n",
        "    )\n",
        "    encoded_input = {k: v.to(device) for k, v in encoded_input.items()}\n",
        "    model_output = model(**encoded_input)\n",
        "    return cls_pooling(model_output)"
      ]
    },
    {
      "cell_type": "markdown",
      "source": [
        "We can test the function works by feeding it the first text entry in our corpus and inspecting the output shape:"
      ],
      "metadata": {
        "id": "yho_ZZ4-UvIT"
      }
    },
    {
      "cell_type": "code",
      "execution_count": null,
      "metadata": {
        "id": "sAZcp6JkSpwW",
        "outputId": "86668551-ecd4-4d0e-8e61-783683c07dc2"
      },
      "outputs": [
        {
          "data": {
            "text/plain": [
              "torch.Size([1, 768])"
            ]
          },
          "execution_count": null,
          "metadata": {},
          "output_type": "execute_result"
        }
      ],
      "source": [
        "embedding = get_embeddings(comments_dataset[\"text\"][0])\n",
        "embedding.shape"
      ]
    },
    {
      "cell_type": "markdown",
      "source": [
        "Great, we've converted the first entry in our corpus into a 768-dimensional vector! We can use `Dataset.map()` to apply our `get_embeddings()` function to each row in our corpus, so let's create a new `embeddings` column as follows:\n"
      ],
      "metadata": {
        "id": "0uEkSLnlUyAw"
      }
    },
    {
      "cell_type": "code",
      "execution_count": null,
      "metadata": {
        "id": "RQgAv0I7SpwX"
      },
      "outputs": [],
      "source": [
        "embeddings_dataset = comments_dataset.map(\n",
        "    lambda x: {\"embeddings\": get_embeddings(x[\"text\"]).detach().cpu().numpy()[0]}\n",
        ")"
      ]
    },
    {
      "cell_type": "markdown",
      "source": [
        "Notice that we've converted the embeddings to NumPy arrays -- that's because 🤗 Datasets requires this format when we try to index them with FAISS, which we'll do next.\n"
      ],
      "metadata": {
        "id": "Vz6bHa54U0b-"
      }
    },
    {
      "cell_type": "markdown",
      "source": [
        "## Using FAISS for efficient similarity search\n",
        "\n",
        "Now that we have a dataset of embeddings, we need some way to search over them. To do this, we'll use a special data structure in 🤗 Datasets called a _FAISS index_. [FAISS](https://faiss.ai/) (short for Facebook AI Similarity Search) is a library that provides efficient algorithms to quickly search and cluster embedding vectors.\n",
        "\n",
        "The basic idea behind FAISS is to create a special data structure called an _index_ that allows one to find which embeddings are similar to an input embedding. Creating a FAISS index in 🤗 Datasets is simple -- we use the `Dataset.add_faiss_index()` function and specify which column of our dataset we'd like to index:\n"
      ],
      "metadata": {
        "id": "n6GIYdHGVLPP"
      }
    },
    {
      "cell_type": "code",
      "execution_count": null,
      "metadata": {
        "id": "wB5VaooKSpwX"
      },
      "outputs": [],
      "source": [
        "embeddings_dataset.add_faiss_index(column=\"embeddings\")"
      ]
    },
    {
      "cell_type": "markdown",
      "source": [
        "We can now perform queries on this index by doing a nearest neighbor lookup with the `Dataset.get_nearest_examples()` function. Let's test this out by first embedding a question as follows:"
      ],
      "metadata": {
        "id": "-8r4DZrHVRUg"
      }
    },
    {
      "cell_type": "code",
      "execution_count": null,
      "metadata": {
        "id": "fJkwK1UbSpwX",
        "outputId": "832c1125-afc8-4a92-ae39-788d53934007"
      },
      "outputs": [
        {
          "data": {
            "text/plain": [
              "torch.Size([1, 768])"
            ]
          },
          "execution_count": null,
          "metadata": {},
          "output_type": "execute_result"
        }
      ],
      "source": [
        "question = \"How can I load a dataset offline?\"\n",
        "question_embedding = get_embeddings([question]).cpu().detach().numpy()\n",
        "question_embedding.shape"
      ]
    },
    {
      "cell_type": "markdown",
      "source": [
        "Just like with the documents, we now have a 768-dimensional vector representing the query, which we can compare against the whole corpus to find the most similar embeddings:"
      ],
      "metadata": {
        "id": "iwd1fQCjVUQw"
      }
    },
    {
      "cell_type": "code",
      "execution_count": null,
      "metadata": {
        "id": "Iy5Hv6WKSpwY"
      },
      "outputs": [],
      "source": [
        "scores, samples = embeddings_dataset.get_nearest_examples(\n",
        "    \"embeddings\", question_embedding, k=5\n",
        ")"
      ]
    },
    {
      "cell_type": "markdown",
      "source": [
        "The `Dataset.get_nearest_examples()` function returns a tuple of scores that rank the overlap between the query and the document, and a corresponding set of samples (here, the 5 best matches). Let's collect these in a `pandas.DataFrame` so we can easily sort them:\n"
      ],
      "metadata": {
        "id": "hmnhuGGIVXWa"
      }
    },
    {
      "cell_type": "code",
      "execution_count": null,
      "metadata": {
        "id": "f1bNryzhSpwY"
      },
      "outputs": [],
      "source": [
        "import pandas as pd\n",
        "\n",
        "samples_df = pd.DataFrame.from_dict(samples)\n",
        "samples_df[\"scores\"] = scores\n",
        "samples_df.sort_values(\"scores\", ascending=False, inplace=True)"
      ]
    },
    {
      "cell_type": "markdown",
      "source": [
        "Now we can iterate over the first few rows to see how well our query matched the available comments:"
      ],
      "metadata": {
        "id": "aMh9IhCcVdhg"
      }
    },
    {
      "cell_type": "code",
      "execution_count": null,
      "metadata": {
        "id": "00oehZ0VSpwY",
        "outputId": "b59dc766-1c1f-4c68-8b05-c969ab1f6004"
      },
      "outputs": [
        {
          "data": {
            "text/plain": [
              "\"\"\"\n",
              "COMMENT: Requiring online connection is a deal breaker in some cases unfortunately so it'd be great if offline mode is added similar to how `transformers` loads models offline fine.\n",
              "\n",
              "@mandubian's second bullet point suggests that there's a workaround allowing you to use your offline (custom?) dataset with `datasets`. Could you please elaborate on how that should look like?\n",
              "SCORE: 25.505046844482422\n",
              "TITLE: Discussion using datasets in offline mode\n",
              "URL: https://github.com/huggingface/datasets/issues/824\n",
              "==================================================\n",
              "\n",
              "COMMENT: The local dataset builders (csv, text , json and pandas) are now part of the `datasets` package since #1726 :)\n",
              "You can now use them offline\n",
              "\\`\\`\\`python\n",
              "datasets = load_dataset(\"text\", data_files=data_files)\n",
              "\\`\\`\\`\n",
              "\n",
              "We'll do a new release soon\n",
              "SCORE: 24.555509567260742\n",
              "TITLE: Discussion using datasets in offline mode\n",
              "URL: https://github.com/huggingface/datasets/issues/824\n",
              "==================================================\n",
              "\n",
              "COMMENT: I opened a PR that allows to reload modules that have already been loaded once even if there's no internet.\n",
              "\n",
              "Let me know if you know other ways that can make the offline mode experience better. I'd be happy to add them :)\n",
              "\n",
              "I already note the \"freeze\" modules option, to prevent local modules updates. It would be a cool feature.\n",
              "\n",
              "----------\n",
              "\n",
              "> @mandubian's second bullet point suggests that there's a workaround allowing you to use your offline (custom?) dataset with `datasets`. Could you please elaborate on how that should look like?\n",
              "\n",
              "Indeed `load_dataset` allows to load remote dataset script (squad, glue, etc.) but also you own local ones.\n",
              "For example if you have a dataset script at `./my_dataset/my_dataset.py` then you can do\n",
              "\\`\\`\\`python\n",
              "load_dataset(\"./my_dataset\")\n",
              "\\`\\`\\`\n",
              "and the dataset script will generate your dataset once and for all.\n",
              "\n",
              "----------\n",
              "\n",
              "About I'm looking into having `csv`, `json`, `text`, `pandas` dataset builders already included in the `datasets` package, so that they are available offline by default, as opposed to the other datasets that require the script to be downloaded.\n",
              "cf #1724\n",
              "SCORE: 24.14896583557129\n",
              "TITLE: Discussion using datasets in offline mode\n",
              "URL: https://github.com/huggingface/datasets/issues/824\n",
              "==================================================\n",
              "\n",
              "COMMENT: > here is my way to load a dataset offline, but it **requires** an online machine\n",
              ">\n",
              "> 1. (online machine)\n",
              ">\n",
              "> ```\n",
              ">\n",
              "> import datasets\n",
              ">\n",
              "> data = datasets.load_dataset(...)\n",
              ">\n",
              "> data.save_to_disk(/YOUR/DATASET/DIR)\n",
              ">\n",
              "> ```\n",
              ">\n",
              "> 2. copy the dir from online to the offline machine\n",
              ">\n",
              "> 3. (offline machine)\n",
              ">\n",
              "> ```\n",
              ">\n",
              "> import datasets\n",
              ">\n",
              "> data = datasets.load_from_disk(/SAVED/DATA/DIR)\n",
              ">\n",
              "> ```\n",
              ">\n",
              ">\n",
              ">\n",
              "> HTH.\n",
              "\n",
              "\n",
              "SCORE: 22.893993377685547\n",
              "TITLE: Discussion using datasets in offline mode\n",
              "URL: https://github.com/huggingface/datasets/issues/824\n",
              "==================================================\n",
              "\n",
              "COMMENT: here is my way to load a dataset offline, but it **requires** an online machine\n",
              "1. (online machine)\n",
              "\\`\\`\\`\n",
              "import datasets\n",
              "data = datasets.load_dataset(...)\n",
              "data.save_to_disk(/YOUR/DATASET/DIR)\n",
              "\\`\\`\\`\n",
              "2. copy the dir from online to the offline machine\n",
              "3. (offline machine)\n",
              "\\`\\`\\`\n",
              "import datasets\n",
              "data = datasets.load_from_disk(/SAVED/DATA/DIR)\n",
              "\\`\\`\\`\n",
              "\n",
              "HTH.\n",
              "SCORE: 22.406635284423828\n",
              "TITLE: Discussion using datasets in offline mode\n",
              "URL: https://github.com/huggingface/datasets/issues/824\n",
              "==================================================\n",
              "\"\"\""
            ]
          },
          "execution_count": null,
          "metadata": {},
          "output_type": "execute_result"
        }
      ],
      "source": [
        "for _, row in samples_df.iterrows():\n",
        "    print(f\"COMMENT: {row.comments}\")\n",
        "    print(f\"SCORE: {row.scores}\")\n",
        "    print(f\"TITLE: {row.title}\")\n",
        "    print(f\"URL: {row.html_url}\")\n",
        "    print(\"=\" * 50)\n",
        "    print()"
      ]
    },
    {
      "cell_type": "markdown",
      "source": [
        "Not bad! Our second hit seems to match the query.\n",
        "\n",
        "<Tip>\n",
        "\n",
        "✏️ **Try it out!** Create your own query and see whether you can find an answer in the retrieved documents. You might have to increase the `k` parameter in `Dataset.get_nearest_examples()` to broaden the search.\n",
        "\n",
        "</Tip>"
      ],
      "metadata": {
        "id": "bVgKNU3dVk9O"
      }
    },
    {
      "cell_type": "code",
      "source": [
        "# Exercise"
      ],
      "metadata": {
        "id": "_KsVjvq6VnUY"
      },
      "execution_count": null,
      "outputs": []
    }
  ],
  "metadata": {
    "colab": {
      "name": "Semantic search with FAISS (PyTorch)",
      "provenance": []
    }
  },
  "nbformat": 4,
  "nbformat_minor": 0
}