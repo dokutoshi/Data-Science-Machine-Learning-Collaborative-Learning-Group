{
  "cells": [
    {
      "cell_type": "markdown",
      "metadata": {
        "id": "jSpGT_cTYMxV"
      },
      "source": [
        "This is a companion notebook for the book [Deep Learning with Python, Second Edition](https://www.manning.com/books/deep-learning-with-python-second-edition?a_aid=keras&a_bid=76564dff). For readability, it only contains runnable code blocks and section titles, and a lot of edits made by Matthew Kehoe.\n",
        "\n",
        "This notebook was generated for TensorFlow 2.6."
      ]
    },
    {
      "cell_type": "markdown",
      "metadata": {
        "id": "LxUaTrMFYMxW"
      },
      "source": [
        "# Conclusions\n",
        "\n",
        "You've almost reached the end of this book. This last chapter will summarize and review core concepts while also expanding your horizons beyond what you've learned so far. Becoming an effective AI practitioner is a journey, and finishing this book is merely your first step on it. I want to make sure you realize this and are properly equipped to take the next steps of this journey on your own.\n",
        "\n",
        "We'll start with a bird's-eye view of what you should take away from this book. This should refresh your memory regarding some of the concepts you've learned. Next, I'll present an overview of some key limitations of deep learning. To use a tool appropriately, you should not only understand what it **can** do but also be aware of what it **can't** do. Finally, I'll offer some speculative thoughts about the future evolution of deep learning, machine learning, and AI. This should be especially interesting to you if you'd like to get into fundamental research. The chapter\n",
        "ends with a short list of resources and strategies for further learning about machine learning and staying up to date with new advances."
      ]
    },
    {
      "cell_type": "markdown",
      "metadata": {
        "id": "5MLy7FOMYMxX"
      },
      "source": [
        "## Key concepts in review"
      ]
    },
    {
      "cell_type": "markdown",
      "source": [
        "This section briefly synthesizes key takeaways from this book. If you ever need a quick refresher to help you recall what you've learned, you can read these few pages."
      ],
      "metadata": {
        "id": "MxFhqi9HiV_G"
      }
    },
    {
      "cell_type": "markdown",
      "metadata": {
        "id": "Uqn1RVLAYMxX"
      },
      "source": [
        "### Various approaches to AI"
      ]
    },
    {
      "cell_type": "markdown",
      "source": [
        "First of all, deep learning isn't synonymous with AI, or even with machine learning:\n",
        "\n",
        "- **Artificial intelligence** (AI) is an ancient, broad field that can generally be understood as “all attempts to automate human cognitive processes.” This can range from the very basic, such as an Excel spreadsheet, to the very advanced, like a humanoid robot that can walk and talk.\n",
        "- **Machine learning** is a specific subfield of AI that aims at automatically developing programs (called **models**) purely from exposure to training data. This process of turning data into a program is called **learning**. Although machine learning has been around for a long time, it only started to take off in the 1990s, before becoming the dominant form of AI in the 2000s.\n",
        "- **Deep learning** is one of many branches of machine learning, where the models are long chains of geometric transformations, applied one after the other. These operations are structured into modules called **layers**: deep learning models are typically stacks of layers—or, more generally, graphs of layers. These layers are parameterized by **weights**, which are the parameters learned during training. The **knowledge** of a model is stored in its weights, and the process of learning consists of finding “good values” for these weights—values that minimize a **loss** function. Because the chain of geometric transformations considered is differentiable, updating the weights to minimize the loss function is done efficiently via **gradient descent**.\n",
        "\n",
        "Even though deep learning is just one among many approaches to machine learning, it isn't on an equal footing with the others. Deep learning is a breakout success. Here's why."
      ],
      "metadata": {
        "id": "PXU1NVdzib0y"
      }
    },
    {
      "cell_type": "markdown",
      "metadata": {
        "id": "W7gnQ7ZGYMxX"
      },
      "source": [
        "### What makes deep learning special within the field of machine learning"
      ]
    },
    {
      "cell_type": "markdown",
      "source": [
        "In the span of only a few years, deep learning has achieved tremendous breakthroughs across a wide range of tasks that have been historically perceived as extremely difficult for computers, especially in the area of machine perception: extracting useful information from images, videos, sound, and more. Given sufficient training data (in particular, training data appropriately labeled by humans), deep learning makes it\n",
        "possible to extract from perceptual data almost anything a human could. Hence, it's sometimes said that deep learning has “solved perception”—although that's true only for a fairly narrow definition of perception.\n",
        "\n",
        "Due to its unprecedented technical successes, deep learning has singlehandedly brought about the third and by far the largest **AI summer**: a period of intense interest, investment, and hype in the field of AI. As this book is being written, we're in the middle of it. Whether this period will end in the near future, and what happens after it ends, are topics of debate. One thing is certain: in stark contrast with previous AI summers, deep learning has provided enormous business value to both large and small technology companies, enabling human-level speech recognition, smart assistants, human-level image classification, vastly improved machine translation, and more. The hype may (and likely will) recede, but the sustained economic and technological\n",
        "impact of deep learning will remain. In that sense, deep learning could be analogous to the internet: it may be overly hyped up for a few years, but in the longer term it will still be a major revolution that will transform our economy and our lives.\n",
        "\n",
        "I'm particularly optimistic about deep learning, because even if we were to make no further technological progress in the next decade, deploying existing algorithms to every applicable problem would be a game changer for most industries. Deep learning is nothing short of a revolution, and progress is currently happening at an incredibly fast rate, due to an exponential investment in resources and headcount. From where I stand, the future looks bright, although short-term expectations are\n",
        "somewhat overoptimistic; deploying deep learning to the full extent of its potential will likely take multiple decades."
      ],
      "metadata": {
        "id": "tVVDpKltjLd2"
      }
    },
    {
      "cell_type": "markdown",
      "metadata": {
        "id": "KyRFIZc0YMxX"
      },
      "source": [
        "### How to think about deep learning\n",
        "\n",
        "The most surprising thing about deep learning is how simple it is. Ten years ago, no one expected that we would achieve such amazing results on machine-perception problems by using simple parametric models trained with gradient descent. Now, it turns out that all you need is sufficiently large parametric models trained with gradient descent on sufficiently many examples. As Feynman once said about the universe, “It's not complicated, it's just a lot of it.”\n",
        "\n",
        "In deep learning, everything is a vector—that is to say, everything is a **point** in a **geometric space**. Model inputs (text, images, and so on) and targets are first **vectorized**—\n",
        "turned into an initial input vector space and target vector space. Each layer in a deep learning model operates one simple geometric transformation on the data that goes through it. Together, the chain of layers in the model forms one complex geometric transformation, broken down into a series of simple ones. This complex transformation attempts to map the input space to the target space, one point at a time. This transformation is parameterized by the weights of the layers, which are iteratively\n",
        "updated based on how well the model is currently performing. A key characteristic of this geometric transformation is that it must be **differentiable**, which is required in order for us to be able to learn its parameters via gradient descent. Intuitively, this means the geometric morphing from inputs to outputs must be smooth and continuous—a significant constraint.\n",
        "\n",
        "The entire process of applying this complex geometric transformation to the input data can be visualized in 3D by imagining a person trying to uncrumple a paper ball: the crumpled paper ball is the manifold of the input data that the model\n",
        "starts with. Each movement operated by the person on the paper ball is similar to a simple geometric transformation operated by one layer. The full uncrumpling gesture sequence is the complex transformation of the entire model. Deep learning models are mathematical machines for uncrumpling complicated manifolds of high-dimensional data.\n",
        "\n",
        "That's the magic of deep learning: turning meaning into vectors, then into geometric spaces, and then incrementally learning complex geometric transformations that map one space to another. All you need are spaces of sufficiently high dimensionality in order to capture the full scope of the relationships found in the original data.\n",
        "\n",
        "The whole process hinges on a single core idea: that meaning is **derived from the pairwise relationship between things** (between words in a language, between pixels in an image, and so on) and that these **relationships can be captured by a distance function**. But note that whether the brain also implements meaning via geometric spaces is an entirely separate question. Vector spaces are efficient to work with from a computational standpoint, but different data structures for intelligence can easily be envisioned—in particular, graphs. Neural networks initially emerged from the idea of using graphs as a way to encode\n",
        "meaning, which is why they're named **neural networks**; the surrounding field of research used to be called **connectionism**. Nowadays the name “neural network” exists purely for historical reasons—it's an extremely misleading name because they're neither neural networks. In particular, neural networks have hardly anything to do with the brain. A more appropriate name would have been **layered representations learning or hierarchical representations learning**, or maybe even deep **differentiable models** or **chained geometric transforms**, to emphasize the fact that continuous geometric space manipulation is at their core."
      ]
    },
    {
      "cell_type": "markdown",
      "metadata": {
        "id": "ub47w1AWYMxY"
      },
      "source": [
        "### Key enabling technologies"
      ]
    },
    {
      "cell_type": "markdown",
      "source": [
        "The technological revolution that's currently unfolding didn't start with any single breakthrough invention. Rather, like any other revolution, it's the product of a vast accumulation of enabling factors—gradual at first, and then sudden. In the case of\n",
        "deep learning, we can point out the following key factors:\n",
        "\n",
        "- **Incremental algorithmic innovations**—These first began appearing slowly over the span of two decades (starting with backpropagation), and then were developed increasingly faster as more research effort was poured into deep learning after 2012.\n",
        "- **The availability of large amounts of perceptual data**—This was a requirement in order to realize that sufficiently large models trained on sufficiently large data are all we need. This is, in turn, a byproduct of the rise of the consumer internet and Moore's law applied to storage media.\n",
        "- **The availability of fast, highly parallel computation hardware at a low price**—Especially the GPUs produced by NVIDIA—first gaming GPUs and then chips designed from the ground up for deep learning. Early on, NVIDIA CEO Jensen Huang took note of the deep learning boom and decided to bet the company's future\n",
        "on it, which paid off in a big way.\n",
        "- **A complex stack of software layers that makes this computational power available to humans** —The CUDA language, frameworks like TensorFlow that do automatic differentiation, and Keras, which makes deep learning accessible to most people.\n",
        "\n",
        "In the future, deep learning will not be used only by specialists—researchers, graduate students, and engineers with an academic profile—it will be a tool in the toolbox of every developer, much like web technology today. Everyone needs to build intelligent apps: just as every business today needs a website, every product will need to intelligently make sense of user-generated data. Bringing about this future will require us to\n",
        "build tools that make deep learning radically easy to use and accessible to anyone with basic coding abilities. Keras has been the first major step in that direction."
      ],
      "metadata": {
        "id": "Sdtv6dyBmGRJ"
      }
    },
    {
      "cell_type": "markdown",
      "metadata": {
        "id": "kwqrcEo2YMxY"
      },
      "source": [
        "### The universal machine-learning workflow"
      ]
    },
    {
      "cell_type": "markdown",
      "source": [
        "Having access to an extremely powerful tool for creating models that map any input space to any target space is great, but the difficult part of the machine learning workflow is often everything that comes before designing and training such models (and, for production models, what comes after, as well). Understanding the problem domain so as to be able to determine what to attempt to predict, given what data, and how to measure success, is a prerequisite for any successful application of machine learning, and it isn't something that advanced tools like Keras and TensorFlow can help you with. As a reminder, here's a quick summary of the typical machine learning workflow as described in chapter 6:\n",
        "\n",
        "1. Define the problem: What data is available, and what are you trying to predict? Will you need to collect more data or hire people to manually label a dataset?\n",
        "2. Identify a way to reliably measure success on your goal. For simple tasks this may be prediction accuracy, but in many cases it will require sophisticated, domain-specific metrics.\n",
        "3. Prepare the validation process that you'll use to evaluate your models. In particular, you should define a training set, a validation set, and a test set. The validation- and test-set labels shouldn't leak into the training data: for instance, with\n",
        "temporal prediction, the validation and test data should be posterior to the training data.\n",
        "4. Vectorize the data by turning it into vectors and preprocessing it in a way that makes it more easily approachable by a neural network (normalization and so on).\n",
        "5. Develop a first model that beats a trivial common-sense baseline, thus demonstrating that machine learning can work on your problem. This may not always be the case!\n",
        "6. Gradually refine your model architecture by tuning hyperparameters and adding regularization. Make changes based on performance on the validation data only, not the test data or the training data. Remember that you should get your model to overfit (thus identifying a model capacity level that's greater than you\n",
        "need) and only then begin to add regularization or downsize your model. Beware of validation-set overfitting when tuning hyperparameters—the fact that your hyperparameters may end up being overspecialized to the validation set. Avoiding this is the purpose of having a separate test set.\n",
        "7. Deploy your final model in production—as a web API, as part of a JavaScript or C++ application, on an embedded device, etc. Keep monitoring its performance on real-world data, and use your findings to refine the next iteration of the model!"
      ],
      "metadata": {
        "id": "dB5xawwhm_Gv"
      }
    },
    {
      "cell_type": "markdown",
      "metadata": {
        "id": "_NQ_u6-OYMxY"
      },
      "source": [
        "### Key network architectures"
      ]
    },
    {
      "cell_type": "markdown",
      "source": [
        "The four families of network architectures that you should be familiar with are **densely connected networks, convolutional networks, recurrent networks, and Transformers**. Each type\n",
        "of model is meant for a specific input modality. A network architecture encodes **assumptions** about the structure of the data: a **hypothesis space** within which the search for a good model will proceed. Whether a given architecture will work on a given problem depends entirely on the match between the structure of the data and the assumptions of the network architecture.\n",
        "\n",
        "These different network types can easily be combined to achieve larger multimodal models, much as you combine LEGO bricks. In a way, deep learning layers are LEGO bricks for information processing. Here's a quick overview of the mapping between input modalities and appropriate network architectures:"
      ],
      "metadata": {
        "id": "DlfcdMCQn3Z1"
      }
    },
    {
      "cell_type": "markdown",
      "source": [
        "- **Vector data**—Densely connected models (Dense layers).\n",
        "- **Image data**—2D convnets.\n",
        "- **Sequence data**—RNNs for timeseries, or Transformers for discrete sequences (such as sequences of words). 1D convnets can also be used for translation-invariant, continuous sequence data, such as birdsong waveforms.\n",
        "- **Video data**—Either 3D convnets (if you need to capture motion effects), or a combination of a frame-level 2D convnet for feature extraction followed by a sequence-processing model.\n",
        "- **Volumetric data**—3D convnets.\n",
        "\n",
        "Now, let's quickly review the specificities of each network architecture."
      ],
      "metadata": {
        "id": "cw1O_AGxoMw8"
      }
    },
    {
      "cell_type": "markdown",
      "metadata": {
        "id": "1uMWppQqYMxZ"
      },
      "source": [
        "#### Densely connected networks"
      ]
    },
    {
      "cell_type": "markdown",
      "source": [
        "A densely connected network is a stack of **Dense** layers meant to process vector data (where each sample is a vector of numerical or categorical attributes). Such networks assume no specific structure in the input features: they're called **densely connected** because the units of a Dense layer are connected to every other unit. The layer attempts to map relationships between any two input features; this is unlike a 2D convolution layer, for instance, which only looks at **local** relationships.\n",
        "\n",
        "Densely connected networks are most commonly used for **categorical data** (for example, where the input features are lists of attributes), such as the Boston Housing Price dataset used in chapter 4. They're also used as the final classification or regression stage of most networks. For instance, the convnets covered in chapter 8 typically end with one or two Dense layers, and so do the recurrent networks in chapter 10.\n",
        "\n",
        "Remember, to perform **binary classification**, end your stack of layers with a `Dense` layer with a single unit and a **sigmoid** activation, and use `binary_crossentropy` as the loss. Your targets should be either 0 or 1:"
      ],
      "metadata": {
        "id": "rZlmK8MRonKS"
      }
    },
    {
      "cell_type": "code",
      "execution_count": null,
      "metadata": {
        "id": "hj22H6sjYMxZ",
        "colab": {
          "base_uri": "https://localhost:8080/",
          "height": 234
        },
        "collapsed": true,
        "outputId": "bb6442c1-f897-4b8b-e79c-1b4b2cd97dd3"
      },
      "outputs": [
        {
          "output_type": "error",
          "ename": "NameError",
          "evalue": "name 'num_input_features' is not defined",
          "traceback": [
            "\u001b[0;31m---------------------------------------------------------------------------\u001b[0m",
            "\u001b[0;31mNameError\u001b[0m                                 Traceback (most recent call last)",
            "\u001b[0;32m<ipython-input-3-4cf61e86f2f0>\u001b[0m in \u001b[0;36m<cell line: 3>\u001b[0;34m()\u001b[0m\n\u001b[1;32m      1\u001b[0m \u001b[0;32mfrom\u001b[0m \u001b[0mtensorflow\u001b[0m \u001b[0;32mimport\u001b[0m \u001b[0mkeras\u001b[0m\u001b[0;34m\u001b[0m\u001b[0;34m\u001b[0m\u001b[0m\n\u001b[1;32m      2\u001b[0m \u001b[0;32mfrom\u001b[0m \u001b[0mtensorflow\u001b[0m\u001b[0;34m.\u001b[0m\u001b[0mkeras\u001b[0m \u001b[0;32mimport\u001b[0m \u001b[0mlayers\u001b[0m\u001b[0;34m\u001b[0m\u001b[0;34m\u001b[0m\u001b[0m\n\u001b[0;32m----> 3\u001b[0;31m \u001b[0minputs\u001b[0m \u001b[0;34m=\u001b[0m \u001b[0mkeras\u001b[0m\u001b[0;34m.\u001b[0m\u001b[0mInput\u001b[0m\u001b[0;34m(\u001b[0m\u001b[0mshape\u001b[0m\u001b[0;34m=\u001b[0m\u001b[0;34m(\u001b[0m\u001b[0mnum_input_features\u001b[0m\u001b[0;34m,\u001b[0m\u001b[0;34m)\u001b[0m\u001b[0;34m)\u001b[0m\u001b[0;34m\u001b[0m\u001b[0;34m\u001b[0m\u001b[0m\n\u001b[0m\u001b[1;32m      4\u001b[0m \u001b[0mx\u001b[0m \u001b[0;34m=\u001b[0m \u001b[0mlayers\u001b[0m\u001b[0;34m.\u001b[0m\u001b[0mDense\u001b[0m\u001b[0;34m(\u001b[0m\u001b[0;36m32\u001b[0m\u001b[0;34m,\u001b[0m \u001b[0mactivation\u001b[0m\u001b[0;34m=\u001b[0m\u001b[0;34m\"relu\"\u001b[0m\u001b[0;34m)\u001b[0m\u001b[0;34m(\u001b[0m\u001b[0minputs\u001b[0m\u001b[0;34m)\u001b[0m\u001b[0;34m\u001b[0m\u001b[0;34m\u001b[0m\u001b[0m\n\u001b[1;32m      5\u001b[0m \u001b[0mx\u001b[0m \u001b[0;34m=\u001b[0m \u001b[0mlayers\u001b[0m\u001b[0;34m.\u001b[0m\u001b[0mDense\u001b[0m\u001b[0;34m(\u001b[0m\u001b[0;36m32\u001b[0m\u001b[0;34m,\u001b[0m \u001b[0mactivation\u001b[0m\u001b[0;34m=\u001b[0m\u001b[0;34m\"relu\"\u001b[0m\u001b[0;34m)\u001b[0m\u001b[0;34m(\u001b[0m\u001b[0mx\u001b[0m\u001b[0;34m)\u001b[0m\u001b[0;34m\u001b[0m\u001b[0;34m\u001b[0m\u001b[0m\n",
            "\u001b[0;31mNameError\u001b[0m: name 'num_input_features' is not defined"
          ]
        }
      ],
      "source": [
        "from tensorflow import keras\n",
        "from tensorflow.keras import layers\n",
        "inputs = keras.Input(shape=(num_input_features,))\n",
        "x = layers.Dense(32, activation=\"relu\")(inputs)\n",
        "x = layers.Dense(32, activation=\"relu\")(x)\n",
        "outputs = layers.Dense(1, activation=\"sigmoid\")(x)\n",
        "model = keras.Model(inputs, outputs)\n",
        "model.compile(optimizer=\"rmsprop\", loss=\"binary_crossentropy\")"
      ]
    },
    {
      "cell_type": "markdown",
      "source": [
        "To perform **single-label categorical classification** (where each sample has exactly one class, no more), end your stack of layers with a `Dense` layer with a number of units equal to the\n",
        "number of classes, and a softmax activation. If your targets are one-hot encoded, use `categorical_crossentropy` as the loss; if they're integers, use `sparse_categorical_crossentropy`:"
      ],
      "metadata": {
        "id": "lXdiv0zSpbwn"
      }
    },
    {
      "cell_type": "code",
      "execution_count": null,
      "metadata": {
        "id": "nonBJcBhYMxa"
      },
      "outputs": [],
      "source": [
        "inputs = keras.Input(shape=(num_input_features,))\n",
        "x = layers.Dense(32, activation=\"relu\")(inputs)\n",
        "x = layers.Dense(32, activation=\"relu\")(x)\n",
        "outputs = layers.Dense(num_classes, activation=\"softmax\")(x)\n",
        "model = keras.Model(inputs, outputs)\n",
        "model.compile(optimizer=\"rmsprop\", loss=\"categorical_crossentropy\")"
      ]
    },
    {
      "cell_type": "markdown",
      "source": [
        "To perform **multilabel categorical classification** (where each sample can have several classes), end your stack of layers with a `Dense` layer with a number of units equal to the number of classes, and a **sigmoid activation**, and use `binary_crossentropy` as the loss. Your targets should be multi-hot encoded:"
      ],
      "metadata": {
        "id": "Akp_HdO9psqA"
      }
    },
    {
      "cell_type": "code",
      "execution_count": null,
      "metadata": {
        "id": "o-bnvCvpYMxb"
      },
      "outputs": [],
      "source": [
        "inputs = keras.Input(shape=(num_input_features,))\n",
        "x = layers.Dense(32,activation=\"relu\")(inputs)\n",
        "x = layers.Dense(32,activation=\"relu\")(x)\n",
        "outputs = layers.Dense(num_classes, activation=\"sigmoid\")(x)\n",
        "model = keras.Model(inputs, outputs)\n",
        "model.compile(optimizer=\"rmsprop\", loss=\"binary_crossentropy\")"
      ]
    },
    {
      "cell_type": "markdown",
      "source": [
        "To perform **regression** toward a vector of continuous values, end your stack of layers with a Dense layer with a number of units equal to the number of values you're trying to predict (often a single one, such as the price of a house), and no activation. Various losses can be used for regression—most commonly `mean_squared_error` (MSE):"
      ],
      "metadata": {
        "id": "kE12gmt1p5DF"
      }
    },
    {
      "cell_type": "code",
      "execution_count": null,
      "metadata": {
        "id": "JPrhIgJJYMxb"
      },
      "outputs": [],
      "source": [
        "inputs = keras.Input(shape=(num_input_features,))\n",
        "x = layers.Dense(32, activation=\"relu\")(inputs)\n",
        "x = layers.Dense(32, activation=\"relu\")(x)\n",
        "outputs layers.Dense(num_values)(x)\n",
        "model = keras.Model(inputs, outputs)\n",
        "model.compile(optimizer=\"rmsprop\", loss=\"mse\")"
      ]
    },
    {
      "cell_type": "markdown",
      "metadata": {
        "id": "2ljuW-xVYMxc"
      },
      "source": [
        "#### Convnets"
      ]
    },
    {
      "cell_type": "markdown",
      "source": [
        "Convolution layers look at spatially local patterns by applying the same geometric transformation to different spatial locations (**patches**) in an input tensor. This results in representations that are **translation invariant**, making convolution layers highly data efficient and modular. This idea is applicable to spaces of any dimensionality: 1D (continuous sequences), 2D (images), 3D (volumes), and so on. You can use the `Conv1D` layer to process sequences, the `Conv2D` layer to process images, and the `Conv3D` layers to process volumes. As a leaner, more efficient alternative to convolution layers, you can also use **depthwise separable convolution layers**, such as `SeparableConv2D`.\n",
        "\n",
        "**Convnets**, or **convolutional networks**, consist of stacks of convolution and max-pooling layers. The pooling layers let you spatially downsample the data, which is required to keep feature maps to a reasonable size as the number of features grows, and to allow subsequent convolution layers to “see” a greater spatial extent of the inputs. Convnets are often ended with either a `Flatten` operation or a global pooling layer, turning spatial feature maps into vectors, followed by `Dense` layers to achieve classification or regression.\n",
        "\n",
        "Here's a typical image-classification network (categorical classification, in this case), leveraging `SeparableConv2D` layers:"
      ],
      "metadata": {
        "id": "p9VNdC8TqjW3"
      }
    },
    {
      "cell_type": "code",
      "execution_count": null,
      "metadata": {
        "id": "hzilRLkSYMxc",
        "colab": {
          "base_uri": "https://localhost:8080/",
          "height": 128
        },
        "outputId": "600bc768-681a-47bc-bca2-ace4ae6ef02a"
      },
      "outputs": [
        {
          "output_type": "error",
          "ename": "SyntaxError",
          "evalue": "invalid non-printable character U+00A0 (<ipython-input-1-09391fa45564>, line 1)",
          "traceback": [
            "\u001b[0;36m  File \u001b[0;32m\"<ipython-input-1-09391fa45564>\"\u001b[0;36m, line \u001b[0;32m1\u001b[0m\n\u001b[0;31m    inputs = keras.Input(shape=(height, width, channels))\u001b[0m\n\u001b[0m                                       ^\u001b[0m\n\u001b[0;31mSyntaxError\u001b[0m\u001b[0;31m:\u001b[0m invalid non-printable character U+00A0\n"
          ]
        }
      ],
      "source": [
        "inputs = keras.Input(shape=(height, width, channels))\n",
        "x = layers.SeparableConv2D(32,3,activation=\"relu\")(inputs)\n",
        "x = layers.SeparableConv2D(64,3,activation=\"relu\")(x)\n",
        "x = layers.MaxPooling2D(2)(x)\n",
        "x = layers.SeparableConv2D(64,3,activation=\"relu\")(x)\n",
        "x = layers.SeparableConv2D(128,3,activation=\"relu\")(x)\n",
        "x = layers.MaxPooling2D(2)(x)\n",
        "x = layers.SeparableConv2D(64,3,activation=\"relu\")(x)\n",
        "x = layers.SeparableConv2D(128,3,activation=\"relu\")(x)\n",
        "x = layers.GlobalAveragePooling2D()(x)\n",
        "x = layers.Dense(32,activation=\"relu\")(x)\n",
        "outputs = layers.Dense(num_classes,activation=\"softmax\")(x)\n",
        "model = keras.Model(inputs, outputs)\n",
        "model.compile(optimizer=\"rmsprop\",loss=\"categorical_crossentropy\")"
      ]
    },
    {
      "cell_type": "markdown",
      "source": [
        "When building a very deep convnet, it's common to add **batch normalization** layers as well as **residual connections**—two architecture patterns that help gradient information flow smoothly through the network."
      ],
      "metadata": {
        "id": "oR5DgTwprJoH"
      }
    },
    {
      "cell_type": "markdown",
      "metadata": {
        "id": "g2YW64bFYMxc"
      },
      "source": [
        "#### RNNs"
      ]
    },
    {
      "cell_type": "markdown",
      "source": [
        "**Recurrent neural networks** (RNNs) work by processing sequences of inputs one timestep at a time, and maintaining a state throughout (a state is typically a vector or set of vectors). They should be used preferentially over 1D convnets in the case of sequences where patterns of interest aren't invariant by temporal translation (for instance, timeseries data where the recent past is more important than the distant past).\n",
        "\n",
        "Three RNN layers are available in Keras: `SimpleRNN`, `GRU`, and `LSTM`. For most practical purposes, **you should use either GRU or LSTM**. LSTM is the more powerful of the two but is also more expensive; you can think of GRU as a simpler, cheaper alternative to it.\n",
        "\n",
        "In order to stack multiple RNN layers on top of each other, each layer prior to the last layer in the stack should return the full sequence of its outputs (each input timestep will correspond to an output timestep). If you aren't stacking any further RNN\n",
        "layers, it's common to return only the last output, which contains information about the entire sequence.\n",
        "\n",
        "Following is a single RNN layer for binary classification of vector sequences:"
      ],
      "metadata": {
        "id": "EfQ27Or2rWcS"
      }
    },
    {
      "cell_type": "code",
      "execution_count": null,
      "metadata": {
        "id": "atTIzxRpYMxc"
      },
      "outputs": [],
      "source": [
        "inputs = keras.Input(shape=(num_timesteps,num_features))\n",
        "x = layers.LSTM(32)(inputs)\n",
        "outputs = layers.Dense(num_classes,activation=\"sigmoid\")(x)\n",
        "model = keras.Model(inputs, outputs)\n",
        "model.compile(optimizer=\"rmsprop\",loss=\"binary_crossentropy\")"
      ]
    },
    {
      "cell_type": "markdown",
      "source": [
        "And this is a stacked RNN for binary classification of vector sequences:"
      ],
      "metadata": {
        "id": "KQc0eARXsDW6"
      }
    },
    {
      "cell_type": "code",
      "execution_count": null,
      "metadata": {
        "id": "DHIFfoarYMxd"
      },
      "outputs": [],
      "source": [
        "inputs = keras.Input(shape=(num_timesteps,num_features))\n",
        "x = layers.LSTM(32,return_sequences=True)(inputs)\n",
        "x = layers.LSTM(32,return_sequences=True)(x)\n",
        "x = layers.LSTM(32)(x)\n",
        "outputs = layers.Dense(num_classes,activation=\"sigmoid\")(x)\n",
        "model = keras.Model(inputs, outputs)\n",
        "model.compile(optimizer=\"rmsprop\",loss=\"binary_crossentropy\")"
      ]
    },
    {
      "cell_type": "markdown",
      "metadata": {
        "id": "J6-qqeI-YMxd"
      },
      "source": [
        "#### Transformers"
      ]
    },
    {
      "cell_type": "markdown",
      "source": [
        "A Transformer looks at a set of vectors (such as word vectors), and leverages **neural attention** to transform each vector into a representation that is aware of the **context** provided by the other vectors in the set. When the set in question is an ordered sequence, you can also leverage **positional encoding** to create Transformers that can take intoaccount both global context and word order, capable of processing long text paragraphs much more effectively than RNNs or 1D convnets.\n",
        "\n",
        "Transformers can be used for any set-processing or sequence-processing task, including text classification, but they excel especially at **sequence-to-sequence learning**, such as translating paragraphs in a source language into a target language.\n",
        "\n",
        "A sequence-to-sequence Transformer is made up of two parts:\n"
      ],
      "metadata": {
        "id": "J-rQ6cmvsIWV"
      }
    },
    {
      "cell_type": "markdown",
      "source": [
        "1. A **TransformerEncoder** that turns an input vector sequence into a context-aware, order-aware output vector sequence\n",
        "2. A **TransformerDecoder** that takes the output of the **TransformerEncoder**, as well as a target sequence, and predicts what should come next in the target sequence\n",
        "\n",
        "If you're only processing a single sequence (or set) of vectors, you'd be only using the TransformerEncoder.\n",
        "\n",
        "Following is a sequence-to-sequence Transformer for mapping a source sequence to a target sequence (this setup could be used for machine translation or question answering, for instance):"
      ],
      "metadata": {
        "id": "PdAu7KO5sg2O"
      }
    },
    {
      "cell_type": "code",
      "execution_count": null,
      "metadata": {
        "id": "lO2a0GRUYMxd"
      },
      "outputs": [],
      "source": [
        "encoder_inputs = keras.Input(shape=(sequence_length,), dtype=\"int64\")           # Source sequence\n",
        "x = PositionalEmbedding(sequence_length, vocab_size, embed_dim)(encoder_inputs)\n",
        "encoder_outputs = TransformerEncoder(embed_dim, dense_dim, num_heads)(x)\n",
        "decoder_inputs = keras.Input(shape=(None,), dtype=\"int64\")                      # Target sequence so far\n",
        "x = PositionalEmbedding(sequence_length, vocab_size, embed_dim)(decoder_inputs)\n",
        "x = TransformerDecoder(embed_dim, dense_dim, num_heads)(x, encoder_outputs)\n",
        "decoder_outputs = layers.Dense(vocab_size, activation=\"softmax\")(x)             # Target sequence one step in the future\n",
        "transformer = keras.Model([encoder_inputs, decoder_inputs], decoder_outputs)\n",
        "transformer.compile(optimizer=\"rmsprop\", loss=\"categorical_crossentropy\")"
      ]
    },
    {
      "cell_type": "markdown",
      "source": [
        "And this is a lone TransformerEncoder for binary classification of integer sequences:"
      ],
      "metadata": {
        "id": "KT9ifTFetDFO"
      }
    },
    {
      "cell_type": "code",
      "execution_count": null,
      "metadata": {
        "id": "UsRIbUvYYMxd"
      },
      "outputs": [],
      "source": [
        "inputs = keras.Input(shape=(sequence_length,), dtype=\"int64\")\n",
        "x = PositionalEmbedding(sequence_length, vocab_size, embed_dim)(inputs)\n",
        "x = TransformerEncoder(embed_dim, dense_dim, num_heads)(x)\n",
        "x = layers.GlobalMaxPooling1D()(x)\n",
        "outputs = layers.Dense(1, activation=\"sigmoid\")(x)\n",
        "model = keras.Model(inputs, outputs)\n",
        "model.compile(optimizer=\"rmsprop\", loss=\"binary_crossentropy\")"
      ]
    },
    {
      "cell_type": "markdown",
      "source": [
        "Full implementations of the TransformerEncoder, the TransformerDecoder, and the PositionalEmbedding layer are provided in chapter 11."
      ],
      "metadata": {
        "id": "UjB-MDzVtHwI"
      }
    },
    {
      "cell_type": "markdown",
      "metadata": {
        "id": "ZN_PW3aTYMxd"
      },
      "source": [
        "### The space of possibilities"
      ]
    },
    {
      "cell_type": "markdown",
      "source": [
        "What will you build with these techniques? Remember, building deep learning models is like playing with LEGO bricks: layers can be plugged together to map essentially anything to anything, given that you have appropriate training data available and that\n",
        "the mapping is achievable via a continuous geometric transformation of reasonable complexity. The space of possibilities is infinite. This section offers a few examples to\n",
        "inspire you to think beyond the basic classification and regression tasks that have traditionally been the bread and butter of machine learning.\n",
        "\n",
        "I've sorted my suggested applications by input and output modalities in the following list. Note that quite a few of them stretch the limits of what is possible—although a model could be trained on all of these tasks, in some cases such a model probably\n",
        "wouldn't generalize far from its training data. The later sections will address how these limitations could be lifted in the future:"
      ],
      "metadata": {
        "id": "FfxOQIkEtO6X"
      }
    },
    {
      "cell_type": "markdown",
      "source": [
        "* Mapping vector data to vector data:\n",
        "  - Predictive healthcare—Mapping patient medical records to predictions of\n",
        "patient outcomes\n",
        "  - Behavioral targeting—Mapping a set of website attributes with data on how\n",
        "long a user will spend on the website\n",
        "  - Product quality control—Mapping a set of attributes relative to an instance of a manufactured product with the probability that the product will fail by next year\n",
        "\n",
        "* Mapping image data to vector data:\n",
        "  - Medical assistant—Mapping slides of medical images to a prediction about the presence of a tumor\n",
        "  - Self-driving vehicle—Mapping car dashcam video frames to steering wheel angle commands and gas and braking commands\n",
        "  - Board game AI—Mapping Go or chess boards to the next player move\n",
        "  - Diet helper—Mapping pictures of a dish to its calorie count\n",
        "  - Age prediction—Mapping selfies to the age of the person\n",
        "\n",
        "* Mapping timeseries data to vector data:\n",
        "  - Weather prediction—Mapping timeseries of weather data in a grid of locations to the temperature in a specific place one week later\n",
        "  - Brain-computer interfaces—Mapping timeseries of magnetoencephalogram (MEG) data to computer commands\n",
        "  - Behavioral targeting—Mapping timeseries of user interactions on a website to the probability that a user will buy something\n",
        "\n",
        "* Mapping text to text:\n",
        "  - Machine translation— Mapping a paragraph in one language to a translated version in a different language\n",
        "  - Smart reply—Mapping emails to possible one-line replies\n",
        "  - Question answering—Mapping general-knowledge questions to answers\n",
        "  - Summarization—Mapping a long article to a short summary of the article\n",
        "\n",
        "* Mapping images to text:\n",
        "  - Text transcription— Mapping images that contain a text element to the corresponding text string\n",
        "  - Captioning—Mapping images to short captions describing the contents of the images\n",
        "\n",
        "* Mapping text to images:\n",
        "  - Conditioned image generation—Mapping a short text description to images matching the description\n",
        "  - Logo generation/selection—Mapping the name and description of a company to a logo suggestion\n",
        "\n",
        "* Mapping images to images:\n",
        "  - Super-resolution—Mapping downsized images to higher-resolution versions of the same images\n",
        "  - Visual depth sensing—Mapping images of indoor environments to maps of depth predictions\n",
        "\n",
        "* Mapping images and text to text:\n",
        "  - Visual QA—Mapping images and natural language questions about the contents of images to natural language answers\n",
        "\n",
        "* Mapping video and text to text:\n",
        "  - Video QA—Mapping short videos and natural language questions about the contents of videos to natural language answers\n",
        "\n",
        "**Almost anything** is possible, but not quite **anything**. You'll see in the next section what we **can't** do with deep learning."
      ],
      "metadata": {
        "id": "9LU8FXTTthM5"
      }
    },
    {
      "cell_type": "markdown",
      "metadata": {
        "id": "-qayVCxBYMxe"
      },
      "source": [
        "## The limitations of deep learning\n",
        "\n",
        "The space of applications that can be implemented with deep learning is infinite. And yet, many applications remain completely out of reach for current deep learning techniques—even given vast amounts of human-annotated data. Say, for instance, that you could assemble a dataset of hundreds of thousands—even millions—of English-language descriptions of the features of a software product, written by a product manager, as well as the corresponding source code developed by a team of engineers to meet these requirements. Even with this data, you could not train a deep learning model to read a product description and generate the appropriate codebase. That's just one example among many. In general, **anything that requires reasoning**—like programming or applying the scientific method—long-term planning, and algorithmic data manipulation is **out of reach for deep learning models**, no matter how much data you throw at them. Even learning a simple sorting algorithm with a deep neural network is tremendously difficult.\n",
        "\n",
        "This is because a deep learning model is just a **chain of simple, continuous geometric transformations** mapping one vector space into another. All it can do is map one data manifold X into another manifold Y, assuming the existence of a learnable continu-\n",
        "ous transform from X to Y. A deep learning model can be interpreted as a kind of program, but, inversely, **most programs can't be expressed as deep learning models**. For most tasks, either there exists no corresponding neural network of reasonable size that solves the task or, even if one exists, it may not be **learnable**: the corresponding geometric transform may be far too complex, or there may not be appropriate data available to learn it.\n",
        "\n",
        "Scaling up current deep learning techniques by stacking more layers and using more training data can only superficially palliate some of these issues. It won't solve the more fundamental problems that deep learning models are limited in what they can represent and that most of the programs you may wish to learn can't be expressed as a continuous geometric morphing of a data manifold."
      ]
    },
    {
      "cell_type": "code",
      "source": [],
      "metadata": {
        "id": "9RT6kZ_uc1tx"
      },
      "execution_count": null,
      "outputs": []
    },
    {
      "cell_type": "markdown",
      "metadata": {
        "id": "QnYFdnUbYMxe"
      },
      "source": [
        "### The risk of anthropomorphizing machine-learning models\n",
        "\n",
        "One real risk with contemporary AI is misinterpreting what deep learning models do and overestimating their abilities. A fundamental feature of humans is our theory of mind: our tendency to project intentions, beliefs, and knowledge on the things\n",
        "around us. Drawing a smiley face on a rock suddenly makes it “happy” in our minds. Applied to deep learning, this means that, for instance, when we're able to somewhat successfully train a model to generate captions to describe pictures, we're led\n",
        "to believe that the model “understands” the contents of the pictures and the captions it generates. Then we're surprised when any slight departure from the sort of images present in the training data causes the model to generate completely absurd\n",
        "captions (see figure below)."
      ]
    },
    {
      "cell_type": "markdown",
      "source": [
        "![image.png](data:image/png;base64,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)"
      ],
      "metadata": {
        "id": "9qY9k2VYce2Z"
      }
    },
    {
      "cell_type": "markdown",
      "source": [],
      "metadata": {
        "id": "d7H6gFYodHLr"
      }
    },
    {
      "cell_type": "markdown",
      "source": [],
      "metadata": {
        "id": "aJxoCR7FdHR5"
      }
    },
    {
      "cell_type": "code",
      "source": [],
      "metadata": {
        "id": "bUvyh3VIc1w-"
      },
      "execution_count": null,
      "outputs": []
    },
    {
      "cell_type": "markdown",
      "metadata": {
        "id": "q9lFWUElYMxe"
      },
      "source": [
        "### Automatons vs. intelligent agents"
      ]
    },
    {
      "cell_type": "markdown",
      "metadata": {
        "id": "3Q_D1hL0YMxe"
      },
      "source": [
        "### Local generalization vs. extreme generalization"
      ]
    },
    {
      "cell_type": "markdown",
      "metadata": {
        "id": "cHpxDxZFYMxe"
      },
      "source": [
        "### The purpose of intelligence"
      ]
    },
    {
      "cell_type": "markdown",
      "metadata": {
        "id": "ANNf9GC9YMxf"
      },
      "source": [
        "### Climbing the spectrum of generalization"
      ]
    },
    {
      "cell_type": "markdown",
      "metadata": {
        "id": "1xr3IvXWYMxf"
      },
      "source": [
        "## Setting the course toward greater generality in AI"
      ]
    },
    {
      "cell_type": "markdown",
      "metadata": {
        "id": "6SXWJbNXYMxf"
      },
      "source": [
        "### On the importance of setting the right objective: The shortcut rule"
      ]
    },
    {
      "cell_type": "markdown",
      "metadata": {
        "id": "BbH6YZ59YMxf"
      },
      "source": [
        "### A new target"
      ]
    },
    {
      "cell_type": "markdown",
      "metadata": {
        "id": "uRWy2TMvYMxf"
      },
      "source": [
        "## Implementing intelligence: The missing ingredients"
      ]
    },
    {
      "cell_type": "markdown",
      "metadata": {
        "id": "nch2SKRtYMxf"
      },
      "source": [
        "### Intelligence as sensitivity to abstract analogies"
      ]
    },
    {
      "cell_type": "markdown",
      "metadata": {
        "id": "BMaaYr6BYMxf"
      },
      "source": [
        "### The two poles of abstraction"
      ]
    },
    {
      "cell_type": "markdown",
      "metadata": {
        "id": "eVTjwPLnYMxf"
      },
      "source": [
        "#### Value-centric analogy"
      ]
    },
    {
      "cell_type": "markdown",
      "metadata": {
        "id": "hHVO9eGWYMxf"
      },
      "source": [
        "#### Program-centric analogy"
      ]
    },
    {
      "cell_type": "markdown",
      "metadata": {
        "id": "-WTNM_ZoYMxg"
      },
      "source": [
        "#### Cognition as a combination of both kinds of abstraction"
      ]
    },
    {
      "cell_type": "markdown",
      "metadata": {
        "id": "3EU6R0ZZYMxg"
      },
      "source": [
        "### The missing half of the picture"
      ]
    },
    {
      "cell_type": "markdown",
      "metadata": {
        "id": "iuD29Wq7YMxg"
      },
      "source": [
        "## The future of deep learning"
      ]
    },
    {
      "cell_type": "markdown",
      "metadata": {
        "id": "MXJoDfsuYMxg"
      },
      "source": [
        "### Models as programs"
      ]
    },
    {
      "cell_type": "markdown",
      "metadata": {
        "id": "tedihIjRYMxg"
      },
      "source": [
        "### Blending together deep learning and program synthesis"
      ]
    },
    {
      "cell_type": "markdown",
      "metadata": {
        "id": "kpw8pu-GYMxg"
      },
      "source": [
        "#### Integrating deep-learning modules and algorithmic modules into hybrid systems"
      ]
    },
    {
      "cell_type": "markdown",
      "metadata": {
        "id": "U52CTmWPYMxh"
      },
      "source": [
        "#### Using deep learning to guide program search"
      ]
    },
    {
      "cell_type": "markdown",
      "metadata": {
        "id": "yPW1cjWIYMxh"
      },
      "source": [
        "### Lifelong learning and modular subroutine reuse"
      ]
    },
    {
      "cell_type": "markdown",
      "metadata": {
        "id": "txS0bC5vYMxh"
      },
      "source": [
        "### The long-term vision"
      ]
    },
    {
      "cell_type": "markdown",
      "metadata": {
        "id": "zhJ2K82kYMxh"
      },
      "source": [
        "## Staying up to date in a fast-moving field"
      ]
    },
    {
      "cell_type": "markdown",
      "metadata": {
        "id": "2FcrRHH5YMxh"
      },
      "source": [
        "### Practice on real-world problems using Kaggle"
      ]
    },
    {
      "cell_type": "markdown",
      "metadata": {
        "id": "Rr59DgjyYMxh"
      },
      "source": [
        "### Read about the latest developments on arXiv"
      ]
    },
    {
      "cell_type": "markdown",
      "metadata": {
        "id": "4ASBIxJ9YMxi"
      },
      "source": [
        "### Explore the Keras ecosystem"
      ]
    },
    {
      "cell_type": "markdown",
      "metadata": {
        "id": "8DVEsWT2YMxi"
      },
      "source": [
        "## Final words"
      ]
    }
  ],
  "metadata": {
    "colab": {
      "provenance": [],
      "toc_visible": true
    },
    "kernelspec": {
      "display_name": "Python 3",
      "language": "python",
      "name": "python3"
    },
    "language_info": {
      "codemirror_mode": {
        "name": "ipython",
        "version": 3
      },
      "file_extension": ".py",
      "mimetype": "text/x-python",
      "name": "python",
      "nbconvert_exporter": "python",
      "pygments_lexer": "ipython3",
      "version": "3.7.0"
    }
  },
  "nbformat": 4,
  "nbformat_minor": 0
}