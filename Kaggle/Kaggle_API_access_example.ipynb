{
  "nbformat": 4,
  "nbformat_minor": 0,
  "metadata": {
    "colab": {
      "provenance": []
    },
    "kernelspec": {
      "name": "python3",
      "display_name": "Python 3"
    }
  },
  "cells": [
    {
      "metadata": {
        "id": "akJ8fvsfGVdn",
        "colab": {
          "base_uri": "https://localhost:8080/",
          "height": 92
        },
        "outputId": "774309ed-0d2d-4d36-d27a-5754687c62b5"
      },
      "cell_type": "code",
      "source": [
        "# Run this cell and select the kaggle.json file downloaded\n",
        "# from the Kaggle account settings page.\n",
        "from google.colab import files\n",
        "files.upload()"
      ],
      "execution_count": 1,
      "outputs": [
        {
          "output_type": "display_data",
          "data": {
            "text/plain": [
              "<IPython.core.display.HTML object>"
            ],
            "text/html": [
              "\n",
              "     <input type=\"file\" id=\"files-f9f07846-ce5e-4754-ba53-d92a665de54a\" name=\"files[]\" multiple disabled\n",
              "        style=\"border:none\" />\n",
              "     <output id=\"result-f9f07846-ce5e-4754-ba53-d92a665de54a\">\n",
              "      Upload widget is only available when the cell has been executed in the\n",
              "      current browser session. Please rerun this cell to enable.\n",
              "      </output>\n",
              "      <script>// Copyright 2017 Google LLC\n",
              "//\n",
              "// Licensed under the Apache License, Version 2.0 (the \"License\");\n",
              "// you may not use this file except in compliance with the License.\n",
              "// You may obtain a copy of the License at\n",
              "//\n",
              "//      http://www.apache.org/licenses/LICENSE-2.0\n",
              "//\n",
              "// Unless required by applicable law or agreed to in writing, software\n",
              "// distributed under the License is distributed on an \"AS IS\" BASIS,\n",
              "// WITHOUT WARRANTIES OR CONDITIONS OF ANY KIND, either express or implied.\n",
              "// See the License for the specific language governing permissions and\n",
              "// limitations under the License.\n",
              "\n",
              "/**\n",
              " * @fileoverview Helpers for google.colab Python module.\n",
              " */\n",
              "(function(scope) {\n",
              "function span(text, styleAttributes = {}) {\n",
              "  const element = document.createElement('span');\n",
              "  element.textContent = text;\n",
              "  for (const key of Object.keys(styleAttributes)) {\n",
              "    element.style[key] = styleAttributes[key];\n",
              "  }\n",
              "  return element;\n",
              "}\n",
              "\n",
              "// Max number of bytes which will be uploaded at a time.\n",
              "const MAX_PAYLOAD_SIZE = 100 * 1024;\n",
              "\n",
              "function _uploadFiles(inputId, outputId) {\n",
              "  const steps = uploadFilesStep(inputId, outputId);\n",
              "  const outputElement = document.getElementById(outputId);\n",
              "  // Cache steps on the outputElement to make it available for the next call\n",
              "  // to uploadFilesContinue from Python.\n",
              "  outputElement.steps = steps;\n",
              "\n",
              "  return _uploadFilesContinue(outputId);\n",
              "}\n",
              "\n",
              "// This is roughly an async generator (not supported in the browser yet),\n",
              "// where there are multiple asynchronous steps and the Python side is going\n",
              "// to poll for completion of each step.\n",
              "// This uses a Promise to block the python side on completion of each step,\n",
              "// then passes the result of the previous step as the input to the next step.\n",
              "function _uploadFilesContinue(outputId) {\n",
              "  const outputElement = document.getElementById(outputId);\n",
              "  const steps = outputElement.steps;\n",
              "\n",
              "  const next = steps.next(outputElement.lastPromiseValue);\n",
              "  return Promise.resolve(next.value.promise).then((value) => {\n",
              "    // Cache the last promise value to make it available to the next\n",
              "    // step of the generator.\n",
              "    outputElement.lastPromiseValue = value;\n",
              "    return next.value.response;\n",
              "  });\n",
              "}\n",
              "\n",
              "/**\n",
              " * Generator function which is called between each async step of the upload\n",
              " * process.\n",
              " * @param {string} inputId Element ID of the input file picker element.\n",
              " * @param {string} outputId Element ID of the output display.\n",
              " * @return {!Iterable<!Object>} Iterable of next steps.\n",
              " */\n",
              "function* uploadFilesStep(inputId, outputId) {\n",
              "  const inputElement = document.getElementById(inputId);\n",
              "  inputElement.disabled = false;\n",
              "\n",
              "  const outputElement = document.getElementById(outputId);\n",
              "  outputElement.innerHTML = '';\n",
              "\n",
              "  const pickedPromise = new Promise((resolve) => {\n",
              "    inputElement.addEventListener('change', (e) => {\n",
              "      resolve(e.target.files);\n",
              "    });\n",
              "  });\n",
              "\n",
              "  const cancel = document.createElement('button');\n",
              "  inputElement.parentElement.appendChild(cancel);\n",
              "  cancel.textContent = 'Cancel upload';\n",
              "  const cancelPromise = new Promise((resolve) => {\n",
              "    cancel.onclick = () => {\n",
              "      resolve(null);\n",
              "    };\n",
              "  });\n",
              "\n",
              "  // Wait for the user to pick the files.\n",
              "  const files = yield {\n",
              "    promise: Promise.race([pickedPromise, cancelPromise]),\n",
              "    response: {\n",
              "      action: 'starting',\n",
              "    }\n",
              "  };\n",
              "\n",
              "  cancel.remove();\n",
              "\n",
              "  // Disable the input element since further picks are not allowed.\n",
              "  inputElement.disabled = true;\n",
              "\n",
              "  if (!files) {\n",
              "    return {\n",
              "      response: {\n",
              "        action: 'complete',\n",
              "      }\n",
              "    };\n",
              "  }\n",
              "\n",
              "  for (const file of files) {\n",
              "    const li = document.createElement('li');\n",
              "    li.append(span(file.name, {fontWeight: 'bold'}));\n",
              "    li.append(span(\n",
              "        `(${file.type || 'n/a'}) - ${file.size} bytes, ` +\n",
              "        `last modified: ${\n",
              "            file.lastModifiedDate ? file.lastModifiedDate.toLocaleDateString() :\n",
              "                                    'n/a'} - `));\n",
              "    const percent = span('0% done');\n",
              "    li.appendChild(percent);\n",
              "\n",
              "    outputElement.appendChild(li);\n",
              "\n",
              "    const fileDataPromise = new Promise((resolve) => {\n",
              "      const reader = new FileReader();\n",
              "      reader.onload = (e) => {\n",
              "        resolve(e.target.result);\n",
              "      };\n",
              "      reader.readAsArrayBuffer(file);\n",
              "    });\n",
              "    // Wait for the data to be ready.\n",
              "    let fileData = yield {\n",
              "      promise: fileDataPromise,\n",
              "      response: {\n",
              "        action: 'continue',\n",
              "      }\n",
              "    };\n",
              "\n",
              "    // Use a chunked sending to avoid message size limits. See b/62115660.\n",
              "    let position = 0;\n",
              "    do {\n",
              "      const length = Math.min(fileData.byteLength - position, MAX_PAYLOAD_SIZE);\n",
              "      const chunk = new Uint8Array(fileData, position, length);\n",
              "      position += length;\n",
              "\n",
              "      const base64 = btoa(String.fromCharCode.apply(null, chunk));\n",
              "      yield {\n",
              "        response: {\n",
              "          action: 'append',\n",
              "          file: file.name,\n",
              "          data: base64,\n",
              "        },\n",
              "      };\n",
              "\n",
              "      let percentDone = fileData.byteLength === 0 ?\n",
              "          100 :\n",
              "          Math.round((position / fileData.byteLength) * 100);\n",
              "      percent.textContent = `${percentDone}% done`;\n",
              "\n",
              "    } while (position < fileData.byteLength);\n",
              "  }\n",
              "\n",
              "  // All done.\n",
              "  yield {\n",
              "    response: {\n",
              "      action: 'complete',\n",
              "    }\n",
              "  };\n",
              "}\n",
              "\n",
              "scope.google = scope.google || {};\n",
              "scope.google.colab = scope.google.colab || {};\n",
              "scope.google.colab._files = {\n",
              "  _uploadFiles,\n",
              "  _uploadFilesContinue,\n",
              "};\n",
              "})(self);\n",
              "</script> "
            ]
          },
          "metadata": {}
        },
        {
          "output_type": "stream",
          "name": "stdout",
          "text": [
            "Saving kaggle.json to kaggle.json\n"
          ]
        },
        {
          "output_type": "execute_result",
          "data": {
            "text/plain": [
              "{'kaggle.json': b'{\"username\":\"axion004\",\"key\":\"aea22e38d52b3227012bd30563c22cae\"}'}"
            ]
          },
          "metadata": {},
          "execution_count": 1
        }
      ]
    },
    {
      "metadata": {
        "id": "cDLXrqcNGlU7",
        "colab": {
          "base_uri": "https://localhost:8080/"
        },
        "outputId": "024ba107-ba1e-4cae-bfa0-004cc4837f7c"
      },
      "cell_type": "code",
      "source": [
        "# Let's make sure the kaggle.json file is present.\n",
        "!ls -lha kaggle.json"
      ],
      "execution_count": 2,
      "outputs": [
        {
          "output_type": "stream",
          "name": "stdout",
          "text": [
            "-rw-r--r-- 1 root root 64 Apr 24 03:19 kaggle.json\n"
          ]
        }
      ]
    },
    {
      "metadata": {
        "id": "QITWh1N5GoqG"
      },
      "cell_type": "code",
      "source": [
        "# Next, install the Kaggle API client.\n",
        "!pip install -q kaggle"
      ],
      "execution_count": 3,
      "outputs": []
    },
    {
      "metadata": {
        "id": "KixiXyagGy7Y"
      },
      "cell_type": "code",
      "source": [
        "# The Kaggle API client expects this file to be in ~/.kaggle,\n",
        "# so move it there.\n",
        "!mkdir -p ~/.kaggle\n",
        "!cp kaggle.json ~/.kaggle/\n",
        "\n",
        "# This permissions change avoids a warning on Kaggle tool startup.\n",
        "!chmod 600 ~/.kaggle/kaggle.json"
      ],
      "execution_count": 4,
      "outputs": []
    },
    {
      "metadata": {
        "id": "rPZaJ7oOGuyh",
        "colab": {
          "base_uri": "https://localhost:8080/"
        },
        "outputId": "be149e92-deb1-4ba5-d230-562ac32fb716"
      },
      "cell_type": "code",
      "source": [
        "# List available datasets.\n",
        "!kaggle datasets list"
      ],
      "execution_count": 5,
      "outputs": [
        {
          "output_type": "stream",
          "name": "stdout",
          "text": [
            "Warning: Looks like you're using an outdated API Version, please consider updating (server 1.6.12 / client 1.5.16)\n",
            "ref                                                  title                                           size  lastUpdated          downloadCount  voteCount  usabilityRating  \n",
            "---------------------------------------------------  ---------------------------------------------  -----  -------------------  -------------  ---------  ---------------  \n",
            "rahulvyasm/netflix-movies-and-tv-shows               Netflix Movies and TV Shows                      1MB  2024-04-10 09:48:38           4829        100  1.0              \n",
            "sudarshan24byte/online-food-dataset                  Online Food Dataset                              3KB  2024-03-02 18:50:30          31722        604  0.9411765        \n",
            "fatemehmehrparvar/obesity-levels                     Obesity Levels                                  58KB  2024-04-07 16:28:30           3889         60  0.88235295       \n",
            "asaniczka/university-employee-salaries-2011-present  University Employee Salaries (2011 - Present)   17MB  2024-04-07 10:11:15           1968         52  1.0              \n",
            "mexwell/heart-disease-dataset                        🫀 Heart Disease Dataset                        399KB  2024-04-08 09:43:49           2607         46  1.0              \n",
            "startalks/pii-models                                 pii-models                                       1GB  2024-03-21 21:23:40            205         27  1.0              \n",
            "prishasawhney/mushroom-dataset                       Mushroom Dataset (Binary Classification)       602KB  2024-04-18 19:56:44            881         55  1.0              \n",
            "vladimirosmakris/house-pricing-index-united-states   house_pricing_index_united_states                9MB  2024-04-14 18:19:44            512         24  0.9411765        \n",
            "yaminh/german-car-insights                           German Car Insights                              4MB  2024-04-13 15:43:54           1096         29  0.8235294        \n",
            "akankshaaa013/top-grossing-movies-dataset            Top Grossing Movies Dataset                     33KB  2024-04-08 08:29:47           1829         36  1.0              \n",
            "thegoanpanda/imdb-top-2000-movies                    IMDb Top 2000 Movies                            20KB  2024-04-09 12:30:58            638         22  1.0              \n",
            "sunnykakar/spotify-charts-all-audio-data             Spotify Charts (All Audio Data)                  3GB  2024-04-15 20:15:15           1146         39  1.0              \n",
            "arnavsmayan/amazon-prime-userbase-dataset            Amazon Prime Userbase Dataset                  104KB  2024-04-15 06:25:10           1468         30  1.0              \n",
            "ikjotsingh221/rural-credit-dataset-cleaned           Rural Credit Dataset Cleaned                   232KB  2024-04-17 22:06:00            311         58  1.0              \n",
            "prishasawhney/good-reads-top-1000-books              Good Reads Dataset (Top 1000 Books)             26KB  2024-04-17 20:02:53            430         49  1.0              \n",
            "sakshisatre/social-advertisement-dataset             Social Media Consumer Buying Behavior Dataset    1KB  2024-04-14 08:47:43           1158         31  1.0              \n",
            "nbroad/gemma-rewrite-nbroad                          gemma-rewrite-nbroad                             8MB  2024-03-03 04:52:39           1727        107  1.0              \n",
            "ikjotsingh221/machine-failure-cleaned                Machine Failure Prediction Cleaned              57KB  2024-04-17 19:53:39            312         51  1.0              \n",
            "clmentbisaillon/fake-and-real-news-dataset           fake-and-real-news-dataset                      41MB  2024-04-19 13:02:33            672         22  0.9411765        \n",
            "sukhmandeepsinghbrar/water-quality                   Water Quality                                   49MB  2024-04-19 07:53:13            492         34  1.0              \n"
          ]
        }
      ]
    },
    {
      "metadata": {
        "id": "0hyJ4Rb5HMwH",
        "colab": {
          "base_uri": "https://localhost:8080/"
        },
        "outputId": "05ef8dda-5978-48ef-b6ee-6da05a85b7a6"
      },
      "cell_type": "code",
      "source": [
        "# Copy the stackoverflow data set locally.\n",
        "!kaggle datasets download -d stackoverflow/stack-overflow-2018-developer-survey"
      ],
      "execution_count": 6,
      "outputs": [
        {
          "output_type": "stream",
          "name": "stdout",
          "text": [
            "Downloading stack-overflow-2018-developer-survey.zip to /content\n",
            " 61% 12.0M/19.6M [00:00<00:00, 61.2MB/s]\n",
            "100% 19.6M/19.6M [00:00<00:00, 80.6MB/s]\n"
          ]
        }
      ]
    },
    {
      "metadata": {
        "id": "8FgC4GlvHZQ1",
        "colab": {
          "base_uri": "https://localhost:8080/"
        },
        "outputId": "a16b62da-9e76-4b01-b6fa-10bbb58a0bba"
      },
      "cell_type": "code",
      "source": [
        "!head ~/.kaggle/datasets/stackoverflow/stack-overflow-2018-developer-survey/survey_results_public.csv"
      ],
      "execution_count": 7,
      "outputs": [
        {
          "output_type": "stream",
          "name": "stdout",
          "text": [
            "head: cannot open '/root/.kaggle/datasets/stackoverflow/stack-overflow-2018-developer-survey/survey_results_public.csv' for reading: No such file or directory\n"
          ]
        }
      ]
    }
  ]
}