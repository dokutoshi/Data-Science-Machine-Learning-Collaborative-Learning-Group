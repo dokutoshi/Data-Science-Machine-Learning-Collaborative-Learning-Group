{
  "cells": [
    {
      "cell_type": "markdown",
      "id": "08f4321d-d32a-4a90-bfc7-e923f316b2f8",
      "metadata": {
        "id": "08f4321d-d32a-4a90-bfc7-e923f316b2f8"
      },
      "source": [
        "<table style=\"width:100%\">\n",
        "<tr>\n",
        "<td style=\"vertical-align:middle; text-align:left;\">\n",
        "<font size=\"2\">\n",
        "Supplementary code for the <a href=\"http://mng.bz/orYv\">Build a Large Language Model From Scratch</a> book by <a href=\"https://sebastianraschka.com\">Sebastian Raschka</a><br>\n",
        "<br>Code repository: <a href=\"https://github.com/rasbt/LLMs-from-scratch\">https://github.com/rasbt/LLMs-from-scratch</a>\n",
        "</font>\n",
        "</td>\n",
        "<td style=\"vertical-align:middle; text-align:left;\">\n",
        "<a href=\"http://mng.bz/orYv\"><img src=\"https://sebastianraschka.com/images/LLMs-from-scratch-images/cover-small.webp\" width=\"100px\"></a>\n",
        "</td>\n",
        "</tr>\n",
        "</table>"
      ]
    },
    {
      "cell_type": "markdown",
      "id": "ce9295b2-182b-490b-8325-83a67c4a001d",
      "metadata": {
        "id": "ce9295b2-182b-490b-8325-83a67c4a001d"
      },
      "source": [
        "# Chapter 4: Implementing a GPT model from Scratch To Generate Text"
      ]
    },
    {
      "cell_type": "code",
      "source": [
        "%%capture\n",
        "!pip install -q --upgrade tiktoken"
      ],
      "metadata": {
        "id": "x082-ENtHOpw"
      },
      "id": "x082-ENtHOpw",
      "execution_count": 1,
      "outputs": []
    },
    {
      "cell_type": "code",
      "execution_count": 2,
      "id": "f9eac223-a125-40f7-bacc-bd0d890450c7",
      "metadata": {
        "colab": {
          "base_uri": "https://localhost:8080/"
        },
        "id": "f9eac223-a125-40f7-bacc-bd0d890450c7",
        "outputId": "76a54e11-d390-43cb-84a3-83abd9cfb8fd"
      },
      "outputs": [
        {
          "output_type": "stream",
          "name": "stdout",
          "text": [
            "matplotlib version: 3.10.0\n",
            "torch version: 2.5.1+cu124\n",
            "tiktoken version: 0.9.0\n"
          ]
        }
      ],
      "source": [
        "from importlib.metadata import version\n",
        "\n",
        "print(\"matplotlib version:\", version(\"matplotlib\"))\n",
        "print(\"torch version:\", version(\"torch\"))\n",
        "print(\"tiktoken version:\", version(\"tiktoken\"))"
      ]
    },
    {
      "cell_type": "markdown",
      "id": "e7da97ed-e02f-4d7f-b68e-a0eba3716e02",
      "metadata": {
        "id": "e7da97ed-e02f-4d7f-b68e-a0eba3716e02"
      },
      "source": [
        "- In this chapter, we implement a GPT-like LLM architecture; the next chapter will focus on training this LLM"
      ]
    },
    {
      "cell_type": "markdown",
      "id": "7d4f11e0-4434-4979-9dee-e1207df0eb01",
      "metadata": {
        "id": "7d4f11e0-4434-4979-9dee-e1207df0eb01"
      },
      "source": [
        "<img src=\"https://sebastianraschka.com/images/LLMs-from-scratch-images/ch04_compressed/01.webp\" width=\"1000px\">"
      ]
    },
    {
      "cell_type": "markdown",
      "id": "53fe99ab-0bcf-4778-a6b5-6db81fb826ef",
      "metadata": {
        "id": "53fe99ab-0bcf-4778-a6b5-6db81fb826ef"
      },
      "source": [
        "## 4.1 Coding an LLM architecture"
      ]
    },
    {
      "cell_type": "markdown",
      "id": "ad72d1ff-d82d-4e33-a88e-3c1a8831797b",
      "metadata": {
        "id": "ad72d1ff-d82d-4e33-a88e-3c1a8831797b"
      },
      "source": [
        "- Chapter 1 discussed models like GPT and Llama, which generate words sequentially and are based on the decoder part of the original transformer architecture\n",
        "- Therefore, these LLMs are often referred to as \"decoder-like\" LLMs\n",
        "- Compared to conventional deep learning models, LLMs are larger, mainly due to their vast number of parameters, not the amount of code\n",
        "- We'll see that many elements are repeated in an LLM's architecture"
      ]
    },
    {
      "cell_type": "markdown",
      "id": "5c5213e9-bd1c-437e-aee8-f5e8fb717251",
      "metadata": {
        "id": "5c5213e9-bd1c-437e-aee8-f5e8fb717251"
      },
      "source": [
        "<img src=\"https://sebastianraschka.com/images/LLMs-from-scratch-images/ch04_compressed/02.webp\" width=\"800px\">"
      ]
    },
    {
      "cell_type": "markdown",
      "id": "0d43f5e2-fb51-434a-b9be-abeef6b98d99",
      "metadata": {
        "id": "0d43f5e2-fb51-434a-b9be-abeef6b98d99"
      },
      "source": [
        "- In previous chapters, we used small embedding dimensions for token inputs and outputs for ease of illustration, ensuring they fit on a single page\n",
        "- In this chapter, we consider embedding and model sizes akin to a small GPT-2 model\n",
        "- We'll specifically code the architecture of the smallest GPT-2 model (124 million parameters), as outlined in Radford et al.'s [Language Models are Unsupervised Multitask Learners](https://cdn.openai.com/better-language-models/language_models_are_unsupervised_multitask_learners.pdf) (note that the initial report lists it as 117M parameters, but this was later corrected in the model weight repository)\n",
        "- Chapter 6 will show how to load pretrained weights into our implementation, which will be compatible with model sizes of 345, 762, and 1,542 million parameters"
      ]
    },
    {
      "cell_type": "markdown",
      "id": "21baa14d-24b8-4820-8191-a2808f7fbabc",
      "metadata": {
        "id": "21baa14d-24b8-4820-8191-a2808f7fbabc"
      },
      "source": [
        "- Configuration details for the 124 million parameter GPT-2 model include:"
      ]
    },
    {
      "cell_type": "code",
      "execution_count": 3,
      "id": "5ed66875-1f24-445d-add6-006aae3c5707",
      "metadata": {
        "id": "5ed66875-1f24-445d-add6-006aae3c5707"
      },
      "outputs": [],
      "source": [
        "GPT_CONFIG_124M = {\n",
        "    \"vocab_size\": 50257,    # Vocabulary size\n",
        "    \"context_length\": 1024, # Context length\n",
        "    \"emb_dim\": 768,         # Embedding dimension\n",
        "    \"n_heads\": 12,          # Number of attention heads\n",
        "    \"n_layers\": 12,         # Number of layers\n",
        "    \"drop_rate\": 0.1,       # Dropout rate\n",
        "    \"qkv_bias\": False       # Query-Key-Value bias\n",
        "}"
      ]
    },
    {
      "cell_type": "markdown",
      "id": "c12fcd28-d210-4c57-8be6-06cfcd5d73a4",
      "metadata": {
        "id": "c12fcd28-d210-4c57-8be6-06cfcd5d73a4"
      },
      "source": [
        "- We use short variable names to avoid long lines of code later\n",
        "- `\"vocab_size\"` indicates a vocabulary size of 50,257 words, supported by the BPE tokenizer discussed in Chapter 2\n",
        "- `\"context_length\"` represents the model's maximum input token count, as enabled by positional embeddings covered in Chapter 2\n",
        "- `\"emb_dim\"` is the embedding size for token inputs, converting each input token into a 768-dimensional vector\n",
        "- `\"n_heads\"` is the number of attention heads in the multi-head attention mechanism implemented in Chapter 3\n",
        "- `\"n_layers\"` is the number of transformer blocks within the model, which we'll implement in upcoming sections\n",
        "- `\"drop_rate\"` is the dropout mechanism's intensity, discussed in Chapter 3; 0.1 means dropping 10% of hidden units during training to mitigate overfitting\n",
        "- `\"qkv_bias\"` decides if the `Linear` layers in the multi-head attention mechanism (from Chapter 3) should include a bias vector when computing query (Q), key (K), and value (V) tensors; we'll disable this option, which is standard practice in modern LLMs; however, we'll revisit this later when loading pretrained GPT-2 weights from OpenAI into our reimplementation in chapter 5"
      ]
    },
    {
      "cell_type": "markdown",
      "id": "4adce779-857b-4418-9501-12a7f3818d88",
      "metadata": {
        "id": "4adce779-857b-4418-9501-12a7f3818d88"
      },
      "source": [
        "<img src=\"https://sebastianraschka.com/images/LLMs-from-scratch-images/ch04_compressed/03.webp\" width=\"1000px\">"
      ]
    },
    {
      "cell_type": "code",
      "execution_count": 4,
      "id": "619c2eed-f8ea-4ff5-92c3-feda0f29b227",
      "metadata": {
        "id": "619c2eed-f8ea-4ff5-92c3-feda0f29b227"
      },
      "outputs": [],
      "source": [
        "import torch\n",
        "import torch.nn as nn\n",
        "\n",
        "\n",
        "class DummyGPTModel(nn.Module):\n",
        "    def __init__(self, cfg):\n",
        "        super().__init__()\n",
        "        self.tok_emb = nn.Embedding(cfg[\"vocab_size\"], cfg[\"emb_dim\"])\n",
        "        self.pos_emb = nn.Embedding(cfg[\"context_length\"], cfg[\"emb_dim\"])\n",
        "        self.drop_emb = nn.Dropout(cfg[\"drop_rate\"])\n",
        "\n",
        "        # Use a placeholder for TransformerBlock\n",
        "        self.trf_blocks = nn.Sequential(\n",
        "            *[DummyTransformerBlock(cfg) for _ in range(cfg[\"n_layers\"])])\n",
        "\n",
        "        # Use a placeholder for LayerNorm\n",
        "        self.final_norm = DummyLayerNorm(cfg[\"emb_dim\"])\n",
        "        self.out_head = nn.Linear(\n",
        "            cfg[\"emb_dim\"], cfg[\"vocab_size\"], bias=False\n",
        "        )\n",
        "\n",
        "    def forward(self, in_idx):\n",
        "        batch_size, seq_len = in_idx.shape\n",
        "        tok_embeds = self.tok_emb(in_idx)\n",
        "        pos_embeds = self.pos_emb(torch.arange(seq_len, device=in_idx.device))\n",
        "        x = tok_embeds + pos_embeds\n",
        "        x = self.drop_emb(x)\n",
        "        x = self.trf_blocks(x)\n",
        "        x = self.final_norm(x)\n",
        "        logits = self.out_head(x)\n",
        "        return logits\n",
        "\n",
        "\n",
        "class DummyTransformerBlock(nn.Module):\n",
        "    def __init__(self, cfg):\n",
        "        super().__init__()\n",
        "        # A simple placeholder\n",
        "\n",
        "    def forward(self, x):\n",
        "        # This block does nothing and just returns its input.\n",
        "        return x\n",
        "\n",
        "\n",
        "class DummyLayerNorm(nn.Module):\n",
        "    def __init__(self, normalized_shape, eps=1e-5):\n",
        "        super().__init__()\n",
        "        # The parameters here are just to mimic the LayerNorm interface.\n",
        "\n",
        "    def forward(self, x):\n",
        "        # This layer does nothing and just returns its input.\n",
        "        return x"
      ]
    },
    {
      "cell_type": "markdown",
      "id": "9665e8ab-20ca-4100-b9b9-50d9bdee33be",
      "metadata": {
        "id": "9665e8ab-20ca-4100-b9b9-50d9bdee33be"
      },
      "source": [
        "<img src=\"https://sebastianraschka.com/images/LLMs-from-scratch-images/ch04_compressed/04.webp?123\" width=\"800px\">"
      ]
    },
    {
      "cell_type": "code",
      "execution_count": 5,
      "id": "794b6b6c-d36f-411e-a7db-8ac566a87fee",
      "metadata": {
        "colab": {
          "base_uri": "https://localhost:8080/"
        },
        "id": "794b6b6c-d36f-411e-a7db-8ac566a87fee",
        "outputId": "ba073a01-1dd6-405b-e880-77251f194cb1"
      },
      "outputs": [
        {
          "output_type": "stream",
          "name": "stdout",
          "text": [
            "tensor([[6109, 3626, 6100,  345],\n",
            "        [6109, 1110, 6622,  257]])\n"
          ]
        }
      ],
      "source": [
        "import tiktoken\n",
        "\n",
        "tokenizer = tiktoken.get_encoding(\"gpt2\")\n",
        "\n",
        "batch = []\n",
        "\n",
        "txt1 = \"Every effort moves you\"\n",
        "txt2 = \"Every day holds a\"\n",
        "\n",
        "batch.append(torch.tensor(tokenizer.encode(txt1)))\n",
        "batch.append(torch.tensor(tokenizer.encode(txt2)))\n",
        "batch = torch.stack(batch, dim=0)\n",
        "print(batch)"
      ]
    },
    {
      "cell_type": "code",
      "execution_count": 6,
      "id": "009238cd-0160-4834-979c-309710986bb0",
      "metadata": {
        "colab": {
          "base_uri": "https://localhost:8080/"
        },
        "id": "009238cd-0160-4834-979c-309710986bb0",
        "outputId": "62bc9dd3-ed73-4012-8dfd-982298093da3"
      },
      "outputs": [
        {
          "output_type": "stream",
          "name": "stdout",
          "text": [
            "Output shape: torch.Size([2, 4, 50257])\n",
            "tensor([[[-0.9289,  0.2748, -0.7557,  ..., -1.6070,  0.2702, -0.5888],\n",
            "         [-0.4476,  0.1726,  0.5354,  ..., -0.3932,  1.5285,  0.8557],\n",
            "         [ 0.5680,  1.6053, -0.2155,  ...,  1.1624,  0.1380,  0.7425],\n",
            "         [ 0.0447,  2.4787, -0.8843,  ...,  1.3219, -0.0864, -0.5856]],\n",
            "\n",
            "        [[-1.5474, -0.0542, -1.0571,  ..., -1.8061, -0.4494, -0.6747],\n",
            "         [-0.8422,  0.8243, -0.1098,  ..., -0.1434,  0.2079,  1.2046],\n",
            "         [ 0.1355,  1.1858, -0.1453,  ...,  0.0869, -0.1590,  0.1552],\n",
            "         [ 0.1666, -0.8138,  0.2307,  ...,  2.5035, -0.3055, -0.3083]]],\n",
            "       grad_fn=<UnsafeViewBackward0>)\n"
          ]
        }
      ],
      "source": [
        "torch.manual_seed(123)\n",
        "model = DummyGPTModel(GPT_CONFIG_124M)\n",
        "\n",
        "logits = model(batch)\n",
        "print(\"Output shape:\", logits.shape)\n",
        "print(logits)"
      ]
    },
    {
      "cell_type": "markdown",
      "id": "f8fad0fe-895d-4493-9e48-962e2d46c66f",
      "metadata": {
        "id": "f8fad0fe-895d-4493-9e48-962e2d46c66f"
      },
      "source": [
        "---\n",
        "\n",
        "**Note**\n",
        "\n",
        "- If you are running this code on Windows or Linux, the resulting values above may look like as follows:\n",
        "    \n",
        "```\n",
        "Output shape: torch.Size([2, 4, 50257])\n",
        "tensor([[[-0.9289,  0.2748, -0.7557,  ..., -1.6070,  0.2702, -0.5888],\n",
        "         [-0.4476,  0.1726,  0.5354,  ..., -0.3932,  1.5285,  0.8557],\n",
        "         [ 0.5680,  1.6053, -0.2155,  ...,  1.1624,  0.1380,  0.7425],\n",
        "         [ 0.0447,  2.4787, -0.8843,  ...,  1.3219, -0.0864, -0.5856]],\n",
        "\n",
        "        [[-1.5474, -0.0542, -1.0571,  ..., -1.8061, -0.4494, -0.6747],\n",
        "         [-0.8422,  0.8243, -0.1098,  ..., -0.1434,  0.2079,  1.2046],\n",
        "         [ 0.1355,  1.1858, -0.1453,  ...,  0.0869, -0.1590,  0.1552],\n",
        "         [ 0.1666, -0.8138,  0.2307,  ...,  2.5035, -0.3055, -0.3083]]],\n",
        "       grad_fn=<UnsafeViewBackward0>)\n",
        "```\n",
        "\n",
        "- Since these are just random numbers, this is not a reason for concern, and you can proceed with the remainder of the chapter without issues\n",
        "- One possible reason for this discrepancy is the differing behavior of `nn.Dropout` across operating systems, depending on how PyTorch was compiled, as discussed [here on the PyTorch issue tracker](https://github.com/pytorch/pytorch/issues/121595)\n",
        "\n",
        "---"
      ]
    },
    {
      "cell_type": "markdown",
      "source": [
        "**Remark:** In a general neural network, we typically use the same loss function for any type of multilayer neural networks for binary classification. We use the logistic sigmoid function $\\sigma(\\cdot)$ in the output layer, and the logits $z$ are the weighted inputs at the output layer as illustrated in the figure below.\n",
        "![logits](https://sebastianraschka.com/images/blog/2022/losses-learned-part1/likelihood-loss-nn-1.png)"
      ],
      "metadata": {
        "id": "VYBLufbTvhUv"
      },
      "id": "VYBLufbTvhUv"
    },
    {
      "cell_type": "markdown",
      "id": "f8332a00-98da-4eb4-b882-922776a89917",
      "metadata": {
        "id": "f8332a00-98da-4eb4-b882-922776a89917"
      },
      "source": [
        "## 4.2 Normalizing activations with layer normalization"
      ]
    },
    {
      "cell_type": "markdown",
      "id": "066cfb81-d59b-4d95-afe3-e43cf095f292",
      "metadata": {
        "id": "066cfb81-d59b-4d95-afe3-e43cf095f292"
      },
      "source": [
        "- Layer normalization, also known as LayerNorm ([Ba et al. 2016](https://arxiv.org/abs/1607.06450)), centers the activations of a neural network layer around a mean of 0 and normalizes their variance to 1\n",
        "- This stabilizes training and enables faster convergence to effective weights\n",
        "- Layer normalization is applied both before and after the multi-head attention module within the transformer block, which we will implement later; it's also applied before the final output layer"
      ]
    },
    {
      "cell_type": "markdown",
      "id": "314ac47a-69cc-4597-beeb-65bed3b5910f",
      "metadata": {
        "id": "314ac47a-69cc-4597-beeb-65bed3b5910f"
      },
      "source": [
        "<img src=\"https://sebastianraschka.com/images/LLMs-from-scratch-images/ch04_compressed/05.webp\" width=\"800px\">"
      ]
    },
    {
      "cell_type": "markdown",
      "id": "5ab49940-6b35-4397-a80e-df8d092770a7",
      "metadata": {
        "id": "5ab49940-6b35-4397-a80e-df8d092770a7"
      },
      "source": [
        "- Let's see how layer normalization works by passing a small input sample through a simple neural network layer:"
      ]
    },
    {
      "cell_type": "code",
      "execution_count": 7,
      "id": "79e1b463-dc3f-44ac-9cdb-9d5b6f64eb9d",
      "metadata": {
        "colab": {
          "base_uri": "https://localhost:8080/"
        },
        "id": "79e1b463-dc3f-44ac-9cdb-9d5b6f64eb9d",
        "outputId": "1bb8ac6e-b77a-481f-a416-8cede6de7471"
      },
      "outputs": [
        {
          "output_type": "stream",
          "name": "stdout",
          "text": [
            "tensor([[0.2260, 0.3470, 0.0000, 0.2216, 0.0000, 0.0000],\n",
            "        [0.2133, 0.2394, 0.0000, 0.5198, 0.3297, 0.0000]],\n",
            "       grad_fn=<ReluBackward0>)\n"
          ]
        }
      ],
      "source": [
        "torch.manual_seed(123)\n",
        "\n",
        "# create 2 training examples with 5 dimensions (features) each\n",
        "batch_example = torch.randn(2, 5)\n",
        "\n",
        "layer = nn.Sequential(nn.Linear(5, 6), nn.ReLU())\n",
        "out = layer(batch_example)\n",
        "print(out)"
      ]
    },
    {
      "cell_type": "markdown",
      "id": "8fccc29e-71fc-4c16-898c-6137c6ea5d2e",
      "metadata": {
        "id": "8fccc29e-71fc-4c16-898c-6137c6ea5d2e"
      },
      "source": [
        "- Let's compute the mean and variance for each of the 2 inputs above:"
      ]
    },
    {
      "cell_type": "code",
      "execution_count": 8,
      "id": "9888f79e-8e69-44aa-8a19-cd34292adbf5",
      "metadata": {
        "colab": {
          "base_uri": "https://localhost:8080/"
        },
        "id": "9888f79e-8e69-44aa-8a19-cd34292adbf5",
        "outputId": "b796978c-fb78-4ba2-a996-659614ad2fda"
      },
      "outputs": [
        {
          "output_type": "stream",
          "name": "stdout",
          "text": [
            "Mean:\n",
            " tensor([[0.1324],\n",
            "        [0.2170]], grad_fn=<MeanBackward1>)\n",
            "Variance:\n",
            " tensor([[0.0231],\n",
            "        [0.0398]], grad_fn=<VarBackward0>)\n"
          ]
        }
      ],
      "source": [
        "mean = out.mean(dim=-1, keepdim=True)\n",
        "var = out.var(dim=-1, keepdim=True)\n",
        "\n",
        "print(\"Mean:\\n\", mean)\n",
        "print(\"Variance:\\n\", var)"
      ]
    },
    {
      "cell_type": "markdown",
      "id": "052eda3e-b395-48c4-acd4-eb8083bab958",
      "metadata": {
        "id": "052eda3e-b395-48c4-acd4-eb8083bab958"
      },
      "source": [
        "- The normalization is applied to each of the two inputs (rows) independently; using dim=-1 applies the calculation across the last dimension (in this case, the feature dimension) instead of the row dimension"
      ]
    },
    {
      "cell_type": "markdown",
      "id": "570db83a-205c-4f6f-b219-1f6195dde1a7",
      "metadata": {
        "id": "570db83a-205c-4f6f-b219-1f6195dde1a7"
      },
      "source": [
        "<img src=\"https://sebastianraschka.com/images/LLMs-from-scratch-images/ch04_compressed/06.webp\" width=\"800px\">"
      ]
    },
    {
      "cell_type": "markdown",
      "id": "9f8ecbc7-eb14-4fa1-b5d0-7e1ff9694f99",
      "metadata": {
        "id": "9f8ecbc7-eb14-4fa1-b5d0-7e1ff9694f99"
      },
      "source": [
        "- Subtracting the mean and dividing by the square-root of the variance (standard deviation) centers the inputs to have a mean of 0 and a variance of 1 across the column (feature) dimension:"
      ]
    },
    {
      "cell_type": "code",
      "execution_count": 9,
      "id": "9a1d1bb9-3341-4c9a-bc2a-d2489bf89cda",
      "metadata": {
        "colab": {
          "base_uri": "https://localhost:8080/"
        },
        "id": "9a1d1bb9-3341-4c9a-bc2a-d2489bf89cda",
        "outputId": "a768ef8a-889c-4bdc-e278-19da01d9ad5b"
      },
      "outputs": [
        {
          "output_type": "stream",
          "name": "stdout",
          "text": [
            "Normalized layer outputs:\n",
            " tensor([[ 0.6159,  1.4126, -0.8719,  0.5872, -0.8719, -0.8719],\n",
            "        [-0.0189,  0.1121, -1.0876,  1.5173,  0.5647, -1.0876]],\n",
            "       grad_fn=<DivBackward0>)\n",
            "Mean:\n",
            " tensor([[9.9341e-09],\n",
            "        [1.9868e-08]], grad_fn=<MeanBackward1>)\n",
            "Variance:\n",
            " tensor([[1.0000],\n",
            "        [1.0000]], grad_fn=<VarBackward0>)\n"
          ]
        }
      ],
      "source": [
        "out_norm = (out - mean) / torch.sqrt(var)\n",
        "print(\"Normalized layer outputs:\\n\", out_norm)\n",
        "\n",
        "mean = out_norm.mean(dim=-1, keepdim=True)\n",
        "var = out_norm.var(dim=-1, keepdim=True)\n",
        "print(\"Mean:\\n\", mean)\n",
        "print(\"Variance:\\n\", var)"
      ]
    },
    {
      "cell_type": "markdown",
      "id": "ac62b90c-7156-4979-9a79-ce1fb92969c1",
      "metadata": {
        "id": "ac62b90c-7156-4979-9a79-ce1fb92969c1"
      },
      "source": [
        "- Each input is centered at 0 and has a unit variance of 1; to improve readability, we can disable PyTorch's scientific notation:"
      ]
    },
    {
      "cell_type": "code",
      "execution_count": 10,
      "id": "3e06c34b-c68a-4b36-afbe-b30eda4eca39",
      "metadata": {
        "colab": {
          "base_uri": "https://localhost:8080/"
        },
        "id": "3e06c34b-c68a-4b36-afbe-b30eda4eca39",
        "outputId": "06c0309a-2594-4049-c0f5-4c20921537b6"
      },
      "outputs": [
        {
          "output_type": "stream",
          "name": "stdout",
          "text": [
            "Mean:\n",
            " tensor([[    0.0000],\n",
            "        [    0.0000]], grad_fn=<MeanBackward1>)\n",
            "Variance:\n",
            " tensor([[1.0000],\n",
            "        [1.0000]], grad_fn=<VarBackward0>)\n"
          ]
        }
      ],
      "source": [
        "torch.set_printoptions(sci_mode=False)\n",
        "print(\"Mean:\\n\", mean)\n",
        "print(\"Variance:\\n\", var)"
      ]
    },
    {
      "cell_type": "markdown",
      "id": "944fb958-d4ed-43cc-858d-00052bb6b31a",
      "metadata": {
        "id": "944fb958-d4ed-43cc-858d-00052bb6b31a"
      },
      "source": [
        "- Above, we normalized the features of each input\n",
        "- Now, using the same idea, we can implement a `LayerNorm` class:"
      ]
    },
    {
      "cell_type": "code",
      "execution_count": 11,
      "id": "3333a305-aa3d-460a-bcce-b80662d464d9",
      "metadata": {
        "id": "3333a305-aa3d-460a-bcce-b80662d464d9"
      },
      "outputs": [],
      "source": [
        "class LayerNorm(nn.Module):\n",
        "    def __init__(self, emb_dim):\n",
        "        super().__init__()\n",
        "        self.eps = 1e-5\n",
        "        self.scale = nn.Parameter(torch.ones(emb_dim))\n",
        "        self.shift = nn.Parameter(torch.zeros(emb_dim))\n",
        "\n",
        "    def forward(self, x):\n",
        "        mean = x.mean(dim=-1, keepdim=True)\n",
        "        var = x.var(dim=-1, keepdim=True, unbiased=False)\n",
        "        norm_x = (x - mean) / torch.sqrt(var + self.eps)\n",
        "        return self.scale * norm_x + self.shift"
      ]
    },
    {
      "cell_type": "markdown",
      "id": "e56c3908-7544-4808-b8cb-5d0a55bcca72",
      "metadata": {
        "id": "e56c3908-7544-4808-b8cb-5d0a55bcca72"
      },
      "source": [
        "**Scale and shift**\n",
        "\n",
        "- Note that in addition to performing the normalization by subtracting the mean and dividing by the variance, we added two trainable parameters, a `scale` and a `shift` parameter\n",
        "- The initial `scale` (multiplying by 1) and `shift` (adding 0) values don't have any effect; however, `scale` and `shift` are trainable parameters that the LLM automatically adjusts during training if it is determined that doing so would improve the model's performance on its training task\n",
        "- This allows the model to learn appropriate scaling and shifting that best suit the data it is processing\n",
        "- Note that we also add a smaller value (`eps`) before computing the square root of the variance; this is to avoid division-by-zero errors if the variance is 0\n",
        "\n",
        "**Biased variance**\n",
        "- In the variance calculation above, setting `unbiased=False` means using the formula $\\frac{\\sum_i (x_i - \\bar{x})^2}{n}$ to compute the variance where n is the sample size (here, the number of features or columns); this formula does not include Bessel's correction (which uses `n-1` in the denominator), thus providing a biased estimate of the variance\n",
        "- For LLMs, where the embedding dimension `n` is very large, the difference between using n and `n-1`\n",
        " is negligible\n",
        "- However, GPT-2 was trained with a biased variance in the normalization layers, which is why we also adopted this setting for compatibility reasons with the pretrained weights that we will load in later chapters\n",
        "\n",
        "- Let's now try out `LayerNorm` in practice:"
      ]
    },
    {
      "cell_type": "code",
      "execution_count": 12,
      "id": "23b1000a-e613-4b43-bd90-e54deed8d292",
      "metadata": {
        "id": "23b1000a-e613-4b43-bd90-e54deed8d292"
      },
      "outputs": [],
      "source": [
        "ln = LayerNorm(emb_dim=5)\n",
        "out_ln = ln(batch_example)"
      ]
    },
    {
      "cell_type": "code",
      "execution_count": 13,
      "id": "94c12de2-1cab-46e0-a099-e2e470353bff",
      "metadata": {
        "colab": {
          "base_uri": "https://localhost:8080/"
        },
        "id": "94c12de2-1cab-46e0-a099-e2e470353bff",
        "outputId": "e9f92edb-50d8-4df5-a5b0-bc32178cdcb2"
      },
      "outputs": [
        {
          "output_type": "stream",
          "name": "stdout",
          "text": [
            "Mean:\n",
            " tensor([[    -0.0000],\n",
            "        [     0.0000]], grad_fn=<MeanBackward1>)\n",
            "Variance:\n",
            " tensor([[1.0000],\n",
            "        [1.0000]], grad_fn=<VarBackward0>)\n"
          ]
        }
      ],
      "source": [
        "mean = out_ln.mean(dim=-1, keepdim=True)\n",
        "var = out_ln.var(dim=-1, unbiased=False, keepdim=True)\n",
        "\n",
        "print(\"Mean:\\n\", mean)\n",
        "print(\"Variance:\\n\", var)"
      ]
    },
    {
      "cell_type": "markdown",
      "id": "e136cfc4-7c89-492e-b120-758c272bca8c",
      "metadata": {
        "id": "e136cfc4-7c89-492e-b120-758c272bca8c"
      },
      "source": [
        "<img src=\"https://sebastianraschka.com/images/LLMs-from-scratch-images/ch04_compressed/07.webp\" width=\"1000px\">"
      ]
    },
    {
      "cell_type": "markdown",
      "id": "11190e7d-8c29-4115-824a-e03702f9dd54",
      "metadata": {
        "id": "11190e7d-8c29-4115-824a-e03702f9dd54"
      },
      "source": [
        "## 4.3 Implementing a feed forward network with GELU activations"
      ]
    },
    {
      "cell_type": "markdown",
      "id": "b0585dfb-f21e-40e5-973f-2f63ad5cb169",
      "metadata": {
        "id": "b0585dfb-f21e-40e5-973f-2f63ad5cb169"
      },
      "source": [
        "- In this section, we implement a small neural network submodule that is used as part of the transformer block in LLMs\n",
        "- We start with the activation function\n",
        "- In deep learning, ReLU (Rectified Linear Unit) activation functions are commonly used due to their simplicity and effectiveness in various neural network architectures\n",
        "- In LLMs, various other types of activation functions are used beyond the traditional ReLU; two notable examples are GELU (Gaussian Error Linear Unit) and SwiGLU (Swish-Gated Linear Unit)\n",
        "- GELU and SwiGLU are more complex, smooth activation functions incorporating Gaussian and sigmoid-gated linear units, respectively, offering better performance for deep learning models, unlike the simpler, piecewise linear function of ReLU"
      ]
    },
    {
      "cell_type": "markdown",
      "source": [
        "### GELU vs. SwiGLU vs. ReLU\n",
        "\n",
        "### **1. GELU (Gaussian Error Linear Unit)**\n",
        "- $\\text{GELU}(x) = x \\cdot \\Phi(x) $, where $\\Phi(x)$ is the standard normal CDF.\n",
        "- Provides a smooth, probabilistic activation function.\n",
        "- Used in Transformer architectures (e.g., BERT, GPT).\n",
        "- Approximates ReLU but with a more gradual transition.\n",
        "\n",
        "### **2. SwiGLU (Swish-Gated Linear Unit)**\n",
        "- $\\text{SwiGLU}(x) = \\text{Swish}(x) \\cdot \\text{Gate}(x)$, where $\\text{Swish}(x) = x \\cdot \\sigma(x)$.\n",
        "- Uses a gating mechanism for improved expressivity.\n",
        "- Found in efficient large-scale models like PaLM.\n",
        "- Enhances parameter efficiency and model flexibility.\n",
        "\n",
        "### **3. ReLU (Rectified Linear Unit)**\n",
        "- $\\text{ReLU}(x) = \\max(0, x)$.\n",
        "- Simple and computationally efficient.\n",
        "- Works well in many deep learning tasks but suffers from the \"dying ReLU\" problem.\n",
        "- Common in CNNs and traditional feedforward networks.\n",
        "\n",
        "### **Comparison**\n",
        "| Feature  | GELU  | SwiGLU  | ReLU  |\n",
        "|----------|-------|--------|------|\n",
        "| Expression  | $x \\cdot \\Phi(x)$ | $\\text{Swish}(x) \\cdot \\text{Gate}(x)$ | $\\max(0, x)$ |\n",
        "| Nature | Smooth, probabilistic | Gated activation | Piecewise linear |\n",
        "| Efficiency | Requires normal CDF approximation | Extra gating mechanism (more compute) | Very fast & simple |\n",
        "| Usage | Transformers (BERT, GPT) | Large-scale efficient models (PaLM) | CNNs, MLPs, traditional models |\n",
        "| Advantage | Smooth ReLU alternative | Improves parameter efficiency | Computationally cheap |\n",
        "\n",
        "Also see [ReLU variants explained](https://www.youtube.com/watch?v=ScGmrFBmoVI).\n"
      ],
      "metadata": {
        "id": "UYzyapMqxhVF"
      },
      "id": "UYzyapMqxhVF"
    },
    {
      "cell_type": "markdown",
      "id": "7d482ce7-e493-4bfc-a820-3ea99f564ebc",
      "metadata": {
        "id": "7d482ce7-e493-4bfc-a820-3ea99f564ebc"
      },
      "source": [
        "- GELU ([Hendrycks and Gimpel 2016](https://arxiv.org/abs/1606.08415)) can be implemented in several ways; the exact version is defined as GELU(x)=x⋅Φ(x), where Φ(x) is the cumulative distribution function of the standard Gaussian distribution.\n",
        "- In practice, it's common to implement a computationally cheaper approximation: $\\text{GELU}(x) \\approx 0.5 \\cdot x \\cdot \\left(1 + \\tanh\\left[\\sqrt{\\frac{2}{\\pi}} \\cdot \\left(x + 0.044715 \\cdot x^3\\right)\\right]\\right)\n",
        "$ (the original GPT-2 model was also trained with this approximation)"
      ]
    },
    {
      "cell_type": "code",
      "execution_count": 14,
      "id": "f84694b7-95f3-4323-b6d6-0a73df278e82",
      "metadata": {
        "id": "f84694b7-95f3-4323-b6d6-0a73df278e82"
      },
      "outputs": [],
      "source": [
        "class GELU(nn.Module):\n",
        "    def __init__(self):\n",
        "        super().__init__()\n",
        "\n",
        "    def forward(self, x):\n",
        "        return 0.5 * x * (1 + torch.tanh(\n",
        "            torch.sqrt(torch.tensor(2.0 / torch.pi)) *\n",
        "            (x + 0.044715 * torch.pow(x, 3))\n",
        "        ))"
      ]
    },
    {
      "cell_type": "code",
      "execution_count": 35,
      "id": "fc5487d2-2576-4118-80a7-56c4caac2e71",
      "metadata": {
        "colab": {
          "base_uri": "https://localhost:8080/",
          "height": 407
        },
        "id": "fc5487d2-2576-4118-80a7-56c4caac2e71",
        "outputId": "289990a0-48e6-48f5-935a-e73e3c76e416"
      },
      "outputs": [
        {
          "output_type": "display_data",
          "data": {
            "text/plain": [
              "<Figure size 800x400 with 2 Axes>"
            ],
            "image/png": "[encoded data removed]"
          },
          "metadata": {}
        }
      ],
      "source": [
        "import matplotlib.pyplot as plt\n",
        "\n",
        "gelu, relu = GELU(), nn.ReLU()\n",
        "\n",
        "# Some sample data\n",
        "x = torch.linspace(-3, 3, 100)\n",
        "y_gelu, y_relu = gelu(x), relu(x)\n",
        "\n",
        "plt.figure(figsize=(8, 4))\n",
        "for i, (y, label) in enumerate(zip([y_gelu, y_relu], [\"GELU\", \"ReLU\"]), 1):\n",
        "    plt.subplot(1, 2, i)\n",
        "    plt.plot(x, y)\n",
        "    plt.title(f\"{label} activation function\")\n",
        "    plt.xlabel(\"x\")\n",
        "    plt.ylabel(f\"{label}(x)\")\n",
        "    plt.grid(True)\n",
        "\n",
        "plt.tight_layout()\n",
        "plt.show()"
      ]
    },
    {
      "cell_type": "markdown",
      "id": "1cd01662-14cb-43fd-bffd-2d702813de2d",
      "metadata": {
        "id": "1cd01662-14cb-43fd-bffd-2d702813de2d"
      },
      "source": [
        "- As we can see, ReLU is a piecewise linear function that outputs the input directly if it is positive; otherwise, it outputs zero\n",
        "- GELU is a smooth, non-linear function that approximates ReLU but with a non-zero gradient for negative values (except at approximately -0.75)\n",
        "\n",
        "- Next, let's implement the small neural network module, `FeedForward`, that we will be using in the LLM's transformer block later:"
      ]
    },
    {
      "cell_type": "code",
      "execution_count": 16,
      "id": "9275c879-b148-4579-a107-86827ca14d4d",
      "metadata": {
        "id": "9275c879-b148-4579-a107-86827ca14d4d"
      },
      "outputs": [],
      "source": [
        "class FeedForward(nn.Module):\n",
        "    def __init__(self, cfg):\n",
        "        super().__init__()\n",
        "        self.layers = nn.Sequential(\n",
        "            nn.Linear(cfg[\"emb_dim\"], 4 * cfg[\"emb_dim\"]),\n",
        "            GELU(),\n",
        "            nn.Linear(4 * cfg[\"emb_dim\"], cfg[\"emb_dim\"]),\n",
        "        )\n",
        "\n",
        "    def forward(self, x):\n",
        "        return self.layers(x)"
      ]
    },
    {
      "cell_type": "code",
      "execution_count": 17,
      "id": "7c4976e2-0261-418e-b042-c5be98c2ccaf",
      "metadata": {
        "colab": {
          "base_uri": "https://localhost:8080/"
        },
        "id": "7c4976e2-0261-418e-b042-c5be98c2ccaf",
        "outputId": "2b6eae10-3d61-4901-ee0b-c6975e4a0079"
      },
      "outputs": [
        {
          "output_type": "stream",
          "name": "stdout",
          "text": [
            "768\n"
          ]
        }
      ],
      "source": [
        "print(GPT_CONFIG_124M[\"emb_dim\"])"
      ]
    },
    {
      "cell_type": "markdown",
      "id": "fdcaacfa-3cfc-4c9e-b668-b71a2753145a",
      "metadata": {
        "id": "fdcaacfa-3cfc-4c9e-b668-b71a2753145a"
      },
      "source": [
        "<img src=\"https://sebastianraschka.com/images/LLMs-from-scratch-images/ch04_compressed/09.webp?12\" width=\"800px\">"
      ]
    },
    {
      "cell_type": "code",
      "execution_count": 18,
      "id": "928e7f7c-d0b1-499f-8d07-4cadb428a6f9",
      "metadata": {
        "colab": {
          "base_uri": "https://localhost:8080/"
        },
        "id": "928e7f7c-d0b1-499f-8d07-4cadb428a6f9",
        "outputId": "554f5f69-0a01-4aaf-d8f6-2b3d5ca5ad91"
      },
      "outputs": [
        {
          "output_type": "stream",
          "name": "stdout",
          "text": [
            "torch.Size([2, 3, 768])\n"
          ]
        }
      ],
      "source": [
        "ffn = FeedForward(GPT_CONFIG_124M)\n",
        "\n",
        "# input shape: [batch_size, num_token, emb_size]\n",
        "x = torch.rand(2, 3, 768)\n",
        "out = ffn(x)\n",
        "print(out.shape)"
      ]
    },
    {
      "cell_type": "markdown",
      "id": "8f8756c5-6b04-443b-93d0-e555a316c377",
      "metadata": {
        "id": "8f8756c5-6b04-443b-93d0-e555a316c377"
      },
      "source": [
        "<img src=\"https://sebastianraschka.com/images/LLMs-from-scratch-images/ch04_compressed/10.webp\" width=\"800px\">"
      ]
    },
    {
      "cell_type": "markdown",
      "id": "e5da2a50-04f4-4388-af23-ad32e405a972",
      "metadata": {
        "id": "e5da2a50-04f4-4388-af23-ad32e405a972"
      },
      "source": [
        "<img src=\"https://sebastianraschka.com/images/LLMs-from-scratch-images/ch04_compressed/11.webp\" width=\"1000px\">"
      ]
    },
    {
      "cell_type": "markdown",
      "id": "4ffcb905-53c7-4886-87d2-4464c5fecf89",
      "metadata": {
        "id": "4ffcb905-53c7-4886-87d2-4464c5fecf89"
      },
      "source": [
        "## 4.4 Adding shortcut connections"
      ]
    },
    {
      "cell_type": "markdown",
      "id": "ffae416c-821e-4bfa-a741-8af4ba5db00e",
      "metadata": {
        "id": "ffae416c-821e-4bfa-a741-8af4ba5db00e"
      },
      "source": [
        "- Next, let's talk about the concept behind shortcut connections, also called skip or residual connections\n",
        "- Originally, shortcut connections were proposed in deep networks for computer vision (residual networks) to mitigate vanishing gradient problems\n",
        "- A shortcut connection creates an alternative shorter path for the gradient to flow through the network\n",
        "- This is achieved by adding the output of one layer to the output of a later layer, usually skipping one or more layers in between\n",
        "- Let's illustrate this idea with a small example network:\n",
        "\n",
        "<img src=\"https://sebastianraschka.com/images/LLMs-from-scratch-images/ch04_compressed/12.webp?123\" width=\"800px\">"
      ]
    },
    {
      "cell_type": "markdown",
      "id": "14cfd241-a32e-4601-8790-784b82f2f23e",
      "metadata": {
        "id": "14cfd241-a32e-4601-8790-784b82f2f23e"
      },
      "source": [
        "- In code, it looks like this:"
      ]
    },
    {
      "cell_type": "code",
      "execution_count": 19,
      "id": "05473938-799c-49fd-86d4-8ed65f94fee6",
      "metadata": {
        "id": "05473938-799c-49fd-86d4-8ed65f94fee6"
      },
      "outputs": [],
      "source": [
        "class ExampleDeepNeuralNetwork(nn.Module):\n",
        "    def __init__(self, layer_sizes, use_shortcut):\n",
        "        super().__init__()\n",
        "        self.use_shortcut = use_shortcut\n",
        "        self.layers = nn.ModuleList([\n",
        "            nn.Sequential(nn.Linear(layer_sizes[0], layer_sizes[1]), GELU()),\n",
        "            nn.Sequential(nn.Linear(layer_sizes[1], layer_sizes[2]), GELU()),\n",
        "            nn.Sequential(nn.Linear(layer_sizes[2], layer_sizes[3]), GELU()),\n",
        "            nn.Sequential(nn.Linear(layer_sizes[3], layer_sizes[4]), GELU()),\n",
        "            nn.Sequential(nn.Linear(layer_sizes[4], layer_sizes[5]), GELU())\n",
        "        ])\n",
        "\n",
        "    def forward(self, x):\n",
        "        for layer in self.layers:\n",
        "            # Compute the output of the current layer\n",
        "            layer_output = layer(x)\n",
        "            # Check if shortcut can be applied\n",
        "            if self.use_shortcut and x.shape == layer_output.shape:\n",
        "                x = x + layer_output\n",
        "            else:\n",
        "                x = layer_output\n",
        "        return x\n",
        "\n",
        "\n",
        "def print_gradients(model, x):\n",
        "    # Forward pass\n",
        "    output = model(x)\n",
        "    target = torch.tensor([[0.]])\n",
        "\n",
        "    # Calculate loss based on how close the target\n",
        "    # and output are\n",
        "    loss = nn.MSELoss()\n",
        "    loss = loss(output, target)\n",
        "\n",
        "    # Backward pass to calculate the gradients\n",
        "    loss.backward()\n",
        "\n",
        "    for name, param in model.named_parameters():\n",
        "        if 'weight' in name:\n",
        "            # Print the mean absolute gradient of the weights\n",
        "            print(f\"{name} has gradient mean of {param.grad.abs().mean().item()}\")"
      ]
    },
    {
      "cell_type": "markdown",
      "id": "b39bf277-b3db-4bb1-84ce-7a20caff1011",
      "metadata": {
        "id": "b39bf277-b3db-4bb1-84ce-7a20caff1011"
      },
      "source": [
        "- Let's print the gradient values first **without** shortcut connections:"
      ]
    },
    {
      "cell_type": "code",
      "execution_count": 20,
      "id": "c75f43cc-6923-4018-b980-26023086572c",
      "metadata": {
        "colab": {
          "base_uri": "https://localhost:8080/"
        },
        "id": "c75f43cc-6923-4018-b980-26023086572c",
        "outputId": "5cfe5e56-01de-4567-9589-de0404362926"
      },
      "outputs": [
        {
          "output_type": "stream",
          "name": "stdout",
          "text": [
            "layers.0.0.weight has gradient mean of 0.00020173584925942123\n",
            "layers.1.0.weight has gradient mean of 0.00012011159560643137\n",
            "layers.2.0.weight has gradient mean of 0.0007152040489017963\n",
            "layers.3.0.weight has gradient mean of 0.0013988736318424344\n",
            "layers.4.0.weight has gradient mean of 0.005049645435065031\n"
          ]
        }
      ],
      "source": [
        "layer_sizes = [3, 3, 3, 3, 3, 1]\n",
        "\n",
        "sample_input = torch.tensor([[1., 0., -1.]])\n",
        "\n",
        "torch.manual_seed(123)\n",
        "model_without_shortcut = ExampleDeepNeuralNetwork(\n",
        "    layer_sizes, use_shortcut=False\n",
        ")\n",
        "print_gradients(model_without_shortcut, sample_input)"
      ]
    },
    {
      "cell_type": "markdown",
      "id": "837fd5d4-7345-4663-97f5-38f19dfde621",
      "metadata": {
        "id": "837fd5d4-7345-4663-97f5-38f19dfde621"
      },
      "source": [
        "- Next, let's print the gradient values **with** shortcut connections:"
      ]
    },
    {
      "cell_type": "code",
      "execution_count": 21,
      "id": "11b7c0c2-f9dd-4dd5-b096-a05c48c5f6d6",
      "metadata": {
        "colab": {
          "base_uri": "https://localhost:8080/"
        },
        "id": "11b7c0c2-f9dd-4dd5-b096-a05c48c5f6d6",
        "outputId": "09212bb1-2af7-4225-bbaa-f7bd5a06282d"
      },
      "outputs": [
        {
          "output_type": "stream",
          "name": "stdout",
          "text": [
            "layers.0.0.weight has gradient mean of 0.22169791162014008\n",
            "layers.1.0.weight has gradient mean of 0.20694105327129364\n",
            "layers.2.0.weight has gradient mean of 0.32896995544433594\n",
            "layers.3.0.weight has gradient mean of 0.2665732204914093\n",
            "layers.4.0.weight has gradient mean of 1.3258540630340576\n"
          ]
        }
      ],
      "source": [
        "torch.manual_seed(123)\n",
        "model_with_shortcut = ExampleDeepNeuralNetwork(\n",
        "    layer_sizes, use_shortcut=True\n",
        ")\n",
        "print_gradients(model_with_shortcut, sample_input)"
      ]
    },
    {
      "cell_type": "markdown",
      "id": "79ff783a-46f0-49c5-a7a9-26a525764b6e",
      "metadata": {
        "id": "79ff783a-46f0-49c5-a7a9-26a525764b6e"
      },
      "source": [
        "- As we can see based on the output above, shortcut connections prevent the gradients from vanishing in the early layers (towards `layer.0`)\n",
        "- We will use this concept of a shortcut connection next when we implement a transformer block"
      ]
    },
    {
      "cell_type": "markdown",
      "id": "cae578ca-e564-42cf-8635-a2267047cdff",
      "metadata": {
        "id": "cae578ca-e564-42cf-8635-a2267047cdff"
      },
      "source": [
        "## 4.5 Connecting attention and linear layers in a transformer block"
      ]
    },
    {
      "cell_type": "markdown",
      "id": "a3daac6f-6545-4258-8f2d-f45a7394f429",
      "metadata": {
        "id": "a3daac6f-6545-4258-8f2d-f45a7394f429"
      },
      "source": [
        "- In this section, we now combine the previous concepts into a so-called transformer block\n",
        "- A transformer block combines the causal multi-head attention module from the previous chapter with the linear layers, the feed forward neural network we implemented in an earlier section\n",
        "- In addition, the transformer block also uses dropout and shortcut connections"
      ]
    },
    {
      "cell_type": "code",
      "execution_count": 23,
      "id": "0e1e8176-e5e3-4152-b1aa-0bbd7891dfd9",
      "metadata": {
        "id": "0e1e8176-e5e3-4152-b1aa-0bbd7891dfd9"
      },
      "outputs": [],
      "source": [
        "class MultiHeadAttention(nn.Module):\n",
        "    def __init__(self, d_in, d_out, context_length, dropout, num_heads, qkv_bias=False):\n",
        "        super().__init__()\n",
        "        assert d_out % num_heads == 0, \"d_out must be divisible by num_heads\"\n",
        "\n",
        "        self.d_out = d_out\n",
        "        self.num_heads = num_heads\n",
        "        self.head_dim = d_out // num_heads  # Reduce the projection dim to match desired output dim\n",
        "\n",
        "        self.W_query = nn.Linear(d_in, d_out, bias=qkv_bias)\n",
        "        self.W_key = nn.Linear(d_in, d_out, bias=qkv_bias)\n",
        "        self.W_value = nn.Linear(d_in, d_out, bias=qkv_bias)\n",
        "        self.out_proj = nn.Linear(d_out, d_out)  # Linear layer to combine head outputs\n",
        "        self.dropout = nn.Dropout(dropout)\n",
        "        self.register_buffer('mask', torch.triu(torch.ones(context_length, context_length), diagonal=1))\n",
        "\n",
        "    def forward(self, x):\n",
        "        b, num_tokens, d_in = x.shape\n",
        "\n",
        "        keys = self.W_key(x)  # Shape: (b, num_tokens, d_out)\n",
        "        queries = self.W_query(x)\n",
        "        values = self.W_value(x)\n",
        "\n",
        "        # We implicitly split the matrix by adding a `num_heads` dimension\n",
        "        # Unroll last dim: (b, num_tokens, d_out) -> (b, num_tokens, num_heads, head_dim)\n",
        "        keys = keys.view(b, num_tokens, self.num_heads, self.head_dim)\n",
        "        values = values.view(b, num_tokens, self.num_heads, self.head_dim)\n",
        "        queries = queries.view(b, num_tokens, self.num_heads, self.head_dim)\n",
        "\n",
        "        # Transpose: (b, num_tokens, num_heads, head_dim) -> (b, num_heads, num_tokens, head_dim)\n",
        "        keys = keys.transpose(1, 2)\n",
        "        queries = queries.transpose(1, 2)\n",
        "        values = values.transpose(1, 2)\n",
        "\n",
        "        # Compute scaled dot-product attention (aka self-attention) with a causal mask\n",
        "        attn_scores = queries @ keys.transpose(2, 3)  # Dot product for each head\n",
        "\n",
        "        # Original mask truncated to the number of tokens and converted to boolean\n",
        "        mask_bool = self.mask.bool()[:num_tokens, :num_tokens]\n",
        "\n",
        "        # Use the mask to fill attention scores\n",
        "        attn_scores.masked_fill_(mask_bool, -torch.inf)\n",
        "\n",
        "        attn_weights = torch.softmax(attn_scores / keys.shape[-1]**0.5, dim=-1)\n",
        "        attn_weights = self.dropout(attn_weights)\n",
        "\n",
        "        # Shape: (b, num_tokens, num_heads, head_dim)\n",
        "        context_vec = (attn_weights @ values).transpose(1, 2)\n",
        "\n",
        "        # Combine heads, where self.d_out = self.num_heads * self.head_dim\n",
        "        context_vec = context_vec.contiguous().view(b, num_tokens, self.d_out)\n",
        "        context_vec = self.out_proj(context_vec)  # optional projection\n",
        "\n",
        "        return context_vec\n",
        "\n",
        "class TransformerBlock(nn.Module):\n",
        "    def __init__(self, cfg):\n",
        "        super().__init__()\n",
        "        self.att = MultiHeadAttention(\n",
        "            d_in=cfg[\"emb_dim\"],\n",
        "            d_out=cfg[\"emb_dim\"],\n",
        "            context_length=cfg[\"context_length\"],\n",
        "            num_heads=cfg[\"n_heads\"],\n",
        "            dropout=cfg[\"drop_rate\"],\n",
        "            qkv_bias=cfg[\"qkv_bias\"])\n",
        "        self.ff = FeedForward(cfg)\n",
        "        self.norm1 = LayerNorm(cfg[\"emb_dim\"])\n",
        "        self.norm2 = LayerNorm(cfg[\"emb_dim\"])\n",
        "        self.drop_shortcut = nn.Dropout(cfg[\"drop_rate\"])\n",
        "\n",
        "    def forward(self, x):\n",
        "        # Shortcut connection for attention block\n",
        "        shortcut = x\n",
        "        x = self.norm1(x)\n",
        "        x = self.att(x)  # Shape [batch_size, num_tokens, emb_size]\n",
        "        x = self.drop_shortcut(x)\n",
        "        x = x + shortcut  # Add the original input back\n",
        "\n",
        "        # Shortcut connection for feed forward block\n",
        "        shortcut = x\n",
        "        x = self.norm2(x)\n",
        "        x = self.ff(x)\n",
        "        x = self.drop_shortcut(x)\n",
        "        x = x + shortcut  # Add the original input back\n",
        "\n",
        "        return x"
      ]
    },
    {
      "cell_type": "markdown",
      "id": "36b64d16-94a6-4d13-8c85-9494c50478a9",
      "metadata": {
        "id": "36b64d16-94a6-4d13-8c85-9494c50478a9"
      },
      "source": [
        "<img src=\"https://sebastianraschka.com/images/LLMs-from-scratch-images/ch04_compressed/13.webp?1\" width=\"800px\">"
      ]
    },
    {
      "cell_type": "markdown",
      "id": "54d2d375-87bd-4153-9040-63a1e6a2b7cb",
      "metadata": {
        "id": "54d2d375-87bd-4153-9040-63a1e6a2b7cb"
      },
      "source": [
        "- Suppose we have 2 input samples with 6 tokens each, where each token is a 768-dimensional embedding vector; then this transformer block applies self-attention, followed by linear layers, to produce an output of similar size\n",
        "- You can think of the output as an augmented version of the context vectors we discussed in the previous chapter"
      ]
    },
    {
      "cell_type": "code",
      "execution_count": 24,
      "id": "3fb45a63-b1f3-4b08-b525-dafbc8228405",
      "metadata": {
        "colab": {
          "base_uri": "https://localhost:8080/"
        },
        "id": "3fb45a63-b1f3-4b08-b525-dafbc8228405",
        "outputId": "2cd05e44-df81-4d6b-ea69-138116fddab8"
      },
      "outputs": [
        {
          "output_type": "stream",
          "name": "stdout",
          "text": [
            "Input shape: torch.Size([2, 4, 768])\n",
            "Output shape: torch.Size([2, 4, 768])\n"
          ]
        }
      ],
      "source": [
        "torch.manual_seed(123)\n",
        "\n",
        "x = torch.rand(2, 4, 768)  # Shape: [batch_size, num_tokens, emb_dim]\n",
        "block = TransformerBlock(GPT_CONFIG_124M)\n",
        "output = block(x)\n",
        "\n",
        "print(\"Input shape:\", x.shape)\n",
        "print(\"Output shape:\", output.shape)"
      ]
    },
    {
      "cell_type": "markdown",
      "id": "8f9e4ee4-cf23-4583-b1fd-317abb4fcd13",
      "metadata": {
        "id": "8f9e4ee4-cf23-4583-b1fd-317abb4fcd13"
      },
      "source": [
        "<img src=\"https://sebastianraschka.com/images/LLMs-from-scratch-images/ch04_compressed/14.webp?1\" width=\"1000px\">"
      ]
    },
    {
      "cell_type": "markdown",
      "id": "46618527-15ac-4c32-ad85-6cfea83e006e",
      "metadata": {
        "id": "46618527-15ac-4c32-ad85-6cfea83e006e"
      },
      "source": [
        "## 4.6 Coding the GPT model"
      ]
    },
    {
      "cell_type": "markdown",
      "id": "dec7d03d-9ff3-4ca3-ad67-01b67c2f5457",
      "metadata": {
        "id": "dec7d03d-9ff3-4ca3-ad67-01b67c2f5457"
      },
      "source": [
        "- We are almost there: now let's plug in the transformer block into the architecture we coded at the very beginning of this chapter so that we obtain a usable GPT architecture\n",
        "- Note that the transformer block is repeated multiple times; in the case of the smallest 124M GPT-2 model, we repeat it 12 times:"
      ]
    },
    {
      "cell_type": "markdown",
      "id": "9b7b362d-f8c5-48d2-8ebd-722480ac5073",
      "metadata": {
        "id": "9b7b362d-f8c5-48d2-8ebd-722480ac5073"
      },
      "source": [
        "<img src=\"https://sebastianraschka.com/images/LLMs-from-scratch-images/ch04_compressed/15.webp\" width=\"800px\">"
      ]
    },
    {
      "cell_type": "markdown",
      "id": "324e4b5d-ed89-4fdf-9a52-67deee0593bc",
      "metadata": {
        "id": "324e4b5d-ed89-4fdf-9a52-67deee0593bc"
      },
      "source": [
        "- The corresponding code implementation, where `cfg[\"n_layers\"] = 12`:"
      ]
    },
    {
      "cell_type": "code",
      "execution_count": 25,
      "id": "c61de39c-d03c-4a32-8b57-f49ac3834857",
      "metadata": {
        "id": "c61de39c-d03c-4a32-8b57-f49ac3834857"
      },
      "outputs": [],
      "source": [
        "class GPTModel(nn.Module):\n",
        "    def __init__(self, cfg):\n",
        "        super().__init__()\n",
        "        self.tok_emb = nn.Embedding(cfg[\"vocab_size\"], cfg[\"emb_dim\"])\n",
        "        self.pos_emb = nn.Embedding(cfg[\"context_length\"], cfg[\"emb_dim\"])\n",
        "        self.drop_emb = nn.Dropout(cfg[\"drop_rate\"])\n",
        "\n",
        "        self.trf_blocks = nn.Sequential(\n",
        "            *[TransformerBlock(cfg) for _ in range(cfg[\"n_layers\"])])\n",
        "\n",
        "        self.final_norm = LayerNorm(cfg[\"emb_dim\"])\n",
        "        self.out_head = nn.Linear(\n",
        "            cfg[\"emb_dim\"], cfg[\"vocab_size\"], bias=False\n",
        "        )\n",
        "\n",
        "    def forward(self, in_idx):\n",
        "        batch_size, seq_len = in_idx.shape\n",
        "        tok_embeds = self.tok_emb(in_idx)\n",
        "        pos_embeds = self.pos_emb(torch.arange(seq_len, device=in_idx.device))\n",
        "        x = tok_embeds + pos_embeds  # Shape [batch_size, num_tokens, emb_size]\n",
        "        x = self.drop_emb(x)\n",
        "        x = self.trf_blocks(x)\n",
        "        x = self.final_norm(x)\n",
        "        logits = self.out_head(x)\n",
        "        return logits"
      ]
    },
    {
      "cell_type": "markdown",
      "id": "2750270f-c45d-4410-8767-a6adbd05d5c3",
      "metadata": {
        "id": "2750270f-c45d-4410-8767-a6adbd05d5c3"
      },
      "source": [
        "- Using the configuration of the 124M parameter model, we can now instantiate this GPT model with random initial weights as follows:"
      ]
    },
    {
      "cell_type": "code",
      "execution_count": 26,
      "id": "ef94fd9c-4e9d-470d-8f8e-dd23d1bb1f64",
      "metadata": {
        "colab": {
          "base_uri": "https://localhost:8080/"
        },
        "id": "ef94fd9c-4e9d-470d-8f8e-dd23d1bb1f64",
        "outputId": "f3d1485c-ffaa-4695-d975-017fad042650"
      },
      "outputs": [
        {
          "output_type": "stream",
          "name": "stdout",
          "text": [
            "Input batch:\n",
            " tensor([[6109, 3626, 6100,  345],\n",
            "        [6109, 1110, 6622,  257]])\n",
            "\n",
            "Output shape: torch.Size([2, 4, 50257])\n",
            "tensor([[[ 0.1381,  0.0077, -0.1963,  ..., -0.0222, -0.1060,  0.1717],\n",
            "         [ 0.3865, -0.8408, -0.6564,  ..., -0.5163,  0.2369, -0.3357],\n",
            "         [ 0.6989, -0.1829, -0.1631,  ...,  0.1472, -0.6504, -0.0056],\n",
            "         [-0.4290,  0.1669, -0.1258,  ...,  1.1579,  0.5303, -0.5549]],\n",
            "\n",
            "        [[ 0.1094, -0.2894, -0.1467,  ..., -0.0557,  0.2911, -0.2824],\n",
            "         [ 0.0882, -0.3552, -0.3527,  ...,  1.2930,  0.0053,  0.1898],\n",
            "         [ 0.6091,  0.4702, -0.4094,  ...,  0.7688,  0.3787, -0.1974],\n",
            "         [-0.0612, -0.0737,  0.4751,  ...,  1.2463, -0.3834,  0.0609]]],\n",
            "       grad_fn=<UnsafeViewBackward0>)\n"
          ]
        }
      ],
      "source": [
        "torch.manual_seed(123)\n",
        "model = GPTModel(GPT_CONFIG_124M)\n",
        "\n",
        "out = model(batch)\n",
        "print(\"Input batch:\\n\", batch)\n",
        "print(\"\\nOutput shape:\", out.shape)\n",
        "print(out)"
      ]
    },
    {
      "cell_type": "markdown",
      "id": "6d616e7a-568b-4921-af29-bd3f4683cd2e",
      "metadata": {
        "id": "6d616e7a-568b-4921-af29-bd3f4683cd2e"
      },
      "source": [
        "- We will train this model in the next chapter\n",
        "- However, a quick note about its size: we previously referred to it as a 124M parameter model; we can double check this number as follows:"
      ]
    },
    {
      "cell_type": "code",
      "execution_count": 27,
      "id": "84fb8be4-9d3b-402b-b3da-86b663aac33a",
      "metadata": {
        "colab": {
          "base_uri": "https://localhost:8080/"
        },
        "id": "84fb8be4-9d3b-402b-b3da-86b663aac33a",
        "outputId": "edb572dc-50d5-4dff-adb6-c27013d76cda"
      },
      "outputs": [
        {
          "output_type": "stream",
          "name": "stdout",
          "text": [
            "Total number of parameters: 163,009,536\n"
          ]
        }
      ],
      "source": [
        "total_params = sum(p.numel() for p in model.parameters())\n",
        "print(f\"Total number of parameters: {total_params:,}\")"
      ]
    },
    {
      "cell_type": "markdown",
      "id": "b67d13dd-dd01-4ba6-a2ad-31ca8a9fd660",
      "metadata": {
        "id": "b67d13dd-dd01-4ba6-a2ad-31ca8a9fd660"
      },
      "source": [
        "- As we see above, this model has 163M, not 124M parameters; why?\n",
        "- In the original GPT-2 paper, the researchers applied weight tying, which means that they reused the token embedding layer (`tok_emb`) as the output layer, which means setting `self.out_head.weight = self.tok_emb.weight`\n",
        "- The token embedding layer projects the 50,257-dimensional one-hot encoded input tokens to a 768-dimensional embedding representation\n",
        "- The output layer projects 768-dimensional embeddings back into a 50,257-dimensional representation so that we can convert these back into words (more about that in the next section)\n",
        "- So, the embedding and output layer have the same number of weight parameters, as we can see based on the shape of their weight matrices\n",
        "- However, a quick note about its size: we previously referred to it as a 124M parameter model; we can double check this number as follows:"
      ]
    },
    {
      "cell_type": "code",
      "execution_count": 28,
      "id": "e3b43233-e9b8-4f5a-b72b-a263ec686982",
      "metadata": {
        "colab": {
          "base_uri": "https://localhost:8080/"
        },
        "id": "e3b43233-e9b8-4f5a-b72b-a263ec686982",
        "outputId": "0a1e22ec-0e42-4529-f89e-c6672b07afcd"
      },
      "outputs": [
        {
          "output_type": "stream",
          "name": "stdout",
          "text": [
            "Token embedding layer shape: torch.Size([50257, 768])\n",
            "Output layer shape: torch.Size([50257, 768])\n"
          ]
        }
      ],
      "source": [
        "print(\"Token embedding layer shape:\", model.tok_emb.weight.shape)\n",
        "print(\"Output layer shape:\", model.out_head.weight.shape)"
      ]
    },
    {
      "cell_type": "markdown",
      "id": "f02259f6-6f79-4c89-a866-4ebeae1c3289",
      "metadata": {
        "id": "f02259f6-6f79-4c89-a866-4ebeae1c3289"
      },
      "source": [
        "- In the original GPT-2 paper, the researchers reused the token embedding matrix as an output matrix\n",
        "- Correspondingly, if we subtracted the number of parameters of the output layer, we'd get a 124M parameter model:"
      ]
    },
    {
      "cell_type": "code",
      "execution_count": 29,
      "id": "95a22e02-50d3-48b3-a4e0-d9863343c164",
      "metadata": {
        "colab": {
          "base_uri": "https://localhost:8080/"
        },
        "id": "95a22e02-50d3-48b3-a4e0-d9863343c164",
        "outputId": "588011cf-277d-46c5-aff4-ae117a31328c"
      },
      "outputs": [
        {
          "output_type": "stream",
          "name": "stdout",
          "text": [
            "Number of trainable parameters considering weight tying: 124,412,160\n"
          ]
        }
      ],
      "source": [
        "total_params_gpt2 =  total_params - sum(p.numel() for p in model.out_head.parameters())\n",
        "print(f\"Number of trainable parameters considering weight tying: {total_params_gpt2:,}\")"
      ]
    },
    {
      "cell_type": "markdown",
      "id": "40b03f80-b94c-46e7-9d42-d0df399ff3db",
      "metadata": {
        "id": "40b03f80-b94c-46e7-9d42-d0df399ff3db"
      },
      "source": [
        "- In practice, I found it easier to train the model without weight-tying, which is why we didn't implement it here\n",
        "- However, we will revisit and apply this weight-tying idea later when we load the pretrained weights in chapter 5\n",
        "- Lastly, we can compute the memory requirements of the model as follows, which can be a helpful reference point:"
      ]
    },
    {
      "cell_type": "code",
      "execution_count": 30,
      "id": "5131a752-fab8-4d70-a600-e29870b33528",
      "metadata": {
        "colab": {
          "base_uri": "https://localhost:8080/"
        },
        "id": "5131a752-fab8-4d70-a600-e29870b33528",
        "outputId": "772706a8-4cb7-4bd3-89f7-b6e9e43f7aa1"
      },
      "outputs": [
        {
          "output_type": "stream",
          "name": "stdout",
          "text": [
            "Total size of the model: 621.83 MB\n"
          ]
        }
      ],
      "source": [
        "# Calculate the total size in bytes (assuming float32, 4 bytes per parameter)\n",
        "total_size_bytes = total_params * 4\n",
        "\n",
        "# Convert to megabytes\n",
        "total_size_mb = total_size_bytes / (1024 * 1024)\n",
        "\n",
        "print(f\"Total size of the model: {total_size_mb:.2f} MB\")"
      ]
    },
    {
      "cell_type": "markdown",
      "id": "309a3be4-c20a-4657-b4e0-77c97510b47c",
      "metadata": {
        "id": "309a3be4-c20a-4657-b4e0-77c97510b47c"
      },
      "source": [
        "- Exercise: you can try the following other configurations, which are referenced in the [GPT-2 paper](https://scholar.google.com/citations?view_op=view_citation&hl=en&user=dOad5HoAAAAJ&citation_for_view=dOad5HoAAAAJ:YsMSGLbcyi4C), as well.\n",
        "\n",
        "    - **GPT2-small** (the 124M configuration we already implemented):\n",
        "        - \"emb_dim\" = 768\n",
        "        - \"n_layers\" = 12\n",
        "        - \"n_heads\" = 12\n",
        "\n",
        "    - **GPT2-medium:**\n",
        "        - \"emb_dim\" = 1024\n",
        "        - \"n_layers\" = 24\n",
        "        - \"n_heads\" = 16\n",
        "    \n",
        "    - **GPT2-large:**\n",
        "        - \"emb_dim\" = 1280\n",
        "        - \"n_layers\" = 36\n",
        "        - \"n_heads\" = 20\n",
        "    \n",
        "    - **GPT2-XL:**\n",
        "        - \"emb_dim\" = 1600\n",
        "        - \"n_layers\" = 48\n",
        "        - \"n_heads\" = 25"
      ]
    },
    {
      "cell_type": "markdown",
      "id": "da5d9bc0-95ab-45d4-9378-417628d86e35",
      "metadata": {
        "id": "da5d9bc0-95ab-45d4-9378-417628d86e35"
      },
      "source": [
        "## 4.7 Generating text"
      ]
    },
    {
      "cell_type": "markdown",
      "id": "48da5deb-6ee0-4b9b-8dd2-abed7ed65172",
      "metadata": {
        "id": "48da5deb-6ee0-4b9b-8dd2-abed7ed65172"
      },
      "source": [
        "- LLMs like the GPT model we implemented above are used to generate one word at a time"
      ]
    },
    {
      "cell_type": "markdown",
      "id": "caade12a-fe97-480f-939c-87d24044edff",
      "metadata": {
        "id": "caade12a-fe97-480f-939c-87d24044edff"
      },
      "source": [
        "<img src=\"https://sebastianraschka.com/images/LLMs-from-scratch-images/ch04_compressed/16.webp\" width=\"800px\">"
      ]
    },
    {
      "cell_type": "markdown",
      "id": "a7061524-a3bd-4803-ade6-2e3b7b79ac13",
      "metadata": {
        "id": "a7061524-a3bd-4803-ade6-2e3b7b79ac13"
      },
      "source": [
        "- The following `generate_text_simple` function implements greedy decoding, which is a simple and fast method to generate text\n",
        "- In greedy decoding, at each step, the model chooses the word (or token) with the highest probability as its next output (the highest logit corresponds to the highest probability, so we technically wouldn't even have to compute the softmax function explicitly)\n",
        "- In the next chapter, we will implement a more advanced `generate_text` function\n",
        "- The figure below depicts how the GPT model, given an input context, generates the next word token"
      ]
    },
    {
      "cell_type": "markdown",
      "id": "7ee0f32c-c18c-445e-b294-a879de2aa187",
      "metadata": {
        "id": "7ee0f32c-c18c-445e-b294-a879de2aa187"
      },
      "source": [
        "<img src=\"https://sebastianraschka.com/images/LLMs-from-scratch-images/ch04_compressed/17.webp\" width=\"1000px\">"
      ]
    },
    {
      "cell_type": "code",
      "execution_count": 31,
      "id": "c9b428a9-8764-4b36-80cd-7d4e00595ba6",
      "metadata": {
        "id": "c9b428a9-8764-4b36-80cd-7d4e00595ba6"
      },
      "outputs": [],
      "source": [
        "def generate_text_simple(model, idx, max_new_tokens, context_size):\n",
        "    # idx is (batch, n_tokens) array of indices in the current context\n",
        "    for _ in range(max_new_tokens):\n",
        "\n",
        "        # Crop current context if it exceeds the supported context size\n",
        "        # E.g., if LLM supports only 5 tokens, and the context size is 10\n",
        "        # then only the last 5 tokens are used as context\n",
        "        idx_cond = idx[:, -context_size:]\n",
        "\n",
        "        # Get the predictions\n",
        "        with torch.no_grad():\n",
        "            logits = model(idx_cond)\n",
        "\n",
        "        # Focus only on the last time step\n",
        "        # (batch, n_tokens, vocab_size) becomes (batch, vocab_size)\n",
        "        logits = logits[:, -1, :]\n",
        "\n",
        "        # Apply softmax to get probabilities\n",
        "        probas = torch.softmax(logits, dim=-1)  # (batch, vocab_size)\n",
        "\n",
        "        # Get the idx of the vocab entry with the highest probability value\n",
        "        idx_next = torch.argmax(probas, dim=-1, keepdim=True)  # (batch, 1)\n",
        "\n",
        "        # Append sampled index to the running sequence\n",
        "        idx = torch.cat((idx, idx_next), dim=1)  # (batch, n_tokens+1)\n",
        "\n",
        "    return idx"
      ]
    },
    {
      "cell_type": "markdown",
      "id": "6515f2c1-3cc7-421c-8d58-cc2f563b7030",
      "metadata": {
        "id": "6515f2c1-3cc7-421c-8d58-cc2f563b7030"
      },
      "source": [
        "- The `generate_text_simple` above implements an iterative process, where it creates one token at a time\n",
        "\n",
        "<img src=\"https://sebastianraschka.com/images/LLMs-from-scratch-images/ch04_compressed/18.webp\" width=\"1000px\">"
      ]
    },
    {
      "cell_type": "markdown",
      "id": "f682eac4-f9bd-438b-9dec-6b1cc7bc05ce",
      "metadata": {
        "id": "f682eac4-f9bd-438b-9dec-6b1cc7bc05ce"
      },
      "source": [
        "- Let's prepare an input example:"
      ]
    },
    {
      "cell_type": "code",
      "execution_count": 32,
      "id": "3d7e3e94-df0f-4c0f-a6a1-423f500ac1d3",
      "metadata": {
        "colab": {
          "base_uri": "https://localhost:8080/"
        },
        "id": "3d7e3e94-df0f-4c0f-a6a1-423f500ac1d3",
        "outputId": "681dae4f-d97f-46fa-8091-b9a2efdae993"
      },
      "outputs": [
        {
          "output_type": "stream",
          "name": "stdout",
          "text": [
            "encoded: [15496, 11, 314, 716]\n",
            "encoded_tensor.shape: torch.Size([1, 4])\n"
          ]
        }
      ],
      "source": [
        "start_context = \"Hello, I am\"\n",
        "\n",
        "encoded = tokenizer.encode(start_context)\n",
        "print(\"encoded:\", encoded)\n",
        "\n",
        "encoded_tensor = torch.tensor(encoded).unsqueeze(0)\n",
        "print(\"encoded_tensor.shape:\", encoded_tensor.shape)"
      ]
    },
    {
      "cell_type": "code",
      "execution_count": 33,
      "id": "a72a9b60-de66-44cf-b2f9-1e638934ada4",
      "metadata": {
        "colab": {
          "base_uri": "https://localhost:8080/"
        },
        "id": "a72a9b60-de66-44cf-b2f9-1e638934ada4",
        "outputId": "9da03cf6-4014-4cee-8290-51049200ebe4"
      },
      "outputs": [
        {
          "output_type": "stream",
          "name": "stdout",
          "text": [
            "Output: tensor([[15496,    11,   314,   716, 27018, 24086, 47843, 30961, 42348,  7267]])\n",
            "Output length: 10\n"
          ]
        }
      ],
      "source": [
        "model.eval() # disable dropout\n",
        "\n",
        "out = generate_text_simple(\n",
        "    model=model,\n",
        "    idx=encoded_tensor,\n",
        "    max_new_tokens=6,\n",
        "    context_size=GPT_CONFIG_124M[\"context_length\"]\n",
        ")\n",
        "\n",
        "print(\"Output:\", out)\n",
        "print(\"Output length:\", len(out[0]))"
      ]
    },
    {
      "cell_type": "markdown",
      "id": "1d131c00-1787-44ba-bec3-7c145497b2c3",
      "metadata": {
        "id": "1d131c00-1787-44ba-bec3-7c145497b2c3"
      },
      "source": [
        "- Remove batch dimension and convert back into text:"
      ]
    },
    {
      "cell_type": "code",
      "execution_count": 34,
      "id": "053d99f6-5710-4446-8d52-117fb34ea9f6",
      "metadata": {
        "colab": {
          "base_uri": "https://localhost:8080/"
        },
        "id": "053d99f6-5710-4446-8d52-117fb34ea9f6",
        "outputId": "6b23a90c-ef53-43c2-895e-cd879f283f4a"
      },
      "outputs": [
        {
          "output_type": "stream",
          "name": "stdout",
          "text": [
            "Hello, I am Featureiman Byeswickattribute argue\n"
          ]
        }
      ],
      "source": [
        "decoded_text = tokenizer.decode(out.squeeze(0).tolist())\n",
        "print(decoded_text)"
      ]
    },
    {
      "cell_type": "markdown",
      "id": "9a894003-51f6-4ccc-996f-3b9c7d5a1d70",
      "metadata": {
        "id": "9a894003-51f6-4ccc-996f-3b9c7d5a1d70"
      },
      "source": [
        "- Note that the model is untrained; hence the random output texts above\n",
        "- We will train the model in the next chapter"
      ]
    },
    {
      "cell_type": "markdown",
      "id": "a35278b6-9e5c-480f-83e5-011a1173648f",
      "metadata": {
        "id": "a35278b6-9e5c-480f-83e5-011a1173648f"
      },
      "source": [
        "## Summary and takeaways\n",
        "\n",
        "- See the [./gpt.py](./gpt.py) script, a self-contained script containing the GPT model we implement in this Jupyter notebook\n",
        "- You can find the exercise solutions in [./exercise-solutions.ipynb](./exercise-solutions.ipynb)"
      ]
    }
  ],
  "metadata": {
    "kernelspec": {
      "display_name": "Python 3 (ipykernel)",
      "language": "python",
      "name": "python3"
    },
    "language_info": {
      "codemirror_mode": {
        "name": "ipython",
        "version": 3
      },
      "file_extension": ".py",
      "mimetype": "text/x-python",
      "name": "python",
      "nbconvert_exporter": "python",
      "pygments_lexer": "ipython3",
      "version": "3.10.16"
    },
    "colab": {
      "provenance": []
    }
  },
  "nbformat": 4,
  "nbformat_minor": 5
}