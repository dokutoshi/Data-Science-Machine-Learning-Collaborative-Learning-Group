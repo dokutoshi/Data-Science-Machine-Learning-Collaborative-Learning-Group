{
  "cells": [
    {
      "cell_type": "markdown",
      "source": [
        "# Chapter 1: Transformers and Pipelines"
      ],
      "metadata": {
        "id": "9GXJ3siuRn7M"
      }
    },
    {
      "cell_type": "markdown",
      "metadata": {
        "id": "lv06Bwk5Gdpt"
      },
      "source": [
        "# Transformers, what can they do?\n",
        "\n",
        "Course Website: https://huggingface.co/learn/nlp-course/chapter1/3\n"
      ]
    },
    {
      "cell_type": "markdown",
      "metadata": {
        "id": "tKHD9syKGdpu"
      },
      "source": [
        "Install the Transformers, Datasets, and Evaluate libraries to run this notebook."
      ]
    },
    {
      "cell_type": "code",
      "execution_count": null,
      "metadata": {
        "id": "MdDsXO7IGdpv"
      },
      "outputs": [],
      "source": [
        "%%capture\n",
        "!pip install datasets evaluate transformers[sentencepiece]"
      ]
    },
    {
      "cell_type": "markdown",
      "source": [
        "Also, log into Hugging face"
      ],
      "metadata": {
        "id": "3gVSG6i1z5-x"
      }
    },
    {
      "cell_type": "code",
      "source": [
        "from huggingface_hub import notebook_login\n",
        "\n",
        "notebook_login()"
      ],
      "metadata": {
        "colab": {
          "base_uri": "https://localhost:8080/",
          "height": 165,
          "referenced_widgets": [
            "255e6020b54e4bfb875363444cc6b731",
            "f0488974d0f24a68bb4706804aa1ad51",
            "a338e4ba4dd24b4d906a6ed1add8f32f",
            "8325c5becf1e40eda64cbe26421309ca",
            "7ca9241475e040898e7a5aaaaba1a590",
            "5b3449f2f26043fb85fc808ab2c64283",
            "27bcaca28b9f4bb2a9f7311bf3618727",
            "365599dd3f8e4bdabdcdb26ed1cf6e61",
            "9b5933f8b80841c8897e1feaa49ee9bf",
            "188eff481b7e41158ffc561f3bd23bf2",
            "74ae48c193e746c989887f1997c7a105",
            "fae2692fadb548d68a037d06a225168f",
            "a9e2a45e916e417e9207684f2222b535",
            "5eab90bc386f4795b243ca8c922cf5be",
            "77b75a9e95c24e0f9bc75b24029d82f2",
            "dc1740a880c24898ac64dea6d1421bdd",
            "bb4468a4b77746a28f1dd207b85e6023",
            "63c7d1604c9646efbea78e93d4cb179f",
            "1bf9790904274b84ac0ab7219568c0aa",
            "d03020caff9a4664a25a8f5badf5c595",
            "2c59dc85322844769590720972f98b7e",
            "a7a448eece6d445596d61bb7a1e91fe3",
            "7cc8a18396a1454bad22d3442b7e1980",
            "bfd869dd5d9f4b2c89e45ff23fe09dfc",
            "edab985f152143b896c1760ed19aa500",
            "a14f75c5377c4e5094b168dd6e1c17a2",
            "19ac98650eac473c89d910deab19658d",
            "2e7af7b23d794895800b1cd5e7eb19c6",
            "4b898e7ecfdc4dedb31636f697836850",
            "315beb8a2f8d438884636747eec2e5ae",
            "c1bbca3ff15947a5918f499d7b285131",
            "8b8461d61ad5424c9b33262da9b6bb2e"
          ]
        },
        "id": "gNbWnYWkz6yP",
        "outputId": "027c61ec-a2a9-49df-b606-50e254cfdb41"
      },
      "execution_count": null,
      "outputs": [
        {
          "output_type": "display_data",
          "data": {
            "text/plain": [
              "VBox(children=(HTML(value='<center> <img\\nsrc=https://huggingface.co/front/assets/huggingface_logo-noborder.sv…"
            ],
            "application/vnd.jupyter.widget-view+json": {
              "version_major": 2,
              "version_minor": 0,
              "model_id": "255e6020b54e4bfb875363444cc6b731"
            }
          },
          "metadata": {}
        }
      ]
    },
    {
      "cell_type": "markdown",
      "source": [
        "### Transformers are everywhere!\n",
        "\n",
        "<font color='blue'>Transformer models</font> are used to solve <font color='blue'>all kinds of NLP tasks</font>, like the ones mentioned in the previous section. Here are some of the companies and organizations using Hugging Face and Transformer models, who also contribute back to the community by sharing their models:\n",
        "\n",
        "![](https://huggingface.co/datasets/huggingface-course/documentation-images/resolve/main/en/chapter1/companies.PNG)\n",
        "\n",
        "The [🤗 Transformers library](https://github.com/huggingface/transformers) provides the functionality to <font color='blue'>create</font> and <font color='blue'>use</font> those <font color='blue'>shared models</font>. The [Model Hub](https://huggingface.co/models) contains <font color='blue'>thousands</font> of <font color='blue'>pretrained models</font> that anyone can <font color='blue'>download</font> and <font color='blue'>use</font>. You can also upload your own models to the Hub!\n",
        "\n",
        "Before diving into how Transformer models work under the hood, let's look at a few examples of how they can be used to solve some interesting NLP problems."
      ],
      "metadata": {
        "id": "mQn-pQbmKjR8"
      }
    },
    {
      "cell_type": "markdown",
      "source": [
        "## Transformers architecture\n",
        "\n",
        "The model is primarily composed of two blocks:\n",
        "\n",
        "* **Encoder (left)**: The encoder receives an input and builds a representation of it (its features). This means that the model is optimized to acquire understanding from the input.\n",
        "* **Decoder (right)**: The decoder uses the encoder's representation (features) along with other inputs to generate a target sequence. This means that the model is optimized for generating outputs.\n",
        "\n",
        "<div class=\"flex justify-center\">\n",
        "<img class=\"block dark:hidden\" src=\"https://huggingface.co/datasets/huggingface-course/documentation-images/resolve/main/en/chapter1/transformers_blocks.svg\" alt=\"Architecture of a Transformers models\">\n",
        "\n",
        "Each of these parts can be used independently, depending on the task:\n",
        "\n",
        "* **Encoder-only models**: Good for tasks that require understanding of the input, such as sentence classification and named entity recognition.\n",
        "* **Decoder-only models**: Good for generative tasks such as text generation.\n",
        "* **Encoder-decoder models** or **sequence-to-sequence models**: Good for generative tasks that require an input, such as translation or summarization.\n"
      ],
      "metadata": {
        "id": "ooKD8yAVSCHd"
      }
    },
    {
      "cell_type": "markdown",
      "source": [
        "###  Working with pipelines\n",
        "\n",
        "The most basic object in the 🤗 Transformers library is the <font color='blue'>pipeline() function</font>. It <font color='blue'>connects</font> a <font color='blue'>model</font> with its necessary <font color='blue'>preprocessing</font> and <font color='blue'>postprocessing steps</font>, allowing us to directly input any text and get an intelligible answer:"
      ],
      "metadata": {
        "id": "ipBZO3tPJQ9V"
      }
    },
    {
      "cell_type": "code",
      "execution_count": null,
      "metadata": {
        "id": "liyJbURzGdpw",
        "outputId": "188d1479-4c47-4724-a500-4d3e91945c2b",
        "colab": {
          "base_uri": "https://localhost:8080/"
        }
      },
      "outputs": [
        {
          "output_type": "stream",
          "name": "stderr",
          "text": [
            "Hardware accelerator e.g. GPU is available in the environment, but no `device` argument is passed to the `Pipeline` object. Model will be on CPU.\n"
          ]
        },
        {
          "output_type": "execute_result",
          "data": {
            "text/plain": [
              "[{'label': 'POSITIVE', 'score': 0.9598048329353333}]"
            ]
          },
          "metadata": {},
          "execution_count": 4
        }
      ],
      "source": [
        "from transformers import pipeline\n",
        "\n",
        "classifier = pipeline(\"sentiment-analysis\", model=\"distilbert-base-uncased-finetuned-sst-2-english\")\n",
        "classifier(\"I've been waiting for a HuggingFace course my whole life.\")"
      ]
    },
    {
      "cell_type": "markdown",
      "source": [
        "We can even pass <font color='blue'>several sentences</font>!"
      ],
      "metadata": {
        "id": "oIo-ykTnJWQn"
      }
    },
    {
      "cell_type": "code",
      "execution_count": null,
      "metadata": {
        "id": "veLTiZLfGdpx",
        "outputId": "9014c1b3-c2ea-4deb-d4ce-0d08b588de56",
        "colab": {
          "base_uri": "https://localhost:8080/"
        }
      },
      "outputs": [
        {
          "output_type": "execute_result",
          "data": {
            "text/plain": [
              "[{'label': 'POSITIVE', 'score': 0.9598048329353333},\n",
              " {'label': 'NEGATIVE', 'score': 0.9994558691978455},\n",
              " {'label': 'POSITIVE', 'score': 0.9995144605636597},\n",
              " {'label': 'POSITIVE', 'score': 0.8833526968955994},\n",
              " {'label': 'NEGATIVE', 'score': 0.9764426350593567},\n",
              " {'label': 'POSITIVE', 'score': 0.8040932416915894}]"
            ]
          },
          "metadata": {},
          "execution_count": 4
        }
      ],
      "source": [
        "classifier(\n",
        "    [\"I've been waiting for a HuggingFace course my whole life.\",\n",
        "     \"I hate this so much!\",\n",
        "     \"I like to eat chocolate and peanut butter.\",\n",
        "     \"Do you like green eggs and ham?\",\n",
        "     \"What is better than running?\",\n",
        "     \"I don't like walking without socks.\"]\n",
        ")"
      ]
    },
    {
      "cell_type": "markdown",
      "source": [
        "By default, this pipeline <font color='blue'>selects</font> a <font color='blue'>particular pretrained model</font> that has been <font color='blue'>fine-tuned</font> for <font color='blue'>sentiment analysis</font> in English. The model is <font color='blue'>downloaded</font> and <font color='blue'>cached</font> when you create the <font color='blue'>classifier</font> object. If you <font color='blue'>rerun</font> the <font color='blue'>command</font>, the <font color='blue'>cached model</font> will be <font color='blue'>used</font> instead and there is no need to download the model again.\n",
        "\n",
        "There are <font color='blue'>three main steps</font> involved when you pass some text to a pipeline:\n",
        "\n",
        "1. The text is <font color='blue'>preprocessed</font> into a format the model can understand.\n",
        "2. The <font color='blue'>preprocessed inputs</font> are <font color='blue'>passed</font> to the <font color='blue'>model</font>.\n",
        "3. The <font color='blue'>predictions</font> of the model are <font color='blue'>post-processed</font>, so you can make sense of them.\n",
        "\n",
        "Some of the currently [available pipelines](https://huggingface.co/transformers/main_classes/pipelines) are:\n",
        "\n",
        "1. feature-extraction (get the vector representation of a text)\n",
        "2. fill-mask\n",
        "3. ner (named entity recognition)\n",
        "4. question-answering\n",
        "5. sentiment-analysis\n",
        "6. summarization\n",
        "7. text-generation\n",
        "8. translation\n",
        "9. zero-shot-classification\n",
        "\n",
        "Let's have a look at a few of these!"
      ],
      "metadata": {
        "id": "_eSlbmcBJXRU"
      }
    },
    {
      "cell_type": "markdown",
      "source": [
        "### Zero-shot classification\n",
        "\n",
        "We'll start by tackling a <font color='blue'>more challenging</font> task where we need to <font color='blue'>classify texts</font> that <font color='blue'>haven't been labelled</font>. This is a common scenario in real-world projects because annotating text is usually time-consuming and requires domain expertise. For this use case, the <font color='blue'>zero-shot-classification</font> pipeline is very powerful: it allows you to specify <font color='blue'>which labels to use for the classification</font>, so you <font color='blue'>don't have to rely on the labels of the pretrained model</font>. You've already seen how the model can classify a sentence as positive or negative using those two labels — but it can also classify the text using any other set of labels you like."
      ],
      "metadata": {
        "id": "UrpiTvoZKoA4"
      }
    },
    {
      "cell_type": "code",
      "execution_count": null,
      "metadata": {
        "id": "T8VTH1yOGdpx",
        "colab": {
          "base_uri": "https://localhost:8080/"
        },
        "outputId": "3764c7e0-59ad-4661-84ba-51e30cd8b1ef"
      },
      "outputs": [
        {
          "output_type": "stream",
          "name": "stderr",
          "text": [
            "Hardware accelerator e.g. GPU is available in the environment, but no `device` argument is passed to the `Pipeline` object. Model will be on CPU.\n"
          ]
        },
        {
          "output_type": "execute_result",
          "data": {
            "text/plain": [
              "{'sequence': 'This is a course about the Transformers library',\n",
              " 'labels': ['education', 'business', 'politics'],\n",
              " 'scores': [0.8445968627929688, 0.1119757816195488, 0.04342734441161156]}"
            ]
          },
          "metadata": {},
          "execution_count": 8
        }
      ],
      "source": [
        "from transformers import pipeline\n",
        "\n",
        "classifier = pipeline(\"zero-shot-classification\", model=\"facebook/bart-large-mnli\")\n",
        "classifier(\n",
        "    \"This is a course about the Transformers library\",\n",
        "    candidate_labels=[\"education\", \"politics\", \"business\"],\n",
        ")"
      ]
    },
    {
      "cell_type": "code",
      "source": [
        "classifier = pipeline(\"zero-shot-classification\", model=\"facebook/bart-large-mnli\")\n",
        "classifier(\n",
        "    \"My favoite sport involves running shoes and long distances.\",\n",
        "    candidate_labels=[\"health\", \"education\", \"politics\"],\n",
        ")"
      ],
      "metadata": {
        "id": "7_X7n2kcPMQh",
        "outputId": "1733bbc2-3e44-4f40-96a6-b99479297eab",
        "colab": {
          "base_uri": "https://localhost:8080/"
        }
      },
      "execution_count": null,
      "outputs": [
        {
          "output_type": "stream",
          "name": "stderr",
          "text": [
            "Hardware accelerator e.g. GPU is available in the environment, but no `device` argument is passed to the `Pipeline` object. Model will be on CPU.\n"
          ]
        },
        {
          "output_type": "execute_result",
          "data": {
            "text/plain": [
              "{'sequence': 'My favoite sport involves running shoes and long distances.',\n",
              " 'labels': ['health', 'education', 'politics'],\n",
              " 'scores': [0.7021063566207886, 0.18310600519180298, 0.11478759348392487]}"
            ]
          },
          "metadata": {},
          "execution_count": 9
        }
      ]
    },
    {
      "cell_type": "markdown",
      "source": [
        "This <font color='blue'>pipeline</font> is called <font color='blue'>zero-shot</font> because you <font color='blue'>don't need</font> to <font color='blue'>fine-tune the model</font> on your data to use it. It can directly return probability scores for any list of labels you want!"
      ],
      "metadata": {
        "id": "6xl7fJx1LGFb"
      }
    },
    {
      "cell_type": "markdown",
      "source": [
        "### Text generation\n",
        "\n",
        "Now let's see how to <font color='blue'>use</font> a <font color='blue'>pipeline</font> to <font color='blue'>generate some text</font>. The main idea here is that you <font color='blue'>provide a prompt</font> and the <font color='blue'>model will auto-complete</font> it by <font color='blue'>generating</font> the remaining <font color='blue'>text</font>. This is similar to the predictive text feature that is found on many phones. Text generation involves randomness, so it's normal if you don't get the same results as shown below."
      ],
      "metadata": {
        "id": "QYyZgPZjL8Cp"
      }
    },
    {
      "cell_type": "code",
      "source": [
        "from transformers import pipeline\n",
        "\n",
        "generator = pipeline(\"text-generation\", model=\"openai-community/gpt2\")\n",
        "generator(\"In this course, we will teach you how to\",\n",
        "          max_length=20, # Length of sentence\n",
        "          num_return_sequences=4) # 4 sentences"
      ],
      "metadata": {
        "colab": {
          "base_uri": "https://localhost:8080/"
        },
        "id": "y0plh2vRSK6_",
        "outputId": "6ee3a3a4-e973-450f-c243-47be0f319637"
      },
      "execution_count": null,
      "outputs": [
        {
          "output_type": "stream",
          "name": "stderr",
          "text": [
            "Hardware accelerator e.g. GPU is available in the environment, but no `device` argument is passed to the `Pipeline` object. Model will be on CPU.\n",
            "Truncation was not explicitly activated but `max_length` is provided a specific value, please use `truncation=True` to explicitly truncate examples to max length. Defaulting to 'longest_first' truncation strategy. If you encode pairs of sequences (GLUE-style) with the tokenizer you can select this strategy more precisely by providing a specific strategy to `truncation`.\n",
            "Setting `pad_token_id` to `eos_token_id`:50256 for open-end generation.\n"
          ]
        },
        {
          "output_type": "execute_result",
          "data": {
            "text/plain": [
              "[{'generated_text': \"In this course, we will teach you how to implement the Racket program into the Raspberry Pi's\"},\n",
              " {'generated_text': 'In this course, we will teach you how to create a virtual machine like Linux, which uses the'},\n",
              " {'generated_text': 'In this course, we will teach you how to read and write a complex code, which I shall'},\n",
              " {'generated_text': 'In this course, we will teach you how to use both of them in order to get rid of'}]"
            ]
          },
          "metadata": {},
          "execution_count": 6
        }
      ]
    },
    {
      "cell_type": "markdown",
      "source": [
        "### Using any model from the Hub in a pipeline\n",
        "\n",
        "The previous examples used the <font color='blue'>default model</font> for the task at hand, but you can also <font color='blue'>choose</font> a <font color='blue'>particular model</font> from the <font color='blue'>Hub</font> to use in a pipeline for a specific task — say, text generation. Go to the [Model Hub](https://huggingface.co/models) and <font color='blue'>click</font> on the <font color='blue'>corresponding tag</font> on the <font color='blue'>left</font> to display only the supported models for that task. You should get to a page like [this one](https://huggingface.co/models?pipeline_tag=text-generation).\n",
        "\n",
        "Let's try the [distilgpt2](https://huggingface.co/distilgpt2) model! Here's how to load it in the same pipeline as before:"
      ],
      "metadata": {
        "id": "zHEN1L01MKqa"
      }
    },
    {
      "cell_type": "code",
      "source": [
        "from transformers import pipeline\n",
        "\n",
        "generator = pipeline(\"text-generation\", model=\"distilgpt2\")\n",
        "generator(\n",
        "    \"In this course, we will teach you how to\",\n",
        "    max_length=30,\n",
        "    num_return_sequences=2,\n",
        ")"
      ],
      "metadata": {
        "id": "uZeB-CYvMjnu",
        "colab": {
          "base_uri": "https://localhost:8080/"
        },
        "outputId": "a8b214be-f56f-49d5-abc4-719f69aba6aa"
      },
      "execution_count": null,
      "outputs": [
        {
          "output_type": "stream",
          "name": "stderr",
          "text": [
            "Hardware accelerator e.g. GPU is available in the environment, but no `device` argument is passed to the `Pipeline` object. Model will be on CPU.\n",
            "Truncation was not explicitly activated but `max_length` is provided a specific value, please use `truncation=True` to explicitly truncate examples to max length. Defaulting to 'longest_first' truncation strategy. If you encode pairs of sequences (GLUE-style) with the tokenizer you can select this strategy more precisely by providing a specific strategy to `truncation`.\n",
            "Setting `pad_token_id` to `eos_token_id`:50256 for open-end generation.\n"
          ]
        },
        {
          "output_type": "execute_result",
          "data": {
            "text/plain": [
              "[{'generated_text': 'In this course, we will teach you how to set your course:\\n\\n\\n\\n\\nCreate and set the new variable to use to manage the'},\n",
              " {'generated_text': 'In this course, we will teach you how to develop a unique brand of custom-built machine parts to the user experience, from to the user experience'}]"
            ]
          },
          "metadata": {},
          "execution_count": 14
        }
      ]
    },
    {
      "cell_type": "markdown",
      "source": [
        "And similarly for the <font color='blue'>gpt2-large</font> model:"
      ],
      "metadata": {
        "id": "50N7jsVI4xVE"
      }
    },
    {
      "cell_type": "code",
      "source": [
        "from transformers import pipeline\n",
        "\n",
        "generator = pipeline(\"text-generation\", model=\"gpt2-large\")\n",
        "\n",
        "generator(\n",
        "    \"Boys like to do the following activities in the summer\",\n",
        "    max_length=30,\n",
        "    num_return_sequences=5,\n",
        ")"
      ],
      "metadata": {
        "colab": {
          "base_uri": "https://localhost:8080/"
        },
        "id": "FO0WWdoSTbLl",
        "outputId": "6b1e7aed-759b-455d-d448-a03ffc44d13b"
      },
      "execution_count": null,
      "outputs": [
        {
          "output_type": "stream",
          "name": "stderr",
          "text": [
            "Hardware accelerator e.g. GPU is available in the environment, but no `device` argument is passed to the `Pipeline` object. Model will be on CPU.\n",
            "Truncation was not explicitly activated but `max_length` is provided a specific value, please use `truncation=True` to explicitly truncate examples to max length. Defaulting to 'longest_first' truncation strategy. If you encode pairs of sequences (GLUE-style) with the tokenizer you can select this strategy more precisely by providing a specific strategy to `truncation`.\n",
            "Setting `pad_token_id` to `eos_token_id`:50256 for open-end generation.\n"
          ]
        },
        {
          "output_type": "execute_result",
          "data": {
            "text/plain": [
              "[{'generated_text': 'Boys like to do the following activities in the summer holidays;\\n\\n• to get up, to cook, to play football (with a friend'},\n",
              " {'generated_text': 'Boys like to do the following activities in the summer of every year (all activities are done as often but as little, if at all, as'},\n",
              " {'generated_text': 'Boys like to do the following activities in the summer:\\n\\n- Take a break from summer vacation time to go to the beach, where there'},\n",
              " {'generated_text': \"Boys like to do the following activities in the summer when it's hot:\\n\\nVisit beach playgrounds\\n\\nVisit the lake\\n\\nPlay\"},\n",
              " {'generated_text': 'Boys like to do the following activities in the summer – for reasons that are totally self-evident. (If the weather is too warm to'}]"
            ]
          },
          "metadata": {},
          "execution_count": 16
        }
      ]
    },
    {
      "cell_type": "markdown",
      "source": [
        "You can <font color='blue'>refine</font> your <font color='blue'>search</font> for a model by <font color='blue'>clicking</font> on the <font color='blue'>language tags</font>, and pick a model that will generate text in another language. The <font color='blue'>Model Hub</font> even contains <font color='blue'>checkpoints</font> for <font color='blue'>multilingual models</font> that support several languages.\n",
        "\n",
        "Once you select a model by clicking on it, you'll see that there is a <font color='blue'>widget</font> enabling you to <font color='blue'>try it directly online</font>. This way you can quickly test the model's capabilities before downloading it."
      ],
      "metadata": {
        "id": "8uiPLTlWPuGv"
      }
    },
    {
      "cell_type": "markdown",
      "source": [
        "### Question answering\n",
        "\n",
        "The <font color='blue'>question-answering</font> pipeline <font color='blue'>answers questions</font> using information from a given context.\n",
        "\n",
        "Let's firs try this with <font color='blue'>DistilBERT</font>:"
      ],
      "metadata": {
        "id": "4_bIA2-lQnHL"
      }
    },
    {
      "cell_type": "code",
      "execution_count": null,
      "metadata": {
        "id": "VDA1D_DvGdp0",
        "colab": {
          "base_uri": "https://localhost:8080/"
        },
        "outputId": "2360a19c-7da4-4175-8777-342ba4c332b4"
      },
      "outputs": [
        {
          "output_type": "stream",
          "name": "stderr",
          "text": [
            "Hardware accelerator e.g. GPU is available in the environment, but no `device` argument is passed to the `Pipeline` object. Model will be on CPU.\n"
          ]
        },
        {
          "output_type": "execute_result",
          "data": {
            "text/plain": [
              "{'score': 0.6949753165245056, 'start': 33, 'end': 45, 'answer': 'Hugging Face'}"
            ]
          },
          "metadata": {},
          "execution_count": 14
        }
      ],
      "source": [
        "from transformers import pipeline\n",
        "\n",
        "question_answerer = pipeline(\"question-answering\", model=\"distilbert/distilbert-base-cased-distilled-squad\")\n",
        "question_answerer(\n",
        "    question=\"Where do I work?\",\n",
        "    context=\"My name is Sylvain and I work at Hugging Face in Brooklyn\",\n",
        ")"
      ]
    },
    {
      "cell_type": "markdown",
      "source": [
        "Then with <font color='blue'>BERT large model (uncased)</font>:"
      ],
      "metadata": {
        "id": "0nRm-htC9MKt"
      }
    },
    {
      "cell_type": "code",
      "source": [
        "from transformers import pipeline\n",
        "\n",
        "question_answerer = pipeline(\"question-answering\", model=\"bert-large-uncased-whole-word-masking-finetuned-squad\")\n",
        "question_answerer(\n",
        "    question=\"Where do I work?\",\n",
        "    context=\"My name is Sylvain and I work at Hugging Face in Brooklyn\",\n",
        ")"
      ],
      "metadata": {
        "colab": {
          "base_uri": "https://localhost:8080/"
        },
        "id": "5_hPtDxraCVY",
        "outputId": "4246b440-d190-4ac6-900f-de2e16a534c1"
      },
      "execution_count": null,
      "outputs": [
        {
          "output_type": "stream",
          "name": "stderr",
          "text": [
            "Some weights of the model checkpoint at bert-large-uncased-whole-word-masking-finetuned-squad were not used when initializing BertForQuestionAnswering: ['bert.pooler.dense.bias', 'bert.pooler.dense.weight']\n",
            "- This IS expected if you are initializing BertForQuestionAnswering from the checkpoint of a model trained on another task or with another architecture (e.g. initializing a BertForSequenceClassification model from a BertForPreTraining model).\n",
            "- This IS NOT expected if you are initializing BertForQuestionAnswering from the checkpoint of a model that you expect to be exactly identical (initializing a BertForSequenceClassification model from a BertForSequenceClassification model).\n",
            "Hardware accelerator e.g. GPU is available in the environment, but no `device` argument is passed to the `Pipeline` object. Model will be on CPU.\n"
          ]
        },
        {
          "output_type": "execute_result",
          "data": {
            "text/plain": [
              "{'score': 0.5150135159492493,\n",
              " 'start': 33,\n",
              " 'end': 57,\n",
              " 'answer': 'Hugging Face in Brooklyn'}"
            ]
          },
          "metadata": {},
          "execution_count": 16
        }
      ]
    },
    {
      "cell_type": "markdown",
      "source": [
        "Note that this pipeline works by <font color='blue'>extracting information</font> from the <font color='blue'>provided context</font>; it does not generate the answer."
      ],
      "metadata": {
        "id": "VYw_ZghoQrPD"
      }
    },
    {
      "cell_type": "markdown",
      "source": [
        "# Chapter 2: Using 🤗 Transformers"
      ],
      "metadata": {
        "id": "XbYQ4mG7S6uF"
      }
    },
    {
      "cell_type": "markdown",
      "source": [
        "As we saw in [Chapter 1](https://huggingface.co/course/chapter1), this pipeline groups together three steps: preprocessing, passing the inputs through the model, and postprocessing:"
      ],
      "metadata": {
        "id": "aI-GgeOckCOR"
      }
    },
    {
      "cell_type": "markdown",
      "source": [
        "![en_chapter2_full_nlp_pipeline.svg](data:image/svg+xml;base64,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)"
      ],
      "metadata": {
        "id": "ze-aT1LfkFuw"
      }
    },
    {
      "cell_type": "markdown",
      "source": [
        "In a general neural network, we typically use the same loss function for any type of multilayer neural networks for binary classification. We use the logistic <font color='blue'>sigmoid function</font> $\\sigma(\\cdot)$ in the <font color='blue'>output layer</font>, and the <font color='blue'>logits</font> $z$ are the <font color='blue'>weighted inputs at the output layer</font> as illustrated in the figure below.\n",
        "![logits](https://sebastianraschka.com/images/blog/2022/losses-learned-part1/likelihood-loss-nn-1.png)"
      ],
      "metadata": {
        "id": "xqLXRXdXVVIe"
      }
    },
    {
      "cell_type": "markdown",
      "source": [
        "At the start of this chapter, we've been trying our best to do <font color='blue'>most</font> of the <font color='blue'>work by hand</font>. We've explored how tokenizers work and looked at tokenization, conversion to input IDs, padding, truncation, and attention masks.\n",
        "\n",
        "However, as we saw in section 2, the 🤗 <font color='blue'>Transformers API</font> can <font color='blue'>handle all of this</font> for us with a <font color='blue'>high-level function</font> that we'll dive into here. When you <font color='blue'>call</font> your <font color='blue'>tokenizer directly</font> on the <font color='blue'>sentence</font>, you get back <font color='blue'>inputs</font> that are <font color='blue'>ready</font> to pass through your <font color='blue'>model</font>:"
      ],
      "metadata": {
        "id": "o2HXN723SkRJ"
      }
    },
    {
      "cell_type": "code",
      "execution_count": null,
      "metadata": {
        "id": "lRyO84NKShKh",
        "outputId": "e5f71335-d695-4cab-97f2-d48f16ccfc3f",
        "colab": {
          "base_uri": "https://localhost:8080/"
        }
      },
      "outputs": [
        {
          "output_type": "stream",
          "name": "stdout",
          "text": [
            "input_ids: [101, 1045, 1005, 2310, 2042, 3403, 2005, 1037, 17662, 12172, 2607, 2026, 2878, 2166, 1012, 102]\n",
            "attention_mask: [1, 1, 1, 1, 1, 1, 1, 1, 1, 1, 1, 1, 1, 1, 1, 1]\n"
          ]
        }
      ],
      "source": [
        "from transformers import AutoTokenizer\n",
        "\n",
        "checkpoint = \"distilbert-base-uncased-finetuned-sst-2-english\"\n",
        "tokenizer = AutoTokenizer.from_pretrained(checkpoint)\n",
        "\n",
        "sequence = \"I've been waiting for a HuggingFace course my whole life.\"\n",
        "\n",
        "model_inputs = tokenizer(sequence)\n",
        "for input in model_inputs:\n",
        "  print(f\"{input}: {model_inputs[input]}\")"
      ]
    },
    {
      "cell_type": "markdown",
      "source": [
        "Here, the <font color='blue'>model_inputs</font> variable contains <font color='blue'>everything</font> that's necessary for a model to operate well. For <font color='blue'>DistilBERT</font>, that includes the <font color='blue'>input IDs</font> as well as the <font color='blue'>attention mask</font>. <font color='blue'>Other models</font> that accept additional inputs will also have those <font color='blue'>output</font> by the <font color='blue'>tokenizer object</font>.\n",
        "\n",
        "As we'll see in some examples below, this method is very powerful. First, it can <font color='blue'>tokenize</font> a <font color='blue'>single sequence</font>:"
      ],
      "metadata": {
        "id": "qAxcdmg7SswR"
      }
    },
    {
      "cell_type": "code",
      "execution_count": null,
      "metadata": {
        "id": "aAsZcTQMShKi",
        "colab": {
          "base_uri": "https://localhost:8080/"
        },
        "outputId": "af04d9cf-af96-416c-96c1-3d4f3b05ae94"
      },
      "outputs": [
        {
          "output_type": "stream",
          "name": "stdout",
          "text": [
            "input_ids: [101, 1045, 1005, 2310, 2042, 3403, 2005, 1037, 17662, 12172, 2607, 2026, 2878, 2166, 1012, 102]\n",
            "attention_mask: [1, 1, 1, 1, 1, 1, 1, 1, 1, 1, 1, 1, 1, 1, 1, 1]\n"
          ]
        }
      ],
      "source": [
        "sequence = \"I've been waiting for a HuggingFace course my whole life.\"\n",
        "\n",
        "model_inputs = tokenizer(sequence)\n",
        "for input in model_inputs:\n",
        "  print(f\"{input}: {model_inputs[input]}\")"
      ]
    },
    {
      "cell_type": "markdown",
      "source": [
        "It also handles <font color='blue'>multiple sequences</font> at a time, with <font color='blue'>no change</font> in the API:"
      ],
      "metadata": {
        "id": "v77RjBFdSz5e"
      }
    },
    {
      "cell_type": "code",
      "execution_count": null,
      "metadata": {
        "id": "9T4V5lt-ShKj",
        "colab": {
          "base_uri": "https://localhost:8080/"
        },
        "outputId": "8a155aad-2ff0-452d-848f-ef5114271b2f"
      },
      "outputs": [
        {
          "output_type": "stream",
          "name": "stdout",
          "text": [
            "input_ids:\n",
            "  input_ids for sentence 1: [101, 1045, 1005, 2310, 2042, 3403, 2005, 1037, 17662, 12172, 2607, 2026, 2878, 2166, 1012, 102]\n",
            "  input_ids for sentence 2: [101, 2061, 2031, 1045, 999, 102]\n",
            "attention_mask:\n",
            "  attention_mask for sentence 1: [1, 1, 1, 1, 1, 1, 1, 1, 1, 1, 1, 1, 1, 1, 1, 1]\n",
            "  attention_mask for sentence 2: [1, 1, 1, 1, 1, 1]\n"
          ]
        }
      ],
      "source": [
        "sequences = [\"I've been waiting for a HuggingFace course my whole life.\", \"So have I!\"]\n",
        "\n",
        "model_inputs = tokenizer(sequences)\n",
        "for input in model_inputs:\n",
        "    print(f\"{input}:\")\n",
        "    for idx, entry in enumerate(model_inputs[input]):\n",
        "        print(f\"  {input} for sentence {idx+1}: {entry}\")"
      ]
    },
    {
      "cell_type": "markdown",
      "source": [
        "It can <font color='blue'>pad</font> according to <font color='blue'>several objectives</font>:"
      ],
      "metadata": {
        "id": "0IJ7huyVS7zI"
      }
    },
    {
      "cell_type": "code",
      "execution_count": null,
      "metadata": {
        "id": "OBOUGC71ShKl",
        "colab": {
          "base_uri": "https://localhost:8080/"
        },
        "outputId": "b7ca437c-7817-4fc2-d143-d78df6dec373"
      },
      "outputs": [
        {
          "output_type": "stream",
          "name": "stdout",
          "text": [
            "input_ids:\n",
            "  input_ids for sentence 1: [101, 1045, 1005, 2310, 2042, 3403, 2005, 1037, 17662, 12172, 2607, 2026, 2878, 2166, 1012, 102]\n",
            "  input_ids for sentence 2: [101, 2061, 2031, 1045, 999, 102, 0, 0, 0, 0, 0, 0, 0, 0, 0, 0]\n",
            "attention_mask:\n",
            "  attention_mask for sentence 1: [1, 1, 1, 1, 1, 1, 1, 1, 1, 1, 1, 1, 1, 1, 1, 1]\n",
            "  attention_mask for sentence 2: [1, 1, 1, 1, 1, 1, 0, 0, 0, 0, 0, 0, 0, 0, 0, 0]\n"
          ]
        }
      ],
      "source": [
        "# Pads the sequences up to the maximum sequence length\n",
        "model_inputs = tokenizer(sequences, padding=\"longest\")\n",
        "for input in model_inputs:\n",
        "    print(f\"{input}:\")\n",
        "    for idx, entry in enumerate(model_inputs[input]):\n",
        "        print(f\"  {input} for sentence {idx+1}: {entry}\")"
      ]
    },
    {
      "cell_type": "code",
      "source": [
        "# Pads sequences up to the model max length\n",
        "# (512 for BERT or DistilBERT)\n",
        "model_inputs = tokenizer(sequences, padding=\"max_length\")\n",
        "for input in model_inputs:\n",
        "    print(f\"{input}:\")\n",
        "    for idx, entry in enumerate(model_inputs[input]):\n",
        "        print(f\"  {input} for sentence {idx+1}: {entry}\")"
      ],
      "metadata": {
        "colab": {
          "base_uri": "https://localhost:8080/"
        },
        "id": "NSpQu0l9JUfZ",
        "outputId": "b305ec69-06e4-47f0-b2cc-8f1e35ca1f55"
      },
      "execution_count": null,
      "outputs": [
        {
          "output_type": "stream",
          "name": "stdout",
          "text": [
            "input_ids:\n",
            "  input_ids for sentence 1: [101, 1045, 1005, 2310, 2042, 3403, 2005, 1037, 17662, 12172, 2607, 2026, 2878, 2166, 1012, 102, 0, 0, 0, 0, 0, 0, 0, 0, 0, 0, 0, 0, 0, 0, 0, 0, 0, 0, 0, 0, 0, 0, 0, 0, 0, 0, 0, 0, 0, 0, 0, 0, 0, 0, 0, 0, 0, 0, 0, 0, 0, 0, 0, 0, 0, 0, 0, 0, 0, 0, 0, 0, 0, 0, 0, 0, 0, 0, 0, 0, 0, 0, 0, 0, 0, 0, 0, 0, 0, 0, 0, 0, 0, 0, 0, 0, 0, 0, 0, 0, 0, 0, 0, 0, 0, 0, 0, 0, 0, 0, 0, 0, 0, 0, 0, 0, 0, 0, 0, 0, 0, 0, 0, 0, 0, 0, 0, 0, 0, 0, 0, 0, 0, 0, 0, 0, 0, 0, 0, 0, 0, 0, 0, 0, 0, 0, 0, 0, 0, 0, 0, 0, 0, 0, 0, 0, 0, 0, 0, 0, 0, 0, 0, 0, 0, 0, 0, 0, 0, 0, 0, 0, 0, 0, 0, 0, 0, 0, 0, 0, 0, 0, 0, 0, 0, 0, 0, 0, 0, 0, 0, 0, 0, 0, 0, 0, 0, 0, 0, 0, 0, 0, 0, 0, 0, 0, 0, 0, 0, 0, 0, 0, 0, 0, 0, 0, 0, 0, 0, 0, 0, 0, 0, 0, 0, 0, 0, 0, 0, 0, 0, 0, 0, 0, 0, 0, 0, 0, 0, 0, 0, 0, 0, 0, 0, 0, 0, 0, 0, 0, 0, 0, 0, 0, 0, 0, 0, 0, 0, 0, 0, 0, 0, 0, 0, 0, 0, 0, 0, 0, 0, 0, 0, 0, 0, 0, 0, 0, 0, 0, 0, 0, 0, 0, 0, 0, 0, 0, 0, 0, 0, 0, 0, 0, 0, 0, 0, 0, 0, 0, 0, 0, 0, 0, 0, 0, 0, 0, 0, 0, 0, 0, 0, 0, 0, 0, 0, 0, 0, 0, 0, 0, 0, 0, 0, 0, 0, 0, 0, 0, 0, 0, 0, 0, 0, 0, 0, 0, 0, 0, 0, 0, 0, 0, 0, 0, 0, 0, 0, 0, 0, 0, 0, 0, 0, 0, 0, 0, 0, 0, 0, 0, 0, 0, 0, 0, 0, 0, 0, 0, 0, 0, 0, 0, 0, 0, 0, 0, 0, 0, 0, 0, 0, 0, 0, 0, 0, 0, 0, 0, 0, 0, 0, 0, 0, 0, 0, 0, 0, 0, 0, 0, 0, 0, 0, 0, 0, 0, 0, 0, 0, 0, 0, 0, 0, 0, 0, 0, 0, 0, 0, 0, 0, 0, 0, 0, 0, 0, 0, 0, 0, 0, 0, 0, 0, 0, 0, 0, 0, 0, 0, 0, 0, 0, 0, 0, 0, 0, 0, 0, 0, 0, 0, 0, 0, 0, 0, 0, 0, 0, 0, 0, 0, 0, 0, 0, 0, 0, 0, 0, 0, 0, 0, 0, 0, 0, 0, 0, 0, 0, 0, 0, 0, 0, 0, 0, 0, 0, 0, 0, 0, 0, 0, 0, 0, 0, 0, 0, 0, 0, 0, 0, 0, 0, 0, 0, 0, 0, 0, 0, 0, 0, 0, 0, 0, 0]\n",
            "  input_ids for sentence 2: [101, 2061, 2031, 1045, 999, 102, 0, 0, 0, 0, 0, 0, 0, 0, 0, 0, 0, 0, 0, 0, 0, 0, 0, 0, 0, 0, 0, 0, 0, 0, 0, 0, 0, 0, 0, 0, 0, 0, 0, 0, 0, 0, 0, 0, 0, 0, 0, 0, 0, 0, 0, 0, 0, 0, 0, 0, 0, 0, 0, 0, 0, 0, 0, 0, 0, 0, 0, 0, 0, 0, 0, 0, 0, 0, 0, 0, 0, 0, 0, 0, 0, 0, 0, 0, 0, 0, 0, 0, 0, 0, 0, 0, 0, 0, 0, 0, 0, 0, 0, 0, 0, 0, 0, 0, 0, 0, 0, 0, 0, 0, 0, 0, 0, 0, 0, 0, 0, 0, 0, 0, 0, 0, 0, 0, 0, 0, 0, 0, 0, 0, 0, 0, 0, 0, 0, 0, 0, 0, 0, 0, 0, 0, 0, 0, 0, 0, 0, 0, 0, 0, 0, 0, 0, 0, 0, 0, 0, 0, 0, 0, 0, 0, 0, 0, 0, 0, 0, 0, 0, 0, 0, 0, 0, 0, 0, 0, 0, 0, 0, 0, 0, 0, 0, 0, 0, 0, 0, 0, 0, 0, 0, 0, 0, 0, 0, 0, 0, 0, 0, 0, 0, 0, 0, 0, 0, 0, 0, 0, 0, 0, 0, 0, 0, 0, 0, 0, 0, 0, 0, 0, 0, 0, 0, 0, 0, 0, 0, 0, 0, 0, 0, 0, 0, 0, 0, 0, 0, 0, 0, 0, 0, 0, 0, 0, 0, 0, 0, 0, 0, 0, 0, 0, 0, 0, 0, 0, 0, 0, 0, 0, 0, 0, 0, 0, 0, 0, 0, 0, 0, 0, 0, 0, 0, 0, 0, 0, 0, 0, 0, 0, 0, 0, 0, 0, 0, 0, 0, 0, 0, 0, 0, 0, 0, 0, 0, 0, 0, 0, 0, 0, 0, 0, 0, 0, 0, 0, 0, 0, 0, 0, 0, 0, 0, 0, 0, 0, 0, 0, 0, 0, 0, 0, 0, 0, 0, 0, 0, 0, 0, 0, 0, 0, 0, 0, 0, 0, 0, 0, 0, 0, 0, 0, 0, 0, 0, 0, 0, 0, 0, 0, 0, 0, 0, 0, 0, 0, 0, 0, 0, 0, 0, 0, 0, 0, 0, 0, 0, 0, 0, 0, 0, 0, 0, 0, 0, 0, 0, 0, 0, 0, 0, 0, 0, 0, 0, 0, 0, 0, 0, 0, 0, 0, 0, 0, 0, 0, 0, 0, 0, 0, 0, 0, 0, 0, 0, 0, 0, 0, 0, 0, 0, 0, 0, 0, 0, 0, 0, 0, 0, 0, 0, 0, 0, 0, 0, 0, 0, 0, 0, 0, 0, 0, 0, 0, 0, 0, 0, 0, 0, 0, 0, 0, 0, 0, 0, 0, 0, 0, 0, 0, 0, 0, 0, 0, 0, 0, 0, 0, 0, 0, 0, 0, 0, 0, 0, 0, 0, 0, 0, 0, 0, 0, 0, 0, 0, 0, 0, 0, 0, 0, 0, 0, 0, 0, 0, 0, 0, 0, 0, 0, 0, 0, 0, 0, 0, 0, 0, 0, 0, 0, 0, 0, 0, 0, 0, 0, 0, 0, 0, 0, 0, 0]\n",
            "attention_mask:\n",
            "  attention_mask for sentence 1: [1, 1, 1, 1, 1, 1, 1, 1, 1, 1, 1, 1, 1, 1, 1, 1, 0, 0, 0, 0, 0, 0, 0, 0, 0, 0, 0, 0, 0, 0, 0, 0, 0, 0, 0, 0, 0, 0, 0, 0, 0, 0, 0, 0, 0, 0, 0, 0, 0, 0, 0, 0, 0, 0, 0, 0, 0, 0, 0, 0, 0, 0, 0, 0, 0, 0, 0, 0, 0, 0, 0, 0, 0, 0, 0, 0, 0, 0, 0, 0, 0, 0, 0, 0, 0, 0, 0, 0, 0, 0, 0, 0, 0, 0, 0, 0, 0, 0, 0, 0, 0, 0, 0, 0, 0, 0, 0, 0, 0, 0, 0, 0, 0, 0, 0, 0, 0, 0, 0, 0, 0, 0, 0, 0, 0, 0, 0, 0, 0, 0, 0, 0, 0, 0, 0, 0, 0, 0, 0, 0, 0, 0, 0, 0, 0, 0, 0, 0, 0, 0, 0, 0, 0, 0, 0, 0, 0, 0, 0, 0, 0, 0, 0, 0, 0, 0, 0, 0, 0, 0, 0, 0, 0, 0, 0, 0, 0, 0, 0, 0, 0, 0, 0, 0, 0, 0, 0, 0, 0, 0, 0, 0, 0, 0, 0, 0, 0, 0, 0, 0, 0, 0, 0, 0, 0, 0, 0, 0, 0, 0, 0, 0, 0, 0, 0, 0, 0, 0, 0, 0, 0, 0, 0, 0, 0, 0, 0, 0, 0, 0, 0, 0, 0, 0, 0, 0, 0, 0, 0, 0, 0, 0, 0, 0, 0, 0, 0, 0, 0, 0, 0, 0, 0, 0, 0, 0, 0, 0, 0, 0, 0, 0, 0, 0, 0, 0, 0, 0, 0, 0, 0, 0, 0, 0, 0, 0, 0, 0, 0, 0, 0, 0, 0, 0, 0, 0, 0, 0, 0, 0, 0, 0, 0, 0, 0, 0, 0, 0, 0, 0, 0, 0, 0, 0, 0, 0, 0, 0, 0, 0, 0, 0, 0, 0, 0, 0, 0, 0, 0, 0, 0, 0, 0, 0, 0, 0, 0, 0, 0, 0, 0, 0, 0, 0, 0, 0, 0, 0, 0, 0, 0, 0, 0, 0, 0, 0, 0, 0, 0, 0, 0, 0, 0, 0, 0, 0, 0, 0, 0, 0, 0, 0, 0, 0, 0, 0, 0, 0, 0, 0, 0, 0, 0, 0, 0, 0, 0, 0, 0, 0, 0, 0, 0, 0, 0, 0, 0, 0, 0, 0, 0, 0, 0, 0, 0, 0, 0, 0, 0, 0, 0, 0, 0, 0, 0, 0, 0, 0, 0, 0, 0, 0, 0, 0, 0, 0, 0, 0, 0, 0, 0, 0, 0, 0, 0, 0, 0, 0, 0, 0, 0, 0, 0, 0, 0, 0, 0, 0, 0, 0, 0, 0, 0, 0, 0, 0, 0, 0, 0, 0, 0, 0, 0, 0, 0, 0, 0, 0, 0, 0, 0, 0, 0, 0, 0, 0, 0, 0, 0, 0, 0, 0, 0, 0, 0, 0, 0, 0, 0, 0, 0, 0, 0, 0, 0, 0, 0, 0, 0, 0, 0, 0, 0, 0, 0, 0, 0, 0, 0, 0, 0, 0, 0, 0, 0, 0, 0, 0, 0, 0, 0, 0]\n",
            "  attention_mask for sentence 2: [1, 1, 1, 1, 1, 1, 0, 0, 0, 0, 0, 0, 0, 0, 0, 0, 0, 0, 0, 0, 0, 0, 0, 0, 0, 0, 0, 0, 0, 0, 0, 0, 0, 0, 0, 0, 0, 0, 0, 0, 0, 0, 0, 0, 0, 0, 0, 0, 0, 0, 0, 0, 0, 0, 0, 0, 0, 0, 0, 0, 0, 0, 0, 0, 0, 0, 0, 0, 0, 0, 0, 0, 0, 0, 0, 0, 0, 0, 0, 0, 0, 0, 0, 0, 0, 0, 0, 0, 0, 0, 0, 0, 0, 0, 0, 0, 0, 0, 0, 0, 0, 0, 0, 0, 0, 0, 0, 0, 0, 0, 0, 0, 0, 0, 0, 0, 0, 0, 0, 0, 0, 0, 0, 0, 0, 0, 0, 0, 0, 0, 0, 0, 0, 0, 0, 0, 0, 0, 0, 0, 0, 0, 0, 0, 0, 0, 0, 0, 0, 0, 0, 0, 0, 0, 0, 0, 0, 0, 0, 0, 0, 0, 0, 0, 0, 0, 0, 0, 0, 0, 0, 0, 0, 0, 0, 0, 0, 0, 0, 0, 0, 0, 0, 0, 0, 0, 0, 0, 0, 0, 0, 0, 0, 0, 0, 0, 0, 0, 0, 0, 0, 0, 0, 0, 0, 0, 0, 0, 0, 0, 0, 0, 0, 0, 0, 0, 0, 0, 0, 0, 0, 0, 0, 0, 0, 0, 0, 0, 0, 0, 0, 0, 0, 0, 0, 0, 0, 0, 0, 0, 0, 0, 0, 0, 0, 0, 0, 0, 0, 0, 0, 0, 0, 0, 0, 0, 0, 0, 0, 0, 0, 0, 0, 0, 0, 0, 0, 0, 0, 0, 0, 0, 0, 0, 0, 0, 0, 0, 0, 0, 0, 0, 0, 0, 0, 0, 0, 0, 0, 0, 0, 0, 0, 0, 0, 0, 0, 0, 0, 0, 0, 0, 0, 0, 0, 0, 0, 0, 0, 0, 0, 0, 0, 0, 0, 0, 0, 0, 0, 0, 0, 0, 0, 0, 0, 0, 0, 0, 0, 0, 0, 0, 0, 0, 0, 0, 0, 0, 0, 0, 0, 0, 0, 0, 0, 0, 0, 0, 0, 0, 0, 0, 0, 0, 0, 0, 0, 0, 0, 0, 0, 0, 0, 0, 0, 0, 0, 0, 0, 0, 0, 0, 0, 0, 0, 0, 0, 0, 0, 0, 0, 0, 0, 0, 0, 0, 0, 0, 0, 0, 0, 0, 0, 0, 0, 0, 0, 0, 0, 0, 0, 0, 0, 0, 0, 0, 0, 0, 0, 0, 0, 0, 0, 0, 0, 0, 0, 0, 0, 0, 0, 0, 0, 0, 0, 0, 0, 0, 0, 0, 0, 0, 0, 0, 0, 0, 0, 0, 0, 0, 0, 0, 0, 0, 0, 0, 0, 0, 0, 0, 0, 0, 0, 0, 0, 0, 0, 0, 0, 0, 0, 0, 0, 0, 0, 0, 0, 0, 0, 0, 0, 0, 0, 0, 0, 0, 0, 0, 0, 0, 0, 0, 0, 0, 0, 0, 0, 0, 0, 0, 0, 0, 0, 0, 0, 0, 0, 0, 0, 0, 0, 0, 0, 0, 0, 0, 0, 0, 0, 0, 0, 0]\n"
          ]
        }
      ]
    },
    {
      "cell_type": "code",
      "source": [
        "# Pads sequences up to the specified max length\n",
        "model_inputs = tokenizer(sequences, padding=\"max_length\", max_length=8)\n",
        "for input in model_inputs:\n",
        "    print(f\"{input}:\")\n",
        "    for idx, entry in enumerate(model_inputs[input]):\n",
        "        print(f\"  {input} for sentence {idx+1}: {entry}\")"
      ],
      "metadata": {
        "colab": {
          "base_uri": "https://localhost:8080/"
        },
        "id": "FZIRADpbJUia",
        "outputId": "2184cf6a-4a8b-4c9f-d44b-9385a30cebdf"
      },
      "execution_count": null,
      "outputs": [
        {
          "output_type": "stream",
          "name": "stdout",
          "text": [
            "input_ids:\n",
            "  input_ids for sentence 1: [101, 1045, 1005, 2310, 2042, 3403, 2005, 1037, 17662, 12172, 2607, 2026, 2878, 2166, 1012, 102]\n",
            "  input_ids for sentence 2: [101, 2061, 2031, 1045, 999, 102, 0, 0]\n",
            "attention_mask:\n",
            "  attention_mask for sentence 1: [1, 1, 1, 1, 1, 1, 1, 1, 1, 1, 1, 1, 1, 1, 1, 1]\n",
            "  attention_mask for sentence 2: [1, 1, 1, 1, 1, 1, 0, 0]\n"
          ]
        }
      ]
    },
    {
      "cell_type": "code",
      "source": [
        "# Note: In the above example you need to pass truncation=True for sequences longer than the max_length\n",
        "model_inputs = tokenizer(sequences, padding=\"max_length\", max_length=8,truncation=True)\n",
        "for input in model_inputs:\n",
        "    print(f\"{input}:\")\n",
        "    for idx, entry in enumerate(model_inputs[input]):\n",
        "        print(f\"  {input} for sentence {idx+1}: {entry}\")"
      ],
      "metadata": {
        "colab": {
          "base_uri": "https://localhost:8080/"
        },
        "id": "LQ4BB_PLKopw",
        "outputId": "a667c4ee-0377-4a7b-c734-12b11406730c"
      },
      "execution_count": null,
      "outputs": [
        {
          "output_type": "stream",
          "name": "stdout",
          "text": [
            "input_ids:\n",
            "  input_ids for sentence 1: [101, 1045, 1005, 2310, 2042, 3403, 2005, 102]\n",
            "  input_ids for sentence 2: [101, 2061, 2031, 1045, 999, 102, 0, 0]\n",
            "attention_mask:\n",
            "  attention_mask for sentence 1: [1, 1, 1, 1, 1, 1, 1, 1]\n",
            "  attention_mask for sentence 2: [1, 1, 1, 1, 1, 1, 0, 0]\n"
          ]
        }
      ]
    },
    {
      "cell_type": "markdown",
      "source": [
        "It can also <font color='blue'>truncate sequences</font>:"
      ],
      "metadata": {
        "id": "n4tLi3oaS-xV"
      }
    },
    {
      "cell_type": "code",
      "execution_count": null,
      "metadata": {
        "id": "_x9SsVo6ShKl",
        "colab": {
          "base_uri": "https://localhost:8080/"
        },
        "outputId": "10d01a4b-56ba-4579-8d83-e3aa5500f77c"
      },
      "outputs": [
        {
          "output_type": "stream",
          "name": "stdout",
          "text": [
            "input_ids:\n",
            "  input_ids for sentence 1: [101, 1045, 1005, 2310, 2042, 3403, 2005, 1037, 17662, 12172, 2607, 2026, 2878, 2166, 1012, 102]\n",
            "  input_ids for sentence 2: [101, 2061, 2031, 1045, 999, 102]\n",
            "attention_mask:\n",
            "  attention_mask for sentence 1: [1, 1, 1, 1, 1, 1, 1, 1, 1, 1, 1, 1, 1, 1, 1, 1]\n",
            "  attention_mask for sentence 2: [1, 1, 1, 1, 1, 1]\n"
          ]
        }
      ],
      "source": [
        "sequences = [\"I've been waiting for a HuggingFace course my whole life.\", \"So have I!\"]\n",
        "\n",
        "# Truncates sequences that are longer than the model max length\n",
        "# (512 for BERT or DistilBERT)\n",
        "model_inputs = tokenizer(sequences, truncation=True)\n",
        "for input in model_inputs:\n",
        "    print(f\"{input}:\")\n",
        "    for idx, entry in enumerate(model_inputs[input]):\n",
        "        print(f\"  {input} for sentence {idx+1}: {entry}\")"
      ]
    },
    {
      "cell_type": "code",
      "source": [
        "# Truncates sequences that are longer than the specified max length\n",
        "model_inputs = tokenizer(sequences, max_length=8, truncation=True)\n",
        "for input in model_inputs:\n",
        "    print(f\"{input}:\")\n",
        "    for idx, entry in enumerate(model_inputs[input]):\n",
        "        print(f\"  {input} for sentence {idx+1}: {entry}\")"
      ],
      "metadata": {
        "colab": {
          "base_uri": "https://localhost:8080/"
        },
        "id": "0ohlnQ8zLAG0",
        "outputId": "a6513de4-8687-44fa-a868-0e6fbce7ff25"
      },
      "execution_count": null,
      "outputs": [
        {
          "output_type": "stream",
          "name": "stdout",
          "text": [
            "input_ids:\n",
            "  input_ids for sentence 1: [101, 1045, 1005, 2310, 2042, 3403, 2005, 102]\n",
            "  input_ids for sentence 2: [101, 2061, 2031, 1045, 999, 102]\n",
            "attention_mask:\n",
            "  attention_mask for sentence 1: [1, 1, 1, 1, 1, 1, 1, 1]\n",
            "  attention_mask for sentence 2: [1, 1, 1, 1, 1, 1]\n"
          ]
        }
      ]
    },
    {
      "cell_type": "markdown",
      "source": [
        "The <font color='blue'>tokenizer object</font> can handle the <font color='blue'>conversion</font> to <font color='blue'>specific framework tensors</font>, which can then be directly <font color='blue'>sent</font> to the <font color='blue'>model</font>. For example, in the following code sample we are prompting the tokenizer to return tensors from the different frameworks — <font color='blue'>pt</font> returns <font color='blue'>PyTorch</font> tensors, <font color='blue'>tf</font> returns <font color='blue'>TensorFlow</font> tensors, and <font color='blue'>np</font> returns NumPy arrays:"
      ],
      "metadata": {
        "id": "cfQlYueBTBwd"
      }
    },
    {
      "cell_type": "code",
      "execution_count": null,
      "metadata": {
        "id": "9QON7A9bShKn",
        "colab": {
          "base_uri": "https://localhost:8080/"
        },
        "outputId": "0503d778-e8f5-4673-bc83-eff5f214235b"
      },
      "outputs": [
        {
          "output_type": "execute_result",
          "data": {
            "text/plain": [
              "torch.Tensor"
            ]
          },
          "metadata": {},
          "execution_count": 32
        }
      ],
      "source": [
        "sequences = [\"I've been waiting for a HuggingFace course my whole life.\", \"So have I!\"]\n",
        "\n",
        "# Return PyTorch tensors\n",
        "model_inputs = tokenizer(sequences, padding=True, return_tensors=\"pt\")\n",
        "type(model_inputs['input_ids'])"
      ]
    },
    {
      "cell_type": "code",
      "source": [
        "# Return TensorFlow tensors\n",
        "model_inputs = tokenizer(sequences, padding=True, return_tensors=\"tf\")\n",
        "type(model_inputs['input_ids'])"
      ],
      "metadata": {
        "colab": {
          "base_uri": "https://localhost:8080/"
        },
        "id": "c0nrBjvrLeEf",
        "outputId": "6821a3d2-f29b-46fd-f2a5-240e0c7dad1d"
      },
      "execution_count": null,
      "outputs": [
        {
          "output_type": "execute_result",
          "data": {
            "text/plain": [
              "tensorflow.python.framework.ops.EagerTensor"
            ]
          },
          "metadata": {},
          "execution_count": 33
        }
      ]
    },
    {
      "cell_type": "code",
      "source": [
        "# Return NumPy arrays\n",
        "model_inputs = tokenizer(sequences, padding=True, return_tensors=\"np\")\n",
        "type(model_inputs['input_ids'])"
      ],
      "metadata": {
        "colab": {
          "base_uri": "https://localhost:8080/"
        },
        "id": "_vWrOZV8LeJJ",
        "outputId": "dc3c4b46-ac05-412a-cbf0-88918e48ce74"
      },
      "execution_count": null,
      "outputs": [
        {
          "output_type": "execute_result",
          "data": {
            "text/plain": [
              "numpy.ndarray"
            ]
          },
          "metadata": {},
          "execution_count": 16
        }
      ]
    },
    {
      "cell_type": "markdown",
      "source": [
        "### Special tokens\n",
        "\n",
        "If we take a look at the <font color='blue'>input IDs</font> returned by the <font color='blue'>tokenizer</font>, we will see they are a <font color='blue'>tiny bit different</font> from what we had earlier:"
      ],
      "metadata": {
        "id": "Bzw4mn8ETHvQ"
      }
    },
    {
      "cell_type": "code",
      "execution_count": null,
      "metadata": {
        "id": "g34i8rBtShKp",
        "outputId": "7b9312d6-40e2-4d34-83ac-673ea59dfbfc",
        "colab": {
          "base_uri": "https://localhost:8080/"
        }
      },
      "outputs": [
        {
          "output_type": "stream",
          "name": "stdout",
          "text": [
            "Previous implementation:  [101, 1045, 1005, 2310, 2042, 3403, 2005, 1037, 17662, 12172, 2607, 2026, 2878, 2166, 1012, 102]\n",
            "Current implementation:  [1045, 1005, 2310, 2042, 3403, 2005, 1037, 17662, 12172, 2607, 2026, 2878, 2166, 1012]\n"
          ]
        }
      ],
      "source": [
        "sequence = \"I've been waiting for a HuggingFace course my whole life.\"\n",
        "\n",
        "model_inputs = tokenizer(sequence)\n",
        "print('Previous implementation: ', model_inputs[\"input_ids\"])\n",
        "\n",
        "tokens = tokenizer.tokenize(sequence)\n",
        "ids = tokenizer.convert_tokens_to_ids(tokens)\n",
        "print('Current implementation: ', ids)"
      ]
    },
    {
      "cell_type": "markdown",
      "source": [
        "One token ID was <font color='blue'>added</font> at the <font color='blue'>beginning</font>, and <font color='blue'>one</font> at the <font color='blue'>end</font>. Let's decode the two sequences of IDs above to see what this is about:"
      ],
      "metadata": {
        "id": "_sL6KR82TNmT"
      }
    },
    {
      "cell_type": "code",
      "execution_count": null,
      "metadata": {
        "id": "J9BZR-ltShKq",
        "outputId": "5c55c240-cdbe-4bf7-cb6e-7507bfa2fad5",
        "colab": {
          "base_uri": "https://localhost:8080/"
        }
      },
      "outputs": [
        {
          "output_type": "stream",
          "name": "stdout",
          "text": [
            "[CLS] i've been waiting for a huggingface course my whole life. [SEP]\n",
            "i've been waiting for a huggingface course my whole life.\n"
          ]
        }
      ],
      "source": [
        "print(tokenizer.decode(model_inputs[\"input_ids\"]))\n",
        "print(tokenizer.decode(ids))"
      ]
    },
    {
      "cell_type": "markdown",
      "source": [
        "The <font color='blue'>tokenizer</font> added the special word <font color='blue'>[CLS]</font> at the <font color='blue'>beginning</font> and the special word <font color='blue'>[SEP]</font> at the <font color='blue'>end</font>. This is because the <font color='blue'>model</font> was <font color='blue'>pretrained with those</font>, so to get the same results for inference we need to add them as well. Note that <font color='blue'>some models don't add special words</font>, or add different ones; models may also add these special words only at the beginning, or only at the end. In any case, the tokenizer knows which ones are expected and will deal with this for you."
      ],
      "metadata": {
        "id": "hW1llI1KTTVn"
      }
    },
    {
      "cell_type": "markdown",
      "source": [
        "### Wrapping up: From tokenizer to model\n",
        "\n",
        " Now that we've seen all the individual steps the `tokenizer` object uses when applied on texts, let's see one final time how it can handle\n",
        "\n",
        " - multiple sequences (<font color='blue'>padding</font>)\n",
        " - very long sequences (<font color='blue'>truncation</font>)\n",
        " - multiple types of tensors\n",
        "\n",
        "\n",
        " with its main API:"
      ],
      "metadata": {
        "id": "jxb_IM_FTZhu"
      }
    },
    {
      "cell_type": "code",
      "execution_count": null,
      "metadata": {
        "id": "fM4g-7x2ShKr",
        "outputId": "650aba17-0185-49ca-8b6b-0e3f76e51f72",
        "colab": {
          "base_uri": "https://localhost:8080/"
        }
      },
      "outputs": [
        {
          "output_type": "stream",
          "name": "stdout",
          "text": [
            "SequenceClassifierOutput(loss=None, logits=tensor([[-1.5607,  1.6123],\n",
            "        [-3.6183,  3.9137]], grad_fn=<AddmmBackward0>), hidden_states=None, attentions=None)\n"
          ]
        }
      ],
      "source": [
        "import torch\n",
        "from transformers import AutoTokenizer, AutoModelForSequenceClassification\n",
        "\n",
        "checkpoint = \"distilbert-base-uncased-finetuned-sst-2-english\"\n",
        "tokenizer = AutoTokenizer.from_pretrained(checkpoint)\n",
        "model = AutoModelForSequenceClassification.from_pretrained(checkpoint)\n",
        "sequences = [\"I've been waiting for a HuggingFace course my whole life.\", \"So have I!\"]\n",
        "\n",
        "tokens = tokenizer(sequences, padding=True, truncation=True, return_tensors=\"pt\")\n",
        "output = model(**tokens)\n",
        "print(output)"
      ]
    },
    {
      "cell_type": "code",
      "source": [
        "logits = output.logits\n",
        "print(logits)"
      ],
      "metadata": {
        "id": "-T4Upb8uUHTV",
        "outputId": "9499c782-2186-4c24-a948-053ec7b937f1",
        "colab": {
          "base_uri": "https://localhost:8080/"
        }
      },
      "execution_count": null,
      "outputs": [
        {
          "output_type": "stream",
          "name": "stdout",
          "text": [
            "tensor([[-1.5607,  1.6123],\n",
            "        [-3.6183,  3.9137]], grad_fn=<AddmmBackward0>)\n"
          ]
        }
      ]
    },
    {
      "cell_type": "code",
      "source": [
        "import numpy as np\n",
        "\n",
        "# Convert logits to probabilities\n",
        "probabilities = torch.nn.functional.softmax(logits, dim=-1)\n",
        "\n",
        "# Display output probabilities as decimals (instead of the default of scientific notation)\n",
        "np.set_printoptions(suppress=True, precision=8, floatmode='fixed')\n",
        "\n",
        "# Print logits and corresponding probabilities\n",
        "for i, sequence in enumerate(sequences):\n",
        "    print(f\"Sequence: {sequence}\")\n",
        "    print(f\"Logits: {logits[i].detach().numpy()}\")\n",
        "    print(f\"Probabilities: {probabilities[i].detach().numpy()}\")\n",
        "    print(f\"Predicted Class: {torch.argmax(logits[i]).item()}\\n\")"
      ],
      "metadata": {
        "colab": {
          "base_uri": "https://localhost:8080/"
        },
        "id": "K4H1c4LVNU2_",
        "outputId": "b4e2aa0f-685c-43f8-dc9c-532f39f13739"
      },
      "execution_count": null,
      "outputs": [
        {
          "output_type": "stream",
          "name": "stdout",
          "text": [
            "Sequence: I've been waiting for a HuggingFace course my whole life.\n",
            "Logits: [-1.56069887  1.61228395]\n",
            "Probabilities: [0.04019519 0.95980483]\n",
            "Predicted Class: 1\n",
            "\n",
            "Sequence: So have I!\n",
            "Logits: [-3.61831784  3.91374946]\n",
            "Probabilities: [0.00053534 0.99946469]\n",
            "Predicted Class: 1\n",
            "\n"
          ]
        }
      ]
    },
    {
      "cell_type": "markdown",
      "source": [
        "# Chapter 3: Fine-Tuning a Pretrained Model"
      ],
      "metadata": {
        "id": "LGpRVKKEXGd0"
      }
    },
    {
      "cell_type": "markdown",
      "source": [
        "At the end of this chapter, we completed a full training on the <font color='blue'>GLUE SST-2 dataset</font>."
      ],
      "metadata": {
        "id": "Bg3uX5t0a6y1"
      }
    },
    {
      "cell_type": "markdown",
      "source": [
        "![glue_sst-2.png](data:image/png;base64,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)"
      ],
      "metadata": {
        "id": "XwoxnfJ0a9ML"
      }
    },
    {
      "cell_type": "markdown",
      "source": [
        "**Loading the GLUE SST-2 dataset using the Hugging Face Transformers library:** We went through the process of preprocessing the GLUE SST-2 dataset using the Hugging Face Transformers library. The <font color='blue'>SST-2 dataset</font> is a <font color='blue'>single-sentence text classification task</font>, making it slightly different from other GLUE tasks that involve pairs of sentences. We'll cover loading the dataset, tokenization, and training."
      ],
      "metadata": {
        "id": "DyKI6STTmVQ8"
      }
    },
    {
      "cell_type": "markdown",
      "source": [
        "**1. Loading the Dataset, Tokenization, and Preprocessing:**\n",
        "We'll start by loading the SST-2 dataset from the 🤗 Datasets library. This dataset consists of <font color='blue'>single sentences</font> along with their <font color='blue'>corresponding labels</font>. After we download the raw dataset, we will <font color='blue'>preprocess the data</font> by tokenizing the sentences using a <font color='blue'>pretrained tokenizer</font>. We'll <font color='blue'>define</font> a <font color='blue'>tokenization function</font> and then apply it to the entire dataset."
      ],
      "metadata": {
        "id": "aqAKdnnWmlqx"
      }
    },
    {
      "cell_type": "code",
      "execution_count": null,
      "metadata": {
        "id": "knS83LEa_vIL",
        "colab": {
          "base_uri": "https://localhost:8080/",
          "height": 49,
          "referenced_widgets": [
            "5804b6787ac24b449184fdc315c4ceae",
            "517a154f4cbf49e297a906e90ced6ad7",
            "203d78332402400e929291cb8f666343",
            "b327b451285c483fb62230dfac858edd",
            "8a877f89b3684efd8eb09f2a5d146bde",
            "a2f6c55ac6da42dd9f8fc91f779dcae7",
            "38894d4b77184d4ab52cc8128497b75c",
            "10105377a3884164b72856abc53d5b73",
            "7c527d741a0b4e6abce99697471d4184",
            "a2734538aaa64daa94fdab678f47f1f0",
            "5e54bd86a8f74b49b024ca95747911b7"
          ]
        },
        "outputId": "c8283108-1613-4290-95b5-044782165bfb"
      },
      "outputs": [
        {
          "output_type": "display_data",
          "data": {
            "text/plain": [
              "Map:   0%|          | 0/872 [00:00<?, ? examples/s]"
            ],
            "application/vnd.jupyter.widget-view+json": {
              "version_major": 2,
              "version_minor": 0,
              "model_id": "5804b6787ac24b449184fdc315c4ceae"
            }
          },
          "metadata": {}
        }
      ],
      "source": [
        "from datasets import load_dataset\n",
        "from transformers import AutoTokenizer, DataCollatorWithPadding\n",
        "from torch.utils.data import DataLoader\n",
        "\n",
        "raw_datasets = load_dataset(\"glue\", \"sst2\")\n",
        "checkpoint = \"bert-base-uncased\"\n",
        "tokenizer = AutoTokenizer.from_pretrained(checkpoint)\n",
        "\n",
        "def tokenize_function(example):\n",
        "    return tokenizer(example[\"sentence\"], truncation=True)\n",
        "\n",
        "tokenized_datasets = raw_datasets.map(tokenize_function, batched=True)\n",
        "\n",
        "data_collator = DataCollatorWithPadding(tokenizer=tokenizer)\n",
        "\n",
        "tokenized_datasets = tokenized_datasets.remove_columns([\"sentence\", \"idx\"])\n",
        "tokenized_datasets = tokenized_datasets.rename_column(\"label\", \"labels\")\n",
        "tokenized_datasets.set_format(\"torch\")\n",
        "tokenized_datasets[\"train\"].column_names\n",
        "\n",
        "train_dataloader = DataLoader(\n",
        "    tokenized_datasets[\"train\"], shuffle=True, batch_size=8, collate_fn=data_collator\n",
        ")\n",
        "eval_dataloader = DataLoader(\n",
        "    tokenized_datasets[\"validation\"], batch_size=8, collate_fn=data_collator\n",
        ")"
      ]
    },
    {
      "cell_type": "markdown",
      "source": [
        "**2. Modeling:** Next, we'll define the <font color='blue'>model</font> to be <font color='blue'>fine-tuned</font>. We'll use the <font color='blue'>AutoModelForSequenceClassification class</font>."
      ],
      "metadata": {
        "id": "16g9jr0XnVxr"
      }
    },
    {
      "cell_type": "code",
      "execution_count": null,
      "metadata": {
        "id": "i7iOOt0lEdf2",
        "colab": {
          "base_uri": "https://localhost:8080/"
        },
        "outputId": "88c5d998-84b6-48c9-fb07-8eb0063c85ef"
      },
      "outputs": [
        {
          "output_type": "stream",
          "name": "stderr",
          "text": [
            "Some weights of BertForSequenceClassification were not initialized from the model checkpoint at bert-base-uncased and are newly initialized: ['classifier.bias', 'classifier.weight']\n",
            "You should probably TRAIN this model on a down-stream task to be able to use it for predictions and inference.\n"
          ]
        }
      ],
      "source": [
        "from transformers import AutoModelForSequenceClassification\n",
        "from transformers import AdamW, get_scheduler # Optimizer and a Learning Rate Scheduler\n",
        "\n",
        "model = AutoModelForSequenceClassification.from_pretrained(checkpoint, num_labels=2)\n",
        "optimizer = AdamW(model.parameters(), lr=5e-5)\n",
        "\n",
        "num_epochs = 3\n",
        "num_training_steps = num_epochs * len(train_dataloader)\n",
        "lr_scheduler = get_scheduler(\n",
        "    \"linear\",\n",
        "    optimizer=optimizer,\n",
        "    num_warmup_steps=0,\n",
        "    num_training_steps=num_training_steps,\n",
        ")"
      ]
    },
    {
      "cell_type": "markdown",
      "source": [
        "**3. Defining the Trainer and Fine-Tuning the Model:**\n",
        "\n",
        "Now, we can define the <font color='blue'>Trainer</font> using the model, <font color='blue'>training arguments, datasets, data collator, and tokenizer</font>. Additionally, we'll specify the <font color='blue'>fine-tuning process</font> using the <font color='blue'>`train()` method</font>. The method <font color='blue'>`model.train()`</font> tells your model that you are <font color='blue'>training the model</font> and the method <font color='blue'>`mode.eval()`</font> is used for <font color='blue'>evaluation (inference) mode</font>. This helps inform layers such as <font color='blue'>Dropout and BatchNorm</font>, which are designed to <font color='blue'>behave differently</font> during <font color='blue'>training</font> and <font color='blue'>evaluation</font>. For instance, in training mode, BatchNorm updates a moving average on each new batch; whereas, for evaluation mode, these updates are frozen."
      ],
      "metadata": {
        "id": "fIzSKu2-nrOM"
      }
    },
    {
      "cell_type": "code",
      "execution_count": null,
      "metadata": {
        "id": "QnozRm8GEd6u",
        "colab": {
          "base_uri": "https://localhost:8080/",
          "height": 67,
          "referenced_widgets": [
            "c4d9d72e2cd3482fa7e6790564637a64",
            "d4edf4139f43411889638656e989cb64",
            "5ac8e93bb4934dba9b0267f2afd9c5ca",
            "7ff0b3664a604993815c3c372edeb855",
            "b1c25a7ccaa749f98cc7de1509bd35be",
            "7b1781c75ed245c3aa477fc9d4a508e0",
            "56dde03152754960adb1584ddfeaf359",
            "cdc0a77670194bdb89e1942620e53a55",
            "97ea9fea778d45be85bf5fb613ce84ef",
            "6683c393737a4148a5d0d640bbafb650",
            "88315dc64db941d98e0da409bd34e83a"
          ]
        },
        "outputId": "7d6dbb83-04cb-401b-eb80-6032594795d0"
      },
      "outputs": [
        {
          "output_type": "stream",
          "name": "stdout",
          "text": [
            "cuda\n"
          ]
        },
        {
          "output_type": "display_data",
          "data": {
            "text/plain": [
              "  0%|          | 0/25257 [00:00<?, ?it/s]"
            ],
            "application/vnd.jupyter.widget-view+json": {
              "version_major": 2,
              "version_minor": 0,
              "model_id": "c4d9d72e2cd3482fa7e6790564637a64"
            }
          },
          "metadata": {}
        }
      ],
      "source": [
        "from tqdm.auto import tqdm\n",
        "\n",
        "device = torch.device(\"cuda\") if torch.cuda.is_available() else torch.device(\"cpu\")\n",
        "print(device)\n",
        "model.to(device)\n",
        "progress_bar = tqdm(range(num_training_steps))"
      ]
    },
    {
      "cell_type": "code",
      "execution_count": null,
      "metadata": {
        "id": "GhnLxXGdEeA2",
        "colab": {
          "base_uri": "https://localhost:8080/",
          "height": 821
        },
        "outputId": "c208dcd8-6ea5-425a-ddaf-5a42dde1c97f"
      },
      "outputs": [
        {
          "output_type": "execute_result",
          "data": {
            "text/plain": [
              "BertForSequenceClassification(\n",
              "  (bert): BertModel(\n",
              "    (embeddings): BertEmbeddings(\n",
              "      (word_embeddings): Embedding(30522, 768, padding_idx=0)\n",
              "      (position_embeddings): Embedding(512, 768)\n",
              "      (token_type_embeddings): Embedding(2, 768)\n",
              "      (LayerNorm): LayerNorm((768,), eps=1e-12, elementwise_affine=True)\n",
              "      (dropout): Dropout(p=0.1, inplace=False)\n",
              "    )\n",
              "    (encoder): BertEncoder(\n",
              "      (layer): ModuleList(\n",
              "        (0-11): 12 x BertLayer(\n",
              "          (attention): BertAttention(\n",
              "            (self): BertSdpaSelfAttention(\n",
              "              (query): Linear(in_features=768, out_features=768, bias=True)\n",
              "              (key): Linear(in_features=768, out_features=768, bias=True)\n",
              "              (value): Linear(in_features=768, out_features=768, bias=True)\n",
              "              (dropout): Dropout(p=0.1, inplace=False)\n",
              "            )\n",
              "            (output): BertSelfOutput(\n",
              "              (dense): Linear(in_features=768, out_features=768, bias=True)\n",
              "              (LayerNorm): LayerNorm((768,), eps=1e-12, elementwise_affine=True)\n",
              "              (dropout): Dropout(p=0.1, inplace=False)\n",
              "            )\n",
              "          )\n",
              "          (intermediate): BertIntermediate(\n",
              "            (dense): Linear(in_features=768, out_features=3072, bias=True)\n",
              "            (intermediate_act_fn): GELUActivation()\n",
              "          )\n",
              "          (output): BertOutput(\n",
              "            (dense): Linear(in_features=3072, out_features=768, bias=True)\n",
              "            (LayerNorm): LayerNorm((768,), eps=1e-12, elementwise_affine=True)\n",
              "            (dropout): Dropout(p=0.1, inplace=False)\n",
              "          )\n",
              "        )\n",
              "      )\n",
              "    )\n",
              "    (pooler): BertPooler(\n",
              "      (dense): Linear(in_features=768, out_features=768, bias=True)\n",
              "      (activation): Tanh()\n",
              "    )\n",
              "  )\n",
              "  (dropout): Dropout(p=0.1, inplace=False)\n",
              "  (classifier): Linear(in_features=768, out_features=2, bias=True)\n",
              ")"
            ]
          },
          "metadata": {},
          "execution_count": 23
        }
      ],
      "source": [
        "model.train()\n",
        "for epoch in range(num_epochs):\n",
        "    for batch in train_dataloader:\n",
        "        batch = {k: v.to(device) for k, v in batch.items()}\n",
        "        outputs = model(**batch)\n",
        "        loss = outputs.loss\n",
        "        loss.backward()\n",
        "\n",
        "        optimizer.step()\n",
        "        lr_scheduler.step()\n",
        "        optimizer.zero_grad()\n",
        "        progress_bar.update(1)\n",
        "\n",
        "model.eval()"
      ]
    },
    {
      "cell_type": "markdown",
      "metadata": {
        "id": "xbV-F9ax5-8d"
      },
      "source": [
        "**Supercharge your training loop with 🤗 Accelerate**\n",
        "\n",
        "The training loop we defined earlier works fine on a <font color='blue'>single CPU or GPU</font>. But using the [🤗 Accelerate library](https://github.com/huggingface/accelerate), with just a few adjustments we can enable <font color='blue'>distributed training on multiple GPUs or TPUs</font>. Starting from the creation of the training and validation dataloaders, here is what our manual training loop looks like:"
      ]
    },
    {
      "cell_type": "code",
      "execution_count": null,
      "metadata": {
        "id": "74hEVr0-6NlK",
        "colab": {
          "base_uri": "https://localhost:8080/",
          "height": 85,
          "referenced_widgets": [
            "af4091693d0a4b1e98fcb13a1eaaa4db",
            "e64f68f7d0534b889b1eff59e805b8f0",
            "1bf42bb2752742438cfce95a3b10068c",
            "72d74ea78b7c4ff39ede8c977687ef1c",
            "b082ead82b524724ba64cbc248e0e7e6",
            "9fb35c89d9a34f5cb56477e562bb6aae",
            "b20a832056454b5ab94e58f08b25a53b",
            "3ad2534bfaa84e5983bfa6230717b80c",
            "2c5a2251e7bd4c68a9dc132092ea037c",
            "7cd3b9c8f0254b2a8c285ad1906365f3",
            "6741c6437e634c9f92cd8fb60abcfe46"
          ]
        },
        "outputId": "4f13c37c-54bc-4bfb-ac4b-a17c639b8a85"
      },
      "outputs": [
        {
          "output_type": "stream",
          "name": "stderr",
          "text": [
            "Some weights of BertForSequenceClassification were not initialized from the model checkpoint at bert-base-uncased and are newly initialized: ['classifier.bias', 'classifier.weight']\n",
            "You should probably TRAIN this model on a down-stream task to be able to use it for predictions and inference.\n"
          ]
        },
        {
          "output_type": "display_data",
          "data": {
            "text/plain": [
              "  0%|          | 0/25257 [00:00<?, ?it/s]"
            ],
            "application/vnd.jupyter.widget-view+json": {
              "version_major": 2,
              "version_minor": 0,
              "model_id": "af4091693d0a4b1e98fcb13a1eaaa4db"
            }
          },
          "metadata": {}
        }
      ],
      "source": [
        "import torch\n",
        "from tqdm.auto import tqdm\n",
        "from accelerate import Accelerator # Added\n",
        "from transformers import AdamW, AutoModelForSequenceClassification, get_scheduler\n",
        "\n",
        "accelerator = Accelerator() # Added\n",
        "\n",
        "model = AutoModelForSequenceClassification.from_pretrained(checkpoint, num_labels=2)\n",
        "optimizer = torch.optim.AdamW(model.parameters(), lr=3e-5)\n",
        "\n",
        "# device = torch.device(\"cuda\") if torch.cuda.is_available() else torch.device(\"cpu\") # Deleted\n",
        "# model.to(device) # Deleted\n",
        "\n",
        "train_dataloader, eval_dataloader, model, optimizer = accelerator.prepare(train_dataloader, eval_dataloader, model, optimizer) # Added, main bulk of work\n",
        "\n",
        "num_epochs = 3\n",
        "num_training_steps = num_epochs * len(train_dataloader)\n",
        "lr_scheduler = get_scheduler(\n",
        "   \"linear\",\n",
        "   optimizer=optimizer,\n",
        "   num_warmup_steps=0,\n",
        "   num_training_steps=num_training_steps\n",
        "  )\n",
        "\n",
        "progress_bar = tqdm(range(num_training_steps))\n",
        "\n",
        "model.train()\n",
        "for epoch in range(num_epochs):\n",
        "  for batch in train_dataloader:\n",
        "    #batch = {k: v.to(device) for k, v in batch.items()} # Deleted\n",
        "    outputs = model(**batch)\n",
        "    loss = outputs.loss\n",
        "    #loss.backward() # Deleted\n",
        "    accelerator.backward(loss) # Added\n",
        "\n",
        "    optimizer.step()\n",
        "    lr_scheduler.step()\n",
        "    optimizer.zero_grad()\n",
        "    progress_bar.update(1)"
      ]
    },
    {
      "cell_type": "markdown",
      "metadata": {
        "id": "fAJ3r3KR64RU"
      },
      "source": [
        "The first line to <font color='blue'>add</font> is the <font color='blue'>import line</font>. The second line <font color='blue'>instantiates an `Accelerator` object</font> that will look at the environment and initialize the proper distributed setup. <font color='blue'>🤗 Accelerate</font> handles the <font color='blue'>device placement for you</font>, so you can remove the lines that put the model on the device (or, if you prefer, change them to use `accelerator.device` instead of device)."
      ]
    },
    {
      "cell_type": "markdown",
      "metadata": {
        "id": "zT2-S7vP7EO-"
      },
      "source": [
        "Then the <font color='blue'>main bulk of the work</font> is done in the line that <font color='blue'>sends the dataloaders</font>, the <font color='blue'>model</font>, and the <font color='blue'>optimizer</font> to <font color='blue'>`accelerator.prepare()`</font>. This will <font color='blue'>wrap those objects</font> in the <font color='blue'>proper container</font> to make sure your <font color='blue'>distributed training works</font> as intended. The remaining changes to make are <font color='blue'>removing the line</font> that puts the <font color='blue'>batch on the device</font> (again, if you want to keep this you can just change it to use `accelerator.device`) and replacing `loss.backward()` with `accelerator.backward(loss)`.\n",
        "\n",
        "**Note:** In order to benefit from the speed-up offered by Cloud TPUs, we recommend <font color='blue'>padding</font> your samples to a <font color='blue'>fixed length</font> with the <font color='blue'>`padding=\"max_length\"`</font> and <font color='blue'>`max_length`</font> arguments of the tokenizer."
      ]
    }
  ],
  "metadata": {
    "colab": {
      "provenance": [],
      "gpuType": "T4"
    },
    "accelerator": "GPU",
    "language_info": {
      "name": "python"
    },
    "kernelspec": {
      "name": "python3",
      "display_name": "Python 3"
    },
    "widgets": {
      "application/vnd.jupyter.widget-state+json": {
        "255e6020b54e4bfb875363444cc6b731": {
          "model_module": "@jupyter-widgets/controls",
          "model_name": "VBoxModel",
          "model_module_version": "1.5.0",
          "state": {
            "_dom_classes": [],
            "_model_module": "@jupyter-widgets/controls",
            "_model_module_version": "1.5.0",
            "_model_name": "VBoxModel",
            "_view_count": null,
            "_view_module": "@jupyter-widgets/controls",
            "_view_module_version": "1.5.0",
            "_view_name": "VBoxView",
            "box_style": "",
            "children": [
              "IPY_MODEL_2c59dc85322844769590720972f98b7e",
              "IPY_MODEL_a7a448eece6d445596d61bb7a1e91fe3",
              "IPY_MODEL_7cc8a18396a1454bad22d3442b7e1980",
              "IPY_MODEL_bfd869dd5d9f4b2c89e45ff23fe09dfc"
            ],
            "layout": "IPY_MODEL_27bcaca28b9f4bb2a9f7311bf3618727"
          }
        },
        "f0488974d0f24a68bb4706804aa1ad51": {
          "model_module": "@jupyter-widgets/controls",
          "model_name": "HTMLModel",
          "model_module_version": "1.5.0",
          "state": {
            "_dom_classes": [],
            "_model_module": "@jupyter-widgets/controls",
            "_model_module_version": "1.5.0",
            "_model_name": "HTMLModel",
            "_view_count": null,
            "_view_module": "@jupyter-widgets/controls",
            "_view_module_version": "1.5.0",
            "_view_name": "HTMLView",
            "description": "",
            "description_tooltip": null,
            "layout": "IPY_MODEL_365599dd3f8e4bdabdcdb26ed1cf6e61",
            "placeholder": "​",
            "style": "IPY_MODEL_9b5933f8b80841c8897e1feaa49ee9bf",
            "value": "<center> <img\nsrc=https://huggingface.co/front/assets/huggingface_logo-noborder.svg\nalt='Hugging Face'> <br> Copy a token from <a\nhref=\"https://huggingface.co/settings/tokens\" target=\"_blank\">your Hugging Face\ntokens page</a> and paste it below. <br> Immediately click login after copying\nyour token or it might be stored in plain text in this notebook file. </center>"
          }
        },
        "a338e4ba4dd24b4d906a6ed1add8f32f": {
          "model_module": "@jupyter-widgets/controls",
          "model_name": "PasswordModel",
          "model_module_version": "1.5.0",
          "state": {
            "_dom_classes": [],
            "_model_module": "@jupyter-widgets/controls",
            "_model_module_version": "1.5.0",
            "_model_name": "PasswordModel",
            "_view_count": null,
            "_view_module": "@jupyter-widgets/controls",
            "_view_module_version": "1.5.0",
            "_view_name": "PasswordView",
            "continuous_update": true,
            "description": "Token:",
            "description_tooltip": null,
            "disabled": false,
            "layout": "IPY_MODEL_188eff481b7e41158ffc561f3bd23bf2",
            "placeholder": "​",
            "style": "IPY_MODEL_74ae48c193e746c989887f1997c7a105",
            "value": ""
          }
        },
        "8325c5becf1e40eda64cbe26421309ca": {
          "model_module": "@jupyter-widgets/controls",
          "model_name": "CheckboxModel",
          "model_module_version": "1.5.0",
          "state": {
            "_dom_classes": [],
            "_model_module": "@jupyter-widgets/controls",
            "_model_module_version": "1.5.0",
            "_model_name": "CheckboxModel",
            "_view_count": null,
            "_view_module": "@jupyter-widgets/controls",
            "_view_module_version": "1.5.0",
            "_view_name": "CheckboxView",
            "description": "Add token as git credential?",
            "description_tooltip": null,
            "disabled": false,
            "indent": true,
            "layout": "IPY_MODEL_fae2692fadb548d68a037d06a225168f",
            "style": "IPY_MODEL_a9e2a45e916e417e9207684f2222b535",
            "value": true
          }
        },
        "7ca9241475e040898e7a5aaaaba1a590": {
          "model_module": "@jupyter-widgets/controls",
          "model_name": "ButtonModel",
          "model_module_version": "1.5.0",
          "state": {
            "_dom_classes": [],
            "_model_module": "@jupyter-widgets/controls",
            "_model_module_version": "1.5.0",
            "_model_name": "ButtonModel",
            "_view_count": null,
            "_view_module": "@jupyter-widgets/controls",
            "_view_module_version": "1.5.0",
            "_view_name": "ButtonView",
            "button_style": "",
            "description": "Login",
            "disabled": false,
            "icon": "",
            "layout": "IPY_MODEL_5eab90bc386f4795b243ca8c922cf5be",
            "style": "IPY_MODEL_77b75a9e95c24e0f9bc75b24029d82f2",
            "tooltip": ""
          }
        },
        "5b3449f2f26043fb85fc808ab2c64283": {
          "model_module": "@jupyter-widgets/controls",
          "model_name": "HTMLModel",
          "model_module_version": "1.5.0",
          "state": {
            "_dom_classes": [],
            "_model_module": "@jupyter-widgets/controls",
            "_model_module_version": "1.5.0",
            "_model_name": "HTMLModel",
            "_view_count": null,
            "_view_module": "@jupyter-widgets/controls",
            "_view_module_version": "1.5.0",
            "_view_name": "HTMLView",
            "description": "",
            "description_tooltip": null,
            "layout": "IPY_MODEL_dc1740a880c24898ac64dea6d1421bdd",
            "placeholder": "​",
            "style": "IPY_MODEL_bb4468a4b77746a28f1dd207b85e6023",
            "value": "\n<b>Pro Tip:</b> If you don't already have one, you can create a dedicated\n'notebooks' token with 'write' access, that you can then easily reuse for all\nnotebooks. </center>"
          }
        },
        "27bcaca28b9f4bb2a9f7311bf3618727": {
          "model_module": "@jupyter-widgets/base",
          "model_name": "LayoutModel",
          "model_module_version": "1.2.0",
          "state": {
            "_model_module": "@jupyter-widgets/base",
            "_model_module_version": "1.2.0",
            "_model_name": "LayoutModel",
            "_view_count": null,
            "_view_module": "@jupyter-widgets/base",
            "_view_module_version": "1.2.0",
            "_view_name": "LayoutView",
            "align_content": null,
            "align_items": "center",
            "align_self": null,
            "border": null,
            "bottom": null,
            "display": "flex",
            "flex": null,
            "flex_flow": "column",
            "grid_area": null,
            "grid_auto_columns": null,
            "grid_auto_flow": null,
            "grid_auto_rows": null,
            "grid_column": null,
            "grid_gap": null,
            "grid_row": null,
            "grid_template_areas": null,
            "grid_template_columns": null,
            "grid_template_rows": null,
            "height": null,
            "justify_content": null,
            "justify_items": null,
            "left": null,
            "margin": null,
            "max_height": null,
            "max_width": null,
            "min_height": null,
            "min_width": null,
            "object_fit": null,
            "object_position": null,
            "order": null,
            "overflow": null,
            "overflow_x": null,
            "overflow_y": null,
            "padding": null,
            "right": null,
            "top": null,
            "visibility": null,
            "width": "50%"
          }
        },
        "365599dd3f8e4bdabdcdb26ed1cf6e61": {
          "model_module": "@jupyter-widgets/base",
          "model_name": "LayoutModel",
          "model_module_version": "1.2.0",
          "state": {
            "_model_module": "@jupyter-widgets/base",
            "_model_module_version": "1.2.0",
            "_model_name": "LayoutModel",
            "_view_count": null,
            "_view_module": "@jupyter-widgets/base",
            "_view_module_version": "1.2.0",
            "_view_name": "LayoutView",
            "align_content": null,
            "align_items": null,
            "align_self": null,
            "border": null,
            "bottom": null,
            "display": null,
            "flex": null,
            "flex_flow": null,
            "grid_area": null,
            "grid_auto_columns": null,
            "grid_auto_flow": null,
            "grid_auto_rows": null,
            "grid_column": null,
            "grid_gap": null,
            "grid_row": null,
            "grid_template_areas": null,
            "grid_template_columns": null,
            "grid_template_rows": null,
            "height": null,
            "justify_content": null,
            "justify_items": null,
            "left": null,
            "margin": null,
            "max_height": null,
            "max_width": null,
            "min_height": null,
            "min_width": null,
            "object_fit": null,
            "object_position": null,
            "order": null,
            "overflow": null,
            "overflow_x": null,
            "overflow_y": null,
            "padding": null,
            "right": null,
            "top": null,
            "visibility": null,
            "width": null
          }
        },
        "9b5933f8b80841c8897e1feaa49ee9bf": {
          "model_module": "@jupyter-widgets/controls",
          "model_name": "DescriptionStyleModel",
          "model_module_version": "1.5.0",
          "state": {
            "_model_module": "@jupyter-widgets/controls",
            "_model_module_version": "1.5.0",
            "_model_name": "DescriptionStyleModel",
            "_view_count": null,
            "_view_module": "@jupyter-widgets/base",
            "_view_module_version": "1.2.0",
            "_view_name": "StyleView",
            "description_width": ""
          }
        },
        "188eff481b7e41158ffc561f3bd23bf2": {
          "model_module": "@jupyter-widgets/base",
          "model_name": "LayoutModel",
          "model_module_version": "1.2.0",
          "state": {
            "_model_module": "@jupyter-widgets/base",
            "_model_module_version": "1.2.0",
            "_model_name": "LayoutModel",
            "_view_count": null,
            "_view_module": "@jupyter-widgets/base",
            "_view_module_version": "1.2.0",
            "_view_name": "LayoutView",
            "align_content": null,
            "align_items": null,
            "align_self": null,
            "border": null,
            "bottom": null,
            "display": null,
            "flex": null,
            "flex_flow": null,
            "grid_area": null,
            "grid_auto_columns": null,
            "grid_auto_flow": null,
            "grid_auto_rows": null,
            "grid_column": null,
            "grid_gap": null,
            "grid_row": null,
            "grid_template_areas": null,
            "grid_template_columns": null,
            "grid_template_rows": null,
            "height": null,
            "justify_content": null,
            "justify_items": null,
            "left": null,
            "margin": null,
            "max_height": null,
            "max_width": null,
            "min_height": null,
            "min_width": null,
            "object_fit": null,
            "object_position": null,
            "order": null,
            "overflow": null,
            "overflow_x": null,
            "overflow_y": null,
            "padding": null,
            "right": null,
            "top": null,
            "visibility": null,
            "width": null
          }
        },
        "74ae48c193e746c989887f1997c7a105": {
          "model_module": "@jupyter-widgets/controls",
          "model_name": "DescriptionStyleModel",
          "model_module_version": "1.5.0",
          "state": {
            "_model_module": "@jupyter-widgets/controls",
            "_model_module_version": "1.5.0",
            "_model_name": "DescriptionStyleModel",
            "_view_count": null,
            "_view_module": "@jupyter-widgets/base",
            "_view_module_version": "1.2.0",
            "_view_name": "StyleView",
            "description_width": ""
          }
        },
        "fae2692fadb548d68a037d06a225168f": {
          "model_module": "@jupyter-widgets/base",
          "model_name": "LayoutModel",
          "model_module_version": "1.2.0",
          "state": {
            "_model_module": "@jupyter-widgets/base",
            "_model_module_version": "1.2.0",
            "_model_name": "LayoutModel",
            "_view_count": null,
            "_view_module": "@jupyter-widgets/base",
            "_view_module_version": "1.2.0",
            "_view_name": "LayoutView",
            "align_content": null,
            "align_items": null,
            "align_self": null,
            "border": null,
            "bottom": null,
            "display": null,
            "flex": null,
            "flex_flow": null,
            "grid_area": null,
            "grid_auto_columns": null,
            "grid_auto_flow": null,
            "grid_auto_rows": null,
            "grid_column": null,
            "grid_gap": null,
            "grid_row": null,
            "grid_template_areas": null,
            "grid_template_columns": null,
            "grid_template_rows": null,
            "height": null,
            "justify_content": null,
            "justify_items": null,
            "left": null,
            "margin": null,
            "max_height": null,
            "max_width": null,
            "min_height": null,
            "min_width": null,
            "object_fit": null,
            "object_position": null,
            "order": null,
            "overflow": null,
            "overflow_x": null,
            "overflow_y": null,
            "padding": null,
            "right": null,
            "top": null,
            "visibility": null,
            "width": null
          }
        },
        "a9e2a45e916e417e9207684f2222b535": {
          "model_module": "@jupyter-widgets/controls",
          "model_name": "DescriptionStyleModel",
          "model_module_version": "1.5.0",
          "state": {
            "_model_module": "@jupyter-widgets/controls",
            "_model_module_version": "1.5.0",
            "_model_name": "DescriptionStyleModel",
            "_view_count": null,
            "_view_module": "@jupyter-widgets/base",
            "_view_module_version": "1.2.0",
            "_view_name": "StyleView",
            "description_width": ""
          }
        },
        "5eab90bc386f4795b243ca8c922cf5be": {
          "model_module": "@jupyter-widgets/base",
          "model_name": "LayoutModel",
          "model_module_version": "1.2.0",
          "state": {
            "_model_module": "@jupyter-widgets/base",
            "_model_module_version": "1.2.0",
            "_model_name": "LayoutModel",
            "_view_count": null,
            "_view_module": "@jupyter-widgets/base",
            "_view_module_version": "1.2.0",
            "_view_name": "LayoutView",
            "align_content": null,
            "align_items": null,
            "align_self": null,
            "border": null,
            "bottom": null,
            "display": null,
            "flex": null,
            "flex_flow": null,
            "grid_area": null,
            "grid_auto_columns": null,
            "grid_auto_flow": null,
            "grid_auto_rows": null,
            "grid_column": null,
            "grid_gap": null,
            "grid_row": null,
            "grid_template_areas": null,
            "grid_template_columns": null,
            "grid_template_rows": null,
            "height": null,
            "justify_content": null,
            "justify_items": null,
            "left": null,
            "margin": null,
            "max_height": null,
            "max_width": null,
            "min_height": null,
            "min_width": null,
            "object_fit": null,
            "object_position": null,
            "order": null,
            "overflow": null,
            "overflow_x": null,
            "overflow_y": null,
            "padding": null,
            "right": null,
            "top": null,
            "visibility": null,
            "width": null
          }
        },
        "77b75a9e95c24e0f9bc75b24029d82f2": {
          "model_module": "@jupyter-widgets/controls",
          "model_name": "ButtonStyleModel",
          "model_module_version": "1.5.0",
          "state": {
            "_model_module": "@jupyter-widgets/controls",
            "_model_module_version": "1.5.0",
            "_model_name": "ButtonStyleModel",
            "_view_count": null,
            "_view_module": "@jupyter-widgets/base",
            "_view_module_version": "1.2.0",
            "_view_name": "StyleView",
            "button_color": null,
            "font_weight": ""
          }
        },
        "dc1740a880c24898ac64dea6d1421bdd": {
          "model_module": "@jupyter-widgets/base",
          "model_name": "LayoutModel",
          "model_module_version": "1.2.0",
          "state": {
            "_model_module": "@jupyter-widgets/base",
            "_model_module_version": "1.2.0",
            "_model_name": "LayoutModel",
            "_view_count": null,
            "_view_module": "@jupyter-widgets/base",
            "_view_module_version": "1.2.0",
            "_view_name": "LayoutView",
            "align_content": null,
            "align_items": null,
            "align_self": null,
            "border": null,
            "bottom": null,
            "display": null,
            "flex": null,
            "flex_flow": null,
            "grid_area": null,
            "grid_auto_columns": null,
            "grid_auto_flow": null,
            "grid_auto_rows": null,
            "grid_column": null,
            "grid_gap": null,
            "grid_row": null,
            "grid_template_areas": null,
            "grid_template_columns": null,
            "grid_template_rows": null,
            "height": null,
            "justify_content": null,
            "justify_items": null,
            "left": null,
            "margin": null,
            "max_height": null,
            "max_width": null,
            "min_height": null,
            "min_width": null,
            "object_fit": null,
            "object_position": null,
            "order": null,
            "overflow": null,
            "overflow_x": null,
            "overflow_y": null,
            "padding": null,
            "right": null,
            "top": null,
            "visibility": null,
            "width": null
          }
        },
        "bb4468a4b77746a28f1dd207b85e6023": {
          "model_module": "@jupyter-widgets/controls",
          "model_name": "DescriptionStyleModel",
          "model_module_version": "1.5.0",
          "state": {
            "_model_module": "@jupyter-widgets/controls",
            "_model_module_version": "1.5.0",
            "_model_name": "DescriptionStyleModel",
            "_view_count": null,
            "_view_module": "@jupyter-widgets/base",
            "_view_module_version": "1.2.0",
            "_view_name": "StyleView",
            "description_width": ""
          }
        },
        "63c7d1604c9646efbea78e93d4cb179f": {
          "model_module": "@jupyter-widgets/controls",
          "model_name": "LabelModel",
          "model_module_version": "1.5.0",
          "state": {
            "_dom_classes": [],
            "_model_module": "@jupyter-widgets/controls",
            "_model_module_version": "1.5.0",
            "_model_name": "LabelModel",
            "_view_count": null,
            "_view_module": "@jupyter-widgets/controls",
            "_view_module_version": "1.5.0",
            "_view_name": "LabelView",
            "description": "",
            "description_tooltip": null,
            "layout": "IPY_MODEL_1bf9790904274b84ac0ab7219568c0aa",
            "placeholder": "​",
            "style": "IPY_MODEL_d03020caff9a4664a25a8f5badf5c595",
            "value": "Connecting..."
          }
        },
        "1bf9790904274b84ac0ab7219568c0aa": {
          "model_module": "@jupyter-widgets/base",
          "model_name": "LayoutModel",
          "model_module_version": "1.2.0",
          "state": {
            "_model_module": "@jupyter-widgets/base",
            "_model_module_version": "1.2.0",
            "_model_name": "LayoutModel",
            "_view_count": null,
            "_view_module": "@jupyter-widgets/base",
            "_view_module_version": "1.2.0",
            "_view_name": "LayoutView",
            "align_content": null,
            "align_items": null,
            "align_self": null,
            "border": null,
            "bottom": null,
            "display": null,
            "flex": null,
            "flex_flow": null,
            "grid_area": null,
            "grid_auto_columns": null,
            "grid_auto_flow": null,
            "grid_auto_rows": null,
            "grid_column": null,
            "grid_gap": null,
            "grid_row": null,
            "grid_template_areas": null,
            "grid_template_columns": null,
            "grid_template_rows": null,
            "height": null,
            "justify_content": null,
            "justify_items": null,
            "left": null,
            "margin": null,
            "max_height": null,
            "max_width": null,
            "min_height": null,
            "min_width": null,
            "object_fit": null,
            "object_position": null,
            "order": null,
            "overflow": null,
            "overflow_x": null,
            "overflow_y": null,
            "padding": null,
            "right": null,
            "top": null,
            "visibility": null,
            "width": null
          }
        },
        "d03020caff9a4664a25a8f5badf5c595": {
          "model_module": "@jupyter-widgets/controls",
          "model_name": "DescriptionStyleModel",
          "model_module_version": "1.5.0",
          "state": {
            "_model_module": "@jupyter-widgets/controls",
            "_model_module_version": "1.5.0",
            "_model_name": "DescriptionStyleModel",
            "_view_count": null,
            "_view_module": "@jupyter-widgets/base",
            "_view_module_version": "1.2.0",
            "_view_name": "StyleView",
            "description_width": ""
          }
        },
        "2c59dc85322844769590720972f98b7e": {
          "model_module": "@jupyter-widgets/controls",
          "model_name": "LabelModel",
          "model_module_version": "1.5.0",
          "state": {
            "_dom_classes": [],
            "_model_module": "@jupyter-widgets/controls",
            "_model_module_version": "1.5.0",
            "_model_name": "LabelModel",
            "_view_count": null,
            "_view_module": "@jupyter-widgets/controls",
            "_view_module_version": "1.5.0",
            "_view_name": "LabelView",
            "description": "",
            "description_tooltip": null,
            "layout": "IPY_MODEL_edab985f152143b896c1760ed19aa500",
            "placeholder": "​",
            "style": "IPY_MODEL_a14f75c5377c4e5094b168dd6e1c17a2",
            "value": "Token is valid (permission: write)."
          }
        },
        "a7a448eece6d445596d61bb7a1e91fe3": {
          "model_module": "@jupyter-widgets/controls",
          "model_name": "LabelModel",
          "model_module_version": "1.5.0",
          "state": {
            "_dom_classes": [],
            "_model_module": "@jupyter-widgets/controls",
            "_model_module_version": "1.5.0",
            "_model_name": "LabelModel",
            "_view_count": null,
            "_view_module": "@jupyter-widgets/controls",
            "_view_module_version": "1.5.0",
            "_view_name": "LabelView",
            "description": "",
            "description_tooltip": null,
            "layout": "IPY_MODEL_19ac98650eac473c89d910deab19658d",
            "placeholder": "​",
            "style": "IPY_MODEL_2e7af7b23d794895800b1cd5e7eb19c6",
            "value": "Your token has been saved in your configured git credential helpers (store)."
          }
        },
        "7cc8a18396a1454bad22d3442b7e1980": {
          "model_module": "@jupyter-widgets/controls",
          "model_name": "LabelModel",
          "model_module_version": "1.5.0",
          "state": {
            "_dom_classes": [],
            "_model_module": "@jupyter-widgets/controls",
            "_model_module_version": "1.5.0",
            "_model_name": "LabelModel",
            "_view_count": null,
            "_view_module": "@jupyter-widgets/controls",
            "_view_module_version": "1.5.0",
            "_view_name": "LabelView",
            "description": "",
            "description_tooltip": null,
            "layout": "IPY_MODEL_4b898e7ecfdc4dedb31636f697836850",
            "placeholder": "​",
            "style": "IPY_MODEL_315beb8a2f8d438884636747eec2e5ae",
            "value": "Your token has been saved to /root/.cache/huggingface/token"
          }
        },
        "bfd869dd5d9f4b2c89e45ff23fe09dfc": {
          "model_module": "@jupyter-widgets/controls",
          "model_name": "LabelModel",
          "model_module_version": "1.5.0",
          "state": {
            "_dom_classes": [],
            "_model_module": "@jupyter-widgets/controls",
            "_model_module_version": "1.5.0",
            "_model_name": "LabelModel",
            "_view_count": null,
            "_view_module": "@jupyter-widgets/controls",
            "_view_module_version": "1.5.0",
            "_view_name": "LabelView",
            "description": "",
            "description_tooltip": null,
            "layout": "IPY_MODEL_c1bbca3ff15947a5918f499d7b285131",
            "placeholder": "​",
            "style": "IPY_MODEL_8b8461d61ad5424c9b33262da9b6bb2e",
            "value": "Login successful"
          }
        },
        "edab985f152143b896c1760ed19aa500": {
          "model_module": "@jupyter-widgets/base",
          "model_name": "LayoutModel",
          "model_module_version": "1.2.0",
          "state": {
            "_model_module": "@jupyter-widgets/base",
            "_model_module_version": "1.2.0",
            "_model_name": "LayoutModel",
            "_view_count": null,
            "_view_module": "@jupyter-widgets/base",
            "_view_module_version": "1.2.0",
            "_view_name": "LayoutView",
            "align_content": null,
            "align_items": null,
            "align_self": null,
            "border": null,
            "bottom": null,
            "display": null,
            "flex": null,
            "flex_flow": null,
            "grid_area": null,
            "grid_auto_columns": null,
            "grid_auto_flow": null,
            "grid_auto_rows": null,
            "grid_column": null,
            "grid_gap": null,
            "grid_row": null,
            "grid_template_areas": null,
            "grid_template_columns": null,
            "grid_template_rows": null,
            "height": null,
            "justify_content": null,
            "justify_items": null,
            "left": null,
            "margin": null,
            "max_height": null,
            "max_width": null,
            "min_height": null,
            "min_width": null,
            "object_fit": null,
            "object_position": null,
            "order": null,
            "overflow": null,
            "overflow_x": null,
            "overflow_y": null,
            "padding": null,
            "right": null,
            "top": null,
            "visibility": null,
            "width": null
          }
        },
        "a14f75c5377c4e5094b168dd6e1c17a2": {
          "model_module": "@jupyter-widgets/controls",
          "model_name": "DescriptionStyleModel",
          "model_module_version": "1.5.0",
          "state": {
            "_model_module": "@jupyter-widgets/controls",
            "_model_module_version": "1.5.0",
            "_model_name": "DescriptionStyleModel",
            "_view_count": null,
            "_view_module": "@jupyter-widgets/base",
            "_view_module_version": "1.2.0",
            "_view_name": "StyleView",
            "description_width": ""
          }
        },
        "19ac98650eac473c89d910deab19658d": {
          "model_module": "@jupyter-widgets/base",
          "model_name": "LayoutModel",
          "model_module_version": "1.2.0",
          "state": {
            "_model_module": "@jupyter-widgets/base",
            "_model_module_version": "1.2.0",
            "_model_name": "LayoutModel",
            "_view_count": null,
            "_view_module": "@jupyter-widgets/base",
            "_view_module_version": "1.2.0",
            "_view_name": "LayoutView",
            "align_content": null,
            "align_items": null,
            "align_self": null,
            "border": null,
            "bottom": null,
            "display": null,
            "flex": null,
            "flex_flow": null,
            "grid_area": null,
            "grid_auto_columns": null,
            "grid_auto_flow": null,
            "grid_auto_rows": null,
            "grid_column": null,
            "grid_gap": null,
            "grid_row": null,
            "grid_template_areas": null,
            "grid_template_columns": null,
            "grid_template_rows": null,
            "height": null,
            "justify_content": null,
            "justify_items": null,
            "left": null,
            "margin": null,
            "max_height": null,
            "max_width": null,
            "min_height": null,
            "min_width": null,
            "object_fit": null,
            "object_position": null,
            "order": null,
            "overflow": null,
            "overflow_x": null,
            "overflow_y": null,
            "padding": null,
            "right": null,
            "top": null,
            "visibility": null,
            "width": null
          }
        },
        "2e7af7b23d794895800b1cd5e7eb19c6": {
          "model_module": "@jupyter-widgets/controls",
          "model_name": "DescriptionStyleModel",
          "model_module_version": "1.5.0",
          "state": {
            "_model_module": "@jupyter-widgets/controls",
            "_model_module_version": "1.5.0",
            "_model_name": "DescriptionStyleModel",
            "_view_count": null,
            "_view_module": "@jupyter-widgets/base",
            "_view_module_version": "1.2.0",
            "_view_name": "StyleView",
            "description_width": ""
          }
        },
        "4b898e7ecfdc4dedb31636f697836850": {
          "model_module": "@jupyter-widgets/base",
          "model_name": "LayoutModel",
          "model_module_version": "1.2.0",
          "state": {
            "_model_module": "@jupyter-widgets/base",
            "_model_module_version": "1.2.0",
            "_model_name": "LayoutModel",
            "_view_count": null,
            "_view_module": "@jupyter-widgets/base",
            "_view_module_version": "1.2.0",
            "_view_name": "LayoutView",
            "align_content": null,
            "align_items": null,
            "align_self": null,
            "border": null,
            "bottom": null,
            "display": null,
            "flex": null,
            "flex_flow": null,
            "grid_area": null,
            "grid_auto_columns": null,
            "grid_auto_flow": null,
            "grid_auto_rows": null,
            "grid_column": null,
            "grid_gap": null,
            "grid_row": null,
            "grid_template_areas": null,
            "grid_template_columns": null,
            "grid_template_rows": null,
            "height": null,
            "justify_content": null,
            "justify_items": null,
            "left": null,
            "margin": null,
            "max_height": null,
            "max_width": null,
            "min_height": null,
            "min_width": null,
            "object_fit": null,
            "object_position": null,
            "order": null,
            "overflow": null,
            "overflow_x": null,
            "overflow_y": null,
            "padding": null,
            "right": null,
            "top": null,
            "visibility": null,
            "width": null
          }
        },
        "315beb8a2f8d438884636747eec2e5ae": {
          "model_module": "@jupyter-widgets/controls",
          "model_name": "DescriptionStyleModel",
          "model_module_version": "1.5.0",
          "state": {
            "_model_module": "@jupyter-widgets/controls",
            "_model_module_version": "1.5.0",
            "_model_name": "DescriptionStyleModel",
            "_view_count": null,
            "_view_module": "@jupyter-widgets/base",
            "_view_module_version": "1.2.0",
            "_view_name": "StyleView",
            "description_width": ""
          }
        },
        "c1bbca3ff15947a5918f499d7b285131": {
          "model_module": "@jupyter-widgets/base",
          "model_name": "LayoutModel",
          "model_module_version": "1.2.0",
          "state": {
            "_model_module": "@jupyter-widgets/base",
            "_model_module_version": "1.2.0",
            "_model_name": "LayoutModel",
            "_view_count": null,
            "_view_module": "@jupyter-widgets/base",
            "_view_module_version": "1.2.0",
            "_view_name": "LayoutView",
            "align_content": null,
            "align_items": null,
            "align_self": null,
            "border": null,
            "bottom": null,
            "display": null,
            "flex": null,
            "flex_flow": null,
            "grid_area": null,
            "grid_auto_columns": null,
            "grid_auto_flow": null,
            "grid_auto_rows": null,
            "grid_column": null,
            "grid_gap": null,
            "grid_row": null,
            "grid_template_areas": null,
            "grid_template_columns": null,
            "grid_template_rows": null,
            "height": null,
            "justify_content": null,
            "justify_items": null,
            "left": null,
            "margin": null,
            "max_height": null,
            "max_width": null,
            "min_height": null,
            "min_width": null,
            "object_fit": null,
            "object_position": null,
            "order": null,
            "overflow": null,
            "overflow_x": null,
            "overflow_y": null,
            "padding": null,
            "right": null,
            "top": null,
            "visibility": null,
            "width": null
          }
        },
        "8b8461d61ad5424c9b33262da9b6bb2e": {
          "model_module": "@jupyter-widgets/controls",
          "model_name": "DescriptionStyleModel",
          "model_module_version": "1.5.0",
          "state": {
            "_model_module": "@jupyter-widgets/controls",
            "_model_module_version": "1.5.0",
            "_model_name": "DescriptionStyleModel",
            "_view_count": null,
            "_view_module": "@jupyter-widgets/base",
            "_view_module_version": "1.2.0",
            "_view_name": "StyleView",
            "description_width": ""
          }
        }
      }
    }
  },
  "nbformat": 4,
  "nbformat_minor": 0
}