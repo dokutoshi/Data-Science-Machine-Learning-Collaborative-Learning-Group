{
  "cells": [
    {
      "cell_type": "markdown",
      "metadata": {
        "id": "Ss6BD-FIRfCP"
      },
      "source": [
        "# Normalization and pre-tokenization"
      ]
    },
    {
      "cell_type": "markdown",
      "metadata": {
        "id": "GgLblP5GRfCR"
      },
      "source": [
        "Install the Transformers, Datasets, and Evaluate libraries to run this notebook."
      ]
    },
    {
      "cell_type": "code",
      "execution_count": 1,
      "metadata": {
        "id": "Jv_UOBqsRfCS"
      },
      "outputs": [],
      "source": [
        "%%capture\n",
        "!pip install datasets evaluate transformers[sentencepiece]"
      ]
    },
    {
      "cell_type": "markdown",
      "source": [
        "Also, log into Hugging face."
      ],
      "metadata": {
        "id": "PjgjXaQmRhvN"
      }
    },
    {
      "cell_type": "code",
      "source": [
        "from huggingface_hub import notebook_login\n",
        "\n",
        "notebook_login()"
      ],
      "metadata": {
        "id": "cWIbGBV6Rj02",
        "outputId": "753e5a56-dd70-4539-ac52-def0802861ed",
        "colab": {
          "base_uri": "https://localhost:8080/",
          "height": 17,
          "referenced_widgets": [
            "8a071dbd640b4853b3478aed752b178f",
            "0ed265de7c1f4b068e02598e67003e38",
            "c1191c3b7e0443d197739062387d11e5",
            "af9be4b4109c4e60b0fae6111971422f",
            "5e2a51d29973421b81ddae8f5d9a6428",
            "b01a84bfad58451384ec9fb802e2ceae",
            "6213521fb7e04872a49fba458d211128",
            "88d79e40dc464041860f80afa8173731",
            "c61855ef5f8b4dadb1130f958cf37869",
            "b7cc4ddd07584cd29499e47016acb675",
            "8ca3d5763a834f79976d5ed041bfabfb",
            "5f797acbbaa54e18ab5c0f33fcd92abf",
            "9ac58384a0934476b519dfbe6b0f4bf6",
            "ecee026a4dff48b9b49ce63aeca22c5c",
            "f5eac50d1fd34cf3819c3e60ff161af5",
            "d19c0c41d4914138a42b9efbb044da86",
            "d310dbe04c4d44fa87e9bd9ff9356cf2",
            "a2017e4e0380462bb4ad763608866531",
            "3d0680644b6148f5b9dd03f67aeefaa0",
            "afecb66a30104f3897191de34ae1a5bc"
          ]
        }
      },
      "execution_count": 2,
      "outputs": [
        {
          "output_type": "display_data",
          "data": {
            "text/plain": [
              "VBox(children=(HTML(value='<center> <img\\nsrc=https://huggingface.co/front/assets/huggingface_logo-noborder.sv…"
            ],
            "application/vnd.jupyter.widget-view+json": {
              "version_major": 2,
              "version_minor": 0,
              "model_id": "8a071dbd640b4853b3478aed752b178f"
            }
          },
          "metadata": {}
        }
      ]
    },
    {
      "cell_type": "markdown",
      "source": [
        "Before we dive more deeply into the <font color='blue'>three most common</font> subword <font color='blue'>tokenization algorithms</font> used with Transformer models (<font color='blue'>Byte-Pair Encoding</font> or BPE, <font color='blue'>WordPiece</font>, and <font color='blue'>Unigram</font>), we'll first take a look at the <font color='blue'>preprocessing</font> that <font color='blue'>each tokenizer applies</font> to <font color='blue'>text</font>. Here's a <font color='blue'>high-level overview</font> of the steps in the <font color='blue'>tokenization pipeline</font>:\n",
        "\n",
        "<div class=\"flex justify-center\">\n",
        "<img class=\"block dark:hidden\" src=\"https://huggingface.co/datasets/huggingface-course/documentation-images/resolve/main/en/chapter6/tokenization_pipeline.svg\" alt=\"The tokenization pipeline.\">\n",
        "</div>\n",
        "\n",
        "Before <font color='blue'>splitting</font> a <font color='blue'>text</font> into <font color='blue'>subtokens</font> (according to its model), the tokenizer performs two steps: <font color='blue'>normalization</font> and <font color='blue'>pre-tokenization</font>."
      ],
      "metadata": {
        "id": "4TaP8FhnR0A7"
      }
    },
    {
      "cell_type": "markdown",
      "source": [
        "## Normalization\n",
        "\n",
        "The normalization step involves some general <font color='blue'>cleanup</font>, such as <font color='blue'>removing</font> needless <font color='blue'>whitespace</font>, <font color='blue'>lowercasing</font>, and/or <font color='blue'>removing accents</font>. If you're familiar with [Unicode normalization](http://www.unicode.org/reports/tr15/) (such as NFC or NFKC), this is also something the tokenizer may apply.\n",
        "\n",
        "The 🤗 Transformers `tokenizer` has an attribute called <font color='blue'>`backend_tokenizer`</font> that provides <font color='blue'>access</font> to the <font color='blue'>underlying tokenizer</font> from the 🤗 Tokenizers library:\n"
      ],
      "metadata": {
        "id": "dDTsdBLgSC7N"
      }
    },
    {
      "cell_type": "code",
      "execution_count": 4,
      "metadata": {
        "id": "rfTv1aZGRfCT",
        "outputId": "e215aef3-04a2-4c0b-9927-c9a448ff06d6",
        "colab": {
          "base_uri": "https://localhost:8080/"
        }
      },
      "outputs": [
        {
          "output_type": "stream",
          "name": "stdout",
          "text": [
            "<class 'tokenizers.Tokenizer'>\n"
          ]
        }
      ],
      "source": [
        "from transformers import AutoTokenizer\n",
        "\n",
        "tokenizer = AutoTokenizer.from_pretrained(\"bert-base-uncased\")\n",
        "print(type(tokenizer.backend_tokenizer))"
      ]
    },
    {
      "cell_type": "markdown",
      "source": [
        "The <font color='blue'>`normalizer` attribute</font> of the <font color='blue'>`tokenizer` object</font> has a <font color='blue'>`normalize_str()` method</font> that we can use to see how the normalization is performed:"
      ],
      "metadata": {
        "id": "Jr8QxzkCUtil"
      }
    },
    {
      "cell_type": "code",
      "execution_count": 5,
      "metadata": {
        "id": "ZnN6O7MzRfCU",
        "outputId": "bac70dc0-ee28-46b3-e170-8523072364a3",
        "colab": {
          "base_uri": "https://localhost:8080/"
        }
      },
      "outputs": [
        {
          "output_type": "stream",
          "name": "stdout",
          "text": [
            "hello how are u?\n"
          ]
        }
      ],
      "source": [
        "print(tokenizer.backend_tokenizer.normalizer.normalize_str(\"Héllò hôw are ü?\"))"
      ]
    },
    {
      "cell_type": "markdown",
      "source": [
        "In this example, since we picked the <font color='blue'>`bert-base-uncased` checkpoint</font>, the normalization applied <font color='blue'>lowercasing</font> and <font color='blue'>removed</font> the <font color='blue'>accents</font>."
      ],
      "metadata": {
        "id": "5Nhph_3zUvLY"
      }
    },
    {
      "cell_type": "markdown",
      "source": [
        "<Tip>\n",
        "\n",
        "✏️ **Try it out!** Load a tokenizer from the <font color='blue'>`bert-base-cased` checkpoint</font> and pass the <font color='blue'>same example</font> to it. What are the <font color='blue'>main differences</font> you can see between the <font color='blue'>cased</font> and <font color='blue'>uncased</font> versions of the tokenizer?\n",
        "\n",
        "</Tip>"
      ],
      "metadata": {
        "id": "EdKEjKtnUzNH"
      }
    },
    {
      "cell_type": "code",
      "source": [
        "# Exercise\n",
        "\n",
        "# BERT uncased\n",
        "tokenizer_uncased = AutoTokenizer.from_pretrained(\"bert-base-uncased\")\n",
        "print(\"BERT Uncased:\", tokenizer_uncased.backend_tokenizer.normalizer.normalize_str(\"Héllò hôw are ü?\"))\n",
        "\n",
        "# BERT cased\n",
        "tokenizer_cased = AutoTokenizer.from_pretrained(\"bert-base-cased\")\n",
        "print(\"BERT Cased:\", tokenizer_cased.backend_tokenizer.normalizer.normalize_str(\"Héllò hôw are ü?\"))"
      ],
      "metadata": {
        "id": "j0DE_8pxWSFS",
        "outputId": "1c66c469-9159-4c8e-a21e-190a9ab13744",
        "colab": {
          "base_uri": "https://localhost:8080/"
        }
      },
      "execution_count": 14,
      "outputs": [
        {
          "output_type": "stream",
          "name": "stdout",
          "text": [
            "BERT Uncased: hello how are u?\n",
            "BERT Cased: Héllò hôw are ü?\n"
          ]
        }
      ]
    },
    {
      "cell_type": "markdown",
      "source": [
        "We see that the <font color='blue'>cased</font> version <font color='blue'>preserves</font> both the <font color='blue'>original case</font> and the <font color='blue'>accents</font>, while the <font color='blue'>uncased</font> version <font color='blue'>removes accents</font> and <font color='blue'>converts to lowercase</font>."
      ],
      "metadata": {
        "id": "iqjmeTMHWhL6"
      }
    },
    {
      "cell_type": "markdown",
      "source": [
        "## Pre-tokenization\n",
        "As we will see in the next sections, a <font color='blue'>tokenizer</font> <font color='blue'>cannot be trained</font> on <font color='blue'>raw text alone</font>. Instead, we first need to <font color='blue'>split the texts</font> into <font color='blue'>small entities</font>, like words. That's where the <font color='blue'>pre-tokenization step</font> comes in. As we saw in [Chapter 2](https://huggingface.co/learn/llm-course/chapter2/4), a <font color='blue'>word-based tokenizer</font> can <font color='blue'>split</font> <font color='blue'>raw text</font> into <font color='blue'>words</font> on <font color='blue'>whitespace</font> and <font color='blue'>punctuation</font>. Those words will be the <font color='blue'>boundaries of the subtokens</font> the <font color='blue'>tokenizer can learn</font> during its training.\n",
        "\n",
        "To see how a <font color='blue'>fast tokenizer</font> performs <font color='blue'>pre-tokenization</font>, we can use the <font color='blue'>`pre_tokenize_str()` method</font> of the `pre_tokenizer` attribute of the `tokenizer` object:\n"
      ],
      "metadata": {
        "id": "u_qKcYtdU5A9"
      }
    },
    {
      "cell_type": "code",
      "execution_count": 6,
      "metadata": {
        "id": "RK2dfjnDRfCU",
        "outputId": "d11e4b5a-ae99-498a-ddb9-de83a666a564",
        "colab": {
          "base_uri": "https://localhost:8080/"
        }
      },
      "outputs": [
        {
          "output_type": "execute_result",
          "data": {
            "text/plain": [
              "[('Hello', (0, 5)),\n",
              " (',', (5, 6)),\n",
              " ('how', (7, 10)),\n",
              " ('are', (11, 14)),\n",
              " ('you', (16, 19)),\n",
              " ('?', (19, 20))]"
            ]
          },
          "metadata": {},
          "execution_count": 6
        }
      ],
      "source": [
        "tokenizer.backend_tokenizer.pre_tokenizer.pre_tokenize_str(\"Hello, how are  you?\")"
      ]
    },
    {
      "cell_type": "markdown",
      "source": [
        "Notice how the tokenizer is already <font color='blue'>keeping track</font> of the <font color='blue'>offsets</font>, which is how it can <font color='blue'>give us</font> the <font color='blue'>offset mapping</font> we <font color='blue'>used</font> in the <font color='blue'>previous section</font>. Here the tokenizer <font color='blue'>ignores</font> the <font color='blue'>two spaces</font> and <font color='blue'>replaces them</font> with <font color='blue'>just one</font>, but the <font color='blue'>offset jumps</font> between <font color='blue'>are</font> and <font color='blue'>you</font> to account for that.\n",
        "\n",
        "Since we're using a <font color='blue'>BERT tokenizer</font>, the pre-tokenization involves <font color='blue'>splitting</font> on <font color='blue'>whitespace</font> and <font color='blue'>punctuation</font>. Other tokenizers can have different rules for this step. For example, if we use the <font color='blue'>GPT-2 tokenizer</font>, it will <font color='blue'>split</font> on <font color='blue'>whitespace</font> and <font color='blue'>punctuation</font> as well, but it will <font color='blue'>keep the spaces</font> and <font color='blue'>replace them</font> with a <font color='blue'>`Ġ` symbol</font>, enabling it to recover the original spaces if we decode the tokens:"
      ],
      "metadata": {
        "id": "wmVxposVVBIP"
      }
    },
    {
      "cell_type": "code",
      "execution_count": 8,
      "metadata": {
        "id": "f5nFRWR4RfCU",
        "outputId": "b63b9b40-7dee-4171-cd43-12df4e558fb4",
        "colab": {
          "base_uri": "https://localhost:8080/"
        }
      },
      "outputs": [
        {
          "output_type": "execute_result",
          "data": {
            "text/plain": [
              "[('Hello', (0, 5)),\n",
              " (',', (5, 6)),\n",
              " ('Ġhow', (6, 10)),\n",
              " ('Ġare', (10, 14)),\n",
              " ('Ġ', (14, 15)),\n",
              " ('Ġyou', (15, 19)),\n",
              " ('?', (19, 20))]"
            ]
          },
          "metadata": {},
          "execution_count": 8
        }
      ],
      "source": [
        "tokenizer = AutoTokenizer.from_pretrained(\"gpt2\")\n",
        "tokenizer.backend_tokenizer.pre_tokenizer.pre_tokenize_str(\"Hello, how are  you?\")"
      ]
    },
    {
      "cell_type": "markdown",
      "source": [
        "Also note that unlike the BERT tokenizer, this tokenizer does <font color='blue'>not ignore</font> the <font color='blue'>double space</font>. For a last example, let's have a look at the <font color='blue'>T5 tokenizer</font>, which is based on the <font color='blue'>SentencePiece algorithm</font>:\n"
      ],
      "metadata": {
        "id": "yfaOgnuFVK57"
      }
    },
    {
      "cell_type": "code",
      "execution_count": 10,
      "metadata": {
        "id": "2dx0Nq8WRfCV",
        "outputId": "81652724-196d-46c2-8667-8a6a49e970fe",
        "colab": {
          "base_uri": "https://localhost:8080/"
        }
      },
      "outputs": [
        {
          "output_type": "execute_result",
          "data": {
            "text/plain": [
              "[('▁Hello,', (0, 6)),\n",
              " ('▁how', (7, 10)),\n",
              " ('▁are', (11, 14)),\n",
              " ('▁you?', (16, 20))]"
            ]
          },
          "metadata": {},
          "execution_count": 10
        }
      ],
      "source": [
        "tokenizer = AutoTokenizer.from_pretrained(\"t5-small\")\n",
        "tokenizer.backend_tokenizer.pre_tokenizer.pre_tokenize_str(\"Hello, how are  you?\")"
      ]
    },
    {
      "cell_type": "markdown",
      "source": [
        "Like the GPT-2 tokenizer, this one <font color='blue'>keeps spaces</font> and <font color='blue'>replaces them</font> with a <font color='blue'>specific token (`_`)</font>, but the T5 tokenizer only <font color='blue'>splits on whitespace</font>, not punctuation. Also note that it <font color='blue'>added a space</font> by default at the <font color='blue'>beginning of the sentence</font> (before <font color='blue'>Hello</font>) and <font color='blue'>ignored</font> the <font color='blue'>double space</font> between <font color='blue'>are</font> and <font color='blue'>you</font>.\n",
        "\n",
        "Now that we've seen a little of how some different tokenizers process text, we can start to <font color='blue'>explore</font> the <font color='blue'>underlying algorithms</font> themselves. We'll begin with a quick look at the broadly widely applicable SentencePiece; then, over the next three sections, we'll examine how the <font color='blue'>three main algorithms</font> used for <font color='blue'>subword tokenization work</font>.\n"
      ],
      "metadata": {
        "id": "UyWjqfoqVQJV"
      }
    },
    {
      "cell_type": "markdown",
      "source": [
        "## SentencePiece\n",
        "\n",
        "[SentencePiece](https://github.com/google/sentencepiece) is a tokenization algorithm for the <font color='blue'>preprocessing of text</font> that you can use with any of the models we will see in the next three sections. It considers the <font color='blue'>text</font> as a <font color='blue'>sequence of Unicode characters</font>, and <font color='blue'>replaces spaces</font> with a <font color='blue'>special character `▁`</font>. Used in <font color='blue'>conjunction</font> with the <font color='blue'>Unigram algorithm</font> (see [section 7](https://huggingface.co/learn/llm-course/chapter6/7)), it <font color='blue'>doesn't</font> even <font color='blue'>require</font> a <font color='blue'>pre-tokenization step</font>, which is very <font color='blue'>useful</font> for <font color='blue'>languages</font> where the <font color='blue'>space character</font> is <font color='blue'>not used</font> (like Chinese or Japanese).\n",
        "\n",
        "The other main feature of SentencePiece is <font color='blue'>reversible tokenization</font>: since there is <font color='blue'>no special treatment of spaces</font>, <font color='blue'>decoding</font> the <font color='blue'>tokens</font> is done by <font color='blue'>concatenating them</font> and <font color='blue'>replacing</font> the <font color='blue'>`_`s</font> with <font color='blue'>spaces</font> -- this results in the normalized text. As we saw earlier, the <font color='blue'>BERT</font> tokenizer <font color='blue'>removes repeating spaces</font>, so its tokenization is <font color='blue'>not reversible</font>.\n"
      ],
      "metadata": {
        "id": "nqzmQ4emVRsZ"
      }
    },
    {
      "cell_type": "markdown",
      "source": [
        "## Algorithm overview\n",
        "\n",
        "In the following sections, we'll dive into the <font color='blue'>three main subword tokenization algorithms</font>: <font color='blue'>BPE</font> (used by GPT-2 and others), <font color='blue'>WordPiece</font> (used for example by BERT), and <font color='blue'>Unigram</font> (used by T5 and others). Before we get started, here's a <font color='blue'>quick overview</font> of <font color='blue'>how they work</font>. Don't hesitate to come back to this table after reading each of the next sections if it doesn't make sense to you yet.\n"
      ],
      "metadata": {
        "id": "MyfobjhJVXqR"
      }
    },
    {
      "cell_type": "markdown",
      "source": [
        "![image.png](data:image/png;base64,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)"
      ],
      "metadata": {
        "id": "uDwwy_TfVk_A"
      }
    },
    {
      "cell_type": "markdown",
      "source": [
        "Now let's dive into BPE!"
      ],
      "metadata": {
        "id": "ifAV5O4-VtCm"
      }
    }
  ],
  "metadata": {
    "colab": {
      "name": "Normalization and pre-tokenization",
      "provenance": [],
      "gpuType": "T4"
    },
    "language_info": {
      "name": "python"
    },
    "kernelspec": {
      "name": "python3",
      "display_name": "Python 3"
    },
    "accelerator": "GPU",
    "widgets": {
      "application/vnd.jupyter.widget-state+json": {
        "8a071dbd640b4853b3478aed752b178f": {
          "model_module": "@jupyter-widgets/controls",
          "model_name": "VBoxModel",
          "model_module_version": "1.5.0",
          "state": {
            "_dom_classes": [],
            "_model_module": "@jupyter-widgets/controls",
            "_model_module_version": "1.5.0",
            "_model_name": "VBoxModel",
            "_view_count": null,
            "_view_module": "@jupyter-widgets/controls",
            "_view_module_version": "1.5.0",
            "_view_name": "VBoxView",
            "box_style": "",
            "children": [],
            "layout": "IPY_MODEL_6213521fb7e04872a49fba458d211128"
          }
        },
        "0ed265de7c1f4b068e02598e67003e38": {
          "model_module": "@jupyter-widgets/controls",
          "model_name": "HTMLModel",
          "model_module_version": "1.5.0",
          "state": {
            "_dom_classes": [],
            "_model_module": "@jupyter-widgets/controls",
            "_model_module_version": "1.5.0",
            "_model_name": "HTMLModel",
            "_view_count": null,
            "_view_module": "@jupyter-widgets/controls",
            "_view_module_version": "1.5.0",
            "_view_name": "HTMLView",
            "description": "",
            "description_tooltip": null,
            "layout": "IPY_MODEL_88d79e40dc464041860f80afa8173731",
            "placeholder": "​",
            "style": "IPY_MODEL_c61855ef5f8b4dadb1130f958cf37869",
            "value": "<center> <img\nsrc=https://huggingface.co/front/assets/huggingface_logo-noborder.svg\nalt='Hugging Face'> <br> Copy a token from <a\nhref=\"https://huggingface.co/settings/tokens\" target=\"_blank\">your Hugging Face\ntokens page</a> and paste it below. <br> Immediately click login after copying\nyour token or it might be stored in plain text in this notebook file. </center>"
          }
        },
        "c1191c3b7e0443d197739062387d11e5": {
          "model_module": "@jupyter-widgets/controls",
          "model_name": "PasswordModel",
          "model_module_version": "1.5.0",
          "state": {
            "_dom_classes": [],
            "_model_module": "@jupyter-widgets/controls",
            "_model_module_version": "1.5.0",
            "_model_name": "PasswordModel",
            "_view_count": null,
            "_view_module": "@jupyter-widgets/controls",
            "_view_module_version": "1.5.0",
            "_view_name": "PasswordView",
            "continuous_update": true,
            "description": "Token:",
            "description_tooltip": null,
            "disabled": false,
            "layout": "IPY_MODEL_b7cc4ddd07584cd29499e47016acb675",
            "placeholder": "​",
            "style": "IPY_MODEL_8ca3d5763a834f79976d5ed041bfabfb",
            "value": ""
          }
        },
        "af9be4b4109c4e60b0fae6111971422f": {
          "model_module": "@jupyter-widgets/controls",
          "model_name": "CheckboxModel",
          "model_module_version": "1.5.0",
          "state": {
            "_dom_classes": [],
            "_model_module": "@jupyter-widgets/controls",
            "_model_module_version": "1.5.0",
            "_model_name": "CheckboxModel",
            "_view_count": null,
            "_view_module": "@jupyter-widgets/controls",
            "_view_module_version": "1.5.0",
            "_view_name": "CheckboxView",
            "description": "Add token as git credential?",
            "description_tooltip": null,
            "disabled": false,
            "indent": true,
            "layout": "IPY_MODEL_5f797acbbaa54e18ab5c0f33fcd92abf",
            "style": "IPY_MODEL_9ac58384a0934476b519dfbe6b0f4bf6",
            "value": true
          }
        },
        "5e2a51d29973421b81ddae8f5d9a6428": {
          "model_module": "@jupyter-widgets/controls",
          "model_name": "ButtonModel",
          "model_module_version": "1.5.0",
          "state": {
            "_dom_classes": [],
            "_model_module": "@jupyter-widgets/controls",
            "_model_module_version": "1.5.0",
            "_model_name": "ButtonModel",
            "_view_count": null,
            "_view_module": "@jupyter-widgets/controls",
            "_view_module_version": "1.5.0",
            "_view_name": "ButtonView",
            "button_style": "",
            "description": "Login",
            "disabled": false,
            "icon": "",
            "layout": "IPY_MODEL_ecee026a4dff48b9b49ce63aeca22c5c",
            "style": "IPY_MODEL_f5eac50d1fd34cf3819c3e60ff161af5",
            "tooltip": ""
          }
        },
        "b01a84bfad58451384ec9fb802e2ceae": {
          "model_module": "@jupyter-widgets/controls",
          "model_name": "HTMLModel",
          "model_module_version": "1.5.0",
          "state": {
            "_dom_classes": [],
            "_model_module": "@jupyter-widgets/controls",
            "_model_module_version": "1.5.0",
            "_model_name": "HTMLModel",
            "_view_count": null,
            "_view_module": "@jupyter-widgets/controls",
            "_view_module_version": "1.5.0",
            "_view_name": "HTMLView",
            "description": "",
            "description_tooltip": null,
            "layout": "IPY_MODEL_d19c0c41d4914138a42b9efbb044da86",
            "placeholder": "​",
            "style": "IPY_MODEL_d310dbe04c4d44fa87e9bd9ff9356cf2",
            "value": "\n<b>Pro Tip:</b> If you don't already have one, you can create a dedicated\n'notebooks' token with 'write' access, that you can then easily reuse for all\nnotebooks. </center>"
          }
        },
        "6213521fb7e04872a49fba458d211128": {
          "model_module": "@jupyter-widgets/base",
          "model_name": "LayoutModel",
          "model_module_version": "1.2.0",
          "state": {
            "_model_module": "@jupyter-widgets/base",
            "_model_module_version": "1.2.0",
            "_model_name": "LayoutModel",
            "_view_count": null,
            "_view_module": "@jupyter-widgets/base",
            "_view_module_version": "1.2.0",
            "_view_name": "LayoutView",
            "align_content": null,
            "align_items": "center",
            "align_self": null,
            "border": null,
            "bottom": null,
            "display": "flex",
            "flex": null,
            "flex_flow": "column",
            "grid_area": null,
            "grid_auto_columns": null,
            "grid_auto_flow": null,
            "grid_auto_rows": null,
            "grid_column": null,
            "grid_gap": null,
            "grid_row": null,
            "grid_template_areas": null,
            "grid_template_columns": null,
            "grid_template_rows": null,
            "height": null,
            "justify_content": null,
            "justify_items": null,
            "left": null,
            "margin": null,
            "max_height": null,
            "max_width": null,
            "min_height": null,
            "min_width": null,
            "object_fit": null,
            "object_position": null,
            "order": null,
            "overflow": null,
            "overflow_x": null,
            "overflow_y": null,
            "padding": null,
            "right": null,
            "top": null,
            "visibility": null,
            "width": "50%"
          }
        },
        "88d79e40dc464041860f80afa8173731": {
          "model_module": "@jupyter-widgets/base",
          "model_name": "LayoutModel",
          "model_module_version": "1.2.0",
          "state": {
            "_model_module": "@jupyter-widgets/base",
            "_model_module_version": "1.2.0",
            "_model_name": "LayoutModel",
            "_view_count": null,
            "_view_module": "@jupyter-widgets/base",
            "_view_module_version": "1.2.0",
            "_view_name": "LayoutView",
            "align_content": null,
            "align_items": null,
            "align_self": null,
            "border": null,
            "bottom": null,
            "display": null,
            "flex": null,
            "flex_flow": null,
            "grid_area": null,
            "grid_auto_columns": null,
            "grid_auto_flow": null,
            "grid_auto_rows": null,
            "grid_column": null,
            "grid_gap": null,
            "grid_row": null,
            "grid_template_areas": null,
            "grid_template_columns": null,
            "grid_template_rows": null,
            "height": null,
            "justify_content": null,
            "justify_items": null,
            "left": null,
            "margin": null,
            "max_height": null,
            "max_width": null,
            "min_height": null,
            "min_width": null,
            "object_fit": null,
            "object_position": null,
            "order": null,
            "overflow": null,
            "overflow_x": null,
            "overflow_y": null,
            "padding": null,
            "right": null,
            "top": null,
            "visibility": null,
            "width": null
          }
        },
        "c61855ef5f8b4dadb1130f958cf37869": {
          "model_module": "@jupyter-widgets/controls",
          "model_name": "DescriptionStyleModel",
          "model_module_version": "1.5.0",
          "state": {
            "_model_module": "@jupyter-widgets/controls",
            "_model_module_version": "1.5.0",
            "_model_name": "DescriptionStyleModel",
            "_view_count": null,
            "_view_module": "@jupyter-widgets/base",
            "_view_module_version": "1.2.0",
            "_view_name": "StyleView",
            "description_width": ""
          }
        },
        "b7cc4ddd07584cd29499e47016acb675": {
          "model_module": "@jupyter-widgets/base",
          "model_name": "LayoutModel",
          "model_module_version": "1.2.0",
          "state": {
            "_model_module": "@jupyter-widgets/base",
            "_model_module_version": "1.2.0",
            "_model_name": "LayoutModel",
            "_view_count": null,
            "_view_module": "@jupyter-widgets/base",
            "_view_module_version": "1.2.0",
            "_view_name": "LayoutView",
            "align_content": null,
            "align_items": null,
            "align_self": null,
            "border": null,
            "bottom": null,
            "display": null,
            "flex": null,
            "flex_flow": null,
            "grid_area": null,
            "grid_auto_columns": null,
            "grid_auto_flow": null,
            "grid_auto_rows": null,
            "grid_column": null,
            "grid_gap": null,
            "grid_row": null,
            "grid_template_areas": null,
            "grid_template_columns": null,
            "grid_template_rows": null,
            "height": null,
            "justify_content": null,
            "justify_items": null,
            "left": null,
            "margin": null,
            "max_height": null,
            "max_width": null,
            "min_height": null,
            "min_width": null,
            "object_fit": null,
            "object_position": null,
            "order": null,
            "overflow": null,
            "overflow_x": null,
            "overflow_y": null,
            "padding": null,
            "right": null,
            "top": null,
            "visibility": null,
            "width": null
          }
        },
        "8ca3d5763a834f79976d5ed041bfabfb": {
          "model_module": "@jupyter-widgets/controls",
          "model_name": "DescriptionStyleModel",
          "model_module_version": "1.5.0",
          "state": {
            "_model_module": "@jupyter-widgets/controls",
            "_model_module_version": "1.5.0",
            "_model_name": "DescriptionStyleModel",
            "_view_count": null,
            "_view_module": "@jupyter-widgets/base",
            "_view_module_version": "1.2.0",
            "_view_name": "StyleView",
            "description_width": ""
          }
        },
        "5f797acbbaa54e18ab5c0f33fcd92abf": {
          "model_module": "@jupyter-widgets/base",
          "model_name": "LayoutModel",
          "model_module_version": "1.2.0",
          "state": {
            "_model_module": "@jupyter-widgets/base",
            "_model_module_version": "1.2.0",
            "_model_name": "LayoutModel",
            "_view_count": null,
            "_view_module": "@jupyter-widgets/base",
            "_view_module_version": "1.2.0",
            "_view_name": "LayoutView",
            "align_content": null,
            "align_items": null,
            "align_self": null,
            "border": null,
            "bottom": null,
            "display": null,
            "flex": null,
            "flex_flow": null,
            "grid_area": null,
            "grid_auto_columns": null,
            "grid_auto_flow": null,
            "grid_auto_rows": null,
            "grid_column": null,
            "grid_gap": null,
            "grid_row": null,
            "grid_template_areas": null,
            "grid_template_columns": null,
            "grid_template_rows": null,
            "height": null,
            "justify_content": null,
            "justify_items": null,
            "left": null,
            "margin": null,
            "max_height": null,
            "max_width": null,
            "min_height": null,
            "min_width": null,
            "object_fit": null,
            "object_position": null,
            "order": null,
            "overflow": null,
            "overflow_x": null,
            "overflow_y": null,
            "padding": null,
            "right": null,
            "top": null,
            "visibility": null,
            "width": null
          }
        },
        "9ac58384a0934476b519dfbe6b0f4bf6": {
          "model_module": "@jupyter-widgets/controls",
          "model_name": "DescriptionStyleModel",
          "model_module_version": "1.5.0",
          "state": {
            "_model_module": "@jupyter-widgets/controls",
            "_model_module_version": "1.5.0",
            "_model_name": "DescriptionStyleModel",
            "_view_count": null,
            "_view_module": "@jupyter-widgets/base",
            "_view_module_version": "1.2.0",
            "_view_name": "StyleView",
            "description_width": ""
          }
        },
        "ecee026a4dff48b9b49ce63aeca22c5c": {
          "model_module": "@jupyter-widgets/base",
          "model_name": "LayoutModel",
          "model_module_version": "1.2.0",
          "state": {
            "_model_module": "@jupyter-widgets/base",
            "_model_module_version": "1.2.0",
            "_model_name": "LayoutModel",
            "_view_count": null,
            "_view_module": "@jupyter-widgets/base",
            "_view_module_version": "1.2.0",
            "_view_name": "LayoutView",
            "align_content": null,
            "align_items": null,
            "align_self": null,
            "border": null,
            "bottom": null,
            "display": null,
            "flex": null,
            "flex_flow": null,
            "grid_area": null,
            "grid_auto_columns": null,
            "grid_auto_flow": null,
            "grid_auto_rows": null,
            "grid_column": null,
            "grid_gap": null,
            "grid_row": null,
            "grid_template_areas": null,
            "grid_template_columns": null,
            "grid_template_rows": null,
            "height": null,
            "justify_content": null,
            "justify_items": null,
            "left": null,
            "margin": null,
            "max_height": null,
            "max_width": null,
            "min_height": null,
            "min_width": null,
            "object_fit": null,
            "object_position": null,
            "order": null,
            "overflow": null,
            "overflow_x": null,
            "overflow_y": null,
            "padding": null,
            "right": null,
            "top": null,
            "visibility": null,
            "width": null
          }
        },
        "f5eac50d1fd34cf3819c3e60ff161af5": {
          "model_module": "@jupyter-widgets/controls",
          "model_name": "ButtonStyleModel",
          "model_module_version": "1.5.0",
          "state": {
            "_model_module": "@jupyter-widgets/controls",
            "_model_module_version": "1.5.0",
            "_model_name": "ButtonStyleModel",
            "_view_count": null,
            "_view_module": "@jupyter-widgets/base",
            "_view_module_version": "1.2.0",
            "_view_name": "StyleView",
            "button_color": null,
            "font_weight": ""
          }
        },
        "d19c0c41d4914138a42b9efbb044da86": {
          "model_module": "@jupyter-widgets/base",
          "model_name": "LayoutModel",
          "model_module_version": "1.2.0",
          "state": {
            "_model_module": "@jupyter-widgets/base",
            "_model_module_version": "1.2.0",
            "_model_name": "LayoutModel",
            "_view_count": null,
            "_view_module": "@jupyter-widgets/base",
            "_view_module_version": "1.2.0",
            "_view_name": "LayoutView",
            "align_content": null,
            "align_items": null,
            "align_self": null,
            "border": null,
            "bottom": null,
            "display": null,
            "flex": null,
            "flex_flow": null,
            "grid_area": null,
            "grid_auto_columns": null,
            "grid_auto_flow": null,
            "grid_auto_rows": null,
            "grid_column": null,
            "grid_gap": null,
            "grid_row": null,
            "grid_template_areas": null,
            "grid_template_columns": null,
            "grid_template_rows": null,
            "height": null,
            "justify_content": null,
            "justify_items": null,
            "left": null,
            "margin": null,
            "max_height": null,
            "max_width": null,
            "min_height": null,
            "min_width": null,
            "object_fit": null,
            "object_position": null,
            "order": null,
            "overflow": null,
            "overflow_x": null,
            "overflow_y": null,
            "padding": null,
            "right": null,
            "top": null,
            "visibility": null,
            "width": null
          }
        },
        "d310dbe04c4d44fa87e9bd9ff9356cf2": {
          "model_module": "@jupyter-widgets/controls",
          "model_name": "DescriptionStyleModel",
          "model_module_version": "1.5.0",
          "state": {
            "_model_module": "@jupyter-widgets/controls",
            "_model_module_version": "1.5.0",
            "_model_name": "DescriptionStyleModel",
            "_view_count": null,
            "_view_module": "@jupyter-widgets/base",
            "_view_module_version": "1.2.0",
            "_view_name": "StyleView",
            "description_width": ""
          }
        },
        "a2017e4e0380462bb4ad763608866531": {
          "model_module": "@jupyter-widgets/controls",
          "model_name": "LabelModel",
          "model_module_version": "1.5.0",
          "state": {
            "_dom_classes": [],
            "_model_module": "@jupyter-widgets/controls",
            "_model_module_version": "1.5.0",
            "_model_name": "LabelModel",
            "_view_count": null,
            "_view_module": "@jupyter-widgets/controls",
            "_view_module_version": "1.5.0",
            "_view_name": "LabelView",
            "description": "",
            "description_tooltip": null,
            "layout": "IPY_MODEL_3d0680644b6148f5b9dd03f67aeefaa0",
            "placeholder": "​",
            "style": "IPY_MODEL_afecb66a30104f3897191de34ae1a5bc",
            "value": "Connecting..."
          }
        },
        "3d0680644b6148f5b9dd03f67aeefaa0": {
          "model_module": "@jupyter-widgets/base",
          "model_name": "LayoutModel",
          "model_module_version": "1.2.0",
          "state": {
            "_model_module": "@jupyter-widgets/base",
            "_model_module_version": "1.2.0",
            "_model_name": "LayoutModel",
            "_view_count": null,
            "_view_module": "@jupyter-widgets/base",
            "_view_module_version": "1.2.0",
            "_view_name": "LayoutView",
            "align_content": null,
            "align_items": null,
            "align_self": null,
            "border": null,
            "bottom": null,
            "display": null,
            "flex": null,
            "flex_flow": null,
            "grid_area": null,
            "grid_auto_columns": null,
            "grid_auto_flow": null,
            "grid_auto_rows": null,
            "grid_column": null,
            "grid_gap": null,
            "grid_row": null,
            "grid_template_areas": null,
            "grid_template_columns": null,
            "grid_template_rows": null,
            "height": null,
            "justify_content": null,
            "justify_items": null,
            "left": null,
            "margin": null,
            "max_height": null,
            "max_width": null,
            "min_height": null,
            "min_width": null,
            "object_fit": null,
            "object_position": null,
            "order": null,
            "overflow": null,
            "overflow_x": null,
            "overflow_y": null,
            "padding": null,
            "right": null,
            "top": null,
            "visibility": null,
            "width": null
          }
        },
        "afecb66a30104f3897191de34ae1a5bc": {
          "model_module": "@jupyter-widgets/controls",
          "model_name": "DescriptionStyleModel",
          "model_module_version": "1.5.0",
          "state": {
            "_model_module": "@jupyter-widgets/controls",
            "_model_module_version": "1.5.0",
            "_model_name": "DescriptionStyleModel",
            "_view_count": null,
            "_view_module": "@jupyter-widgets/base",
            "_view_module_version": "1.2.0",
            "_view_name": "StyleView",
            "description_width": ""
          }
        }
      }
    }
  },
  "nbformat": 4,
  "nbformat_minor": 0
}