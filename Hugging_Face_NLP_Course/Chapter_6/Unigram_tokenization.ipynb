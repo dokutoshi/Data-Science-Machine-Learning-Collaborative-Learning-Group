{
  "cells": [
    {
      "cell_type": "markdown",
      "metadata": {
        "id": "zY8lbX1lZxYo"
      },
      "source": [
        "# Unigram tokenization"
      ]
    },
    {
      "cell_type": "markdown",
      "metadata": {
        "id": "kICK2k9uZxYq"
      },
      "source": [
        "Install the Transformers, Datasets, and Evaluate libraries to run this notebook."
      ]
    },
    {
      "cell_type": "code",
      "execution_count": 1,
      "metadata": {
        "colab": {
          "base_uri": "https://localhost:8080/"
        },
        "id": "G4cTQY2VZxYq",
        "outputId": "4fcbf8ad-7225-4ed3-dc32-58ec41a7bd77"
      },
      "outputs": [
        {
          "output_type": "stream",
          "name": "stdout",
          "text": [
            "Collecting datasets\n",
            "  Downloading datasets-4.0.0-py3-none-any.whl.metadata (19 kB)\n",
            "Collecting evaluate\n",
            "  Downloading evaluate-0.4.5-py3-none-any.whl.metadata (9.5 kB)\n",
            "Requirement already satisfied: transformers[sentencepiece] in /usr/local/lib/python3.11/dist-packages (4.53.2)\n",
            "Requirement already satisfied: filelock in /usr/local/lib/python3.11/dist-packages (from datasets) (3.18.0)\n",
            "Requirement already satisfied: numpy>=1.17 in /usr/local/lib/python3.11/dist-packages (from datasets) (2.0.2)\n",
            "Requirement already satisfied: pyarrow>=15.0.0 in /usr/local/lib/python3.11/dist-packages (from datasets) (21.0.0)\n",
            "Collecting dill<0.3.9,>=0.3.0 (from datasets)\n",
            "  Downloading dill-0.3.8-py3-none-any.whl.metadata (10 kB)\n",
            "Requirement already satisfied: pandas in /usr/local/lib/python3.11/dist-packages (from datasets) (2.2.2)\n",
            "Requirement already satisfied: requests>=2.32.2 in /usr/local/lib/python3.11/dist-packages (from datasets) (2.32.3)\n",
            "Requirement already satisfied: tqdm>=4.66.3 in /usr/local/lib/python3.11/dist-packages (from datasets) (4.67.1)\n",
            "Collecting xxhash (from datasets)\n",
            "  Downloading xxhash-3.5.0-cp311-cp311-manylinux_2_17_x86_64.manylinux2014_x86_64.whl.metadata (12 kB)\n",
            "Collecting multiprocess<0.70.17 (from datasets)\n",
            "  Downloading multiprocess-0.70.16-py311-none-any.whl.metadata (7.2 kB)\n",
            "Collecting fsspec<=2025.3.0,>=2023.1.0 (from fsspec[http]<=2025.3.0,>=2023.1.0->datasets)\n",
            "  Downloading fsspec-2025.3.0-py3-none-any.whl.metadata (11 kB)\n",
            "Requirement already satisfied: huggingface-hub>=0.24.0 in /usr/local/lib/python3.11/dist-packages (from datasets) (0.33.4)\n",
            "Requirement already satisfied: packaging in /usr/local/lib/python3.11/dist-packages (from datasets) (25.0)\n",
            "Requirement already satisfied: pyyaml>=5.1 in /usr/local/lib/python3.11/dist-packages (from datasets) (6.0.2)\n",
            "Requirement already satisfied: regex!=2019.12.17 in /usr/local/lib/python3.11/dist-packages (from transformers[sentencepiece]) (2024.11.6)\n",
            "Requirement already satisfied: tokenizers<0.22,>=0.21 in /usr/local/lib/python3.11/dist-packages (from transformers[sentencepiece]) (0.21.2)\n",
            "Requirement already satisfied: safetensors>=0.4.3 in /usr/local/lib/python3.11/dist-packages (from transformers[sentencepiece]) (0.5.3)\n",
            "Requirement already satisfied: sentencepiece!=0.1.92,>=0.1.91 in /usr/local/lib/python3.11/dist-packages (from transformers[sentencepiece]) (0.2.0)\n",
            "Requirement already satisfied: protobuf in /usr/local/lib/python3.11/dist-packages (from transformers[sentencepiece]) (6.31.1)\n",
            "Requirement already satisfied: aiohttp!=4.0.0a0,!=4.0.0a1 in /usr/local/lib/python3.11/dist-packages (from fsspec[http]<=2025.3.0,>=2023.1.0->datasets) (3.11.15)\n",
            "Requirement already satisfied: typing-extensions>=3.7.4.3 in /usr/local/lib/python3.11/dist-packages (from huggingface-hub>=0.24.0->datasets) (4.14.1)\n",
            "Requirement already satisfied: hf-xet<2.0.0,>=1.1.2 in /usr/local/lib/python3.11/dist-packages (from huggingface-hub>=0.24.0->datasets) (1.1.5)\n",
            "Requirement already satisfied: charset-normalizer<4,>=2 in /usr/local/lib/python3.11/dist-packages (from requests>=2.32.2->datasets) (3.4.2)\n",
            "Requirement already satisfied: idna<4,>=2.5 in /usr/local/lib/python3.11/dist-packages (from requests>=2.32.2->datasets) (3.10)\n",
            "Requirement already satisfied: urllib3<3,>=1.21.1 in /usr/local/lib/python3.11/dist-packages (from requests>=2.32.2->datasets) (2.5.0)\n",
            "Requirement already satisfied: certifi>=2017.4.17 in /usr/local/lib/python3.11/dist-packages (from requests>=2.32.2->datasets) (2025.7.14)\n",
            "Requirement already satisfied: python-dateutil>=2.8.2 in /usr/local/lib/python3.11/dist-packages (from pandas->datasets) (2.9.0.post0)\n",
            "Requirement already satisfied: pytz>=2020.1 in /usr/local/lib/python3.11/dist-packages (from pandas->datasets) (2025.2)\n",
            "Requirement already satisfied: tzdata>=2022.7 in /usr/local/lib/python3.11/dist-packages (from pandas->datasets) (2025.2)\n",
            "Requirement already satisfied: aiohappyeyeballs>=2.3.0 in /usr/local/lib/python3.11/dist-packages (from aiohttp!=4.0.0a0,!=4.0.0a1->fsspec[http]<=2025.3.0,>=2023.1.0->datasets) (2.6.1)\n",
            "Requirement already satisfied: aiosignal>=1.1.2 in /usr/local/lib/python3.11/dist-packages (from aiohttp!=4.0.0a0,!=4.0.0a1->fsspec[http]<=2025.3.0,>=2023.1.0->datasets) (1.4.0)\n",
            "Requirement already satisfied: attrs>=17.3.0 in /usr/local/lib/python3.11/dist-packages (from aiohttp!=4.0.0a0,!=4.0.0a1->fsspec[http]<=2025.3.0,>=2023.1.0->datasets) (25.3.0)\n",
            "Requirement already satisfied: frozenlist>=1.1.1 in /usr/local/lib/python3.11/dist-packages (from aiohttp!=4.0.0a0,!=4.0.0a1->fsspec[http]<=2025.3.0,>=2023.1.0->datasets) (1.7.0)\n",
            "Requirement already satisfied: multidict<7.0,>=4.5 in /usr/local/lib/python3.11/dist-packages (from aiohttp!=4.0.0a0,!=4.0.0a1->fsspec[http]<=2025.3.0,>=2023.1.0->datasets) (6.6.3)\n",
            "Requirement already satisfied: propcache>=0.2.0 in /usr/local/lib/python3.11/dist-packages (from aiohttp!=4.0.0a0,!=4.0.0a1->fsspec[http]<=2025.3.0,>=2023.1.0->datasets) (0.3.2)\n",
            "Requirement already satisfied: yarl<2.0,>=1.17.0 in /usr/local/lib/python3.11/dist-packages (from aiohttp!=4.0.0a0,!=4.0.0a1->fsspec[http]<=2025.3.0,>=2023.1.0->datasets) (1.20.1)\n",
            "Requirement already satisfied: six>=1.5 in /usr/local/lib/python3.11/dist-packages (from python-dateutil>=2.8.2->pandas->datasets) (1.17.0)\n",
            "Downloading datasets-4.0.0-py3-none-any.whl (494 kB)\n",
            "\u001b[2K   \u001b[90m━━━━━━━━━━━━━━━━━━━━━━━━━━━━━━━━━━━━━━━━\u001b[0m \u001b[32m494.8/494.8 kB\u001b[0m \u001b[31m9.7 MB/s\u001b[0m eta \u001b[36m0:00:00\u001b[0m\n",
            "\u001b[?25hDownloading evaluate-0.4.5-py3-none-any.whl (84 kB)\n",
            "\u001b[2K   \u001b[90m━━━━━━━━━━━━━━━━━━━━━━━━━━━━━━━━━━━━━━━━\u001b[0m \u001b[32m84.1/84.1 kB\u001b[0m \u001b[31m5.7 MB/s\u001b[0m eta \u001b[36m0:00:00\u001b[0m\n",
            "\u001b[?25hDownloading dill-0.3.8-py3-none-any.whl (116 kB)\n",
            "\u001b[2K   \u001b[90m━━━━━━━━━━━━━━━━━━━━━━━━━━━━━━━━━━━━━━━━\u001b[0m \u001b[32m116.3/116.3 kB\u001b[0m \u001b[31m8.6 MB/s\u001b[0m eta \u001b[36m0:00:00\u001b[0m\n",
            "\u001b[?25hDownloading fsspec-2025.3.0-py3-none-any.whl (193 kB)\n",
            "\u001b[2K   \u001b[90m━━━━━━━━━━━━━━━━━━━━━━━━━━━━━━━━━━━━━━━━\u001b[0m \u001b[32m193.6/193.6 kB\u001b[0m \u001b[31m3.2 MB/s\u001b[0m eta \u001b[36m0:00:00\u001b[0m\n",
            "\u001b[?25hDownloading multiprocess-0.70.16-py311-none-any.whl (143 kB)\n",
            "\u001b[2K   \u001b[90m━━━━━━━━━━━━━━━━━━━━━━━━━━━━━━━━━━━━━━━━\u001b[0m \u001b[32m143.5/143.5 kB\u001b[0m \u001b[31m9.6 MB/s\u001b[0m eta \u001b[36m0:00:00\u001b[0m\n",
            "\u001b[?25hDownloading xxhash-3.5.0-cp311-cp311-manylinux_2_17_x86_64.manylinux2014_x86_64.whl (194 kB)\n",
            "\u001b[2K   \u001b[90m━━━━━━━━━━━━━━━━━━━━━━━━━━━━━━━━━━━━━━━━\u001b[0m \u001b[32m194.8/194.8 kB\u001b[0m \u001b[31m14.2 MB/s\u001b[0m eta \u001b[36m0:00:00\u001b[0m\n",
            "\u001b[?25hInstalling collected packages: xxhash, fsspec, dill, multiprocess, datasets, evaluate\n",
            "  Attempting uninstall: fsspec\n",
            "    Found existing installation: fsspec 2025.7.0\n",
            "    Uninstalling fsspec-2025.7.0:\n",
            "      Successfully uninstalled fsspec-2025.7.0\n",
            "Successfully installed datasets-4.0.0 dill-0.3.8 evaluate-0.4.5 fsspec-2025.3.0 multiprocess-0.70.16 xxhash-3.5.0\n"
          ]
        }
      ],
      "source": [
        "!pip install datasets evaluate transformers[sentencepiece]"
      ]
    },
    {
      "cell_type": "markdown",
      "metadata": {
        "id": "Qeh6ET1yv2Tt"
      },
      "source": [
        "The Unigram algorithm is used in combination with SentencePiece, which is the tokenization algorithm used by models like AlBERT, T5, mBART, Big Bird, and XLNet.\n",
        "\n",
        "SentencePiece addresses the fact that not all languages use spaces to separate words. Instead, SentencePiece treats the input as a raw input stream which includes the space in the set of characters to use. Then it can use the Unigram algorithm to construct the appropriate vocabulary."
      ]
    },
    {
      "cell_type": "markdown",
      "metadata": {
        "id": "4vCTh70Yv2Tu"
      },
      "source": [
        "**Training algorithm**"
      ]
    },
    {
      "cell_type": "markdown",
      "metadata": {
        "id": "-T_BWotXv2Tu"
      },
      "source": [
        "Compared to BPE and WordPiece, Unigram works in the other direction: it starts from a big vocabulary and removes tokens from it until it reaches the desired vocabulary size. There are several options to use to build that base vocabulary: we can take the most common substrings in pre-tokenized words, for instance, or apply BPE on the initial corpus with a large vocabulary size.\n",
        "\n",
        "At each step of the training, the Unigram algorithm computes a loss over the corpus given the current vocabulary. Then, for each symbol in the vocabulary, the algorithm computes how much the overall loss would increase if the symbol was removed, and looks for the symbols that would increase it the least. Those symbols have a lower effect on the overall loss over the corpus, so in a sense they are “less needed” and are the best candidates for removal.\n",
        "\n",
        "This is all a very costly operation, so we don’t just remove the single symbol associated with the lowest loss increase, but the\n",
        "p\n",
        "p (\\(p\\) being a hyperparameter you can control, usually 10 or 20) percent of the symbols associated with the lowest loss increase. This process is then repeated until the vocabulary has reached the desired size.\n",
        "\n",
        "Note that we never remove the base characters, to make sure any word can be tokenized.\n",
        "\n",
        "Now, this is still a bit vague: the main part of the algorithm is to compute a loss over the corpus and see how it changes when we remove some tokens from the vocabulary, but we haven’t explained how to do this yet. This step relies on the tokenization algorithm of a Unigram model, so we’ll dive into this next.\n",
        "\n",
        "We’ll reuse the corpus from the previous examples:\n",
        "\n"
      ]
    },
    {
      "cell_type": "markdown",
      "metadata": {
        "id": "0ahuBc2kv2Tu"
      },
      "source": [
        "Implementing Unigram\n",
        "Now let’s implement everything we’ve seen so far in code. Like with BPE and WordPiece, this is not an efficient implementation of the Unigram algorithm (quite the opposite), but it should help you understand it a bit better.\n",
        "\n",
        "We will use the same corpus as before as an example:"
      ]
    },
    {
      "cell_type": "code",
      "execution_count": 2,
      "metadata": {
        "colab": {
          "base_uri": "https://localhost:8080/"
        },
        "id": "Bwku3_IKv2Tu",
        "outputId": "bb1f8202-dae4-4d40-86e5-b646c7f5838a"
      },
      "outputs": [
        {
          "output_type": "execute_result",
          "data": {
            "text/plain": [
              "(('hug', 10), ('pug', 5), ('pun', 12), ('bun', 4), ('hugs', 5))"
            ]
          },
          "metadata": {},
          "execution_count": 2
        }
      ],
      "source": [
        "(\"hug\", 10), (\"pug\", 5), (\"pun\", 12), (\"bun\", 4), (\"hugs\", 5)"
      ]
    },
    {
      "cell_type": "markdown",
      "metadata": {
        "id": "J9hBSaj7v2Tu"
      },
      "source": [
        "and for this example, we will take all strict substrings for the initial vocabulary :\n"
      ]
    },
    {
      "cell_type": "code",
      "execution_count": 3,
      "metadata": {
        "colab": {
          "base_uri": "https://localhost:8080/"
        },
        "id": "UHbuiyAyv2Tu",
        "outputId": "04ab946a-49a8-429e-9849-3928d9f299aa"
      },
      "outputs": [
        {
          "output_type": "execute_result",
          "data": {
            "text/plain": [
              "['h',\n",
              " 'u',\n",
              " 'g',\n",
              " 'hu',\n",
              " 'ug',\n",
              " 'p',\n",
              " 'pu',\n",
              " 'n',\n",
              " 'un',\n",
              " 'b',\n",
              " 'bu',\n",
              " 's',\n",
              " 'hug',\n",
              " 'gs',\n",
              " 'ugs']"
            ]
          },
          "metadata": {},
          "execution_count": 3
        }
      ],
      "source": [
        "[\"h\", \"u\", \"g\", \"hu\", \"ug\", \"p\", \"pu\", \"n\", \"un\", \"b\", \"bu\", \"s\", \"hug\", \"gs\", \"ugs\"]"
      ]
    },
    {
      "cell_type": "markdown",
      "metadata": {
        "id": "j_xUJj-Kv2Tu"
      },
      "source": [
        "**Tokenization algorithm**\n",
        "\n",
        "A Unigram model is a type of language model that considers each token to be independent of the tokens before it. It’s the simplest language model, in the sense that the probability of token X given the previous context is just the probability of token X. So, if we used a Unigram language model to generate text, we would always predict the most common token.\n",
        "\n",
        "The probability of a given token is its frequency (the number of times we find it) in the original corpus, divided by the sum of all frequencies of all tokens in the vocabulary (to make sure the probabilities sum up to 1). For instance, \"ug\" is present in \"hug\", \"pug\", and \"hugs\", so it has a frequency of 20 in our corpus.\n",
        "\n",
        "Here are the frequencies of all the possible subwords in the vocabulary:\n",
        "\n",
        "\n",
        "\n",
        "```\n",
        "(\"h\", 15) (\"u\", 36) (\"g\", 20) (\"hu\", 15) (\"ug\", 20) (\"p\", 17) (\"pu\", 17) (\"n\", 16)\n",
        "(\"un\", 16) (\"b\", 4) (\"bu\", 4) (\"s\", 5) (\"hug\", 15) (\"gs\", 5) (\"ugs\", 5)\n",
        "```\n",
        "\n"
      ]
    },
    {
      "cell_type": "markdown",
      "metadata": {
        "id": "4Lf6JSOev2Tv"
      },
      "source": [
        "So, the sum of all frequencies is 210, and the probability of the subword \"ug\" is thus 20/210.\n",
        "\n",
        "✏️ Now your turn! Write the code to compute the frequencies above and double-check that the results shown are correct, as well as the total sum.\n",
        "\n",
        "Now, to tokenize a given word, we look at all the possible segmentations into tokens and compute the probability of each according to the Unigram model. Since all tokens are considered independent, this probability is just the product of the probability of each token. For instance, the tokenization [\"p\", \"u\", \"g\"] of \"pug\" has the probability:"
      ]
    },
    {
      "cell_type": "markdown",
      "metadata": {
        "id": "FBItMvkkv2Tv"
      },
      "source": [
        "\n",
        "\n",
        "\n",
        "```\n",
        "P([‘‘p\",‘‘u\",‘‘g\"])=P(‘‘p\")×P(‘‘u\")×P(‘‘g\")= 210 5​× 210 36​× 210 20​=0.000389\n",
        "```\n",
        "\n",
        "\n"
      ]
    },
    {
      "cell_type": "markdown",
      "metadata": {
        "id": "VHTUnFN6v2Tv"
      },
      "source": [
        "Comparatively, the tokenization [\"pu\", \"g\"] has the probability:\n",
        "\n",
        "\n",
        "![Screenshot 2025-07-22 at 9.24.38 PM.png](data:image/png;base64,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)\n",
        "\n",
        "\n",
        "so that one is way more likely. In general, tokenizations with the least tokens possible will have the highest probability (because of that division by 210 repeated for each token), which corresponds to what we want intuitively: to split a word into the least number of tokens possible.\n",
        "\n",
        "The tokenization of a word with the Unigram model is then the tokenization with the highest probability. In the example of \"pug\", here are the probabilities we would get for each possible segmentation:"
      ]
    },
    {
      "cell_type": "markdown",
      "metadata": {
        "id": "fhPQM2asv2Tx"
      },
      "source": [
        "\n",
        "\n",
        "```\n",
        "[\"p\", \"u\", \"g\"] : 0.000389\n",
        "[\"p\", \"ug\"] : 0.0022676\n",
        "[\"pu\", \"g\"] : 0.0022676\n",
        "```\n",
        "\n"
      ]
    },
    {
      "cell_type": "markdown",
      "metadata": {
        "id": "y7ERl6Usv2Tx"
      },
      "source": [
        "So, \"pug\" would be tokenized as [\"p\", \"ug\"] or [\"pu\", \"g\"], depending on which of those segmentations is encountered first (note that in a larger corpus, equality cases like this will be rare).\n",
        "\n",
        "In this case, it was easy to find all the possible segmentations and compute their probabilities, but in general it’s going to be a bit harder. There is a classic algorithm used for this, called the Viterbi algorithm. Essentially, we can build a graph to detect the possible segmentations of a given word by saying there is a branch from character a to character b if the subword from a to b is in the vocabulary, and attribute to that branch the probability of the subword.\n",
        "\n",
        "To find the path in that graph that is going to have the best score the Viterbi algorithm determines, for each position in the word, the segmentation with the best score that ends at that position. Since we go from the beginning to the end, that best score can be found by looping through all subwords ending at the current position and then using the best tokenization score from the position this subword begins at. Then, we just have to unroll the path taken to arrive at the end.\n",
        "\n",
        "Let’s take a look at an example using our vocabulary and the word \"unhug\". For each position, the subwords with the best scores ending there are the following:"
      ]
    },
    {
      "cell_type": "markdown",
      "metadata": {
        "id": "EmHuaXsnv2Tx"
      },
      "source": [
        "\n",
        "\n",
        "```\n",
        "Character 0 (u): \"u\" (score 0.171429)\n",
        "Character 1 (n): \"un\" (score 0.076191)\n",
        "Character 2 (h): \"un\" \"h\" (score 0.005442)\n",
        "Character 3 (u): \"un\" \"hu\" (score 0.005442)\n",
        "Character 4 (g): \"un\" \"hug\" (score 0.005442)\n",
        "```\n",
        "\n"
      ]
    },
    {
      "cell_type": "markdown",
      "metadata": {
        "id": "BdvEmZVgv2Tx"
      },
      "source": [
        "**Back to training**"
      ]
    },
    {
      "cell_type": "markdown",
      "metadata": {
        "id": "IVIRPoQov2Tx"
      },
      "source": [
        "Now that we have seen how the tokenization works, we can dive a little more deeply into the loss used during training. At any given stage, this loss is computed by tokenizing every word in the corpus, using the current vocabulary and the Unigram model determined by the frequencies of each token in the corpus (as seen before).\n",
        "\n",
        "Each word in the corpus has a score, and the loss is the negative log likelihood of those scores — that is, the sum for all the words in the corpus of all the -log(P(word)).\n",
        "\n",
        "Let’s go back to our example with the following corpus:\n",
        "\n",
        "\n",
        "\n",
        "```\n",
        "(\"hug\", 10), (\"pug\", 5), (\"pun\", 12), (\"bun\", 4), (\"hugs\", 5)\n",
        "```\n",
        "The tokenization of each word with their respective scores is:\n",
        "\n",
        "\n",
        "```\n",
        "\"hug\": [\"hug\"] (score 0.071428)\n",
        "\"pug\": [\"pu\", \"g\"] (score 0.007710)\n",
        "\"pun\": [\"pu\", \"n\"] (score 0.006168)\n",
        "\"bun\": [\"bu\", \"n\"] (score 0.001451)\n",
        "\"hugs\": [\"hug\", \"s\"] (score 0.001701)\n",
        "```\n",
        "So the loss is:\n",
        "\n",
        "\n",
        "\n",
        "```\n",
        "10 * (-log(0.071428)) + 5 * (-log(0.007710)) + 12 * (-log(0.006168)) + 4 * (-log(0.001451)) + 5 * (-log(0.001701)) = 169.8\n",
        "```\n",
        "Now we need to compute how removing each token affects the loss. This is rather tedious, so we’ll just do it for two tokens here and save the whole process for when we have code to help us. In this (very) particular case, we had two equivalent tokenizations of all the words: as we saw earlier, for example, \"pug\" could be tokenized [\"p\", \"ug\"] with the same score. Thus, removing the \"pu\" token from the vocabulary will give the exact same loss.\n",
        "\n",
        "On the other hand, removing \"hug\" will make the loss worse, because the tokenization of \"hug\" and \"hugs\" will become:\n",
        "\n",
        "\n",
        "\n",
        "```\n",
        "\"hug\": [\"hu\", \"g\"] (score 0.006802)\n",
        "\"hugs\": [\"hu\", \"gs\"] (score 0.001701)\n",
        "```\n",
        "These changes will cause the loss to rise by:\n",
        "\n",
        "\n",
        "\n",
        "```\n",
        "- 10 * (-log(0.071428)) + 10 * (-log(0.006802)) = 23.5\n",
        "```\n",
        "\n",
        "\n",
        "\n",
        "\n",
        "\n",
        "\n"
      ]
    },
    {
      "cell_type": "markdown",
      "metadata": {
        "id": "eIXK2jMdv2Tx"
      },
      "source": [
        "**Implementing Unigram**\n",
        "\n",
        "Now let’s implement everything we’ve seen so far in code. Like with BPE and WordPiece, this is not an efficient implementation of the Unigram algorithm (quite the opposite), but it should help you understand it a bit better.\n",
        "\n",
        "We will use the same corpus as before as an example:"
      ]
    },
    {
      "cell_type": "code",
      "execution_count": 4,
      "metadata": {
        "id": "GVG7VaiGZxYq"
      },
      "outputs": [],
      "source": [
        "corpus = [\n",
        "    \"This is the Hugging Face Course.\",\n",
        "    \"This chapter is about tokenization.\",\n",
        "    \"This section shows several tokenizer algorithms.\",\n",
        "    \"Hopefully, you will be able to understand how they are trained and generate tokens.\",\n",
        "]"
      ]
    },
    {
      "cell_type": "markdown",
      "metadata": {
        "id": "SUbx0GJEv2Ty"
      },
      "source": [
        "This time, we will use xlnet-base-cased as our model:"
      ]
    },
    {
      "cell_type": "code",
      "execution_count": 5,
      "metadata": {
        "colab": {
          "base_uri": "https://localhost:8080/",
          "height": 240,
          "referenced_widgets": [
            "25942a0a59484a60aa0c9276c0c859ab",
            "c7bdb291bdd84bc18034e3fbf8124267",
            "adacfa2667a14224a578fa752ead19ba",
            "f6980b0f15ea4bd7979ca53b25659006",
            "1535f68530474920b39181a31569f6d6",
            "ae7d9bdc73cb49fa944ba551a77c7152",
            "229b9ea24327415da7c466836c8a0a69",
            "39a31be438414304bfbf53ea48364f22",
            "27cbcf8c0ea347b3a20c7604cfbd132e",
            "fdc7c42bae744b26a249480d3eeadae9",
            "18f960aa779b412ca38989a93151b185",
            "72125a759e93425982c81aa31a9db3e7",
            "90276d9a1f044cd9a743a467bdf5654c",
            "cab0a4269b6a4c4291415beb8bc6ba5f",
            "1e500bdd17ba4c129279536762cb3300",
            "5b8f20ad2256478cb1fcc2608c4eae4a",
            "9c66265bea8f4608a71f952d43ed3570",
            "9e46f62410ca45458c68b4386710d167",
            "8daf1bfe22ed41ecb8e5d4eb573a2cf1",
            "688897812d1b4b0c8e7bb4af7074dcf1",
            "d899f88c8ff64ee39114de9c7df0a828",
            "a88b35fe1e304487b5d0ba894e6fa0c4",
            "01add398ab144b3ba68dd3d61b4913ec",
            "757d17b4674e46fabf42d3e2f5fe029a",
            "069bf2b78d344cd9ae07fc86407e60d2",
            "1c9cc131873e4e29a897542b07e24392",
            "e2aa5e69ce634f9eb395a14ab3f9a739",
            "7d1b1a46217d4ee28b2af159acca4009",
            "f0c9d05a0943403e90d00d853cff7ee2",
            "1983c4d2db0c4fbaadebb219dbc79ffa",
            "b7483266d93b4c4397a3b9d7142dd139",
            "3f45ecb81a0e4b219764de12c6e96656",
            "24024f7f7ff740b5bce13e775198e44e"
          ]
        },
        "id": "CdpZTBt5ZxYr",
        "outputId": "0731593f-3107-4200-ec62-0cf79729d06e"
      },
      "outputs": [
        {
          "output_type": "stream",
          "name": "stderr",
          "text": [
            "/usr/local/lib/python3.11/dist-packages/huggingface_hub/utils/_auth.py:94: UserWarning: \n",
            "The secret `HF_TOKEN` does not exist in your Colab secrets.\n",
            "To authenticate with the Hugging Face Hub, create a token in your settings tab (https://huggingface.co/settings/tokens), set it as secret in your Google Colab and restart your session.\n",
            "You will be able to reuse this secret in all of your notebooks.\n",
            "Please note that authentication is recommended but still optional to access public models or datasets.\n",
            "  warnings.warn(\n"
          ]
        },
        {
          "output_type": "display_data",
          "data": {
            "text/plain": [
              "config.json:   0%|          | 0.00/760 [00:00<?, ?B/s]"
            ],
            "application/vnd.jupyter.widget-view+json": {
              "version_major": 2,
              "version_minor": 0,
              "model_id": "25942a0a59484a60aa0c9276c0c859ab"
            }
          },
          "metadata": {}
        },
        {
          "output_type": "display_data",
          "data": {
            "text/plain": [
              "spiece.model:   0%|          | 0.00/798k [00:00<?, ?B/s]"
            ],
            "application/vnd.jupyter.widget-view+json": {
              "version_major": 2,
              "version_minor": 0,
              "model_id": "72125a759e93425982c81aa31a9db3e7"
            }
          },
          "metadata": {}
        },
        {
          "output_type": "display_data",
          "data": {
            "text/plain": [
              "tokenizer.json:   0%|          | 0.00/1.38M [00:00<?, ?B/s]"
            ],
            "application/vnd.jupyter.widget-view+json": {
              "version_major": 2,
              "version_minor": 0,
              "model_id": "01add398ab144b3ba68dd3d61b4913ec"
            }
          },
          "metadata": {}
        }
      ],
      "source": [
        "from transformers import AutoTokenizer\n",
        "\n",
        "tokenizer = AutoTokenizer.from_pretrained(\"xlnet-base-cased\")"
      ]
    },
    {
      "cell_type": "markdown",
      "metadata": {
        "id": "2TUD6ByRv2Ty"
      },
      "source": [
        "Like for BPE and WordPiece, we begin by counting the number of occurrences of each word in the corpus:"
      ]
    },
    {
      "cell_type": "code",
      "execution_count": 6,
      "metadata": {
        "colab": {
          "base_uri": "https://localhost:8080/"
        },
        "id": "e8TXv9O7ZxYr",
        "outputId": "1516f5db-e116-4d30-f7d2-47999d2e1a54"
      },
      "outputs": [
        {
          "output_type": "execute_result",
          "data": {
            "text/plain": [
              "defaultdict(int,\n",
              "            {'▁This': 3,\n",
              "             '▁is': 2,\n",
              "             '▁the': 1,\n",
              "             '▁Hugging': 1,\n",
              "             '▁Face': 1,\n",
              "             '▁Course.': 1,\n",
              "             '▁chapter': 1,\n",
              "             '▁about': 1,\n",
              "             '▁tokenization.': 1,\n",
              "             '▁section': 1,\n",
              "             '▁shows': 1,\n",
              "             '▁several': 1,\n",
              "             '▁tokenizer': 1,\n",
              "             '▁algorithms.': 1,\n",
              "             '▁Hopefully,': 1,\n",
              "             '▁you': 1,\n",
              "             '▁will': 1,\n",
              "             '▁be': 1,\n",
              "             '▁able': 1,\n",
              "             '▁to': 1,\n",
              "             '▁understand': 1,\n",
              "             '▁how': 1,\n",
              "             '▁they': 1,\n",
              "             '▁are': 1,\n",
              "             '▁trained': 1,\n",
              "             '▁and': 1,\n",
              "             '▁generate': 1,\n",
              "             '▁tokens.': 1})"
            ]
          },
          "metadata": {},
          "execution_count": 6
        }
      ],
      "source": [
        "from collections import defaultdict\n",
        "\n",
        "word_freqs = defaultdict(int)\n",
        "for text in corpus:\n",
        "    words_with_offsets = tokenizer.backend_tokenizer.pre_tokenizer.pre_tokenize_str(text)\n",
        "    new_words = [word for word, offset in words_with_offsets]\n",
        "    for word in new_words:\n",
        "        word_freqs[word] += 1\n",
        "\n",
        "word_freqs"
      ]
    },
    {
      "cell_type": "markdown",
      "metadata": {
        "id": "YBsdt1-2v2Ty"
      },
      "source": [
        "Then, we need to initialize our vocabulary to something larger than the vocab size we will want at the end. We have to include all the basic characters (otherwise we won’t be able to tokenize every word), but for the bigger substrings we’ll only keep the most common ones, so we sort them by frequency:"
      ]
    },
    {
      "cell_type": "code",
      "execution_count": 7,
      "metadata": {
        "colab": {
          "base_uri": "https://localhost:8080/"
        },
        "id": "2I9QusdSZxYr",
        "outputId": "ee0fa8c0-4975-4a6f-d551-dda823cb9513"
      },
      "outputs": [
        {
          "output_type": "execute_result",
          "data": {
            "text/plain": [
              "[('▁t', 7),\n",
              " ('is', 5),\n",
              " ('er', 5),\n",
              " ('▁a', 5),\n",
              " ('▁to', 4),\n",
              " ('to', 4),\n",
              " ('en', 4),\n",
              " ('▁T', 3),\n",
              " ('▁Th', 3),\n",
              " ('▁Thi', 3)]"
            ]
          },
          "metadata": {},
          "execution_count": 7
        }
      ],
      "source": [
        "char_freqs = defaultdict(int)\n",
        "subwords_freqs = defaultdict(int)\n",
        "for word, freq in word_freqs.items():\n",
        "    for i in range(len(word)):\n",
        "        char_freqs[word[i]] += freq\n",
        "        # Loop through the subwords of length at least 2\n",
        "        for j in range(i + 2, len(word) + 1):\n",
        "            subwords_freqs[word[i:j]] += freq\n",
        "\n",
        "# Sort subwords by frequency\n",
        "sorted_subwords = sorted(subwords_freqs.items(), key=lambda x: x[1], reverse=True)\n",
        "sorted_subwords[:10]"
      ]
    },
    {
      "cell_type": "markdown",
      "metadata": {
        "id": "2fj6sEgBv2Ty"
      },
      "source": [
        "We group the characters with the best subwords to arrive at an initial vocabulary of size 300:"
      ]
    },
    {
      "cell_type": "code",
      "execution_count": 8,
      "metadata": {
        "id": "FhCM8kqKZxYr"
      },
      "outputs": [],
      "source": [
        "token_freqs = list(char_freqs.items()) + sorted_subwords[: 300 - len(char_freqs)]\n",
        "token_freqs = {token: freq for token, freq in token_freqs}"
      ]
    },
    {
      "cell_type": "markdown",
      "metadata": {
        "id": "_2JiK1Xcv2Ty"
      },
      "source": [
        "Next, we compute the sum of all frequencies, to convert the frequencies into probabilities. For our model we will store the logarithms of the probabilities, because it’s more numerically stable to add logarithms than to multiply small numbers, and this will simplify the computation of the loss of the model:"
      ]
    },
    {
      "cell_type": "code",
      "execution_count": 9,
      "metadata": {
        "id": "YGl5BL7AZxYs"
      },
      "outputs": [],
      "source": [
        "from math import log\n",
        "\n",
        "total_sum = sum([freq for token, freq in token_freqs.items()])\n",
        "model = {token: -log(freq / total_sum) for token, freq in token_freqs.items()}"
      ]
    },
    {
      "cell_type": "markdown",
      "metadata": {
        "id": "gL2VbfeKv2Ty"
      },
      "source": [
        "Now the main function is the one that tokenizes words using the Viterbi algorithm. As we saw before, that algorithm computes the best segmentation of each substring of the word, which we will store in a variable named best_segmentations. We will store one dictionary per position in the word (from 0 to its total length), with two keys: the index of the start of the last token in the best segmentation, and the score of the best segmentation. With the index of the start of the last token, we will be able to retrieve the full segmentation once the list is completely populated.\n",
        "\n",
        "Populating the list is done with just two loops: the main loop goes over each start position, and the second loop tries all substrings beginning at that start position. If the substring is in the vocabulary, we have a new segmentation of the word up until that end position, which we compare to what is in best_segmentations.\n",
        "\n",
        "Once the main loop is finished, we just start from the end and hop from one start position to the next, recording the tokens as we go, until we reach the start of the word:"
      ]
    },
    {
      "cell_type": "code",
      "execution_count": 10,
      "metadata": {
        "id": "opHQbK0vZxYs"
      },
      "outputs": [],
      "source": [
        "def encode_word(word, model):\n",
        "    best_segmentations = [{\"start\": 0, \"score\": 1}] + [\n",
        "        {\"start\": None, \"score\": None} for _ in range(len(word))\n",
        "    ]\n",
        "    for start_idx in range(len(word)):\n",
        "        # This should be properly filled by the previous steps of the loop\n",
        "        best_score_at_start = best_segmentations[start_idx][\"score\"]\n",
        "        for end_idx in range(start_idx + 1, len(word) + 1):\n",
        "            token = word[start_idx:end_idx]\n",
        "            if token in model and best_score_at_start is not None:\n",
        "                score = model[token] + best_score_at_start\n",
        "                # If we have found a better segmentation ending at end_idx, we update\n",
        "                if (\n",
        "                    best_segmentations[end_idx][\"score\"] is None\n",
        "                    or best_segmentations[end_idx][\"score\"] > score\n",
        "                ):\n",
        "                    best_segmentations[end_idx] = {\"start\": start_idx, \"score\": score}\n",
        "\n",
        "    segmentation = best_segmentations[-1]\n",
        "    if segmentation[\"score\"] is None:\n",
        "        # We did not find a tokenization of the word -> unknown\n",
        "        return [\"<unk>\"], None\n",
        "\n",
        "    score = segmentation[\"score\"]\n",
        "    start = segmentation[\"start\"]\n",
        "    end = len(word)\n",
        "    tokens = []\n",
        "    while start != 0:\n",
        "        tokens.insert(0, word[start:end])\n",
        "        next_start = best_segmentations[start][\"start\"]\n",
        "        end = start\n",
        "        start = next_start\n",
        "    tokens.insert(0, word[start:end])\n",
        "    return tokens, score"
      ]
    },
    {
      "cell_type": "markdown",
      "metadata": {
        "id": "eiXL29w7v2Ty"
      },
      "source": [
        "We can already try our initial model on some words:"
      ]
    },
    {
      "cell_type": "code",
      "execution_count": 11,
      "metadata": {
        "colab": {
          "base_uri": "https://localhost:8080/"
        },
        "id": "xC8gH3ZHZxYs",
        "outputId": "2dda725f-8f86-47ac-a105-94a487452d97"
      },
      "outputs": [
        {
          "output_type": "stream",
          "name": "stdout",
          "text": [
            "(['H', 'o', 'p', 'e', 'f', 'u', 'll', 'y'], 41.5157494601402)\n",
            "(['This'], 6.288267030694535)\n"
          ]
        }
      ],
      "source": [
        "print(encode_word(\"Hopefully\", model))\n",
        "print(encode_word(\"This\", model))"
      ]
    },
    {
      "cell_type": "markdown",
      "metadata": {
        "id": "Bp6Dx30Av2Tz"
      },
      "source": [
        "Now it’s easy to compute the loss of the model on the corpus!"
      ]
    },
    {
      "cell_type": "code",
      "execution_count": 12,
      "metadata": {
        "id": "MCDOjvnrZxYs"
      },
      "outputs": [],
      "source": [
        "def compute_loss(model):\n",
        "    loss = 0\n",
        "    for word, freq in word_freqs.items():\n",
        "        _, word_loss = encode_word(word, model)\n",
        "        loss += freq * word_loss\n",
        "    return loss"
      ]
    },
    {
      "cell_type": "markdown",
      "metadata": {
        "id": "zAAG5eyqv2Tz"
      },
      "source": [
        "We can check it works on the model we have:"
      ]
    },
    {
      "cell_type": "code",
      "execution_count": 13,
      "metadata": {
        "colab": {
          "base_uri": "https://localhost:8080/"
        },
        "id": "Gv6Re35AZxYs",
        "outputId": "c054accb-3fc8-438c-aea7-6311fea1e929"
      },
      "outputs": [
        {
          "output_type": "execute_result",
          "data": {
            "text/plain": [
              "413.10377642940875"
            ]
          },
          "metadata": {},
          "execution_count": 13
        }
      ],
      "source": [
        "compute_loss(model)"
      ]
    },
    {
      "cell_type": "markdown",
      "metadata": {
        "id": "Pgcgi2Kpv2T3"
      },
      "source": [
        "Computing the scores for each token is not very hard either; we just have to compute the loss for the models obtained by deleting each token:"
      ]
    },
    {
      "cell_type": "code",
      "execution_count": 14,
      "metadata": {
        "id": "KJkY0WpBZxYs"
      },
      "outputs": [],
      "source": [
        "import copy\n",
        "\n",
        "\n",
        "def compute_scores(model):\n",
        "    scores = {}\n",
        "    model_loss = compute_loss(model)\n",
        "    for token, score in model.items():\n",
        "        # We always keep tokens of length 1\n",
        "        if len(token) == 1:\n",
        "            continue\n",
        "        model_without_token = copy.deepcopy(model)\n",
        "        _ = model_without_token.pop(token)\n",
        "        scores[token] = compute_loss(model_without_token) - model_loss\n",
        "    return scores"
      ]
    },
    {
      "cell_type": "markdown",
      "metadata": {
        "id": "cfSar6IAv2T3"
      },
      "source": [
        "We can try it on a given token:"
      ]
    },
    {
      "cell_type": "code",
      "execution_count": 15,
      "metadata": {
        "id": "2d7UGx3fZxYs"
      },
      "outputs": [],
      "source": [
        "scores = compute_scores(model)"
      ]
    },
    {
      "cell_type": "markdown",
      "metadata": {
        "id": "pPVRP3ndv2T4"
      },
      "source": [
        "Since \"ll\" is used in the tokenization of \"Hopefully\", and removing it will probably make us use the token \"l\" twice instead, we expect it will have a positive loss. \"his\" is only used inside the word \"This\", which is tokenized as itself, so we expect it to have a zero loss. Here are the results:"
      ]
    },
    {
      "cell_type": "code",
      "execution_count": 16,
      "metadata": {
        "colab": {
          "base_uri": "https://localhost:8080/"
        },
        "id": "NfEi4fNdv2T4",
        "outputId": "489de6e5-6a71-4025-a9a2-59aa5915f0ad"
      },
      "outputs": [
        {
          "output_type": "stream",
          "name": "stdout",
          "text": [
            "6.376412403623874\n",
            "0.0\n"
          ]
        }
      ],
      "source": [
        "print(scores[\"ll\"])\n",
        "print(scores[\"his\"])"
      ]
    },
    {
      "cell_type": "markdown",
      "metadata": {
        "id": "VZyttugZv2T4"
      },
      "source": [
        "💡 This approach is very inefficient, so SentencePiece uses an approximation of the loss of the model without token X: instead of starting from scratch, it just replaces token X by its segmentation in the vocabulary that is left. This way, all the scores can be computed at once at the same time as the model loss."
      ]
    },
    {
      "cell_type": "markdown",
      "metadata": {
        "id": "4PVqpJqfv2T4"
      },
      "source": [
        "With all of this in place, the last thing we need to do is add the special tokens used by the model to the vocabulary, then loop until we have pruned enough tokens from the vocabulary to reach our desired size:\n"
      ]
    },
    {
      "cell_type": "code",
      "execution_count": 17,
      "metadata": {
        "id": "bmn1-jsSZxYs"
      },
      "outputs": [],
      "source": [
        "percent_to_remove = 0.1\n",
        "while len(model) > 100:\n",
        "    scores = compute_scores(model)\n",
        "    sorted_scores = sorted(scores.items(), key=lambda x: x[1])\n",
        "    # Remove percent_to_remove tokens with the lowest scores.\n",
        "    for i in range(int(len(model) * percent_to_remove)):\n",
        "        _ = token_freqs.pop(sorted_scores[i][0])\n",
        "\n",
        "    total_sum = sum([freq for token, freq in token_freqs.items()])\n",
        "    model = {token: -log(freq / total_sum) for token, freq in token_freqs.items()}"
      ]
    },
    {
      "cell_type": "markdown",
      "metadata": {
        "id": "NYZ-sgb6v2T4"
      },
      "source": [
        "Then, to tokenize some text, we just need to apply the pre-tokenization and then use our encode_word() function:"
      ]
    },
    {
      "cell_type": "code",
      "execution_count": 18,
      "metadata": {
        "colab": {
          "base_uri": "https://localhost:8080/"
        },
        "id": "Mj03hhbAZxYs",
        "outputId": "24d15a89-0f34-4af5-9198-5dd9fdfb88ff"
      },
      "outputs": [
        {
          "output_type": "execute_result",
          "data": {
            "text/plain": [
              "['▁This',\n",
              " '▁is',\n",
              " '▁the',\n",
              " '▁Hugging',\n",
              " '▁Face',\n",
              " '▁',\n",
              " 'c',\n",
              " 'ou',\n",
              " 'r',\n",
              " 's',\n",
              " 'e',\n",
              " '.']"
            ]
          },
          "metadata": {},
          "execution_count": 18
        }
      ],
      "source": [
        "def tokenize(text, model):\n",
        "    words_with_offsets = tokenizer.backend_tokenizer.pre_tokenizer.pre_tokenize_str(text)\n",
        "    pre_tokenized_text = [word for word, offset in words_with_offsets]\n",
        "    encoded_words = [encode_word(word, model)[0] for word in pre_tokenized_text]\n",
        "    return sum(encoded_words, [])\n",
        "\n",
        "\n",
        "tokenize(\"This is the Hugging Face course.\", model)"
      ]
    },
    {
      "cell_type": "markdown",
      "metadata": {
        "id": "v56-BUgpv2T4"
      },
      "source": [
        "The XLNetTokenizer uses SentencePiece which is why the \"_\" character is included. To decode with SentencePiece, concatenate all the tokens and replace \"_\" with a space."
      ]
    },
    {
      "cell_type": "markdown",
      "metadata": {
        "id": "dnSZOl9hv2T4"
      },
      "source": [
        "That’s it for Unigram! Hopefully by now you’re feeling like an expert in all things tokenizer. In the next section, we will delve into the building blocks of the 🤗 Tokenizers library, and show you how you can use them to build your own tokenizer."
      ]
    }
  ],
  "metadata": {
    "accelerator": "TPU",
    "colab": {
      "gpuType": "V28",
      "provenance": []
    },
    "kernelspec": {
      "display_name": "Python 3",
      "name": "python3"
    },
    "language_info": {
      "name": "python"
    },
    "widgets": {
      "application/vnd.jupyter.widget-state+json": {
        "25942a0a59484a60aa0c9276c0c859ab": {
          "model_module": "@jupyter-widgets/controls",
          "model_name": "HBoxModel",
          "model_module_version": "1.5.0",
          "state": {
            "_dom_classes": [],
            "_model_module": "@jupyter-widgets/controls",
            "_model_module_version": "1.5.0",
            "_model_name": "HBoxModel",
            "_view_count": null,
            "_view_module": "@jupyter-widgets/controls",
            "_view_module_version": "1.5.0",
            "_view_name": "HBoxView",
            "box_style": "",
            "children": [
              "IPY_MODEL_c7bdb291bdd84bc18034e3fbf8124267",
              "IPY_MODEL_adacfa2667a14224a578fa752ead19ba",
              "IPY_MODEL_f6980b0f15ea4bd7979ca53b25659006"
            ],
            "layout": "IPY_MODEL_1535f68530474920b39181a31569f6d6"
          }
        },
        "c7bdb291bdd84bc18034e3fbf8124267": {
          "model_module": "@jupyter-widgets/controls",
          "model_name": "HTMLModel",
          "model_module_version": "1.5.0",
          "state": {
            "_dom_classes": [],
            "_model_module": "@jupyter-widgets/controls",
            "_model_module_version": "1.5.0",
            "_model_name": "HTMLModel",
            "_view_count": null,
            "_view_module": "@jupyter-widgets/controls",
            "_view_module_version": "1.5.0",
            "_view_name": "HTMLView",
            "description": "",
            "description_tooltip": null,
            "layout": "IPY_MODEL_ae7d9bdc73cb49fa944ba551a77c7152",
            "placeholder": "​",
            "style": "IPY_MODEL_229b9ea24327415da7c466836c8a0a69",
            "value": "config.json: 100%"
          }
        },
        "adacfa2667a14224a578fa752ead19ba": {
          "model_module": "@jupyter-widgets/controls",
          "model_name": "FloatProgressModel",
          "model_module_version": "1.5.0",
          "state": {
            "_dom_classes": [],
            "_model_module": "@jupyter-widgets/controls",
            "_model_module_version": "1.5.0",
            "_model_name": "FloatProgressModel",
            "_view_count": null,
            "_view_module": "@jupyter-widgets/controls",
            "_view_module_version": "1.5.0",
            "_view_name": "ProgressView",
            "bar_style": "success",
            "description": "",
            "description_tooltip": null,
            "layout": "IPY_MODEL_39a31be438414304bfbf53ea48364f22",
            "max": 760,
            "min": 0,
            "orientation": "horizontal",
            "style": "IPY_MODEL_27cbcf8c0ea347b3a20c7604cfbd132e",
            "value": 760
          }
        },
        "f6980b0f15ea4bd7979ca53b25659006": {
          "model_module": "@jupyter-widgets/controls",
          "model_name": "HTMLModel",
          "model_module_version": "1.5.0",
          "state": {
            "_dom_classes": [],
            "_model_module": "@jupyter-widgets/controls",
            "_model_module_version": "1.5.0",
            "_model_name": "HTMLModel",
            "_view_count": null,
            "_view_module": "@jupyter-widgets/controls",
            "_view_module_version": "1.5.0",
            "_view_name": "HTMLView",
            "description": "",
            "description_tooltip": null,
            "layout": "IPY_MODEL_fdc7c42bae744b26a249480d3eeadae9",
            "placeholder": "​",
            "style": "IPY_MODEL_18f960aa779b412ca38989a93151b185",
            "value": " 760/760 [00:00&lt;00:00, 97.6kB/s]"
          }
        },
        "1535f68530474920b39181a31569f6d6": {
          "model_module": "@jupyter-widgets/base",
          "model_name": "LayoutModel",
          "model_module_version": "1.2.0",
          "state": {
            "_model_module": "@jupyter-widgets/base",
            "_model_module_version": "1.2.0",
            "_model_name": "LayoutModel",
            "_view_count": null,
            "_view_module": "@jupyter-widgets/base",
            "_view_module_version": "1.2.0",
            "_view_name": "LayoutView",
            "align_content": null,
            "align_items": null,
            "align_self": null,
            "border": null,
            "bottom": null,
            "display": null,
            "flex": null,
            "flex_flow": null,
            "grid_area": null,
            "grid_auto_columns": null,
            "grid_auto_flow": null,
            "grid_auto_rows": null,
            "grid_column": null,
            "grid_gap": null,
            "grid_row": null,
            "grid_template_areas": null,
            "grid_template_columns": null,
            "grid_template_rows": null,
            "height": null,
            "justify_content": null,
            "justify_items": null,
            "left": null,
            "margin": null,
            "max_height": null,
            "max_width": null,
            "min_height": null,
            "min_width": null,
            "object_fit": null,
            "object_position": null,
            "order": null,
            "overflow": null,
            "overflow_x": null,
            "overflow_y": null,
            "padding": null,
            "right": null,
            "top": null,
            "visibility": null,
            "width": null
          }
        },
        "ae7d9bdc73cb49fa944ba551a77c7152": {
          "model_module": "@jupyter-widgets/base",
          "model_name": "LayoutModel",
          "model_module_version": "1.2.0",
          "state": {
            "_model_module": "@jupyter-widgets/base",
            "_model_module_version": "1.2.0",
            "_model_name": "LayoutModel",
            "_view_count": null,
            "_view_module": "@jupyter-widgets/base",
            "_view_module_version": "1.2.0",
            "_view_name": "LayoutView",
            "align_content": null,
            "align_items": null,
            "align_self": null,
            "border": null,
            "bottom": null,
            "display": null,
            "flex": null,
            "flex_flow": null,
            "grid_area": null,
            "grid_auto_columns": null,
            "grid_auto_flow": null,
            "grid_auto_rows": null,
            "grid_column": null,
            "grid_gap": null,
            "grid_row": null,
            "grid_template_areas": null,
            "grid_template_columns": null,
            "grid_template_rows": null,
            "height": null,
            "justify_content": null,
            "justify_items": null,
            "left": null,
            "margin": null,
            "max_height": null,
            "max_width": null,
            "min_height": null,
            "min_width": null,
            "object_fit": null,
            "object_position": null,
            "order": null,
            "overflow": null,
            "overflow_x": null,
            "overflow_y": null,
            "padding": null,
            "right": null,
            "top": null,
            "visibility": null,
            "width": null
          }
        },
        "229b9ea24327415da7c466836c8a0a69": {
          "model_module": "@jupyter-widgets/controls",
          "model_name": "DescriptionStyleModel",
          "model_module_version": "1.5.0",
          "state": {
            "_model_module": "@jupyter-widgets/controls",
            "_model_module_version": "1.5.0",
            "_model_name": "DescriptionStyleModel",
            "_view_count": null,
            "_view_module": "@jupyter-widgets/base",
            "_view_module_version": "1.2.0",
            "_view_name": "StyleView",
            "description_width": ""
          }
        },
        "39a31be438414304bfbf53ea48364f22": {
          "model_module": "@jupyter-widgets/base",
          "model_name": "LayoutModel",
          "model_module_version": "1.2.0",
          "state": {
            "_model_module": "@jupyter-widgets/base",
            "_model_module_version": "1.2.0",
            "_model_name": "LayoutModel",
            "_view_count": null,
            "_view_module": "@jupyter-widgets/base",
            "_view_module_version": "1.2.0",
            "_view_name": "LayoutView",
            "align_content": null,
            "align_items": null,
            "align_self": null,
            "border": null,
            "bottom": null,
            "display": null,
            "flex": null,
            "flex_flow": null,
            "grid_area": null,
            "grid_auto_columns": null,
            "grid_auto_flow": null,
            "grid_auto_rows": null,
            "grid_column": null,
            "grid_gap": null,
            "grid_row": null,
            "grid_template_areas": null,
            "grid_template_columns": null,
            "grid_template_rows": null,
            "height": null,
            "justify_content": null,
            "justify_items": null,
            "left": null,
            "margin": null,
            "max_height": null,
            "max_width": null,
            "min_height": null,
            "min_width": null,
            "object_fit": null,
            "object_position": null,
            "order": null,
            "overflow": null,
            "overflow_x": null,
            "overflow_y": null,
            "padding": null,
            "right": null,
            "top": null,
            "visibility": null,
            "width": null
          }
        },
        "27cbcf8c0ea347b3a20c7604cfbd132e": {
          "model_module": "@jupyter-widgets/controls",
          "model_name": "ProgressStyleModel",
          "model_module_version": "1.5.0",
          "state": {
            "_model_module": "@jupyter-widgets/controls",
            "_model_module_version": "1.5.0",
            "_model_name": "ProgressStyleModel",
            "_view_count": null,
            "_view_module": "@jupyter-widgets/base",
            "_view_module_version": "1.2.0",
            "_view_name": "StyleView",
            "bar_color": null,
            "description_width": ""
          }
        },
        "fdc7c42bae744b26a249480d3eeadae9": {
          "model_module": "@jupyter-widgets/base",
          "model_name": "LayoutModel",
          "model_module_version": "1.2.0",
          "state": {
            "_model_module": "@jupyter-widgets/base",
            "_model_module_version": "1.2.0",
            "_model_name": "LayoutModel",
            "_view_count": null,
            "_view_module": "@jupyter-widgets/base",
            "_view_module_version": "1.2.0",
            "_view_name": "LayoutView",
            "align_content": null,
            "align_items": null,
            "align_self": null,
            "border": null,
            "bottom": null,
            "display": null,
            "flex": null,
            "flex_flow": null,
            "grid_area": null,
            "grid_auto_columns": null,
            "grid_auto_flow": null,
            "grid_auto_rows": null,
            "grid_column": null,
            "grid_gap": null,
            "grid_row": null,
            "grid_template_areas": null,
            "grid_template_columns": null,
            "grid_template_rows": null,
            "height": null,
            "justify_content": null,
            "justify_items": null,
            "left": null,
            "margin": null,
            "max_height": null,
            "max_width": null,
            "min_height": null,
            "min_width": null,
            "object_fit": null,
            "object_position": null,
            "order": null,
            "overflow": null,
            "overflow_x": null,
            "overflow_y": null,
            "padding": null,
            "right": null,
            "top": null,
            "visibility": null,
            "width": null
          }
        },
        "18f960aa779b412ca38989a93151b185": {
          "model_module": "@jupyter-widgets/controls",
          "model_name": "DescriptionStyleModel",
          "model_module_version": "1.5.0",
          "state": {
            "_model_module": "@jupyter-widgets/controls",
            "_model_module_version": "1.5.0",
            "_model_name": "DescriptionStyleModel",
            "_view_count": null,
            "_view_module": "@jupyter-widgets/base",
            "_view_module_version": "1.2.0",
            "_view_name": "StyleView",
            "description_width": ""
          }
        },
        "72125a759e93425982c81aa31a9db3e7": {
          "model_module": "@jupyter-widgets/controls",
          "model_name": "HBoxModel",
          "model_module_version": "1.5.0",
          "state": {
            "_dom_classes": [],
            "_model_module": "@jupyter-widgets/controls",
            "_model_module_version": "1.5.0",
            "_model_name": "HBoxModel",
            "_view_count": null,
            "_view_module": "@jupyter-widgets/controls",
            "_view_module_version": "1.5.0",
            "_view_name": "HBoxView",
            "box_style": "",
            "children": [
              "IPY_MODEL_90276d9a1f044cd9a743a467bdf5654c",
              "IPY_MODEL_cab0a4269b6a4c4291415beb8bc6ba5f",
              "IPY_MODEL_1e500bdd17ba4c129279536762cb3300"
            ],
            "layout": "IPY_MODEL_5b8f20ad2256478cb1fcc2608c4eae4a"
          }
        },
        "90276d9a1f044cd9a743a467bdf5654c": {
          "model_module": "@jupyter-widgets/controls",
          "model_name": "HTMLModel",
          "model_module_version": "1.5.0",
          "state": {
            "_dom_classes": [],
            "_model_module": "@jupyter-widgets/controls",
            "_model_module_version": "1.5.0",
            "_model_name": "HTMLModel",
            "_view_count": null,
            "_view_module": "@jupyter-widgets/controls",
            "_view_module_version": "1.5.0",
            "_view_name": "HTMLView",
            "description": "",
            "description_tooltip": null,
            "layout": "IPY_MODEL_9c66265bea8f4608a71f952d43ed3570",
            "placeholder": "​",
            "style": "IPY_MODEL_9e46f62410ca45458c68b4386710d167",
            "value": "spiece.model: 100%"
          }
        },
        "cab0a4269b6a4c4291415beb8bc6ba5f": {
          "model_module": "@jupyter-widgets/controls",
          "model_name": "FloatProgressModel",
          "model_module_version": "1.5.0",
          "state": {
            "_dom_classes": [],
            "_model_module": "@jupyter-widgets/controls",
            "_model_module_version": "1.5.0",
            "_model_name": "FloatProgressModel",
            "_view_count": null,
            "_view_module": "@jupyter-widgets/controls",
            "_view_module_version": "1.5.0",
            "_view_name": "ProgressView",
            "bar_style": "success",
            "description": "",
            "description_tooltip": null,
            "layout": "IPY_MODEL_8daf1bfe22ed41ecb8e5d4eb573a2cf1",
            "max": 798011,
            "min": 0,
            "orientation": "horizontal",
            "style": "IPY_MODEL_688897812d1b4b0c8e7bb4af7074dcf1",
            "value": 798011
          }
        },
        "1e500bdd17ba4c129279536762cb3300": {
          "model_module": "@jupyter-widgets/controls",
          "model_name": "HTMLModel",
          "model_module_version": "1.5.0",
          "state": {
            "_dom_classes": [],
            "_model_module": "@jupyter-widgets/controls",
            "_model_module_version": "1.5.0",
            "_model_name": "HTMLModel",
            "_view_count": null,
            "_view_module": "@jupyter-widgets/controls",
            "_view_module_version": "1.5.0",
            "_view_name": "HTMLView",
            "description": "",
            "description_tooltip": null,
            "layout": "IPY_MODEL_d899f88c8ff64ee39114de9c7df0a828",
            "placeholder": "​",
            "style": "IPY_MODEL_a88b35fe1e304487b5d0ba894e6fa0c4",
            "value": " 798k/798k [00:00&lt;00:00, 12.4MB/s]"
          }
        },
        "5b8f20ad2256478cb1fcc2608c4eae4a": {
          "model_module": "@jupyter-widgets/base",
          "model_name": "LayoutModel",
          "model_module_version": "1.2.0",
          "state": {
            "_model_module": "@jupyter-widgets/base",
            "_model_module_version": "1.2.0",
            "_model_name": "LayoutModel",
            "_view_count": null,
            "_view_module": "@jupyter-widgets/base",
            "_view_module_version": "1.2.0",
            "_view_name": "LayoutView",
            "align_content": null,
            "align_items": null,
            "align_self": null,
            "border": null,
            "bottom": null,
            "display": null,
            "flex": null,
            "flex_flow": null,
            "grid_area": null,
            "grid_auto_columns": null,
            "grid_auto_flow": null,
            "grid_auto_rows": null,
            "grid_column": null,
            "grid_gap": null,
            "grid_row": null,
            "grid_template_areas": null,
            "grid_template_columns": null,
            "grid_template_rows": null,
            "height": null,
            "justify_content": null,
            "justify_items": null,
            "left": null,
            "margin": null,
            "max_height": null,
            "max_width": null,
            "min_height": null,
            "min_width": null,
            "object_fit": null,
            "object_position": null,
            "order": null,
            "overflow": null,
            "overflow_x": null,
            "overflow_y": null,
            "padding": null,
            "right": null,
            "top": null,
            "visibility": null,
            "width": null
          }
        },
        "9c66265bea8f4608a71f952d43ed3570": {
          "model_module": "@jupyter-widgets/base",
          "model_name": "LayoutModel",
          "model_module_version": "1.2.0",
          "state": {
            "_model_module": "@jupyter-widgets/base",
            "_model_module_version": "1.2.0",
            "_model_name": "LayoutModel",
            "_view_count": null,
            "_view_module": "@jupyter-widgets/base",
            "_view_module_version": "1.2.0",
            "_view_name": "LayoutView",
            "align_content": null,
            "align_items": null,
            "align_self": null,
            "border": null,
            "bottom": null,
            "display": null,
            "flex": null,
            "flex_flow": null,
            "grid_area": null,
            "grid_auto_columns": null,
            "grid_auto_flow": null,
            "grid_auto_rows": null,
            "grid_column": null,
            "grid_gap": null,
            "grid_row": null,
            "grid_template_areas": null,
            "grid_template_columns": null,
            "grid_template_rows": null,
            "height": null,
            "justify_content": null,
            "justify_items": null,
            "left": null,
            "margin": null,
            "max_height": null,
            "max_width": null,
            "min_height": null,
            "min_width": null,
            "object_fit": null,
            "object_position": null,
            "order": null,
            "overflow": null,
            "overflow_x": null,
            "overflow_y": null,
            "padding": null,
            "right": null,
            "top": null,
            "visibility": null,
            "width": null
          }
        },
        "9e46f62410ca45458c68b4386710d167": {
          "model_module": "@jupyter-widgets/controls",
          "model_name": "DescriptionStyleModel",
          "model_module_version": "1.5.0",
          "state": {
            "_model_module": "@jupyter-widgets/controls",
            "_model_module_version": "1.5.0",
            "_model_name": "DescriptionStyleModel",
            "_view_count": null,
            "_view_module": "@jupyter-widgets/base",
            "_view_module_version": "1.2.0",
            "_view_name": "StyleView",
            "description_width": ""
          }
        },
        "8daf1bfe22ed41ecb8e5d4eb573a2cf1": {
          "model_module": "@jupyter-widgets/base",
          "model_name": "LayoutModel",
          "model_module_version": "1.2.0",
          "state": {
            "_model_module": "@jupyter-widgets/base",
            "_model_module_version": "1.2.0",
            "_model_name": "LayoutModel",
            "_view_count": null,
            "_view_module": "@jupyter-widgets/base",
            "_view_module_version": "1.2.0",
            "_view_name": "LayoutView",
            "align_content": null,
            "align_items": null,
            "align_self": null,
            "border": null,
            "bottom": null,
            "display": null,
            "flex": null,
            "flex_flow": null,
            "grid_area": null,
            "grid_auto_columns": null,
            "grid_auto_flow": null,
            "grid_auto_rows": null,
            "grid_column": null,
            "grid_gap": null,
            "grid_row": null,
            "grid_template_areas": null,
            "grid_template_columns": null,
            "grid_template_rows": null,
            "height": null,
            "justify_content": null,
            "justify_items": null,
            "left": null,
            "margin": null,
            "max_height": null,
            "max_width": null,
            "min_height": null,
            "min_width": null,
            "object_fit": null,
            "object_position": null,
            "order": null,
            "overflow": null,
            "overflow_x": null,
            "overflow_y": null,
            "padding": null,
            "right": null,
            "top": null,
            "visibility": null,
            "width": null
          }
        },
        "688897812d1b4b0c8e7bb4af7074dcf1": {
          "model_module": "@jupyter-widgets/controls",
          "model_name": "ProgressStyleModel",
          "model_module_version": "1.5.0",
          "state": {
            "_model_module": "@jupyter-widgets/controls",
            "_model_module_version": "1.5.0",
            "_model_name": "ProgressStyleModel",
            "_view_count": null,
            "_view_module": "@jupyter-widgets/base",
            "_view_module_version": "1.2.0",
            "_view_name": "StyleView",
            "bar_color": null,
            "description_width": ""
          }
        },
        "d899f88c8ff64ee39114de9c7df0a828": {
          "model_module": "@jupyter-widgets/base",
          "model_name": "LayoutModel",
          "model_module_version": "1.2.0",
          "state": {
            "_model_module": "@jupyter-widgets/base",
            "_model_module_version": "1.2.0",
            "_model_name": "LayoutModel",
            "_view_count": null,
            "_view_module": "@jupyter-widgets/base",
            "_view_module_version": "1.2.0",
            "_view_name": "LayoutView",
            "align_content": null,
            "align_items": null,
            "align_self": null,
            "border": null,
            "bottom": null,
            "display": null,
            "flex": null,
            "flex_flow": null,
            "grid_area": null,
            "grid_auto_columns": null,
            "grid_auto_flow": null,
            "grid_auto_rows": null,
            "grid_column": null,
            "grid_gap": null,
            "grid_row": null,
            "grid_template_areas": null,
            "grid_template_columns": null,
            "grid_template_rows": null,
            "height": null,
            "justify_content": null,
            "justify_items": null,
            "left": null,
            "margin": null,
            "max_height": null,
            "max_width": null,
            "min_height": null,
            "min_width": null,
            "object_fit": null,
            "object_position": null,
            "order": null,
            "overflow": null,
            "overflow_x": null,
            "overflow_y": null,
            "padding": null,
            "right": null,
            "top": null,
            "visibility": null,
            "width": null
          }
        },
        "a88b35fe1e304487b5d0ba894e6fa0c4": {
          "model_module": "@jupyter-widgets/controls",
          "model_name": "DescriptionStyleModel",
          "model_module_version": "1.5.0",
          "state": {
            "_model_module": "@jupyter-widgets/controls",
            "_model_module_version": "1.5.0",
            "_model_name": "DescriptionStyleModel",
            "_view_count": null,
            "_view_module": "@jupyter-widgets/base",
            "_view_module_version": "1.2.0",
            "_view_name": "StyleView",
            "description_width": ""
          }
        },
        "01add398ab144b3ba68dd3d61b4913ec": {
          "model_module": "@jupyter-widgets/controls",
          "model_name": "HBoxModel",
          "model_module_version": "1.5.0",
          "state": {
            "_dom_classes": [],
            "_model_module": "@jupyter-widgets/controls",
            "_model_module_version": "1.5.0",
            "_model_name": "HBoxModel",
            "_view_count": null,
            "_view_module": "@jupyter-widgets/controls",
            "_view_module_version": "1.5.0",
            "_view_name": "HBoxView",
            "box_style": "",
            "children": [
              "IPY_MODEL_757d17b4674e46fabf42d3e2f5fe029a",
              "IPY_MODEL_069bf2b78d344cd9ae07fc86407e60d2",
              "IPY_MODEL_1c9cc131873e4e29a897542b07e24392"
            ],
            "layout": "IPY_MODEL_e2aa5e69ce634f9eb395a14ab3f9a739"
          }
        },
        "757d17b4674e46fabf42d3e2f5fe029a": {
          "model_module": "@jupyter-widgets/controls",
          "model_name": "HTMLModel",
          "model_module_version": "1.5.0",
          "state": {
            "_dom_classes": [],
            "_model_module": "@jupyter-widgets/controls",
            "_model_module_version": "1.5.0",
            "_model_name": "HTMLModel",
            "_view_count": null,
            "_view_module": "@jupyter-widgets/controls",
            "_view_module_version": "1.5.0",
            "_view_name": "HTMLView",
            "description": "",
            "description_tooltip": null,
            "layout": "IPY_MODEL_7d1b1a46217d4ee28b2af159acca4009",
            "placeholder": "​",
            "style": "IPY_MODEL_f0c9d05a0943403e90d00d853cff7ee2",
            "value": "tokenizer.json: 100%"
          }
        },
        "069bf2b78d344cd9ae07fc86407e60d2": {
          "model_module": "@jupyter-widgets/controls",
          "model_name": "FloatProgressModel",
          "model_module_version": "1.5.0",
          "state": {
            "_dom_classes": [],
            "_model_module": "@jupyter-widgets/controls",
            "_model_module_version": "1.5.0",
            "_model_name": "FloatProgressModel",
            "_view_count": null,
            "_view_module": "@jupyter-widgets/controls",
            "_view_module_version": "1.5.0",
            "_view_name": "ProgressView",
            "bar_style": "success",
            "description": "",
            "description_tooltip": null,
            "layout": "IPY_MODEL_1983c4d2db0c4fbaadebb219dbc79ffa",
            "max": 1382015,
            "min": 0,
            "orientation": "horizontal",
            "style": "IPY_MODEL_b7483266d93b4c4397a3b9d7142dd139",
            "value": 1382015
          }
        },
        "1c9cc131873e4e29a897542b07e24392": {
          "model_module": "@jupyter-widgets/controls",
          "model_name": "HTMLModel",
          "model_module_version": "1.5.0",
          "state": {
            "_dom_classes": [],
            "_model_module": "@jupyter-widgets/controls",
            "_model_module_version": "1.5.0",
            "_model_name": "HTMLModel",
            "_view_count": null,
            "_view_module": "@jupyter-widgets/controls",
            "_view_module_version": "1.5.0",
            "_view_name": "HTMLView",
            "description": "",
            "description_tooltip": null,
            "layout": "IPY_MODEL_3f45ecb81a0e4b219764de12c6e96656",
            "placeholder": "​",
            "style": "IPY_MODEL_24024f7f7ff740b5bce13e775198e44e",
            "value": " 1.38M/1.38M [00:00&lt;00:00, 19.7MB/s]"
          }
        },
        "e2aa5e69ce634f9eb395a14ab3f9a739": {
          "model_module": "@jupyter-widgets/base",
          "model_name": "LayoutModel",
          "model_module_version": "1.2.0",
          "state": {
            "_model_module": "@jupyter-widgets/base",
            "_model_module_version": "1.2.0",
            "_model_name": "LayoutModel",
            "_view_count": null,
            "_view_module": "@jupyter-widgets/base",
            "_view_module_version": "1.2.0",
            "_view_name": "LayoutView",
            "align_content": null,
            "align_items": null,
            "align_self": null,
            "border": null,
            "bottom": null,
            "display": null,
            "flex": null,
            "flex_flow": null,
            "grid_area": null,
            "grid_auto_columns": null,
            "grid_auto_flow": null,
            "grid_auto_rows": null,
            "grid_column": null,
            "grid_gap": null,
            "grid_row": null,
            "grid_template_areas": null,
            "grid_template_columns": null,
            "grid_template_rows": null,
            "height": null,
            "justify_content": null,
            "justify_items": null,
            "left": null,
            "margin": null,
            "max_height": null,
            "max_width": null,
            "min_height": null,
            "min_width": null,
            "object_fit": null,
            "object_position": null,
            "order": null,
            "overflow": null,
            "overflow_x": null,
            "overflow_y": null,
            "padding": null,
            "right": null,
            "top": null,
            "visibility": null,
            "width": null
          }
        },
        "7d1b1a46217d4ee28b2af159acca4009": {
          "model_module": "@jupyter-widgets/base",
          "model_name": "LayoutModel",
          "model_module_version": "1.2.0",
          "state": {
            "_model_module": "@jupyter-widgets/base",
            "_model_module_version": "1.2.0",
            "_model_name": "LayoutModel",
            "_view_count": null,
            "_view_module": "@jupyter-widgets/base",
            "_view_module_version": "1.2.0",
            "_view_name": "LayoutView",
            "align_content": null,
            "align_items": null,
            "align_self": null,
            "border": null,
            "bottom": null,
            "display": null,
            "flex": null,
            "flex_flow": null,
            "grid_area": null,
            "grid_auto_columns": null,
            "grid_auto_flow": null,
            "grid_auto_rows": null,
            "grid_column": null,
            "grid_gap": null,
            "grid_row": null,
            "grid_template_areas": null,
            "grid_template_columns": null,
            "grid_template_rows": null,
            "height": null,
            "justify_content": null,
            "justify_items": null,
            "left": null,
            "margin": null,
            "max_height": null,
            "max_width": null,
            "min_height": null,
            "min_width": null,
            "object_fit": null,
            "object_position": null,
            "order": null,
            "overflow": null,
            "overflow_x": null,
            "overflow_y": null,
            "padding": null,
            "right": null,
            "top": null,
            "visibility": null,
            "width": null
          }
        },
        "f0c9d05a0943403e90d00d853cff7ee2": {
          "model_module": "@jupyter-widgets/controls",
          "model_name": "DescriptionStyleModel",
          "model_module_version": "1.5.0",
          "state": {
            "_model_module": "@jupyter-widgets/controls",
            "_model_module_version": "1.5.0",
            "_model_name": "DescriptionStyleModel",
            "_view_count": null,
            "_view_module": "@jupyter-widgets/base",
            "_view_module_version": "1.2.0",
            "_view_name": "StyleView",
            "description_width": ""
          }
        },
        "1983c4d2db0c4fbaadebb219dbc79ffa": {
          "model_module": "@jupyter-widgets/base",
          "model_name": "LayoutModel",
          "model_module_version": "1.2.0",
          "state": {
            "_model_module": "@jupyter-widgets/base",
            "_model_module_version": "1.2.0",
            "_model_name": "LayoutModel",
            "_view_count": null,
            "_view_module": "@jupyter-widgets/base",
            "_view_module_version": "1.2.0",
            "_view_name": "LayoutView",
            "align_content": null,
            "align_items": null,
            "align_self": null,
            "border": null,
            "bottom": null,
            "display": null,
            "flex": null,
            "flex_flow": null,
            "grid_area": null,
            "grid_auto_columns": null,
            "grid_auto_flow": null,
            "grid_auto_rows": null,
            "grid_column": null,
            "grid_gap": null,
            "grid_row": null,
            "grid_template_areas": null,
            "grid_template_columns": null,
            "grid_template_rows": null,
            "height": null,
            "justify_content": null,
            "justify_items": null,
            "left": null,
            "margin": null,
            "max_height": null,
            "max_width": null,
            "min_height": null,
            "min_width": null,
            "object_fit": null,
            "object_position": null,
            "order": null,
            "overflow": null,
            "overflow_x": null,
            "overflow_y": null,
            "padding": null,
            "right": null,
            "top": null,
            "visibility": null,
            "width": null
          }
        },
        "b7483266d93b4c4397a3b9d7142dd139": {
          "model_module": "@jupyter-widgets/controls",
          "model_name": "ProgressStyleModel",
          "model_module_version": "1.5.0",
          "state": {
            "_model_module": "@jupyter-widgets/controls",
            "_model_module_version": "1.5.0",
            "_model_name": "ProgressStyleModel",
            "_view_count": null,
            "_view_module": "@jupyter-widgets/base",
            "_view_module_version": "1.2.0",
            "_view_name": "StyleView",
            "bar_color": null,
            "description_width": ""
          }
        },
        "3f45ecb81a0e4b219764de12c6e96656": {
          "model_module": "@jupyter-widgets/base",
          "model_name": "LayoutModel",
          "model_module_version": "1.2.0",
          "state": {
            "_model_module": "@jupyter-widgets/base",
            "_model_module_version": "1.2.0",
            "_model_name": "LayoutModel",
            "_view_count": null,
            "_view_module": "@jupyter-widgets/base",
            "_view_module_version": "1.2.0",
            "_view_name": "LayoutView",
            "align_content": null,
            "align_items": null,
            "align_self": null,
            "border": null,
            "bottom": null,
            "display": null,
            "flex": null,
            "flex_flow": null,
            "grid_area": null,
            "grid_auto_columns": null,
            "grid_auto_flow": null,
            "grid_auto_rows": null,
            "grid_column": null,
            "grid_gap": null,
            "grid_row": null,
            "grid_template_areas": null,
            "grid_template_columns": null,
            "grid_template_rows": null,
            "height": null,
            "justify_content": null,
            "justify_items": null,
            "left": null,
            "margin": null,
            "max_height": null,
            "max_width": null,
            "min_height": null,
            "min_width": null,
            "object_fit": null,
            "object_position": null,
            "order": null,
            "overflow": null,
            "overflow_x": null,
            "overflow_y": null,
            "padding": null,
            "right": null,
            "top": null,
            "visibility": null,
            "width": null
          }
        },
        "24024f7f7ff740b5bce13e775198e44e": {
          "model_module": "@jupyter-widgets/controls",
          "model_name": "DescriptionStyleModel",
          "model_module_version": "1.5.0",
          "state": {
            "_model_module": "@jupyter-widgets/controls",
            "_model_module_version": "1.5.0",
            "_model_name": "DescriptionStyleModel",
            "_view_count": null,
            "_view_module": "@jupyter-widgets/base",
            "_view_module_version": "1.2.0",
            "_view_name": "StyleView",
            "description_width": ""
          }
        }
      }
    }
  },
  "nbformat": 4,
  "nbformat_minor": 0
}