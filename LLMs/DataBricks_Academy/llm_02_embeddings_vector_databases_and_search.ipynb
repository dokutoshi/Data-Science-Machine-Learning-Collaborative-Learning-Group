{
  "cells": [
    {
      "cell_type": "markdown",
      "id": "ee9c6053",
      "metadata": {
        "papermill": {
          "duration": 0.021989,
          "end_time": "2023-09-07T06:49:09.577665",
          "exception": false,
          "start_time": "2023-09-07T06:49:09.555676",
          "status": "completed"
        },
        "tags": [],
        "id": "ee9c6053"
      },
      "source": [
        "## ⚡ Further Notebooks In This Course ⚡"
      ]
    },
    {
      "cell_type": "markdown",
      "id": "8ab4bcc8",
      "metadata": {
        "papermill": {
          "duration": 0.01986,
          "end_time": "2023-09-07T06:49:09.619293",
          "exception": false,
          "start_time": "2023-09-07T06:49:09.599433",
          "status": "completed"
        },
        "tags": [],
        "id": "8ab4bcc8"
      },
      "source": [
        "**Notebooks:**\n",
        "1. [LLM 01 - How to use LLMs with Hugging Face](https://www.kaggle.com/code/aliabdin1/llm-01-llms-with-hugging-face)\n",
        "2. [LLM 02 - Embeddings, Vector Databases, and Search](https://www.kaggle.com/code/aliabdin1/llm-02-embeddings-vector-databases-and-search)\n",
        "3. [LLM 03 - Building LLM Chain](https://www.kaggle.com/code/aliabdin1/llm-03-building-llm-chain)\n",
        "4. [LLM 04a - Fine-tuning LLMs](https://www.kaggle.com/code/aliabdin1/llm-04a-fine-tuning-llms)\n",
        "4. [LLM 04b - Evaluating LLMs](https://www.kaggle.com/code/aliabdin1/llm-04b-evaluating-llms)\n",
        "5. [LLM 05 - Biased LLMs and Society](https://www.kaggle.com/code/aliabdin1/llm-05-llms-and-society)\n",
        "6. [LLM 06 - LLMOps](https://www.kaggle.com/code/aliabdin1/llm-06-llmops)\n",
        "\n",
        "**Hands-on Lab Notebooks:**\n",
        "1. [LLM 01L - How to use LLMs with Hugging Face Lab](https://www.kaggle.com/code/aliabdin1/llm-01l-llms-with-hugging-face-lab)\n",
        "2. [LLM 02L - Embeddings, Vector Databases, and Search Lab](https://www.kaggle.com/code/aliabdin1/llm-02l-embeddings-vector-databases-and-search)\n",
        "3. [LLM 03L - Building LLM Chains Lab](https://www.kaggle.com/code/aliabdin1/llm-03l-building-llm-chains-lab)\n",
        "4. [LLM 04L - Fine-tuning LLMs Lab](https://www.kaggle.com/code/aliabdin1/llm-04l-fine-tuning-llms-lab)\n",
        "5. [LLM 05L - Biased LLMs and Society Lab](https://www.kaggle.com/code/aliabdin1/llm-05l-llms-and-society-lab)"
      ]
    },
    {
      "cell_type": "markdown",
      "id": "38b8ac75",
      "metadata": {
        "application/vnd.databricks.v1+cell": {
          "cellMetadata": {},
          "inputWidgets": {},
          "nuid": "b29adc71-b1ae-41fb-8d60-5183aba40745",
          "showTitle": false,
          "title": ""
        },
        "papermill": {
          "duration": 0.019845,
          "end_time": "2023-09-07T06:49:09.659193",
          "exception": false,
          "start_time": "2023-09-07T06:49:09.639348",
          "status": "completed"
        },
        "tags": [],
        "id": "38b8ac75"
      },
      "source": [
        "<div style=\"text-align: center; line-height: 0; padding-top: 9px;\">\n",
        "  <img src=\"https://databricks.com/wp-content/uploads/2018/03/db-academy-rgb-1200px.png\" alt=\"Databricks Learning\" style=\"width: 600px\">\n",
        "</div>"
      ]
    },
    {
      "cell_type": "markdown",
      "id": "c12aad7f",
      "metadata": {
        "application/vnd.databricks.v1+cell": {
          "cellMetadata": {},
          "inputWidgets": {},
          "nuid": "89833fe5-7ecd-4dfd-ae08-80267f4ddd98",
          "showTitle": false,
          "title": ""
        },
        "papermill": {
          "duration": 0.020164,
          "end_time": "2023-09-07T06:49:09.699565",
          "exception": false,
          "start_time": "2023-09-07T06:49:09.679401",
          "status": "completed"
        },
        "tags": [],
        "id": "c12aad7f"
      },
      "source": [
        "# Embeddings, Vector Databases, and Search\n",
        "\n",
        "Converting text into embedding vectors is the first step to any text processing pipeline. As the amount of text gets larger, there is often a need to save these embedding vectors into a dedicated vector index or library, so that developers won't have to recompute the embeddings and the retrieval process is faster. We can then search for documents based on our intended query and pass these relevant documents into a language model (LM) as additional context. We also refer to this context as supplying the LM with \"state\" or \"memory\". The LM then generates a response based on the additional context it receives!\n",
        "\n",
        "In this notebook, we will implement the full workflow of text vectorization, vector search, and question answering workflow. While we use [FAISS](https://faiss.ai/) (vector library) and [ChromaDB](https://docs.trychroma.com/) (vector database), and a Hugging Face model, know that you can easily swap these tools out for your preferred tools or models!\n",
        "\n",
        "<img src=\"https://files.training.databricks.com/images/llm/updated_vector_search.png\" width=1000 target=\"_blank\" >\n",
        "\n",
        "### ![Dolly](https://files.training.databricks.com/images/llm/dolly_small.png) Learning Objectives\n",
        "1. Implement the workflow of reading text, converting text to embeddings, saving them to FAISS and ChromaDB\n",
        "2. Query for similar documents using FAISS and ChromaDB\n",
        "3. Apply a Hugging Face language model for question answering!"
      ]
    },
    {
      "cell_type": "code",
      "execution_count": 1,
      "id": "ada6c5e0",
      "metadata": {
        "application/vnd.databricks.v1+cell": {
          "cellMetadata": {
            "byteLimit": 2048000,
            "rowLimit": 10000
          },
          "inputWidgets": {},
          "nuid": "dec485a4-a344-49b6-87a9-d90cf84f76cb",
          "showTitle": false,
          "title": ""
        },
        "execution": {
          "iopub.execute_input": "2023-09-07T06:49:09.742225Z",
          "iopub.status.busy": "2023-09-07T06:49:09.741549Z",
          "iopub.status.idle": "2023-09-07T06:50:09.821359Z",
          "shell.execute_reply": "2023-09-07T06:50:09.819566Z"
        },
        "papermill": {
          "duration": 60.10406,
          "end_time": "2023-09-07T06:50:09.824096",
          "exception": false,
          "start_time": "2023-09-07T06:49:09.720036",
          "status": "completed"
        },
        "tags": [],
        "id": "ada6c5e0"
      },
      "outputs": [],
      "source": [
        "%%capture\n",
        "%pip install faiss-cpu==1.7.4 chromadb==0.3.21"
      ]
    },
    {
      "cell_type": "markdown",
      "id": "09aa6771",
      "metadata": {
        "application/vnd.databricks.v1+cell": {
          "cellMetadata": {},
          "inputWidgets": {},
          "nuid": "a066114f-d148-45e0-81b5-9f6ac3f7e8ec",
          "showTitle": false,
          "title": ""
        },
        "papermill": {
          "duration": 0.028615,
          "end_time": "2023-09-07T06:50:09.880007",
          "exception": false,
          "start_time": "2023-09-07T06:50:09.851392",
          "status": "completed"
        },
        "tags": [],
        "id": "09aa6771"
      },
      "source": [
        "## Classroom Setup"
      ]
    },
    {
      "cell_type": "code",
      "execution_count": 2,
      "id": "7a2cc798",
      "metadata": {
        "application/vnd.databricks.v1+cell": {
          "cellMetadata": {
            "byteLimit": 2048000,
            "rowLimit": 10000
          },
          "inputWidgets": {},
          "nuid": "642f4121-bf71-46f0-aad7-7575a3ab338f",
          "showTitle": false,
          "title": ""
        },
        "execution": {
          "iopub.execute_input": "2023-09-07T06:50:09.936491Z",
          "iopub.status.busy": "2023-09-07T06:50:09.936064Z",
          "iopub.status.idle": "2023-09-07T06:50:09.941087Z",
          "shell.execute_reply": "2023-09-07T06:50:09.939978Z"
        },
        "papermill": {
          "duration": 0.036254,
          "end_time": "2023-09-07T06:50:09.943430",
          "exception": false,
          "start_time": "2023-09-07T06:50:09.907176",
          "status": "completed"
        },
        "tags": [],
        "id": "7a2cc798"
      },
      "outputs": [],
      "source": [
        "#%run ../Includes/Classroom-Setup"
      ]
    },
    {
      "cell_type": "markdown",
      "id": "3089e26e",
      "metadata": {
        "application/vnd.databricks.v1+cell": {
          "cellMetadata": {},
          "inputWidgets": {},
          "nuid": "1991f2ec-5d23-476c-be89-2e110206eb22",
          "showTitle": false,
          "title": ""
        },
        "papermill": {
          "duration": 0.027451,
          "end_time": "2023-09-07T06:50:09.998089",
          "exception": false,
          "start_time": "2023-09-07T06:50:09.970638",
          "status": "completed"
        },
        "tags": [],
        "id": "3089e26e"
      },
      "source": [
        "## Step 1: Reading data\n",
        "\n",
        "In this section, we are going to use the data on <a href=\"https://newscatcherapi.com/\" target=\"_blank\">news topics collected by the NewsCatcher team</a>, who collect and index news articles and release them to the open-source community. The dataset can be downloaded from <a href=\"https://www.kaggle.com/kotartemiy/topic-labeled-news-dataset\" target=\"_blank\">Kaggle</a>."
      ]
    },
    {
      "cell_type": "code",
      "execution_count": 3,
      "id": "e47386e1",
      "metadata": {
        "application/vnd.databricks.v1+cell": {
          "cellMetadata": {
            "byteLimit": 2048000,
            "rowLimit": 10000
          },
          "inputWidgets": {},
          "nuid": "180e7264-19e6-47ac-a3dd-7167b33821bc",
          "showTitle": false,
          "title": ""
        },
        "execution": {
          "iopub.execute_input": "2023-09-07T06:50:10.054549Z",
          "iopub.status.busy": "2023-09-07T06:50:10.053818Z",
          "iopub.status.idle": "2023-09-07T06:50:11.090701Z",
          "shell.execute_reply": "2023-09-07T06:50:11.089492Z"
        },
        "papermill": {
          "duration": 1.067896,
          "end_time": "2023-09-07T06:50:11.093189",
          "exception": false,
          "start_time": "2023-09-07T06:50:10.025293",
          "status": "completed"
        },
        "tags": [],
        "colab": {
          "base_uri": "https://localhost:8080/",
          "height": 921
        },
        "id": "e47386e1",
        "outputId": "531d5542-2a17-4143-8583-f11c80ab1a0f"
      },
      "outputs": [
        {
          "output_type": "display_data",
          "data": {
            "text/plain": [
              "<IPython.core.display.HTML object>"
            ],
            "text/html": [
              "\n",
              "     <input type=\"file\" id=\"files-be630ceb-2394-43d6-9ff6-d9c2be65014d\" name=\"files[]\" multiple disabled\n",
              "        style=\"border:none\" />\n",
              "     <output id=\"result-be630ceb-2394-43d6-9ff6-d9c2be65014d\">\n",
              "      Upload widget is only available when the cell has been executed in the\n",
              "      current browser session. Please rerun this cell to enable.\n",
              "      </output>\n",
              "      <script>// Copyright 2017 Google LLC\n",
              "//\n",
              "// Licensed under the Apache License, Version 2.0 (the \"License\");\n",
              "// you may not use this file except in compliance with the License.\n",
              "// You may obtain a copy of the License at\n",
              "//\n",
              "//      http://www.apache.org/licenses/LICENSE-2.0\n",
              "//\n",
              "// Unless required by applicable law or agreed to in writing, software\n",
              "// distributed under the License is distributed on an \"AS IS\" BASIS,\n",
              "// WITHOUT WARRANTIES OR CONDITIONS OF ANY KIND, either express or implied.\n",
              "// See the License for the specific language governing permissions and\n",
              "// limitations under the License.\n",
              "\n",
              "/**\n",
              " * @fileoverview Helpers for google.colab Python module.\n",
              " */\n",
              "(function(scope) {\n",
              "function span(text, styleAttributes = {}) {\n",
              "  const element = document.createElement('span');\n",
              "  element.textContent = text;\n",
              "  for (const key of Object.keys(styleAttributes)) {\n",
              "    element.style[key] = styleAttributes[key];\n",
              "  }\n",
              "  return element;\n",
              "}\n",
              "\n",
              "// Max number of bytes which will be uploaded at a time.\n",
              "const MAX_PAYLOAD_SIZE = 100 * 1024;\n",
              "\n",
              "function _uploadFiles(inputId, outputId) {\n",
              "  const steps = uploadFilesStep(inputId, outputId);\n",
              "  const outputElement = document.getElementById(outputId);\n",
              "  // Cache steps on the outputElement to make it available for the next call\n",
              "  // to uploadFilesContinue from Python.\n",
              "  outputElement.steps = steps;\n",
              "\n",
              "  return _uploadFilesContinue(outputId);\n",
              "}\n",
              "\n",
              "// This is roughly an async generator (not supported in the browser yet),\n",
              "// where there are multiple asynchronous steps and the Python side is going\n",
              "// to poll for completion of each step.\n",
              "// This uses a Promise to block the python side on completion of each step,\n",
              "// then passes the result of the previous step as the input to the next step.\n",
              "function _uploadFilesContinue(outputId) {\n",
              "  const outputElement = document.getElementById(outputId);\n",
              "  const steps = outputElement.steps;\n",
              "\n",
              "  const next = steps.next(outputElement.lastPromiseValue);\n",
              "  return Promise.resolve(next.value.promise).then((value) => {\n",
              "    // Cache the last promise value to make it available to the next\n",
              "    // step of the generator.\n",
              "    outputElement.lastPromiseValue = value;\n",
              "    return next.value.response;\n",
              "  });\n",
              "}\n",
              "\n",
              "/**\n",
              " * Generator function which is called between each async step of the upload\n",
              " * process.\n",
              " * @param {string} inputId Element ID of the input file picker element.\n",
              " * @param {string} outputId Element ID of the output display.\n",
              " * @return {!Iterable<!Object>} Iterable of next steps.\n",
              " */\n",
              "function* uploadFilesStep(inputId, outputId) {\n",
              "  const inputElement = document.getElementById(inputId);\n",
              "  inputElement.disabled = false;\n",
              "\n",
              "  const outputElement = document.getElementById(outputId);\n",
              "  outputElement.innerHTML = '';\n",
              "\n",
              "  const pickedPromise = new Promise((resolve) => {\n",
              "    inputElement.addEventListener('change', (e) => {\n",
              "      resolve(e.target.files);\n",
              "    });\n",
              "  });\n",
              "\n",
              "  const cancel = document.createElement('button');\n",
              "  inputElement.parentElement.appendChild(cancel);\n",
              "  cancel.textContent = 'Cancel upload';\n",
              "  const cancelPromise = new Promise((resolve) => {\n",
              "    cancel.onclick = () => {\n",
              "      resolve(null);\n",
              "    };\n",
              "  });\n",
              "\n",
              "  // Wait for the user to pick the files.\n",
              "  const files = yield {\n",
              "    promise: Promise.race([pickedPromise, cancelPromise]),\n",
              "    response: {\n",
              "      action: 'starting',\n",
              "    }\n",
              "  };\n",
              "\n",
              "  cancel.remove();\n",
              "\n",
              "  // Disable the input element since further picks are not allowed.\n",
              "  inputElement.disabled = true;\n",
              "\n",
              "  if (!files) {\n",
              "    return {\n",
              "      response: {\n",
              "        action: 'complete',\n",
              "      }\n",
              "    };\n",
              "  }\n",
              "\n",
              "  for (const file of files) {\n",
              "    const li = document.createElement('li');\n",
              "    li.append(span(file.name, {fontWeight: 'bold'}));\n",
              "    li.append(span(\n",
              "        `(${file.type || 'n/a'}) - ${file.size} bytes, ` +\n",
              "        `last modified: ${\n",
              "            file.lastModifiedDate ? file.lastModifiedDate.toLocaleDateString() :\n",
              "                                    'n/a'} - `));\n",
              "    const percent = span('0% done');\n",
              "    li.appendChild(percent);\n",
              "\n",
              "    outputElement.appendChild(li);\n",
              "\n",
              "    const fileDataPromise = new Promise((resolve) => {\n",
              "      const reader = new FileReader();\n",
              "      reader.onload = (e) => {\n",
              "        resolve(e.target.result);\n",
              "      };\n",
              "      reader.readAsArrayBuffer(file);\n",
              "    });\n",
              "    // Wait for the data to be ready.\n",
              "    let fileData = yield {\n",
              "      promise: fileDataPromise,\n",
              "      response: {\n",
              "        action: 'continue',\n",
              "      }\n",
              "    };\n",
              "\n",
              "    // Use a chunked sending to avoid message size limits. See b/62115660.\n",
              "    let position = 0;\n",
              "    do {\n",
              "      const length = Math.min(fileData.byteLength - position, MAX_PAYLOAD_SIZE);\n",
              "      const chunk = new Uint8Array(fileData, position, length);\n",
              "      position += length;\n",
              "\n",
              "      const base64 = btoa(String.fromCharCode.apply(null, chunk));\n",
              "      yield {\n",
              "        response: {\n",
              "          action: 'append',\n",
              "          file: file.name,\n",
              "          data: base64,\n",
              "        },\n",
              "      };\n",
              "\n",
              "      let percentDone = fileData.byteLength === 0 ?\n",
              "          100 :\n",
              "          Math.round((position / fileData.byteLength) * 100);\n",
              "      percent.textContent = `${percentDone}% done`;\n",
              "\n",
              "    } while (position < fileData.byteLength);\n",
              "  }\n",
              "\n",
              "  // All done.\n",
              "  yield {\n",
              "    response: {\n",
              "      action: 'complete',\n",
              "    }\n",
              "  };\n",
              "}\n",
              "\n",
              "scope.google = scope.google || {};\n",
              "scope.google.colab = scope.google.colab || {};\n",
              "scope.google.colab._files = {\n",
              "  _uploadFiles,\n",
              "  _uploadFilesContinue,\n",
              "};\n",
              "})(self);\n",
              "</script> "
            ]
          },
          "metadata": {}
        },
        {
          "output_type": "stream",
          "name": "stdout",
          "text": [
            "Saving kaggle.json to kaggle (5).json\n",
            "Dataset URL: https://www.kaggle.com/datasets/kotartemiy/topic-labeled-news-dataset\n",
            "License(s): CC0-1.0\n",
            "topic-labeled-news-dataset.zip: Skipping, found more recently modified local copy (use --force to force download)\n",
            "Archive:  topic-labeled-news-dataset.zip\n",
            "replace labelled_newscatcher_dataset.csv? [y]es, [n]o, [A]ll, [N]one, [r]ename: y\n",
            "  inflating: labelled_newscatcher_dataset.csv  \n"
          ]
        },
        {
          "output_type": "display_data",
          "data": {
            "text/plain": [
              "                topic                                               link  \\\n",
              "0             SCIENCE  https://www.eurekalert.org/pub_releases/2020-0...   \n",
              "1             SCIENCE  https://www.pulse.ng/news/world/an-irresistibl...   \n",
              "2             SCIENCE  https://www.express.co.uk/news/science/1322607...   \n",
              "3             SCIENCE  https://www.ndtv.com/world-news/glaciers-could...   \n",
              "4             SCIENCE  https://www.thesun.ie/tech/5742187/perseid-met...   \n",
              "...               ...                                                ...   \n",
              "108769         NATION  https://www.vanguardngr.com/2020/08/pdp-govern...   \n",
              "108770       BUSINESS  https://www.patentlyapple.com/patently-apple/2...   \n",
              "108771         HEALTH  https://www.belfastlive.co.uk/news/health/coro...   \n",
              "108772  ENTERTAINMENT  https://www.thenews.com.pk/latest/696364-paul-...   \n",
              "108773         SPORTS  https://www.balls.ie/football/shane-duffy-brig...   \n",
              "\n",
              "                   domain       published_date  \\\n",
              "0          eurekalert.org  2020-08-06 13:59:45   \n",
              "1                pulse.ng  2020-08-12 15:14:19   \n",
              "2           express.co.uk  2020-08-13 21:01:00   \n",
              "3                ndtv.com  2020-08-03 22:18:26   \n",
              "4               thesun.ie  2020-08-12 19:54:36   \n",
              "...                   ...                  ...   \n",
              "108769    vanguardngr.com  2020-08-08 02:40:00   \n",
              "108770  patentlyapple.com  2020-08-08 01:27:12   \n",
              "108771  belfastlive.co.uk  2020-08-12 17:01:00   \n",
              "108772     thenews.com.pk  2020-08-05 04:59:00   \n",
              "108773           balls.ie  2020-08-09 10:25:26   \n",
              "\n",
              "                                                    title lang      id  \n",
              "0       A closer look at water-splitting's solar fuel ...   en       0  \n",
              "1       An irresistible scent makes locusts swarm, stu...   en       1  \n",
              "2       Artificial intelligence warning: AI will know ...   en       2  \n",
              "3        Glaciers Could Have Sculpted Mars Valleys: Study   en       3  \n",
              "4       Perseid meteor shower 2020: What time and how ...   en       4  \n",
              "...                                                   ...  ...     ...  \n",
              "108769  PDP governors’ forum urges security agencies t...   en  108769  \n",
              "108770  In Q2-20, Apple Dominated the Premium Smartpho...   en  108770  \n",
              "108771  Coronavirus Northern Ireland: Full breakdown s...   en  108771  \n",
              "108772  Paul McCartney details post-Beatles distress a...   en  108772  \n",
              "108773  Report: Talks Underway To Keep Shane Duffy In ...   en  108773  \n",
              "\n",
              "[108774 rows x 7 columns]"
            ],
            "text/html": [
              "\n",
              "  <div id=\"df-38867cf3-79f3-4cfb-804d-21da2079cb52\" class=\"colab-df-container\">\n",
              "    <div>\n",
              "<style scoped>\n",
              "    .dataframe tbody tr th:only-of-type {\n",
              "        vertical-align: middle;\n",
              "    }\n",
              "\n",
              "    .dataframe tbody tr th {\n",
              "        vertical-align: top;\n",
              "    }\n",
              "\n",
              "    .dataframe thead th {\n",
              "        text-align: right;\n",
              "    }\n",
              "</style>\n",
              "<table border=\"1\" class=\"dataframe\">\n",
              "  <thead>\n",
              "    <tr style=\"text-align: right;\">\n",
              "      <th></th>\n",
              "      <th>topic</th>\n",
              "      <th>link</th>\n",
              "      <th>domain</th>\n",
              "      <th>published_date</th>\n",
              "      <th>title</th>\n",
              "      <th>lang</th>\n",
              "      <th>id</th>\n",
              "    </tr>\n",
              "  </thead>\n",
              "  <tbody>\n",
              "    <tr>\n",
              "      <th>0</th>\n",
              "      <td>SCIENCE</td>\n",
              "      <td>https://www.eurekalert.org/pub_releases/2020-0...</td>\n",
              "      <td>eurekalert.org</td>\n",
              "      <td>2020-08-06 13:59:45</td>\n",
              "      <td>A closer look at water-splitting's solar fuel ...</td>\n",
              "      <td>en</td>\n",
              "      <td>0</td>\n",
              "    </tr>\n",
              "    <tr>\n",
              "      <th>1</th>\n",
              "      <td>SCIENCE</td>\n",
              "      <td>https://www.pulse.ng/news/world/an-irresistibl...</td>\n",
              "      <td>pulse.ng</td>\n",
              "      <td>2020-08-12 15:14:19</td>\n",
              "      <td>An irresistible scent makes locusts swarm, stu...</td>\n",
              "      <td>en</td>\n",
              "      <td>1</td>\n",
              "    </tr>\n",
              "    <tr>\n",
              "      <th>2</th>\n",
              "      <td>SCIENCE</td>\n",
              "      <td>https://www.express.co.uk/news/science/1322607...</td>\n",
              "      <td>express.co.uk</td>\n",
              "      <td>2020-08-13 21:01:00</td>\n",
              "      <td>Artificial intelligence warning: AI will know ...</td>\n",
              "      <td>en</td>\n",
              "      <td>2</td>\n",
              "    </tr>\n",
              "    <tr>\n",
              "      <th>3</th>\n",
              "      <td>SCIENCE</td>\n",
              "      <td>https://www.ndtv.com/world-news/glaciers-could...</td>\n",
              "      <td>ndtv.com</td>\n",
              "      <td>2020-08-03 22:18:26</td>\n",
              "      <td>Glaciers Could Have Sculpted Mars Valleys: Study</td>\n",
              "      <td>en</td>\n",
              "      <td>3</td>\n",
              "    </tr>\n",
              "    <tr>\n",
              "      <th>4</th>\n",
              "      <td>SCIENCE</td>\n",
              "      <td>https://www.thesun.ie/tech/5742187/perseid-met...</td>\n",
              "      <td>thesun.ie</td>\n",
              "      <td>2020-08-12 19:54:36</td>\n",
              "      <td>Perseid meteor shower 2020: What time and how ...</td>\n",
              "      <td>en</td>\n",
              "      <td>4</td>\n",
              "    </tr>\n",
              "    <tr>\n",
              "      <th>...</th>\n",
              "      <td>...</td>\n",
              "      <td>...</td>\n",
              "      <td>...</td>\n",
              "      <td>...</td>\n",
              "      <td>...</td>\n",
              "      <td>...</td>\n",
              "      <td>...</td>\n",
              "    </tr>\n",
              "    <tr>\n",
              "      <th>108769</th>\n",
              "      <td>NATION</td>\n",
              "      <td>https://www.vanguardngr.com/2020/08/pdp-govern...</td>\n",
              "      <td>vanguardngr.com</td>\n",
              "      <td>2020-08-08 02:40:00</td>\n",
              "      <td>PDP governors’ forum urges security agencies t...</td>\n",
              "      <td>en</td>\n",
              "      <td>108769</td>\n",
              "    </tr>\n",
              "    <tr>\n",
              "      <th>108770</th>\n",
              "      <td>BUSINESS</td>\n",
              "      <td>https://www.patentlyapple.com/patently-apple/2...</td>\n",
              "      <td>patentlyapple.com</td>\n",
              "      <td>2020-08-08 01:27:12</td>\n",
              "      <td>In Q2-20, Apple Dominated the Premium Smartpho...</td>\n",
              "      <td>en</td>\n",
              "      <td>108770</td>\n",
              "    </tr>\n",
              "    <tr>\n",
              "      <th>108771</th>\n",
              "      <td>HEALTH</td>\n",
              "      <td>https://www.belfastlive.co.uk/news/health/coro...</td>\n",
              "      <td>belfastlive.co.uk</td>\n",
              "      <td>2020-08-12 17:01:00</td>\n",
              "      <td>Coronavirus Northern Ireland: Full breakdown s...</td>\n",
              "      <td>en</td>\n",
              "      <td>108771</td>\n",
              "    </tr>\n",
              "    <tr>\n",
              "      <th>108772</th>\n",
              "      <td>ENTERTAINMENT</td>\n",
              "      <td>https://www.thenews.com.pk/latest/696364-paul-...</td>\n",
              "      <td>thenews.com.pk</td>\n",
              "      <td>2020-08-05 04:59:00</td>\n",
              "      <td>Paul McCartney details post-Beatles distress a...</td>\n",
              "      <td>en</td>\n",
              "      <td>108772</td>\n",
              "    </tr>\n",
              "    <tr>\n",
              "      <th>108773</th>\n",
              "      <td>SPORTS</td>\n",
              "      <td>https://www.balls.ie/football/shane-duffy-brig...</td>\n",
              "      <td>balls.ie</td>\n",
              "      <td>2020-08-09 10:25:26</td>\n",
              "      <td>Report: Talks Underway To Keep Shane Duffy In ...</td>\n",
              "      <td>en</td>\n",
              "      <td>108773</td>\n",
              "    </tr>\n",
              "  </tbody>\n",
              "</table>\n",
              "<p>108774 rows × 7 columns</p>\n",
              "</div>\n",
              "    <div class=\"colab-df-buttons\">\n",
              "\n",
              "  <div class=\"colab-df-container\">\n",
              "    <button class=\"colab-df-convert\" onclick=\"convertToInteractive('df-38867cf3-79f3-4cfb-804d-21da2079cb52')\"\n",
              "            title=\"Convert this dataframe to an interactive table.\"\n",
              "            style=\"display:none;\">\n",
              "\n",
              "  <svg xmlns=\"http://www.w3.org/2000/svg\" height=\"24px\" viewBox=\"0 -960 960 960\">\n",
              "    <path d=\"M120-120v-720h720v720H120Zm60-500h600v-160H180v160Zm220 220h160v-160H400v160Zm0 220h160v-160H400v160ZM180-400h160v-160H180v160Zm440 0h160v-160H620v160ZM180-180h160v-160H180v160Zm440 0h160v-160H620v160Z\"/>\n",
              "  </svg>\n",
              "    </button>\n",
              "\n",
              "  <style>\n",
              "    .colab-df-container {\n",
              "      display:flex;\n",
              "      gap: 12px;\n",
              "    }\n",
              "\n",
              "    .colab-df-convert {\n",
              "      background-color: #E8F0FE;\n",
              "      border: none;\n",
              "      border-radius: 50%;\n",
              "      cursor: pointer;\n",
              "      display: none;\n",
              "      fill: #1967D2;\n",
              "      height: 32px;\n",
              "      padding: 0 0 0 0;\n",
              "      width: 32px;\n",
              "    }\n",
              "\n",
              "    .colab-df-convert:hover {\n",
              "      background-color: #E2EBFA;\n",
              "      box-shadow: 0px 1px 2px rgba(60, 64, 67, 0.3), 0px 1px 3px 1px rgba(60, 64, 67, 0.15);\n",
              "      fill: #174EA6;\n",
              "    }\n",
              "\n",
              "    .colab-df-buttons div {\n",
              "      margin-bottom: 4px;\n",
              "    }\n",
              "\n",
              "    [theme=dark] .colab-df-convert {\n",
              "      background-color: #3B4455;\n",
              "      fill: #D2E3FC;\n",
              "    }\n",
              "\n",
              "    [theme=dark] .colab-df-convert:hover {\n",
              "      background-color: #434B5C;\n",
              "      box-shadow: 0px 1px 3px 1px rgba(0, 0, 0, 0.15);\n",
              "      filter: drop-shadow(0px 1px 2px rgba(0, 0, 0, 0.3));\n",
              "      fill: #FFFFFF;\n",
              "    }\n",
              "  </style>\n",
              "\n",
              "    <script>\n",
              "      const buttonEl =\n",
              "        document.querySelector('#df-38867cf3-79f3-4cfb-804d-21da2079cb52 button.colab-df-convert');\n",
              "      buttonEl.style.display =\n",
              "        google.colab.kernel.accessAllowed ? 'block' : 'none';\n",
              "\n",
              "      async function convertToInteractive(key) {\n",
              "        const element = document.querySelector('#df-38867cf3-79f3-4cfb-804d-21da2079cb52');\n",
              "        const dataTable =\n",
              "          await google.colab.kernel.invokeFunction('convertToInteractive',\n",
              "                                                    [key], {});\n",
              "        if (!dataTable) return;\n",
              "\n",
              "        const docLinkHtml = 'Like what you see? Visit the ' +\n",
              "          '<a target=\"_blank\" href=https://colab.research.google.com/notebooks/data_table.ipynb>data table notebook</a>'\n",
              "          + ' to learn more about interactive tables.';\n",
              "        element.innerHTML = '';\n",
              "        dataTable['output_type'] = 'display_data';\n",
              "        await google.colab.output.renderOutput(dataTable, element);\n",
              "        const docLink = document.createElement('div');\n",
              "        docLink.innerHTML = docLinkHtml;\n",
              "        element.appendChild(docLink);\n",
              "      }\n",
              "    </script>\n",
              "  </div>\n",
              "\n",
              "\n",
              "<div id=\"df-21c09672-97f7-4cdb-845e-ea80c395409f\">\n",
              "  <button class=\"colab-df-quickchart\" onclick=\"quickchart('df-21c09672-97f7-4cdb-845e-ea80c395409f')\"\n",
              "            title=\"Suggest charts\"\n",
              "            style=\"display:none;\">\n",
              "\n",
              "<svg xmlns=\"http://www.w3.org/2000/svg\" height=\"24px\"viewBox=\"0 0 24 24\"\n",
              "     width=\"24px\">\n",
              "    <g>\n",
              "        <path d=\"M19 3H5c-1.1 0-2 .9-2 2v14c0 1.1.9 2 2 2h14c1.1 0 2-.9 2-2V5c0-1.1-.9-2-2-2zM9 17H7v-7h2v7zm4 0h-2V7h2v10zm4 0h-2v-4h2v4z\"/>\n",
              "    </g>\n",
              "</svg>\n",
              "  </button>\n",
              "\n",
              "<style>\n",
              "  .colab-df-quickchart {\n",
              "      --bg-color: #E8F0FE;\n",
              "      --fill-color: #1967D2;\n",
              "      --hover-bg-color: #E2EBFA;\n",
              "      --hover-fill-color: #174EA6;\n",
              "      --disabled-fill-color: #AAA;\n",
              "      --disabled-bg-color: #DDD;\n",
              "  }\n",
              "\n",
              "  [theme=dark] .colab-df-quickchart {\n",
              "      --bg-color: #3B4455;\n",
              "      --fill-color: #D2E3FC;\n",
              "      --hover-bg-color: #434B5C;\n",
              "      --hover-fill-color: #FFFFFF;\n",
              "      --disabled-bg-color: #3B4455;\n",
              "      --disabled-fill-color: #666;\n",
              "  }\n",
              "\n",
              "  .colab-df-quickchart {\n",
              "    background-color: var(--bg-color);\n",
              "    border: none;\n",
              "    border-radius: 50%;\n",
              "    cursor: pointer;\n",
              "    display: none;\n",
              "    fill: var(--fill-color);\n",
              "    height: 32px;\n",
              "    padding: 0;\n",
              "    width: 32px;\n",
              "  }\n",
              "\n",
              "  .colab-df-quickchart:hover {\n",
              "    background-color: var(--hover-bg-color);\n",
              "    box-shadow: 0 1px 2px rgba(60, 64, 67, 0.3), 0 1px 3px 1px rgba(60, 64, 67, 0.15);\n",
              "    fill: var(--button-hover-fill-color);\n",
              "  }\n",
              "\n",
              "  .colab-df-quickchart-complete:disabled,\n",
              "  .colab-df-quickchart-complete:disabled:hover {\n",
              "    background-color: var(--disabled-bg-color);\n",
              "    fill: var(--disabled-fill-color);\n",
              "    box-shadow: none;\n",
              "  }\n",
              "\n",
              "  .colab-df-spinner {\n",
              "    border: 2px solid var(--fill-color);\n",
              "    border-color: transparent;\n",
              "    border-bottom-color: var(--fill-color);\n",
              "    animation:\n",
              "      spin 1s steps(1) infinite;\n",
              "  }\n",
              "\n",
              "  @keyframes spin {\n",
              "    0% {\n",
              "      border-color: transparent;\n",
              "      border-bottom-color: var(--fill-color);\n",
              "      border-left-color: var(--fill-color);\n",
              "    }\n",
              "    20% {\n",
              "      border-color: transparent;\n",
              "      border-left-color: var(--fill-color);\n",
              "      border-top-color: var(--fill-color);\n",
              "    }\n",
              "    30% {\n",
              "      border-color: transparent;\n",
              "      border-left-color: var(--fill-color);\n",
              "      border-top-color: var(--fill-color);\n",
              "      border-right-color: var(--fill-color);\n",
              "    }\n",
              "    40% {\n",
              "      border-color: transparent;\n",
              "      border-right-color: var(--fill-color);\n",
              "      border-top-color: var(--fill-color);\n",
              "    }\n",
              "    60% {\n",
              "      border-color: transparent;\n",
              "      border-right-color: var(--fill-color);\n",
              "    }\n",
              "    80% {\n",
              "      border-color: transparent;\n",
              "      border-right-color: var(--fill-color);\n",
              "      border-bottom-color: var(--fill-color);\n",
              "    }\n",
              "    90% {\n",
              "      border-color: transparent;\n",
              "      border-bottom-color: var(--fill-color);\n",
              "    }\n",
              "  }\n",
              "</style>\n",
              "\n",
              "  <script>\n",
              "    async function quickchart(key) {\n",
              "      const quickchartButtonEl =\n",
              "        document.querySelector('#' + key + ' button');\n",
              "      quickchartButtonEl.disabled = true;  // To prevent multiple clicks.\n",
              "      quickchartButtonEl.classList.add('colab-df-spinner');\n",
              "      try {\n",
              "        const charts = await google.colab.kernel.invokeFunction(\n",
              "            'suggestCharts', [key], {});\n",
              "      } catch (error) {\n",
              "        console.error('Error during call to suggestCharts:', error);\n",
              "      }\n",
              "      quickchartButtonEl.classList.remove('colab-df-spinner');\n",
              "      quickchartButtonEl.classList.add('colab-df-quickchart-complete');\n",
              "    }\n",
              "    (() => {\n",
              "      let quickchartButtonEl =\n",
              "        document.querySelector('#df-21c09672-97f7-4cdb-845e-ea80c395409f button');\n",
              "      quickchartButtonEl.style.display =\n",
              "        google.colab.kernel.accessAllowed ? 'block' : 'none';\n",
              "    })();\n",
              "  </script>\n",
              "</div>\n",
              "\n",
              "  <div id=\"id_e77cb2f4-66a6-4a2d-a36e-6773f61c537e\">\n",
              "    <style>\n",
              "      .colab-df-generate {\n",
              "        background-color: #E8F0FE;\n",
              "        border: none;\n",
              "        border-radius: 50%;\n",
              "        cursor: pointer;\n",
              "        display: none;\n",
              "        fill: #1967D2;\n",
              "        height: 32px;\n",
              "        padding: 0 0 0 0;\n",
              "        width: 32px;\n",
              "      }\n",
              "\n",
              "      .colab-df-generate:hover {\n",
              "        background-color: #E2EBFA;\n",
              "        box-shadow: 0px 1px 2px rgba(60, 64, 67, 0.3), 0px 1px 3px 1px rgba(60, 64, 67, 0.15);\n",
              "        fill: #174EA6;\n",
              "      }\n",
              "\n",
              "      [theme=dark] .colab-df-generate {\n",
              "        background-color: #3B4455;\n",
              "        fill: #D2E3FC;\n",
              "      }\n",
              "\n",
              "      [theme=dark] .colab-df-generate:hover {\n",
              "        background-color: #434B5C;\n",
              "        box-shadow: 0px 1px 3px 1px rgba(0, 0, 0, 0.15);\n",
              "        filter: drop-shadow(0px 1px 2px rgba(0, 0, 0, 0.3));\n",
              "        fill: #FFFFFF;\n",
              "      }\n",
              "    </style>\n",
              "    <button class=\"colab-df-generate\" onclick=\"generateWithVariable('pdf')\"\n",
              "            title=\"Generate code using this dataframe.\"\n",
              "            style=\"display:none;\">\n",
              "\n",
              "  <svg xmlns=\"http://www.w3.org/2000/svg\" height=\"24px\"viewBox=\"0 0 24 24\"\n",
              "       width=\"24px\">\n",
              "    <path d=\"M7,19H8.4L18.45,9,17,7.55,7,17.6ZM5,21V16.75L18.45,3.32a2,2,0,0,1,2.83,0l1.4,1.43a1.91,1.91,0,0,1,.58,1.4,1.91,1.91,0,0,1-.58,1.4L9.25,21ZM18.45,9,17,7.55Zm-12,3A5.31,5.31,0,0,0,4.9,8.1,5.31,5.31,0,0,0,1,6.5,5.31,5.31,0,0,0,4.9,4.9,5.31,5.31,0,0,0,6.5,1,5.31,5.31,0,0,0,8.1,4.9,5.31,5.31,0,0,0,12,6.5,5.46,5.46,0,0,0,6.5,12Z\"/>\n",
              "  </svg>\n",
              "    </button>\n",
              "    <script>\n",
              "      (() => {\n",
              "      const buttonEl =\n",
              "        document.querySelector('#id_e77cb2f4-66a6-4a2d-a36e-6773f61c537e button.colab-df-generate');\n",
              "      buttonEl.style.display =\n",
              "        google.colab.kernel.accessAllowed ? 'block' : 'none';\n",
              "\n",
              "      buttonEl.onclick = () => {\n",
              "        google.colab.notebook.generateWithVariable('pdf');\n",
              "      }\n",
              "      })();\n",
              "    </script>\n",
              "  </div>\n",
              "\n",
              "    </div>\n",
              "  </div>\n"
            ],
            "application/vnd.google.colaboratory.intrinsic+json": {
              "type": "dataframe",
              "variable_name": "pdf"
            }
          },
          "metadata": {}
        }
      ],
      "source": [
        "# Upload kaggle.json\n",
        "from google.colab import files\n",
        "files.upload()\n",
        "\n",
        "# Install kaggle CLI and set up credentials\n",
        "!pip install -q kaggle\n",
        "!mkdir -p ~/.kaggle\n",
        "!cp kaggle.json ~/.kaggle/\n",
        "!chmod 600 ~/.kaggle/kaggle.json\n",
        "\n",
        "# Download the dataset\n",
        "!kaggle datasets download -d kotartemiy/topic-labeled-news-dataset\n",
        "\n",
        "# Unzip the dataset\n",
        "!unzip topic-labeled-news-dataset.zip\n",
        "\n",
        "# Load the dataset into a Pandas DataFrame\n",
        "import pandas as pd\n",
        "\n",
        "pdf = pd.read_csv(\"labelled_newscatcher_dataset.csv\", sep=\";\")\n",
        "pdf[\"id\"] = pdf.index\n",
        "display(pdf)"
      ]
    },
    {
      "cell_type": "markdown",
      "id": "e74084cd",
      "metadata": {
        "application/vnd.databricks.v1+cell": {
          "cellMetadata": {},
          "inputWidgets": {},
          "nuid": "0f02db3f-2381-4e8c-81bf-b1228261227d",
          "showTitle": false,
          "title": ""
        },
        "papermill": {
          "duration": 0.026865,
          "end_time": "2023-09-07T06:50:11.147438",
          "exception": false,
          "start_time": "2023-09-07T06:50:11.120573",
          "status": "completed"
        },
        "tags": [],
        "id": "e74084cd"
      },
      "source": [
        "## Vector Library: FAISS\n",
        "\n",
        "Vector libraries are often sufficient for small, static data. Since it's not a full-fledged database solution, it doesn't have the CRUD (Create, Read, Update, Delete) support. Once the index has been built, if there are more vectors that need to be added/removed/edited, the index has to be rebuilt from scratch.\n",
        "\n",
        "That said, vector libraries are easy, lightweight, and fast to use. Examples of vector libraries are [FAISS](https://faiss.ai/), [ScaNN](https://github.com/google-research/google-research/tree/master/scann), [ANNOY](https://github.com/spotify/annoy), and [HNSM](https://arxiv.org/abs/1603.09320).\n",
        "\n",
        "FAISS has several ways for similarity search: L2 (Euclidean distance), cosine similarity. You can read more about their implementation on their [GitHub](https://github.com/facebookresearch/faiss/wiki/Getting-started#searching) page or [blog post](https://engineering.fb.com/2017/03/29/data-infrastructure/faiss-a-library-for-efficient-similarity-search/). They also published their own [best practice guide here](https://github.com/facebookresearch/faiss/wiki/Guidelines-to-choose-an-index).\n",
        "\n",
        "If you'd like to read up more on the comparisons between vector libraries and databases, [here is a good blog post](https://weaviate.io/blog/vector-library-vs-vector-database#feature-comparison---library-versus-database)."
      ]
    },
    {
      "cell_type": "markdown",
      "id": "6f0cc91f",
      "metadata": {
        "application/vnd.databricks.v1+cell": {
          "cellMetadata": {},
          "inputWidgets": {},
          "nuid": "8aae6ef7-2cf8-4e20-8fdf-9cf1d1b63372",
          "showTitle": false,
          "title": ""
        },
        "papermill": {
          "duration": 0.026876,
          "end_time": "2023-09-07T06:50:11.201981",
          "exception": false,
          "start_time": "2023-09-07T06:50:11.175105",
          "status": "completed"
        },
        "tags": [],
        "id": "6f0cc91f"
      },
      "source": [
        "The overall workflow of FAISS is captured in the diagram below.\n",
        "\n",
        "<img src=\"https://miro.medium.com/v2/resize:fit:1400/0*ouf0eyQskPeGWIGm\" width=700>\n",
        "\n",
        "Source: [How to use FAISS to build your first similarity search by Asna Shafiq](https://medium.com/loopio-tech/how-to-use-faiss-to-build-your-first-similarity-search-bf0f708aa772)."
      ]
    },
    {
      "cell_type": "code",
      "execution_count": 4,
      "id": "5e4db299",
      "metadata": {
        "application/vnd.databricks.v1+cell": {
          "cellMetadata": {},
          "inputWidgets": {},
          "nuid": "c47997f0-e52b-4853-95b6-02850572b5ea",
          "showTitle": false,
          "title": ""
        },
        "execution": {
          "iopub.execute_input": "2023-09-07T06:50:11.258247Z",
          "iopub.status.busy": "2023-09-07T06:50:11.257865Z",
          "iopub.status.idle": "2023-09-07T06:50:19.420562Z",
          "shell.execute_reply": "2023-09-07T06:50:19.419288Z"
        },
        "papermill": {
          "duration": 8.194352,
          "end_time": "2023-09-07T06:50:19.423441",
          "exception": false,
          "start_time": "2023-09-07T06:50:11.229089",
          "status": "completed"
        },
        "tags": [],
        "id": "5e4db299"
      },
      "outputs": [],
      "source": [
        "from sentence_transformers import InputExample\n",
        "\n",
        "pdf_subset = pdf.head(1000)\n",
        "\n",
        "def example_create_fn(doc1: pd.Series) -> InputExample:\n",
        "    \"\"\"\n",
        "    Helper function that outputs a sentence_transformer guid, label, and text\n",
        "    \"\"\"\n",
        "    return InputExample(texts=[doc1])\n",
        "\n",
        "faiss_train_examples = pdf_subset.apply(\n",
        "    lambda x: example_create_fn(x[\"title\"]), axis=1\n",
        ").tolist()"
      ]
    },
    {
      "cell_type": "markdown",
      "id": "56a4903c",
      "metadata": {
        "application/vnd.databricks.v1+cell": {
          "cellMetadata": {},
          "inputWidgets": {},
          "nuid": "9d2cb3f0-2a12-4694-9d5e-900cf388222e",
          "showTitle": false,
          "title": ""
        },
        "papermill": {
          "duration": 0.026814,
          "end_time": "2023-09-07T06:50:19.477587",
          "exception": false,
          "start_time": "2023-09-07T06:50:19.450773",
          "status": "completed"
        },
        "tags": [],
        "id": "56a4903c"
      },
      "source": [
        "### Step 2: Vectorize text into embedding vectors\n",
        "We will be using `Sentence-Transformers` [library](https://www.sbert.net/) to load a language model to vectorize our text into embeddings. The library hosts some of the most popular transformers on [Hugging Face Model Hub](https://huggingface.co/sentence-transformers).\n",
        "Here, we are using the `model = SentenceTransformer(\"all-MiniLM-L6-v2\")` to generate embeddings."
      ]
    },
    {
      "cell_type": "code",
      "execution_count": 5,
      "id": "3ebaf189",
      "metadata": {
        "execution": {
          "iopub.execute_input": "2023-09-07T06:50:19.533846Z",
          "iopub.status.busy": "2023-09-07T06:50:19.533136Z",
          "iopub.status.idle": "2023-09-07T06:50:20.640878Z",
          "shell.execute_reply": "2023-09-07T06:50:20.638977Z"
        },
        "papermill": {
          "duration": 1.139471,
          "end_time": "2023-09-07T06:50:20.644244",
          "exception": false,
          "start_time": "2023-09-07T06:50:19.504773",
          "status": "completed"
        },
        "tags": [],
        "colab": {
          "base_uri": "https://localhost:8080/"
        },
        "id": "3ebaf189",
        "outputId": "559de7a5-9ec3-4efa-a0fa-4863a435da73"
      },
      "outputs": [
        {
          "output_type": "stream",
          "name": "stdout",
          "text": [
            "mkdir: cannot create directory ‘cache’: File exists\n"
          ]
        }
      ],
      "source": [
        "mkdir cache"
      ]
    },
    {
      "cell_type": "code",
      "execution_count": 6,
      "id": "aea4bdb9",
      "metadata": {
        "application/vnd.databricks.v1+cell": {
          "cellMetadata": {},
          "inputWidgets": {},
          "nuid": "77020e02-ff1f-4c0d-b03c-24159678b8d0",
          "showTitle": false,
          "title": ""
        },
        "execution": {
          "iopub.execute_input": "2023-09-07T06:50:20.702720Z",
          "iopub.status.busy": "2023-09-07T06:50:20.701957Z",
          "iopub.status.idle": "2023-09-07T06:50:40.674196Z",
          "shell.execute_reply": "2023-09-07T06:50:40.673048Z"
        },
        "papermill": {
          "duration": 20.004934,
          "end_time": "2023-09-07T06:50:40.676870",
          "exception": false,
          "start_time": "2023-09-07T06:50:20.671936",
          "status": "completed"
        },
        "tags": [],
        "colab": {
          "base_uri": "https://localhost:8080/"
        },
        "id": "aea4bdb9",
        "outputId": "2d79ce0b-252c-415c-b20c-ebedc4a5749d"
      },
      "outputs": [
        {
          "output_type": "stream",
          "name": "stderr",
          "text": [
            "/usr/local/lib/python3.10/dist-packages/huggingface_hub/utils/_token.py:89: UserWarning: \n",
            "The secret `HF_TOKEN` does not exist in your Colab secrets.\n",
            "To authenticate with the Hugging Face Hub, create a token in your settings tab (https://huggingface.co/settings/tokens), set it as secret in your Google Colab and restart your session.\n",
            "You will be able to reuse this secret in all of your notebooks.\n",
            "Please note that authentication is recommended but still optional to access public models or datasets.\n",
            "  warnings.warn(\n",
            "/usr/local/lib/python3.10/dist-packages/huggingface_hub/file_download.py:1132: FutureWarning: `resume_download` is deprecated and will be removed in version 1.0.0. Downloads always resume when possible. If you want to force a new download, use `force_download=True`.\n",
            "  warnings.warn(\n"
          ]
        },
        {
          "output_type": "execute_result",
          "data": {
            "text/plain": [
              "(1000, 384)"
            ]
          },
          "metadata": {},
          "execution_count": 6
        }
      ],
      "source": [
        "from sentence_transformers import SentenceTransformer\n",
        "\n",
        "model = SentenceTransformer(\n",
        "    \"all-MiniLM-L6-v2\",\n",
        "    cache_folder=\"../working/cache/\"\n",
        ")  # Use a pre-cached model\n",
        "faiss_title_embedding = model.encode(pdf_subset.title.values.tolist())\n",
        "len(faiss_title_embedding), len(faiss_title_embedding[0])"
      ]
    },
    {
      "cell_type": "markdown",
      "id": "45a655c7",
      "metadata": {
        "application/vnd.databricks.v1+cell": {
          "cellMetadata": {},
          "inputWidgets": {},
          "nuid": "e6a9c3a9-eac5-4584-8372-4b3d7cc339a3",
          "showTitle": false,
          "title": ""
        },
        "papermill": {
          "duration": 0.030809,
          "end_time": "2023-09-07T06:50:40.738724",
          "exception": false,
          "start_time": "2023-09-07T06:50:40.707915",
          "status": "completed"
        },
        "tags": [],
        "id": "45a655c7"
      },
      "source": [
        "### Step 3: Saving embedding vectors to FAISS index\n",
        "Below, we create the FAISS index object based on our embedding vectors, normalize vectors, and add these vectors to the FAISS index."
      ]
    },
    {
      "cell_type": "code",
      "execution_count": 7,
      "id": "2bf14267",
      "metadata": {
        "application/vnd.databricks.v1+cell": {
          "cellMetadata": {},
          "inputWidgets": {},
          "nuid": "54e2e5dc-58dd-48d2-9828-f8fc8cbdf49b",
          "showTitle": false,
          "title": ""
        },
        "execution": {
          "iopub.execute_input": "2023-09-07T06:50:40.802296Z",
          "iopub.status.busy": "2023-09-07T06:50:40.801895Z",
          "iopub.status.idle": "2023-09-07T06:50:40.838096Z",
          "shell.execute_reply": "2023-09-07T06:50:40.836886Z"
        },
        "papermill": {
          "duration": 0.071452,
          "end_time": "2023-09-07T06:50:40.840935",
          "exception": false,
          "start_time": "2023-09-07T06:50:40.769483",
          "status": "completed"
        },
        "tags": [],
        "id": "2bf14267"
      },
      "outputs": [],
      "source": [
        "import numpy as np\n",
        "import faiss\n",
        "\n",
        "pdf_to_index = pdf_subset.set_index([\"id\"], drop=False)\n",
        "id_index = np.array(pdf_to_index.id.values).flatten().astype(\"int\")\n",
        "\n",
        "content_encoded_normalized = faiss_title_embedding.copy()\n",
        "faiss.normalize_L2(content_encoded_normalized)\n",
        "\n",
        "# Index1DMap translates search results to IDs: https://faiss.ai/cpp_api/file/IndexIDMap_8h.html#_CPPv4I0EN5faiss18IndexIDMapTemplateE\n",
        "# The IndexFlatIP below builds index\n",
        "index_content = faiss.IndexIDMap(faiss.IndexFlatIP(len(faiss_title_embedding[0])))\n",
        "index_content.add_with_ids(content_encoded_normalized, id_index)"
      ]
    },
    {
      "cell_type": "markdown",
      "id": "ca96d9b2",
      "metadata": {
        "application/vnd.databricks.v1+cell": {
          "cellMetadata": {},
          "inputWidgets": {},
          "nuid": "241c55b6-7b53-4e5e-97d1-ce03717beeaa",
          "showTitle": false,
          "title": ""
        },
        "papermill": {
          "duration": 0.031318,
          "end_time": "2023-09-07T06:50:40.903172",
          "exception": false,
          "start_time": "2023-09-07T06:50:40.871854",
          "status": "completed"
        },
        "tags": [],
        "id": "ca96d9b2"
      },
      "source": [
        "## Step 4: Search for relevant documents\n",
        "\n",
        "We define a search function below to first vectorize our query text, and then search for the vectors with the closest distance."
      ]
    },
    {
      "cell_type": "code",
      "execution_count": 8,
      "id": "12162c2e",
      "metadata": {
        "application/vnd.databricks.v1+cell": {
          "cellMetadata": {},
          "inputWidgets": {},
          "nuid": "19a35eb0-2b6c-481e-ab7e-4aaf1e2a35f4",
          "showTitle": false,
          "title": ""
        },
        "execution": {
          "iopub.execute_input": "2023-09-07T06:50:40.967859Z",
          "iopub.status.busy": "2023-09-07T06:50:40.967057Z",
          "iopub.status.idle": "2023-09-07T06:50:40.974276Z",
          "shell.execute_reply": "2023-09-07T06:50:40.973501Z"
        },
        "papermill": {
          "duration": 0.042495,
          "end_time": "2023-09-07T06:50:40.976974",
          "exception": false,
          "start_time": "2023-09-07T06:50:40.934479",
          "status": "completed"
        },
        "tags": [],
        "id": "12162c2e"
      },
      "outputs": [],
      "source": [
        "def search_content(query, pdf_to_index, k=3):\n",
        "    query_vector = model.encode([query])\n",
        "    faiss.normalize_L2(query_vector)\n",
        "\n",
        "    # We set k to limit the number of vectors we want to return\n",
        "    top_k = index_content.search(query_vector, k)\n",
        "    ids = top_k[1][0].tolist()\n",
        "    similarities = top_k[0][0].tolist()\n",
        "    results = pdf_to_index.loc[ids]\n",
        "    results[\"similarities\"] = similarities\n",
        "    return results"
      ]
    },
    {
      "cell_type": "markdown",
      "id": "2531d881",
      "metadata": {
        "application/vnd.databricks.v1+cell": {
          "cellMetadata": {},
          "inputWidgets": {},
          "nuid": "2bf1edc7-07f5-41b6-802b-bbcc9855747f",
          "showTitle": false,
          "title": ""
        },
        "papermill": {
          "duration": 0.031321,
          "end_time": "2023-09-07T06:50:41.040615",
          "exception": false,
          "start_time": "2023-09-07T06:50:41.009294",
          "status": "completed"
        },
        "tags": [],
        "id": "2531d881"
      },
      "source": [
        "Tada! Now you can query for similar content! Notice that you did not have to configure any database networks beforehand nor pass in any credentials. FAISS works locally with your code."
      ]
    },
    {
      "cell_type": "code",
      "execution_count": 9,
      "id": "7b5eada7",
      "metadata": {
        "application/vnd.databricks.v1+cell": {
          "cellMetadata": {},
          "inputWidgets": {},
          "nuid": "77bbaaf9-e3f5-4aec-acde-4a7224e8589e",
          "showTitle": false,
          "title": ""
        },
        "execution": {
          "iopub.execute_input": "2023-09-07T06:50:41.107060Z",
          "iopub.status.busy": "2023-09-07T06:50:41.106676Z",
          "iopub.status.idle": "2023-09-07T06:50:41.170596Z",
          "shell.execute_reply": "2023-09-07T06:50:41.169507Z"
        },
        "papermill": {
          "duration": 0.100752,
          "end_time": "2023-09-07T06:50:41.173354",
          "exception": false,
          "start_time": "2023-09-07T06:50:41.072602",
          "status": "completed"
        },
        "tags": [],
        "colab": {
          "base_uri": "https://localhost:8080/",
          "height": 299
        },
        "id": "7b5eada7",
        "outputId": "65480055-597e-4a03-aafc-64f300a36446"
      },
      "outputs": [
        {
          "output_type": "display_data",
          "data": {
            "text/plain": [
              "          topic                                               link  \\\n",
              "id                                                                   \n",
              "176  TECHNOLOGY  https://www.pushsquare.com/news/2020/08/random...   \n",
              "975      HEALTH  https://www.news-medical.net/news/20200813/Res...   \n",
              "99   TECHNOLOGY  https://www.gematsu.com/2020/08/ghostwire-toky...   \n",
              "\n",
              "               domain       published_date  \\\n",
              "id                                           \n",
              "176    pushsquare.com  2020-08-03 16:30:00   \n",
              "975  news-medical.net  2020-08-13 05:18:00   \n",
              "99        gematsu.com  2020-08-07 16:43:13   \n",
              "\n",
              "                                                 title lang   id  similarities  \n",
              "id                                                                              \n",
              "176  Random: You Can Pick Up and Pet Cats in Assass...   en  176      0.391902  \n",
              "975  Researchers explore social behavior of animals...   en  975      0.376784  \n",
              "99               Ghostwire: Tokyo confirms dog petting   en   99      0.344059  "
            ],
            "text/html": [
              "\n",
              "  <div id=\"df-726d41bd-9c86-4f64-b72e-5615f895f9f6\" class=\"colab-df-container\">\n",
              "    <div>\n",
              "<style scoped>\n",
              "    .dataframe tbody tr th:only-of-type {\n",
              "        vertical-align: middle;\n",
              "    }\n",
              "\n",
              "    .dataframe tbody tr th {\n",
              "        vertical-align: top;\n",
              "    }\n",
              "\n",
              "    .dataframe thead th {\n",
              "        text-align: right;\n",
              "    }\n",
              "</style>\n",
              "<table border=\"1\" class=\"dataframe\">\n",
              "  <thead>\n",
              "    <tr style=\"text-align: right;\">\n",
              "      <th></th>\n",
              "      <th>topic</th>\n",
              "      <th>link</th>\n",
              "      <th>domain</th>\n",
              "      <th>published_date</th>\n",
              "      <th>title</th>\n",
              "      <th>lang</th>\n",
              "      <th>id</th>\n",
              "      <th>similarities</th>\n",
              "    </tr>\n",
              "    <tr>\n",
              "      <th>id</th>\n",
              "      <th></th>\n",
              "      <th></th>\n",
              "      <th></th>\n",
              "      <th></th>\n",
              "      <th></th>\n",
              "      <th></th>\n",
              "      <th></th>\n",
              "      <th></th>\n",
              "    </tr>\n",
              "  </thead>\n",
              "  <tbody>\n",
              "    <tr>\n",
              "      <th>176</th>\n",
              "      <td>TECHNOLOGY</td>\n",
              "      <td>https://www.pushsquare.com/news/2020/08/random...</td>\n",
              "      <td>pushsquare.com</td>\n",
              "      <td>2020-08-03 16:30:00</td>\n",
              "      <td>Random: You Can Pick Up and Pet Cats in Assass...</td>\n",
              "      <td>en</td>\n",
              "      <td>176</td>\n",
              "      <td>0.391902</td>\n",
              "    </tr>\n",
              "    <tr>\n",
              "      <th>975</th>\n",
              "      <td>HEALTH</td>\n",
              "      <td>https://www.news-medical.net/news/20200813/Res...</td>\n",
              "      <td>news-medical.net</td>\n",
              "      <td>2020-08-13 05:18:00</td>\n",
              "      <td>Researchers explore social behavior of animals...</td>\n",
              "      <td>en</td>\n",
              "      <td>975</td>\n",
              "      <td>0.376784</td>\n",
              "    </tr>\n",
              "    <tr>\n",
              "      <th>99</th>\n",
              "      <td>TECHNOLOGY</td>\n",
              "      <td>https://www.gematsu.com/2020/08/ghostwire-toky...</td>\n",
              "      <td>gematsu.com</td>\n",
              "      <td>2020-08-07 16:43:13</td>\n",
              "      <td>Ghostwire: Tokyo confirms dog petting</td>\n",
              "      <td>en</td>\n",
              "      <td>99</td>\n",
              "      <td>0.344059</td>\n",
              "    </tr>\n",
              "  </tbody>\n",
              "</table>\n",
              "</div>\n",
              "    <div class=\"colab-df-buttons\">\n",
              "\n",
              "  <div class=\"colab-df-container\">\n",
              "    <button class=\"colab-df-convert\" onclick=\"convertToInteractive('df-726d41bd-9c86-4f64-b72e-5615f895f9f6')\"\n",
              "            title=\"Convert this dataframe to an interactive table.\"\n",
              "            style=\"display:none;\">\n",
              "\n",
              "  <svg xmlns=\"http://www.w3.org/2000/svg\" height=\"24px\" viewBox=\"0 -960 960 960\">\n",
              "    <path d=\"M120-120v-720h720v720H120Zm60-500h600v-160H180v160Zm220 220h160v-160H400v160Zm0 220h160v-160H400v160ZM180-400h160v-160H180v160Zm440 0h160v-160H620v160ZM180-180h160v-160H180v160Zm440 0h160v-160H620v160Z\"/>\n",
              "  </svg>\n",
              "    </button>\n",
              "\n",
              "  <style>\n",
              "    .colab-df-container {\n",
              "      display:flex;\n",
              "      gap: 12px;\n",
              "    }\n",
              "\n",
              "    .colab-df-convert {\n",
              "      background-color: #E8F0FE;\n",
              "      border: none;\n",
              "      border-radius: 50%;\n",
              "      cursor: pointer;\n",
              "      display: none;\n",
              "      fill: #1967D2;\n",
              "      height: 32px;\n",
              "      padding: 0 0 0 0;\n",
              "      width: 32px;\n",
              "    }\n",
              "\n",
              "    .colab-df-convert:hover {\n",
              "      background-color: #E2EBFA;\n",
              "      box-shadow: 0px 1px 2px rgba(60, 64, 67, 0.3), 0px 1px 3px 1px rgba(60, 64, 67, 0.15);\n",
              "      fill: #174EA6;\n",
              "    }\n",
              "\n",
              "    .colab-df-buttons div {\n",
              "      margin-bottom: 4px;\n",
              "    }\n",
              "\n",
              "    [theme=dark] .colab-df-convert {\n",
              "      background-color: #3B4455;\n",
              "      fill: #D2E3FC;\n",
              "    }\n",
              "\n",
              "    [theme=dark] .colab-df-convert:hover {\n",
              "      background-color: #434B5C;\n",
              "      box-shadow: 0px 1px 3px 1px rgba(0, 0, 0, 0.15);\n",
              "      filter: drop-shadow(0px 1px 2px rgba(0, 0, 0, 0.3));\n",
              "      fill: #FFFFFF;\n",
              "    }\n",
              "  </style>\n",
              "\n",
              "    <script>\n",
              "      const buttonEl =\n",
              "        document.querySelector('#df-726d41bd-9c86-4f64-b72e-5615f895f9f6 button.colab-df-convert');\n",
              "      buttonEl.style.display =\n",
              "        google.colab.kernel.accessAllowed ? 'block' : 'none';\n",
              "\n",
              "      async function convertToInteractive(key) {\n",
              "        const element = document.querySelector('#df-726d41bd-9c86-4f64-b72e-5615f895f9f6');\n",
              "        const dataTable =\n",
              "          await google.colab.kernel.invokeFunction('convertToInteractive',\n",
              "                                                    [key], {});\n",
              "        if (!dataTable) return;\n",
              "\n",
              "        const docLinkHtml = 'Like what you see? Visit the ' +\n",
              "          '<a target=\"_blank\" href=https://colab.research.google.com/notebooks/data_table.ipynb>data table notebook</a>'\n",
              "          + ' to learn more about interactive tables.';\n",
              "        element.innerHTML = '';\n",
              "        dataTable['output_type'] = 'display_data';\n",
              "        await google.colab.output.renderOutput(dataTable, element);\n",
              "        const docLink = document.createElement('div');\n",
              "        docLink.innerHTML = docLinkHtml;\n",
              "        element.appendChild(docLink);\n",
              "      }\n",
              "    </script>\n",
              "  </div>\n",
              "\n",
              "\n",
              "<div id=\"df-8baad53b-8002-44b3-b136-8d4bde51b123\">\n",
              "  <button class=\"colab-df-quickchart\" onclick=\"quickchart('df-8baad53b-8002-44b3-b136-8d4bde51b123')\"\n",
              "            title=\"Suggest charts\"\n",
              "            style=\"display:none;\">\n",
              "\n",
              "<svg xmlns=\"http://www.w3.org/2000/svg\" height=\"24px\"viewBox=\"0 0 24 24\"\n",
              "     width=\"24px\">\n",
              "    <g>\n",
              "        <path d=\"M19 3H5c-1.1 0-2 .9-2 2v14c0 1.1.9 2 2 2h14c1.1 0 2-.9 2-2V5c0-1.1-.9-2-2-2zM9 17H7v-7h2v7zm4 0h-2V7h2v10zm4 0h-2v-4h2v4z\"/>\n",
              "    </g>\n",
              "</svg>\n",
              "  </button>\n",
              "\n",
              "<style>\n",
              "  .colab-df-quickchart {\n",
              "      --bg-color: #E8F0FE;\n",
              "      --fill-color: #1967D2;\n",
              "      --hover-bg-color: #E2EBFA;\n",
              "      --hover-fill-color: #174EA6;\n",
              "      --disabled-fill-color: #AAA;\n",
              "      --disabled-bg-color: #DDD;\n",
              "  }\n",
              "\n",
              "  [theme=dark] .colab-df-quickchart {\n",
              "      --bg-color: #3B4455;\n",
              "      --fill-color: #D2E3FC;\n",
              "      --hover-bg-color: #434B5C;\n",
              "      --hover-fill-color: #FFFFFF;\n",
              "      --disabled-bg-color: #3B4455;\n",
              "      --disabled-fill-color: #666;\n",
              "  }\n",
              "\n",
              "  .colab-df-quickchart {\n",
              "    background-color: var(--bg-color);\n",
              "    border: none;\n",
              "    border-radius: 50%;\n",
              "    cursor: pointer;\n",
              "    display: none;\n",
              "    fill: var(--fill-color);\n",
              "    height: 32px;\n",
              "    padding: 0;\n",
              "    width: 32px;\n",
              "  }\n",
              "\n",
              "  .colab-df-quickchart:hover {\n",
              "    background-color: var(--hover-bg-color);\n",
              "    box-shadow: 0 1px 2px rgba(60, 64, 67, 0.3), 0 1px 3px 1px rgba(60, 64, 67, 0.15);\n",
              "    fill: var(--button-hover-fill-color);\n",
              "  }\n",
              "\n",
              "  .colab-df-quickchart-complete:disabled,\n",
              "  .colab-df-quickchart-complete:disabled:hover {\n",
              "    background-color: var(--disabled-bg-color);\n",
              "    fill: var(--disabled-fill-color);\n",
              "    box-shadow: none;\n",
              "  }\n",
              "\n",
              "  .colab-df-spinner {\n",
              "    border: 2px solid var(--fill-color);\n",
              "    border-color: transparent;\n",
              "    border-bottom-color: var(--fill-color);\n",
              "    animation:\n",
              "      spin 1s steps(1) infinite;\n",
              "  }\n",
              "\n",
              "  @keyframes spin {\n",
              "    0% {\n",
              "      border-color: transparent;\n",
              "      border-bottom-color: var(--fill-color);\n",
              "      border-left-color: var(--fill-color);\n",
              "    }\n",
              "    20% {\n",
              "      border-color: transparent;\n",
              "      border-left-color: var(--fill-color);\n",
              "      border-top-color: var(--fill-color);\n",
              "    }\n",
              "    30% {\n",
              "      border-color: transparent;\n",
              "      border-left-color: var(--fill-color);\n",
              "      border-top-color: var(--fill-color);\n",
              "      border-right-color: var(--fill-color);\n",
              "    }\n",
              "    40% {\n",
              "      border-color: transparent;\n",
              "      border-right-color: var(--fill-color);\n",
              "      border-top-color: var(--fill-color);\n",
              "    }\n",
              "    60% {\n",
              "      border-color: transparent;\n",
              "      border-right-color: var(--fill-color);\n",
              "    }\n",
              "    80% {\n",
              "      border-color: transparent;\n",
              "      border-right-color: var(--fill-color);\n",
              "      border-bottom-color: var(--fill-color);\n",
              "    }\n",
              "    90% {\n",
              "      border-color: transparent;\n",
              "      border-bottom-color: var(--fill-color);\n",
              "    }\n",
              "  }\n",
              "</style>\n",
              "\n",
              "  <script>\n",
              "    async function quickchart(key) {\n",
              "      const quickchartButtonEl =\n",
              "        document.querySelector('#' + key + ' button');\n",
              "      quickchartButtonEl.disabled = true;  // To prevent multiple clicks.\n",
              "      quickchartButtonEl.classList.add('colab-df-spinner');\n",
              "      try {\n",
              "        const charts = await google.colab.kernel.invokeFunction(\n",
              "            'suggestCharts', [key], {});\n",
              "      } catch (error) {\n",
              "        console.error('Error during call to suggestCharts:', error);\n",
              "      }\n",
              "      quickchartButtonEl.classList.remove('colab-df-spinner');\n",
              "      quickchartButtonEl.classList.add('colab-df-quickchart-complete');\n",
              "    }\n",
              "    (() => {\n",
              "      let quickchartButtonEl =\n",
              "        document.querySelector('#df-8baad53b-8002-44b3-b136-8d4bde51b123 button');\n",
              "      quickchartButtonEl.style.display =\n",
              "        google.colab.kernel.accessAllowed ? 'block' : 'none';\n",
              "    })();\n",
              "  </script>\n",
              "</div>\n",
              "\n",
              "    </div>\n",
              "  </div>\n"
            ],
            "application/vnd.google.colaboratory.intrinsic+json": {
              "type": "dataframe",
              "repr_error": "cannot insert id, already exists"
            }
          },
          "metadata": {}
        }
      ],
      "source": [
        "display(search_content(\"animal\", pdf_to_index))"
      ]
    },
    {
      "cell_type": "markdown",
      "id": "ea5bd785",
      "metadata": {
        "application/vnd.databricks.v1+cell": {
          "cellMetadata": {},
          "inputWidgets": {},
          "nuid": "19ef9158-ee09-4237-b473-81e669ad6e47",
          "showTitle": false,
          "title": ""
        },
        "papermill": {
          "duration": 0.031827,
          "end_time": "2023-09-07T06:50:41.236734",
          "exception": false,
          "start_time": "2023-09-07T06:50:41.204907",
          "status": "completed"
        },
        "tags": [],
        "id": "ea5bd785"
      },
      "source": [
        "Up until now, we haven't done the last step of conducting Q/A with a language model yet. We are going to demonstrate this with Chroma, a vector database."
      ]
    },
    {
      "cell_type": "markdown",
      "id": "b4d534a4",
      "metadata": {
        "application/vnd.databricks.v1+cell": {
          "cellMetadata": {},
          "inputWidgets": {},
          "nuid": "825a1f47-ccb4-4ed1-9e72-523391b8bcb5",
          "showTitle": false,
          "title": ""
        },
        "papermill": {
          "duration": 0.031611,
          "end_time": "2023-09-07T06:50:41.299831",
          "exception": false,
          "start_time": "2023-09-07T06:50:41.268220",
          "status": "completed"
        },
        "tags": [],
        "id": "b4d534a4"
      },
      "source": [
        "## Vector Database: Chroma\n",
        "\n",
        "Chroma is an open-source embedding database. The company just raised its [seed funding in April 2023](https://www.trychroma.com/blog/seed) and is quickly becoming popular to support LLM-based applications."
      ]
    },
    {
      "cell_type": "code",
      "source": [
        "%%capture\n",
        "!pip install pydantic-settings\n",
        "!pip install chromadb"
      ],
      "metadata": {
        "id": "l2e4JMhGabZQ"
      },
      "id": "l2e4JMhGabZQ",
      "execution_count": 10,
      "outputs": []
    },
    {
      "cell_type": "code",
      "execution_count": 11,
      "id": "2e1209fa",
      "metadata": {
        "application/vnd.databricks.v1+cell": {
          "cellMetadata": {},
          "inputWidgets": {},
          "nuid": "7aed6c0c-22ad-4ac2-b7c2-a58a30619270",
          "showTitle": false,
          "title": ""
        },
        "execution": {
          "iopub.execute_input": "2023-09-07T06:50:41.366519Z",
          "iopub.status.busy": "2023-09-07T06:50:41.365286Z",
          "iopub.status.idle": "2023-09-07T06:50:41.664687Z",
          "shell.execute_reply": "2023-09-07T06:50:41.663770Z"
        },
        "papermill": {
          "duration": 0.33494,
          "end_time": "2023-09-07T06:50:41.667195",
          "exception": false,
          "start_time": "2023-09-07T06:50:41.332255",
          "status": "completed"
        },
        "tags": [],
        "colab": {
          "base_uri": "https://localhost:8080/",
          "height": 687
        },
        "id": "2e1209fa",
        "outputId": "7de3fffb-e07d-48aa-8560-cf260075def5"
      },
      "outputs": [
        {
          "output_type": "stream",
          "name": "stdout",
          "text": [
            "Requirement already satisfied: pydantic in /usr/local/lib/python3.10/dist-packages (2.7.1)\n",
            "Requirement already satisfied: annotated-types>=0.4.0 in /usr/local/lib/python3.10/dist-packages (from pydantic) (0.6.0)\n",
            "Requirement already satisfied: pydantic-core==2.18.2 in /usr/local/lib/python3.10/dist-packages (from pydantic) (2.18.2)\n",
            "Requirement already satisfied: typing-extensions>=4.6.1 in /usr/local/lib/python3.10/dist-packages (from pydantic) (4.11.0)\n"
          ]
        },
        {
          "output_type": "error",
          "ename": "PydanticImportError",
          "evalue": "`BaseSettings` has been moved to the `pydantic-settings` package. See https://docs.pydantic.dev/2.7/migration/#basesettings-has-moved-to-pydantic-settings for more details.\n\nFor further information visit https://errors.pydantic.dev/2.7/u/import-error",
          "traceback": [
            "\u001b[0;31m---------------------------------------------------------------------------\u001b[0m",
            "\u001b[0;31mPydanticImportError\u001b[0m                       Traceback (most recent call last)",
            "\u001b[0;32m<ipython-input-11-1fd5b1ac8604>\u001b[0m in \u001b[0;36m<cell line: 3>\u001b[0;34m()\u001b[0m\n\u001b[1;32m      1\u001b[0m \u001b[0mget_ipython\u001b[0m\u001b[0;34m(\u001b[0m\u001b[0;34m)\u001b[0m\u001b[0;34m.\u001b[0m\u001b[0msystem\u001b[0m\u001b[0;34m(\u001b[0m\u001b[0;34m'pip install pydantic'\u001b[0m\u001b[0;34m)\u001b[0m\u001b[0;34m\u001b[0m\u001b[0;34m\u001b[0m\u001b[0m\n\u001b[1;32m      2\u001b[0m \u001b[0;34m\u001b[0m\u001b[0m\n\u001b[0;32m----> 3\u001b[0;31m \u001b[0;32mimport\u001b[0m \u001b[0mchromadb\u001b[0m\u001b[0;34m\u001b[0m\u001b[0;34m\u001b[0m\u001b[0m\n\u001b[0m\u001b[1;32m      4\u001b[0m \u001b[0;32mfrom\u001b[0m \u001b[0mpydantic_settings\u001b[0m \u001b[0;32mimport\u001b[0m \u001b[0mBaseSettings\u001b[0m\u001b[0;34m\u001b[0m\u001b[0;34m\u001b[0m\u001b[0m\n\u001b[1;32m      5\u001b[0m \u001b[0;34m\u001b[0m\u001b[0m\n",
            "\u001b[0;32m/usr/local/lib/python3.10/dist-packages/chromadb/__init__.py\u001b[0m in \u001b[0;36m<module>\u001b[0;34m\u001b[0m\n\u001b[0;32m----> 1\u001b[0;31m \u001b[0;32mimport\u001b[0m \u001b[0mchromadb\u001b[0m\u001b[0;34m.\u001b[0m\u001b[0mconfig\u001b[0m\u001b[0;34m\u001b[0m\u001b[0;34m\u001b[0m\u001b[0m\n\u001b[0m\u001b[1;32m      2\u001b[0m \u001b[0;32mimport\u001b[0m \u001b[0mlogging\u001b[0m\u001b[0;34m\u001b[0m\u001b[0;34m\u001b[0m\u001b[0m\n\u001b[1;32m      3\u001b[0m \u001b[0;32mfrom\u001b[0m \u001b[0mchromadb\u001b[0m\u001b[0;34m.\u001b[0m\u001b[0mtelemetry\u001b[0m\u001b[0;34m.\u001b[0m\u001b[0mevents\u001b[0m \u001b[0;32mimport\u001b[0m \u001b[0mClientStartEvent\u001b[0m\u001b[0;34m\u001b[0m\u001b[0;34m\u001b[0m\u001b[0m\n\u001b[1;32m      4\u001b[0m \u001b[0;32mfrom\u001b[0m \u001b[0mchromadb\u001b[0m\u001b[0;34m.\u001b[0m\u001b[0mtelemetry\u001b[0m\u001b[0;34m.\u001b[0m\u001b[0mposthog\u001b[0m \u001b[0;32mimport\u001b[0m \u001b[0mPosthog\u001b[0m\u001b[0;34m\u001b[0m\u001b[0;34m\u001b[0m\u001b[0m\n\u001b[1;32m      5\u001b[0m \u001b[0;34m\u001b[0m\u001b[0m\n",
            "\u001b[0;32m/usr/local/lib/python3.10/dist-packages/chromadb/config.py\u001b[0m in \u001b[0;36m<module>\u001b[0;34m\u001b[0m\n\u001b[0;32m----> 1\u001b[0;31m \u001b[0;32mfrom\u001b[0m \u001b[0mpydantic\u001b[0m \u001b[0;32mimport\u001b[0m \u001b[0mBaseSettings\u001b[0m\u001b[0;34m\u001b[0m\u001b[0;34m\u001b[0m\u001b[0m\n\u001b[0m\u001b[1;32m      2\u001b[0m \u001b[0;32mfrom\u001b[0m \u001b[0mtyping\u001b[0m \u001b[0;32mimport\u001b[0m \u001b[0mList\u001b[0m\u001b[0;34m\u001b[0m\u001b[0;34m\u001b[0m\u001b[0m\n\u001b[1;32m      3\u001b[0m \u001b[0;34m\u001b[0m\u001b[0m\n\u001b[1;32m      4\u001b[0m \u001b[0mTELEMETRY_WHITELISTED_SETTINGS\u001b[0m \u001b[0;34m=\u001b[0m \u001b[0;34m[\u001b[0m\u001b[0;34m\"chroma_db_impl\"\u001b[0m\u001b[0;34m,\u001b[0m \u001b[0;34m\"chroma_api_impl\"\u001b[0m\u001b[0;34m,\u001b[0m \u001b[0;34m\"chroma_server_ssl_enabled\"\u001b[0m\u001b[0;34m]\u001b[0m\u001b[0;34m\u001b[0m\u001b[0;34m\u001b[0m\u001b[0m\n\u001b[1;32m      5\u001b[0m \u001b[0;34m\u001b[0m\u001b[0m\n",
            "\u001b[0;32m/usr/local/lib/python3.10/dist-packages/pydantic/__init__.py\u001b[0m in \u001b[0;36m__getattr__\u001b[0;34m(attr_name)\u001b[0m\n\u001b[1;32m    384\u001b[0m     \u001b[0mdynamic_attr\u001b[0m \u001b[0;34m=\u001b[0m \u001b[0m_dynamic_imports\u001b[0m\u001b[0;34m.\u001b[0m\u001b[0mget\u001b[0m\u001b[0;34m(\u001b[0m\u001b[0mattr_name\u001b[0m\u001b[0;34m)\u001b[0m\u001b[0;34m\u001b[0m\u001b[0;34m\u001b[0m\u001b[0m\n\u001b[1;32m    385\u001b[0m     \u001b[0;32mif\u001b[0m \u001b[0mdynamic_attr\u001b[0m \u001b[0;32mis\u001b[0m \u001b[0;32mNone\u001b[0m\u001b[0;34m:\u001b[0m\u001b[0;34m\u001b[0m\u001b[0;34m\u001b[0m\u001b[0m\n\u001b[0;32m--> 386\u001b[0;31m         \u001b[0;32mreturn\u001b[0m \u001b[0m_getattr_migration\u001b[0m\u001b[0;34m(\u001b[0m\u001b[0mattr_name\u001b[0m\u001b[0;34m)\u001b[0m\u001b[0;34m\u001b[0m\u001b[0;34m\u001b[0m\u001b[0m\n\u001b[0m\u001b[1;32m    387\u001b[0m \u001b[0;34m\u001b[0m\u001b[0m\n\u001b[1;32m    388\u001b[0m     \u001b[0mpackage\u001b[0m\u001b[0;34m,\u001b[0m \u001b[0mmodule_name\u001b[0m \u001b[0;34m=\u001b[0m \u001b[0mdynamic_attr\u001b[0m\u001b[0;34m\u001b[0m\u001b[0;34m\u001b[0m\u001b[0m\n",
            "\u001b[0;32m/usr/local/lib/python3.10/dist-packages/pydantic/_migration.py\u001b[0m in \u001b[0;36mwrapper\u001b[0;34m(name)\u001b[0m\n\u001b[1;32m    294\u001b[0m             \u001b[0;32mreturn\u001b[0m \u001b[0mimport_string\u001b[0m\u001b[0;34m(\u001b[0m\u001b[0mREDIRECT_TO_V1\u001b[0m\u001b[0;34m[\u001b[0m\u001b[0mimport_path\u001b[0m\u001b[0;34m]\u001b[0m\u001b[0;34m)\u001b[0m\u001b[0;34m\u001b[0m\u001b[0;34m\u001b[0m\u001b[0m\n\u001b[1;32m    295\u001b[0m         \u001b[0;32mif\u001b[0m \u001b[0mimport_path\u001b[0m \u001b[0;34m==\u001b[0m \u001b[0;34m'pydantic:BaseSettings'\u001b[0m\u001b[0;34m:\u001b[0m\u001b[0;34m\u001b[0m\u001b[0;34m\u001b[0m\u001b[0m\n\u001b[0;32m--> 296\u001b[0;31m             raise PydanticImportError(\n\u001b[0m\u001b[1;32m    297\u001b[0m                 \u001b[0;34m'`BaseSettings` has been moved to the `pydantic-settings` package. '\u001b[0m\u001b[0;34m\u001b[0m\u001b[0;34m\u001b[0m\u001b[0m\n\u001b[1;32m    298\u001b[0m                 \u001b[0;34mf'See https://docs.pydantic.dev/{version_short()}/migration/#basesettings-has-moved-to-pydantic-settings '\u001b[0m\u001b[0;34m\u001b[0m\u001b[0;34m\u001b[0m\u001b[0m\n",
            "\u001b[0;31mPydanticImportError\u001b[0m: `BaseSettings` has been moved to the `pydantic-settings` package. See https://docs.pydantic.dev/2.7/migration/#basesettings-has-moved-to-pydantic-settings for more details.\n\nFor further information visit https://errors.pydantic.dev/2.7/u/import-error",
            "",
            "\u001b[0;31m---------------------------------------------------------------------------\u001b[0;32m\nNOTE: If your import is failing due to a missing package, you can\nmanually install dependencies using either !pip or !apt.\n\nTo view examples of installing some common dependencies, click the\n\"Open Examples\" button below.\n\u001b[0;31m---------------------------------------------------------------------------\u001b[0m\n"
          ],
          "errorDetails": {
            "actions": [
              {
                "action": "open_url",
                "actionText": "Open Examples",
                "url": "/notebooks/snippets/importing_libraries.ipynb"
              }
            ]
          }
        }
      ],
      "source": [
        "import chromadb\n",
        "from pydantic_settings import BaseSettings\n",
        "\n",
        "class Settings(BaseSettings):\n",
        "    chroma_db_impl: str\n",
        "    persist_directory: str\n",
        "\n",
        "# Initialize the chroma_client with the correct settings\n",
        "chroma_client = chromadb.Client(\n",
        "    Settings(\n",
        "        chroma_db_impl=\"duckdb+parquet\",\n",
        "        persist_directory=\"../working/cache/\",  # this is an optional argument. If you don't supply this, the data will be ephemeral\n",
        "    )\n",
        ")"
      ]
    },
    {
      "cell_type": "markdown",
      "id": "73b67fe9",
      "metadata": {
        "application/vnd.databricks.v1+cell": {
          "cellMetadata": {},
          "inputWidgets": {},
          "nuid": "e0683d3e-da8b-46af-b3f1-1aad3ff3ee75",
          "showTitle": false,
          "title": ""
        },
        "papermill": {
          "duration": 0.034278,
          "end_time": "2023-09-07T06:50:41.740741",
          "exception": false,
          "start_time": "2023-09-07T06:50:41.706463",
          "status": "completed"
        },
        "tags": [],
        "id": "73b67fe9"
      },
      "source": [
        "### Chroma Concept: Collection\n",
        "\n",
        "Chroma `collection` is akin to an index that stores one set of your documents.\n",
        "\n",
        "According to the [docs](https://docs.trychroma.com/getting-started):\n",
        "> Collections are where you will store your embeddings, documents, and additional metadata\n",
        "\n",
        "The nice thing about ChromaDB is that if you don't supply a model to vectorize text into embeddings, it will automatically load a default embedding function, i.e. `SentenceTransformerEmbeddingFunction`. It can handle tokenization, embedding, and indexing automatically for you. If you would like to change the embedding model, read [here on how to do that](https://docs.trychroma.com/embeddings). TLDR: you can add an optional `model_name` argument.\n",
        "\n",
        "You can read [the documentation here](https://docs.trychroma.com/usage-guide#using-collections) on rules for collection names."
      ]
    },
    {
      "cell_type": "code",
      "execution_count": null,
      "id": "e3d9b156",
      "metadata": {
        "application/vnd.databricks.v1+cell": {
          "cellMetadata": {},
          "inputWidgets": {},
          "nuid": "9c06cdb9-6ec8-47d3-843f-4719a18bd197",
          "showTitle": false,
          "title": ""
        },
        "execution": {
          "iopub.execute_input": "2023-09-07T06:50:41.807166Z",
          "iopub.status.busy": "2023-09-07T06:50:41.806488Z",
          "iopub.status.idle": "2023-09-07T06:50:46.373370Z",
          "shell.execute_reply": "2023-09-07T06:50:46.372305Z"
        },
        "papermill": {
          "duration": 4.603165,
          "end_time": "2023-09-07T06:50:46.376485",
          "exception": false,
          "start_time": "2023-09-07T06:50:41.773320",
          "status": "completed"
        },
        "tags": [],
        "id": "e3d9b156"
      },
      "outputs": [],
      "source": [
        "collection_name = \"my_news\"\n",
        "\n",
        "# If you have created the collection before, you need delete the collection first\n",
        "if len(chroma_client.list_collections()) > 0 and collection_name in [\n",
        "    chroma_client.list_collections()[0].name\n",
        "]:\n",
        "    chroma_client.delete_collection(name=collection_name)\n",
        "else:\n",
        "    print(f\"Creating collection: '{collection_name}'\")\n",
        "    collection = chroma_client.create_collection(name=collection_name)"
      ]
    },
    {
      "cell_type": "markdown",
      "id": "da7043bb",
      "metadata": {
        "application/vnd.databricks.v1+cell": {
          "cellMetadata": {},
          "inputWidgets": {},
          "nuid": "f20241cc-be49-4325-a3b0-6719a2a66b33",
          "showTitle": false,
          "title": ""
        },
        "papermill": {
          "duration": 0.03438,
          "end_time": "2023-09-07T06:50:46.453370",
          "exception": false,
          "start_time": "2023-09-07T06:50:46.418990",
          "status": "completed"
        },
        "tags": [],
        "id": "da7043bb"
      },
      "source": [
        "### Step 1: Add data to collection\n",
        "\n",
        "Since we are re-using the same data, we can skip the step of reading data. As mentioned in the text above, Chroma can take care of text vectorization for us, so we can directly add text to the collection and Chroma will convert the text into embeddings behind the scene."
      ]
    },
    {
      "cell_type": "code",
      "execution_count": null,
      "id": "91f4ee7e",
      "metadata": {
        "application/vnd.databricks.v1+cell": {
          "cellMetadata": {},
          "inputWidgets": {},
          "nuid": "2f3abefc-2a41-42cb-b82d-2eadde81c615",
          "showTitle": false,
          "title": ""
        },
        "execution": {
          "iopub.execute_input": "2023-09-07T06:50:46.524934Z",
          "iopub.status.busy": "2023-09-07T06:50:46.524399Z",
          "iopub.status.idle": "2023-09-07T06:50:46.553141Z",
          "shell.execute_reply": "2023-09-07T06:50:46.551800Z"
        },
        "papermill": {
          "duration": 0.067232,
          "end_time": "2023-09-07T06:50:46.555608",
          "exception": false,
          "start_time": "2023-09-07T06:50:46.488376",
          "status": "completed"
        },
        "tags": [],
        "id": "91f4ee7e"
      },
      "outputs": [],
      "source": [
        "display(pdf_subset)"
      ]
    },
    {
      "cell_type": "markdown",
      "id": "6ec14cc4",
      "metadata": {
        "application/vnd.databricks.v1+cell": {
          "cellMetadata": {},
          "inputWidgets": {},
          "nuid": "7cd6d04f-4d95-4c6e-9ba4-22a64fbd4a19",
          "showTitle": false,
          "title": ""
        },
        "papermill": {
          "duration": 0.036807,
          "end_time": "2023-09-07T06:50:46.634737",
          "exception": false,
          "start_time": "2023-09-07T06:50:46.597930",
          "status": "completed"
        },
        "tags": [],
        "id": "6ec14cc4"
      },
      "source": [
        "Each document must have a unique `id` associated with it and it is up to you to check that there are no duplicate ids.\n",
        "\n",
        "Adding data to collection will take some time to run, especially when there is a lot of data. In the cell below, we intentionally write only a subset of data to the collection to speed things up."
      ]
    },
    {
      "cell_type": "code",
      "execution_count": null,
      "id": "c11b7a37",
      "metadata": {
        "application/vnd.databricks.v1+cell": {
          "cellMetadata": {},
          "inputWidgets": {},
          "nuid": "df38a2f7-6aa3-4b4a-b934-680d3bd8ede8",
          "showTitle": false,
          "title": ""
        },
        "execution": {
          "iopub.execute_input": "2023-09-07T06:50:46.707315Z",
          "iopub.status.busy": "2023-09-07T06:50:46.706516Z",
          "iopub.status.idle": "2023-09-07T06:50:47.677655Z",
          "shell.execute_reply": "2023-09-07T06:50:47.676395Z"
        },
        "papermill": {
          "duration": 1.010688,
          "end_time": "2023-09-07T06:50:47.680609",
          "exception": false,
          "start_time": "2023-09-07T06:50:46.669921",
          "status": "completed"
        },
        "tags": [],
        "id": "c11b7a37"
      },
      "outputs": [],
      "source": [
        "collection.add(\n",
        "    documents=pdf_subset[\"title\"][:100].tolist(),\n",
        "    metadatas=[{\"topic\": topic} for topic in pdf_subset[\"topic\"][:100].tolist()],\n",
        "    ids=[f\"id{x}\" for x in range(100)],\n",
        ")"
      ]
    },
    {
      "cell_type": "markdown",
      "id": "e7a257e3",
      "metadata": {
        "application/vnd.databricks.v1+cell": {
          "cellMetadata": {},
          "inputWidgets": {},
          "nuid": "555fbcd9-9111-4a96-8bbb-93f8437a84ff",
          "showTitle": false,
          "title": ""
        },
        "papermill": {
          "duration": 0.03468,
          "end_time": "2023-09-07T06:50:47.750431",
          "exception": false,
          "start_time": "2023-09-07T06:50:47.715751",
          "status": "completed"
        },
        "tags": [],
        "id": "e7a257e3"
      },
      "source": [
        "### Step 2: Query for 10 relevant documents on \"space\"\n",
        "\n",
        "We will return 10 most relevant documents. You can think of `10` as 10 nearest neighbors. You can also change the number of results returned as well."
      ]
    },
    {
      "cell_type": "code",
      "execution_count": null,
      "id": "3ec75525",
      "metadata": {
        "application/vnd.databricks.v1+cell": {
          "cellMetadata": {},
          "inputWidgets": {},
          "nuid": "de2c377e-0537-409e-ae33-93639521d02c",
          "showTitle": false,
          "title": ""
        },
        "execution": {
          "iopub.execute_input": "2023-09-07T06:50:47.821971Z",
          "iopub.status.busy": "2023-09-07T06:50:47.821551Z",
          "iopub.status.idle": "2023-09-07T06:50:47.864338Z",
          "shell.execute_reply": "2023-09-07T06:50:47.863181Z"
        },
        "papermill": {
          "duration": 0.081128,
          "end_time": "2023-09-07T06:50:47.866774",
          "exception": false,
          "start_time": "2023-09-07T06:50:47.785646",
          "status": "completed"
        },
        "tags": [],
        "id": "3ec75525"
      },
      "outputs": [],
      "source": [
        "import json\n",
        "\n",
        "results = collection.query(query_texts=[\"space\"], n_results=10)\n",
        "\n",
        "print(json.dumps(results, indent=4))"
      ]
    },
    {
      "cell_type": "markdown",
      "id": "c8e8d7a7",
      "metadata": {
        "application/vnd.databricks.v1+cell": {
          "cellMetadata": {},
          "inputWidgets": {},
          "nuid": "127b9af0-5b32-450a-b640-5604879fbf84",
          "showTitle": false,
          "title": ""
        },
        "papermill": {
          "duration": 0.035088,
          "end_time": "2023-09-07T06:50:47.938246",
          "exception": false,
          "start_time": "2023-09-07T06:50:47.903158",
          "status": "completed"
        },
        "tags": [],
        "id": "c8e8d7a7"
      },
      "source": [
        "### Bonus: Add filter statement\n",
        "\n",
        "In addition to conducting relevancy search, we can also add filter statements. Refer to the [documentation](https://docs.trychroma.com/usage-guide#using-where-filters) for more information."
      ]
    },
    {
      "cell_type": "code",
      "execution_count": null,
      "id": "e0f41fd8",
      "metadata": {
        "application/vnd.databricks.v1+cell": {
          "cellMetadata": {},
          "inputWidgets": {},
          "nuid": "69089e0d-348b-478b-a5b9-a57ed4126314",
          "showTitle": false,
          "title": ""
        },
        "execution": {
          "iopub.execute_input": "2023-09-07T06:50:48.011191Z",
          "iopub.status.busy": "2023-09-07T06:50:48.010756Z",
          "iopub.status.idle": "2023-09-07T06:50:48.066849Z",
          "shell.execute_reply": "2023-09-07T06:50:48.065532Z"
        },
        "papermill": {
          "duration": 0.095608,
          "end_time": "2023-09-07T06:50:48.069519",
          "exception": false,
          "start_time": "2023-09-07T06:50:47.973911",
          "status": "completed"
        },
        "tags": [],
        "id": "e0f41fd8"
      },
      "outputs": [],
      "source": [
        "collection.query(query_texts=[\"space\"], where={\"topic\": \"SCIENCE\"}, n_results=10)"
      ]
    },
    {
      "cell_type": "markdown",
      "id": "8e122d84",
      "metadata": {
        "application/vnd.databricks.v1+cell": {
          "cellMetadata": {},
          "inputWidgets": {},
          "nuid": "df7d0a55-58dc-4e28-b09f-ac96e4375a8f",
          "showTitle": false,
          "title": ""
        },
        "papermill": {
          "duration": 0.036487,
          "end_time": "2023-09-07T06:50:48.141914",
          "exception": false,
          "start_time": "2023-09-07T06:50:48.105427",
          "status": "completed"
        },
        "tags": [],
        "id": "8e122d84"
      },
      "source": [
        "### Bonus: Update data in a collection\n",
        "\n",
        "Unlike a vector library, vector databases support changes to the data so we can update or delete data.\n",
        "\n",
        "Indeed, we can update or delete data in a Chroma collection."
      ]
    },
    {
      "cell_type": "code",
      "execution_count": null,
      "id": "7aa58db3",
      "metadata": {
        "application/vnd.databricks.v1+cell": {
          "cellMetadata": {},
          "inputWidgets": {},
          "nuid": "330403c3-7a6b-4f10-b587-167753710623",
          "showTitle": false,
          "title": ""
        },
        "execution": {
          "iopub.execute_input": "2023-09-07T06:50:48.216245Z",
          "iopub.status.busy": "2023-09-07T06:50:48.215853Z",
          "iopub.status.idle": "2023-09-07T06:50:48.226491Z",
          "shell.execute_reply": "2023-09-07T06:50:48.225351Z"
        },
        "papermill": {
          "duration": 0.050411,
          "end_time": "2023-09-07T06:50:48.229180",
          "exception": false,
          "start_time": "2023-09-07T06:50:48.178769",
          "status": "completed"
        },
        "tags": [],
        "id": "7aa58db3"
      },
      "outputs": [],
      "source": [
        "collection.delete(ids=[\"id0\"])"
      ]
    },
    {
      "cell_type": "markdown",
      "id": "ecc7409b",
      "metadata": {
        "application/vnd.databricks.v1+cell": {
          "cellMetadata": {},
          "inputWidgets": {},
          "nuid": "abdbbde3-2447-4cac-b596-e984f5e91968",
          "showTitle": false,
          "title": ""
        },
        "papermill": {
          "duration": 0.037057,
          "end_time": "2023-09-07T06:50:48.303155",
          "exception": false,
          "start_time": "2023-09-07T06:50:48.266098",
          "status": "completed"
        },
        "tags": [],
        "id": "ecc7409b"
      },
      "source": [
        "The record with `ids=0` is no longer present."
      ]
    },
    {
      "cell_type": "code",
      "execution_count": null,
      "id": "bb659e85",
      "metadata": {
        "application/vnd.databricks.v1+cell": {
          "cellMetadata": {},
          "inputWidgets": {},
          "nuid": "75e2e3d4-a1bb-41e8-a425-79c78757caff",
          "showTitle": false,
          "title": ""
        },
        "execution": {
          "iopub.execute_input": "2023-09-07T06:50:48.379190Z",
          "iopub.status.busy": "2023-09-07T06:50:48.378787Z",
          "iopub.status.idle": "2023-09-07T06:50:48.387276Z",
          "shell.execute_reply": "2023-09-07T06:50:48.386054Z"
        },
        "papermill": {
          "duration": 0.048894,
          "end_time": "2023-09-07T06:50:48.389788",
          "exception": false,
          "start_time": "2023-09-07T06:50:48.340894",
          "status": "completed"
        },
        "tags": [],
        "id": "bb659e85"
      },
      "outputs": [],
      "source": [
        "collection.get(\n",
        "    ids=[\"id0\"],\n",
        ")"
      ]
    },
    {
      "cell_type": "markdown",
      "id": "37f2e3d3",
      "metadata": {
        "application/vnd.databricks.v1+cell": {
          "cellMetadata": {},
          "inputWidgets": {},
          "nuid": "70d6c9f7-11f9-4f73-bddf-dacf4e9a873e",
          "showTitle": false,
          "title": ""
        },
        "papermill": {
          "duration": 0.036905,
          "end_time": "2023-09-07T06:50:48.464196",
          "exception": false,
          "start_time": "2023-09-07T06:50:48.427291",
          "status": "completed"
        },
        "tags": [],
        "id": "37f2e3d3"
      },
      "source": [
        "We can also update a specific data point."
      ]
    },
    {
      "cell_type": "code",
      "execution_count": null,
      "id": "dce52378",
      "metadata": {
        "application/vnd.databricks.v1+cell": {
          "cellMetadata": {},
          "inputWidgets": {},
          "nuid": "21486238-4a87-45ec-9fe1-869ace948adf",
          "showTitle": false,
          "title": ""
        },
        "execution": {
          "iopub.execute_input": "2023-09-07T06:50:48.538235Z",
          "iopub.status.busy": "2023-09-07T06:50:48.537517Z",
          "iopub.status.idle": "2023-09-07T06:50:48.545930Z",
          "shell.execute_reply": "2023-09-07T06:50:48.544840Z"
        },
        "papermill": {
          "duration": 0.047905,
          "end_time": "2023-09-07T06:50:48.548044",
          "exception": false,
          "start_time": "2023-09-07T06:50:48.500139",
          "status": "completed"
        },
        "tags": [],
        "id": "dce52378"
      },
      "outputs": [],
      "source": [
        "collection.get(\n",
        "    ids=[\"id2\"],\n",
        ")"
      ]
    },
    {
      "cell_type": "code",
      "execution_count": null,
      "id": "832623cc",
      "metadata": {
        "application/vnd.databricks.v1+cell": {
          "cellMetadata": {},
          "inputWidgets": {},
          "nuid": "bb453d96-5523-40ac-a004-c5018037fe8c",
          "showTitle": false,
          "title": ""
        },
        "execution": {
          "iopub.execute_input": "2023-09-07T06:50:48.625063Z",
          "iopub.status.busy": "2023-09-07T06:50:48.624331Z",
          "iopub.status.idle": "2023-09-07T06:50:48.632703Z",
          "shell.execute_reply": "2023-09-07T06:50:48.631811Z"
        },
        "papermill": {
          "duration": 0.049209,
          "end_time": "2023-09-07T06:50:48.634970",
          "exception": false,
          "start_time": "2023-09-07T06:50:48.585761",
          "status": "completed"
        },
        "tags": [],
        "id": "832623cc"
      },
      "outputs": [],
      "source": [
        "collection.update(\n",
        "    ids=[\"id2\"],\n",
        "    metadatas=[{\"topic\": \"TECHNOLOGY\"}],\n",
        ")"
      ]
    },
    {
      "cell_type": "code",
      "execution_count": null,
      "id": "7a0bfe56",
      "metadata": {
        "execution": {
          "iopub.execute_input": "2023-09-07T06:50:48.709713Z",
          "iopub.status.busy": "2023-09-07T06:50:48.709303Z",
          "iopub.status.idle": "2023-09-07T06:50:48.717284Z",
          "shell.execute_reply": "2023-09-07T06:50:48.716459Z"
        },
        "papermill": {
          "duration": 0.048059,
          "end_time": "2023-09-07T06:50:48.719385",
          "exception": false,
          "start_time": "2023-09-07T06:50:48.671326",
          "status": "completed"
        },
        "tags": [],
        "id": "7a0bfe56"
      },
      "outputs": [],
      "source": [
        "collection.get(\n",
        "    ids=[\"id2\"],\n",
        ")"
      ]
    },
    {
      "cell_type": "markdown",
      "id": "2c8c4af4",
      "metadata": {
        "application/vnd.databricks.v1+cell": {
          "cellMetadata": {},
          "inputWidgets": {},
          "nuid": "f02e3fdf-9836-4d54-9baf-aad4a3dc9c08",
          "showTitle": false,
          "title": ""
        },
        "papermill": {
          "duration": 0.036019,
          "end_time": "2023-09-07T06:50:48.791802",
          "exception": false,
          "start_time": "2023-09-07T06:50:48.755783",
          "status": "completed"
        },
        "tags": [],
        "id": "2c8c4af4"
      },
      "source": [
        "## Prompt engineering for question answering\n",
        "\n",
        "Now that we have identified documents about space from the news dataset, we can pass these documents as additional context for a language model to generate a response based on them!\n",
        "\n",
        "We first need to pick a `text-generation` model. Below, we use a Hugging Face model. You can also use OpenAI as well, but you will need to get an Open AI token and [pay based on the number of tokens](https://openai.com/pricing)."
      ]
    },
    {
      "cell_type": "code",
      "execution_count": null,
      "id": "87133a6c",
      "metadata": {
        "execution": {
          "iopub.execute_input": "2023-09-07T06:50:48.866499Z",
          "iopub.status.busy": "2023-09-07T06:50:48.865732Z",
          "iopub.status.idle": "2023-09-07T06:50:48.870085Z",
          "shell.execute_reply": "2023-09-07T06:50:48.868991Z"
        },
        "papermill": {
          "duration": 0.044576,
          "end_time": "2023-09-07T06:50:48.872443",
          "exception": false,
          "start_time": "2023-09-07T06:50:48.827867",
          "status": "completed"
        },
        "tags": [],
        "id": "87133a6c"
      },
      "outputs": [],
      "source": [
        "#!pip uninstall -y accelerate"
      ]
    },
    {
      "cell_type": "code",
      "execution_count": null,
      "id": "a16a6541",
      "metadata": {
        "execution": {
          "iopub.execute_input": "2023-09-07T06:50:48.946967Z",
          "iopub.status.busy": "2023-09-07T06:50:48.946573Z",
          "iopub.status.idle": "2023-09-07T06:51:03.141338Z",
          "shell.execute_reply": "2023-09-07T06:51:03.140062Z"
        },
        "papermill": {
          "duration": 14.235075,
          "end_time": "2023-09-07T06:51:03.144195",
          "exception": false,
          "start_time": "2023-09-07T06:50:48.909120",
          "status": "completed"
        },
        "tags": [],
        "id": "a16a6541"
      },
      "outputs": [],
      "source": [
        "!pip install --upgrade accelerate"
      ]
    },
    {
      "cell_type": "code",
      "execution_count": null,
      "id": "c4e3e537",
      "metadata": {
        "application/vnd.databricks.v1+cell": {
          "cellMetadata": {},
          "inputWidgets": {},
          "nuid": "5642714b-b5b3-43d6-8d44-0e6cdfbb60c4",
          "showTitle": false,
          "title": ""
        },
        "execution": {
          "iopub.execute_input": "2023-09-07T06:51:03.222494Z",
          "iopub.status.busy": "2023-09-07T06:51:03.221815Z",
          "iopub.status.idle": "2023-09-07T06:51:06.510651Z",
          "shell.execute_reply": "2023-09-07T06:51:06.509063Z"
        },
        "papermill": {
          "duration": 3.331013,
          "end_time": "2023-09-07T06:51:06.513312",
          "exception": true,
          "start_time": "2023-09-07T06:51:03.182299",
          "status": "failed"
        },
        "tags": [],
        "id": "c4e3e537"
      },
      "outputs": [],
      "source": [
        "from transformers import AutoTokenizer, AutoModelForCausalLM, pipeline\n",
        "\n",
        "model_id = \"gpt2\"\n",
        "tokenizer = AutoTokenizer.from_pretrained(model_id, cache_dir=\"../working/cache/\")\n",
        "lm_model = AutoModelForCausalLM.from_pretrained(model_id, cache_dir=\"../working/cache/\")\n",
        "\n",
        "pipe = pipeline(\n",
        "    \"text-generation\",\n",
        "    model=lm_model,\n",
        "    tokenizer=tokenizer,\n",
        "    max_new_tokens=512,\n",
        "    device_map=\"auto\",\n",
        ")"
      ]
    },
    {
      "cell_type": "markdown",
      "id": "c507dc94",
      "metadata": {
        "application/vnd.databricks.v1+cell": {
          "cellMetadata": {},
          "inputWidgets": {},
          "nuid": "cd7f3221-e519-4f1f-a612-2bbcbb1b9f66",
          "showTitle": false,
          "title": ""
        },
        "papermill": {
          "duration": null,
          "end_time": null,
          "exception": null,
          "start_time": null,
          "status": "pending"
        },
        "tags": [],
        "id": "c507dc94"
      },
      "source": [
        "Here's where prompt engineering, which is developing prompts, comes in. We pass in the context in our `prompt_template` but there are numerous ways to write a prompt. Some prompts may generate better results than the others and it requires some experimentation to figure out how best to talk to the model. Each language model behaves differently to prompts.\n",
        "\n",
        "Our prompt template below is inspired from a [2023 paper on program-aided language model](https://arxiv.org/pdf/2211.10435.pdf). The authors have provided their sample prompt template [here](https://github.com/reasoning-machines/pal/blob/main/pal/prompt/date_understanding_prompt.py).\n",
        "\n",
        "The following links also provide some helpful guidance on prompt engineering:\n",
        "- [Prompt engineering with OpenAI](https://help.openai.com/en/articles/6654000-best-practices-for-prompt-engineering-with-openai-api)\n",
        "- [GitHub repo that compiles best practices to interact with ChatGPT](https://github.com/f/awesome-chatgpt-prompts)"
      ]
    },
    {
      "cell_type": "code",
      "execution_count": null,
      "id": "53118f66",
      "metadata": {
        "application/vnd.databricks.v1+cell": {
          "cellMetadata": {},
          "inputWidgets": {},
          "nuid": "464d17dc-24d7-429b-821d-27fbb7d919b4",
          "showTitle": false,
          "title": ""
        },
        "execution": {
          "iopub.execute_input": "2023-06-22T14:35:57.781075Z",
          "iopub.status.busy": "2023-06-22T14:35:57.779836Z",
          "iopub.status.idle": "2023-06-22T14:35:57.788969Z",
          "shell.execute_reply": "2023-06-22T14:35:57.786856Z",
          "shell.execute_reply.started": "2023-06-22T14:35:57.781024Z"
        },
        "papermill": {
          "duration": null,
          "end_time": null,
          "exception": null,
          "start_time": null,
          "status": "pending"
        },
        "tags": [],
        "id": "53118f66"
      },
      "outputs": [],
      "source": [
        "question = \"What's the latest news on space development?\"\n",
        "context = \" \".join([f\"#{str(i)}\" for i in results[\"documents\"][0]])\n",
        "prompt_template = f\"Relevant context: {context}\\n\\n The user's question: {question}\""
      ]
    },
    {
      "cell_type": "code",
      "execution_count": null,
      "id": "b0b3689c",
      "metadata": {
        "execution": {
          "iopub.execute_input": "2023-06-22T14:35:47.050967Z",
          "iopub.status.busy": "2023-06-22T14:35:47.050473Z",
          "iopub.status.idle": "2023-06-22T14:35:47.060582Z",
          "shell.execute_reply": "2023-06-22T14:35:47.059488Z",
          "shell.execute_reply.started": "2023-06-22T14:35:47.050935Z"
        },
        "papermill": {
          "duration": null,
          "end_time": null,
          "exception": null,
          "start_time": null,
          "status": "pending"
        },
        "tags": [],
        "id": "b0b3689c"
      },
      "outputs": [],
      "source": [
        "context"
      ]
    },
    {
      "cell_type": "code",
      "execution_count": null,
      "id": "bfcaa494",
      "metadata": {
        "application/vnd.databricks.v1+cell": {
          "cellMetadata": {},
          "inputWidgets": {},
          "nuid": "e698c3f9-3f88-4d34-8501-f6d0cee60c7e",
          "showTitle": false,
          "title": ""
        },
        "execution": {
          "iopub.execute_input": "2023-06-22T14:36:04.047502Z",
          "iopub.status.busy": "2023-06-22T14:36:04.046944Z",
          "iopub.status.idle": "2023-06-22T14:36:27.857972Z",
          "shell.execute_reply": "2023-06-22T14:36:27.856452Z",
          "shell.execute_reply.started": "2023-06-22T14:36:04.047473Z"
        },
        "papermill": {
          "duration": null,
          "end_time": null,
          "exception": null,
          "start_time": null,
          "status": "pending"
        },
        "tags": [],
        "id": "bfcaa494"
      },
      "outputs": [],
      "source": [
        "lm_response = pipe(prompt_template)\n",
        "print(lm_response[0][\"generated_text\"])"
      ]
    },
    {
      "cell_type": "markdown",
      "id": "a1063e97",
      "metadata": {
        "application/vnd.databricks.v1+cell": {
          "cellMetadata": {},
          "inputWidgets": {},
          "nuid": "0f7039cc-4567-4925-92e8-6ceab81fa724",
          "showTitle": false,
          "title": ""
        },
        "papermill": {
          "duration": null,
          "end_time": null,
          "exception": null,
          "start_time": null,
          "status": "pending"
        },
        "tags": [],
        "id": "a1063e97"
      },
      "source": [
        "Yay, you have just completed the implementation of your first text vectorization, search, and question answering workflow (that requires prompt engineering)!\n",
        "\n",
        "In the lab, you will apply your newly gained knowledge to a different dataset. You can also check out the optional modules on Pinecone and Weaviate to learn how to set up vector databases that offer enterprise offerings."
      ]
    },
    {
      "cell_type": "markdown",
      "id": "d9b8e071",
      "metadata": {
        "application/vnd.databricks.v1+cell": {
          "cellMetadata": {},
          "inputWidgets": {},
          "nuid": "2e4d049f-0691-4c7e-9639-1e951c3d5954",
          "showTitle": false,
          "title": ""
        },
        "papermill": {
          "duration": null,
          "end_time": null,
          "exception": null,
          "start_time": null,
          "status": "pending"
        },
        "tags": [],
        "id": "d9b8e071"
      },
      "source": [
        "&copy; 2023 Databricks, Inc. All rights reserved.<br/>\n",
        "Apache, Apache Spark, Spark and the Spark logo are trademarks of the <a href=\"https://www.apache.org/\">Apache Software Foundation</a>.<br/>\n",
        "<br/>\n",
        "<a href=\"https://databricks.com/privacy-policy\">Privacy Policy</a> | <a href=\"https://databricks.com/terms-of-use\">Terms of Use</a> | <a href=\"https://help.databricks.com/\">Support</a>"
      ]
    }
  ],
  "metadata": {
    "kernelspec": {
      "display_name": "Python 3",
      "name": "python3"
    },
    "language_info": {
      "codemirror_mode": {
        "name": "ipython",
        "version": 3
      },
      "file_extension": ".py",
      "mimetype": "text/x-python",
      "name": "python",
      "nbconvert_exporter": "python",
      "pygments_lexer": "ipython3",
      "version": "3.10.10"
    },
    "papermill": {
      "default_parameters": {},
      "duration": 134.390159,
      "end_time": "2023-09-07T06:51:10.022491",
      "environment_variables": {},
      "exception": true,
      "input_path": "__notebook__.ipynb",
      "output_path": "__notebook__.ipynb",
      "parameters": {},
      "start_time": "2023-09-07T06:48:55.632332",
      "version": "2.4.0"
    },
    "colab": {
      "provenance": [],
      "gpuType": "T4"
    },
    "accelerator": "GPU"
  },
  "nbformat": 4,
  "nbformat_minor": 5
}